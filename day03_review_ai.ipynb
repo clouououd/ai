{
  "nbformat": 4,
  "nbformat_minor": 0,
  "metadata": {
    "colab": {
      "name": "day03_review_ai.ipynb",
      "provenance": [],
      "authorship_tag": "ABX9TyNUMAyNTCDnOElkCwD9uHNu",
      "include_colab_link": true
    },
    "kernelspec": {
      "name": "python3",
      "display_name": "Python 3"
    },
    "language_info": {
      "name": "python"
    }
  },
  "cells": [
    {
      "cell_type": "markdown",
      "metadata": {
        "id": "view-in-github",
        "colab_type": "text"
      },
      "source": [
        "<a href=\"https://colab.research.google.com/github/clouououd/ai/blob/main/day03_review_ai.ipynb\" target=\"_parent\"><img src=\"https://colab.research.google.com/assets/colab-badge.svg\" alt=\"Open In Colab\"/></a>"
      ]
    },
    {
      "cell_type": "code",
      "execution_count": null,
      "metadata": {
        "id": "GgKYCczqxjrG"
      },
      "outputs": [],
      "source": [
        "###########################################\n",
        "# Review\n",
        "###########################################\n",
        "\n",
        "# Collection : 많은 데이터(elements)를 저장하는 곳\n",
        "\n",
        "# 리스트 list                   튜플 tuple                    딕셔너리 dict                   셋 set\n",
        "# .........................................................................................................\n",
        "# []                            ()                            {}                              {}\n",
        "# mutable                       immutable                     mutable                         mutable\n",
        "# indexing/slicing              indexing/slicing              nope                            nope\n",
        "#                               (1,)                          {key:value}                     중복데이터 미허용\n",
        "#                                                             java의 map, JS의 jason과 유사   중복데이터를 제거용으로 사용"
      ]
    },
    {
      "cell_type": "code",
      "source": [
        "# [List]\n",
        "# list 생성\n",
        "li1 = [1,2,3,4,5] # 기본\n",
        "li2 = [2,3,'하나','둘',True,False] # 여러형의 자료들을 담을 수 있다.\n",
        "\n",
        "# list속 요소 불러오기\n",
        "print(li1[0]) # indexing\n",
        "print(li2[2:4]) # slicing[시작:끝(미만)]\n",
        "\n",
        "# list속 요소 수정하기\n",
        "li1[0]=9\n",
        "print(li1)\n",
        "\n",
        "# list 연산\n",
        "print(li1*3)\n",
        "\n",
        "# list에 요소 추가하기\n",
        "li1.append(8) \n",
        "print(li1) # append()는 마지막에 넣는다.\n",
        "li1.insert(0,10) # insert(index number,요소)\n",
        "print(li1) # 특정 위치를 지정하여 삽입\n",
        "\n",
        "# 파괴적 vs 비파괴적\n",
        "# 가능한 비파괴적으로 설계\n",
        "li3=li1 # li1을 보존하기 위해 li3을 생성\n",
        "print(li1)\n",
        "print(li3)\n",
        "# li1 -------> [10, 9, 2, 3, 4, 5, 8] <------- li3\n",
        "del li3[0] \n",
        "print(li1) # li3을 삭제했지만 li1도 삭제 됨\n",
        "print(li3)\n",
        "# li1 -------> [9, 2, 3, 4, 5, 8] <------- li3(0번째 데이터를 지움)\n",
        "print(id(li1))\n",
        "print(id(li3)) # li1과 li3가 가지고 있는 위치 주소가 같음."
      ],
      "metadata": {
        "id": "5e38utzH3g1J",
        "colab": {
          "base_uri": "https://localhost:8080/"
        },
        "outputId": "518ae435-557d-4607-c1c6-5641adcbfc53"
      },
      "execution_count": 2,
      "outputs": [
        {
          "output_type": "stream",
          "name": "stdout",
          "text": [
            "1\n",
            "['하나', '둘']\n",
            "[9, 2, 3, 4, 5]\n",
            "[9, 2, 3, 4, 5, 9, 2, 3, 4, 5, 9, 2, 3, 4, 5]\n",
            "[9, 2, 3, 4, 5, 8]\n",
            "[10, 9, 2, 3, 4, 5, 8]\n",
            "[10, 9, 2, 3, 4, 5, 8]\n",
            "[10, 9, 2, 3, 4, 5, 8]\n",
            "[9, 2, 3, 4, 5, 8]\n",
            "[9, 2, 3, 4, 5, 8]\n",
            "140458008911456\n",
            "140458008911456\n"
          ]
        }
      ]
    },
    {
      "cell_type": "code",
      "source": [
        "# [tuple]\n",
        "# tuple 생성\n",
        "t1 = ('대한','민국')\n",
        "type(t1)\n",
        "t2 = (1,)\n",
        "\n",
        "# 수정/삭제 불가\n",
        "# t1[0] = '만세' -> 오류\n",
        "# t1.pop(0) -> 오류"
      ],
      "metadata": {
        "id": "vAV4l8FX9euA"
      },
      "execution_count": 8,
      "outputs": []
    },
    {
      "cell_type": "code",
      "source": [
        "# [dict]\n",
        "# dict 생성\n",
        "di1={\n",
        "    'key':'value'\n",
        "}\n",
        "print(di1)\n",
        "\n",
        "# 불러오기\n",
        "print(di1['key'])\n",
        "\n",
        "# 추가\n",
        "di1['newkey'] = 'ai'\n",
        "print(di1)\n",
        "\n",
        "# 삭제\n",
        "del di1['key']\n",
        "print(di1)"
      ],
      "metadata": {
        "colab": {
          "base_uri": "https://localhost:8080/"
        },
        "id": "8qPgSh_C-06t",
        "outputId": "c64bb3fe-bb55-401b-b27b-98948aefec0a"
      },
      "execution_count": 14,
      "outputs": [
        {
          "output_type": "stream",
          "name": "stdout",
          "text": [
            "{'key': 'value'}\n",
            "value\n",
            "{'key': 'value', 'newkey': 'ai'}\n",
            "{'newkey': 'ai'}\n"
          ]
        }
      ]
    },
    {
      "cell_type": "code",
      "source": [
        "# [set]\n",
        "# 생성\n",
        "s1={1,1,2,2,3}\n",
        "print(s1)\n",
        "\n",
        "# index number가 정해져 있지 않아서 인덱싱, 슬라이싱 사용 불가\n",
        "# print(s1[0]) -> 오류"
      ],
      "metadata": {
        "colab": {
          "base_uri": "https://localhost:8080/"
        },
        "id": "NbSuZbRt_trp",
        "outputId": "84faaba4-e15e-4b24-cd52-76c281377236"
      },
      "execution_count": 18,
      "outputs": [
        {
          "output_type": "stream",
          "name": "stdout",
          "text": [
            "{1, 2, 3}\n"
          ]
        }
      ]
    }
  ]
}