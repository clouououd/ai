{
  "nbformat": 4,
  "nbformat_minor": 0,
  "metadata": {
    "colab": {
      "name": "day03_review_ai.ipynb",
      "provenance": [],
      "authorship_tag": "ABX9TyM9I2tS0QIth2yRRHdJb2Vy",
      "include_colab_link": true
    },
    "kernelspec": {
      "name": "python3",
      "display_name": "Python 3"
    },
    "language_info": {
      "name": "python"
    }
  },
  "cells": [
    {
      "cell_type": "markdown",
      "metadata": {
        "id": "view-in-github",
        "colab_type": "text"
      },
      "source": [
        "<a href=\"https://colab.research.google.com/github/clouououd/ai/blob/main/day03_review_ai.ipynb\" target=\"_parent\"><img src=\"https://colab.research.google.com/assets/colab-badge.svg\" alt=\"Open In Colab\"/></a>"
      ]
    },
    {
      "cell_type": "code",
      "execution_count": null,
      "metadata": {
        "id": "GgKYCczqxjrG"
      },
      "outputs": [],
      "source": [
        "###########################################\n",
        "# Review\n",
        "###########################################\n",
        "\n",
        "# Collection : 많은 데이터(elements)를 저장하는 곳\n",
        "\n",
        "# 리스트 list                   튜플 tuple                    딕셔너리 dict                   셋 set\n",
        "# .........................................................................................................\n",
        "# []                            ()                            {}                              {}\n",
        "# mutable                       immutable                     mutable                         mutable\n",
        "# indexing/slicing              indexing/slicing              nope                            nope\n",
        "#                               (1,)                          {key:value}                     중복데이터 미허용\n",
        "#                                                             java의 map, JS의 jason과 유사   중복데이터를 제거용으로 사용"
      ]
    },
    {
      "cell_type": "code",
      "source": [
        "# [List]\n",
        "# list 생성\n",
        "li1 = [1,2,3,4,5] # 기본\n",
        "li2 = [2,3,'하나','둘',True,False] # 여러형의 자료들을 담을 수 있다.\n",
        "\n",
        "# list속 요소 불러오기\n",
        "print(li1[0]) # indexing\n",
        "print(li2[2:4]) # slicing[시작:끝(미만)]\n",
        "\n",
        "# list속 요소 수정하기\n",
        "li1[0]=9\n",
        "print(li1)\n",
        "\n",
        "# list 연산\n",
        "print(li1*3)\n",
        "\n",
        "# list에 요소 추가하기\n",
        "li1.append(8) \n",
        "print(li1) # append()는 마지막에 넣는다.\n",
        "li1.insert(0,10) # insert(index number,요소)\n",
        "print(li1) # 특정 위치를 지정하여 삽입\n",
        "\n",
        "# 파괴적 vs 비파괴적\n",
        "# 가능한 비파괴적으로 설계\n",
        "li3=li1 # li1을 보존하기 위해 li3을 생성\n",
        "print(li1)\n",
        "print(li3)\n",
        "# li1 -------> [9, 2, 3, 4, 5, 8] <------- li3\n",
        "del li3[0] \n",
        "print(li1) # li3의 요소를 삭제했지만 li1의 요소도 삭제 됨\n",
        "print(li3)\n",
        "# li1 -------> [9, 2, 3, 4, 5, 8] <------- li3(0번째 데이터를 지움)\n",
        "print(id(li1))\n",
        "print(id(li3)) # li1과 li3가 가지고 있는 위치 주소가 같음.\n",
        "\n",
        "li4=li1.copy()\n",
        "# li1 -------> [9, 2, 3, 4, 5, 8] li4 -------> [9, 2, 3, 4, 5, 8]\n",
        "del li4[0] \n",
        "print(li1) # li4의 요소를 삭제했지만 li1의 요소는 그대로 유지\n",
        "print(li4)\n",
        "# li1 -------> [9, 2, 3, 4, 5, 8] li4(0번째 데이터를 지움)-------> [2, 3, 4, 5, 8]\n",
        "print(id(li1))\n",
        "print(id(li4)) # li1과 li3가 가지고 있는 위치 주소가 같음."
      ],
      "metadata": {
        "id": "5e38utzH3g1J",
        "colab": {
          "base_uri": "https://localhost:8080/"
        },
        "outputId": "ef741bb1-1935-4cab-bdd9-c8d7b9507055"
      },
      "execution_count": 20,
      "outputs": [
        {
          "output_type": "stream",
          "name": "stdout",
          "text": [
            "1\n",
            "['하나', '둘']\n",
            "[9, 2, 3, 4, 5]\n",
            "[9, 2, 3, 4, 5, 9, 2, 3, 4, 5, 9, 2, 3, 4, 5]\n",
            "[9, 2, 3, 4, 5, 8]\n",
            "[10, 9, 2, 3, 4, 5, 8]\n",
            "[10, 9, 2, 3, 4, 5, 8]\n",
            "[10, 9, 2, 3, 4, 5, 8]\n",
            "[9, 2, 3, 4, 5, 8]\n",
            "[9, 2, 3, 4, 5, 8]\n",
            "140457939103168\n",
            "140457939103168\n",
            "[9, 2, 3, 4, 5, 8]\n",
            "[2, 3, 4, 5, 8]\n",
            "140457939103168\n",
            "140457939105744\n"
          ]
        }
      ]
    },
    {
      "cell_type": "code",
      "source": [
        "# [tuple]\n",
        "# tuple 생성\n",
        "t1 = ('대한','민국')\n",
        "type(t1)\n",
        "t2 = (1,)\n",
        "\n",
        "# 수정/삭제 불가\n",
        "# t1[0] = '만세' -> 오류\n",
        "# t1.pop(0) -> 오류"
      ],
      "metadata": {
        "id": "vAV4l8FX9euA"
      },
      "execution_count": 8,
      "outputs": []
    },
    {
      "cell_type": "code",
      "source": [
        "# [dict]\n",
        "# dict 생성\n",
        "di1={\n",
        "    'key':'value'\n",
        "}\n",
        "print(di1)\n",
        "\n",
        "# 불러오기\n",
        "print(di1['key'])\n",
        "\n",
        "# 추가\n",
        "di1['newkey'] = 'ai'\n",
        "print(di1)\n",
        "\n",
        "# 삭제\n",
        "del di1['key']\n",
        "print(di1)"
      ],
      "metadata": {
        "colab": {
          "base_uri": "https://localhost:8080/"
        },
        "id": "8qPgSh_C-06t",
        "outputId": "c64bb3fe-bb55-401b-b27b-98948aefec0a"
      },
      "execution_count": 14,
      "outputs": [
        {
          "output_type": "stream",
          "name": "stdout",
          "text": [
            "{'key': 'value'}\n",
            "value\n",
            "{'key': 'value', 'newkey': 'ai'}\n",
            "{'newkey': 'ai'}\n"
          ]
        }
      ]
    },
    {
      "cell_type": "code",
      "source": [
        "# [set]\n",
        "# 생성\n",
        "s1={1,1,2,2,3}\n",
        "print(s1)\n",
        "\n",
        "# index number가 정해져 있지 않아서 인덱싱, 슬라이싱 사용 불가\n",
        "# print(s1[0]) -> 오류"
      ],
      "metadata": {
        "colab": {
          "base_uri": "https://localhost:8080/"
        },
        "id": "NbSuZbRt_trp",
        "outputId": "84faaba4-e15e-4b24-cd52-76c281377236"
      },
      "execution_count": 18,
      "outputs": [
        {
          "output_type": "stream",
          "name": "stdout",
          "text": [
            "{1, 2, 3}\n"
          ]
        }
      ]
    },
    {
      "cell_type": "code",
      "source": [
        "# [if]\n",
        "# if 조건식(True or False):\n",
        "#   True일경우 실행\n",
        "# else:\n",
        "#   False일 경우 실행\n",
        "# 기본\n",
        "if True:\n",
        "  print('True')\n",
        "else:\n",
        "  print('False')\n",
        "\n",
        "# 조건식이 2개이상인 경우\n",
        "if True:\n",
        "  print('1st') # if문의 조건문을 만족하는 순간 하위명령을 실행하고 if문을 나간다.\n",
        "elif False:\n",
        "  print('2nd')\n",
        "elif True:\n",
        "  print('3rd')\n",
        "else:\n",
        "  print('etc')\n",
        "\n",
        "# 중첩 *가독성이 좋지 않다.\n",
        "if score >= 100:\n",
        "  print('상')\n",
        "else:\n",
        "  if score >= 50:\n",
        "    print('중')\n",
        "  else:\n",
        "    print('하')\n",
        "# elif 사용    \n",
        "if score >= 100:\n",
        "  print('상')\n",
        "elif score >= 50:\n",
        "  print('중')\n",
        "else:\n",
        "  print('하')"
      ],
      "metadata": {
        "colab": {
          "base_uri": "https://localhost:8080/"
        },
        "id": "NgRNRM34Ei5n",
        "outputId": "9c7b09ff-c03d-4636-89ef-4c098ff2c993"
      },
      "execution_count": 23,
      "outputs": [
        {
          "output_type": "stream",
          "name": "stdout",
          "text": [
            "True\n",
            "1st\n"
          ]
        }
      ]
    },
    {
      "cell_type": "code",
      "source": [
        "# Q1.입력) 당신의 점수를 입력하세요.>>> 95\n",
        "#    출력) 당신의 점수는 95점이고 학점은 A0학점입니다.\n",
        "#    조건) 100점 초과인 점수는 없다. 0점 미만인 점수도 없음.\n",
        "#    100~90A\n",
        "#    89~80B\n",
        "#    79~70C\n",
        "#    69~60D\n",
        "#    나머지F\n",
        "#    0~3 -\n",
        "#    4~6 0\n",
        "#    7~9 +\n",
        "\n",
        "point=int(input('당신의 점수를 입력하세요. >>> '))\n",
        "grade=0\n",
        "grade_d=\"\"\n",
        "\n",
        "if point >= 90:\n",
        "  grade='A'\n",
        "elif point >= 80:\n",
        "  grade='B'\n",
        "elif point >= 70:\n",
        "  grade='C'\n",
        "elif point >= 60:\n",
        "  grade='D'\n",
        "else:\n",
        "  grade='F'\n",
        "\n",
        "if point>60 and point%10<4:\n",
        "  grade_d='-'\n",
        "elif point>60 and point%10<7:\n",
        "  grade_d='0'\n",
        "elif point>60 and point%10<10:\n",
        "  grade_d='+'\n",
        "else:\n",
        "  grade_d=\"\"\n",
        "\n",
        "print(f'당신의 점수는 {point}이고, 학점은 {grade}{grade_d}입니다.')"
      ],
      "metadata": {
        "colab": {
          "base_uri": "https://localhost:8080/"
        },
        "id": "f8DF23dqJXFs",
        "outputId": "735354d3-2379-4ab9-a22a-fd4d53abe6f3"
      },
      "execution_count": 30,
      "outputs": [
        {
          "output_type": "stream",
          "name": "stdout",
          "text": [
            "당신의 점수를 입력하세요. >>> 69\n",
            "당신의 점수는 69이고, 학점은 D+입니다.\n"
          ]
        }
      ]
    }
  ]
}