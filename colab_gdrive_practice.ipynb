{
  "nbformat": 4,
  "nbformat_minor": 0,
  "metadata": {
    "colab": {
      "name": "colab_gdrive_practice.ipynb",
      "provenance": [],
      "toc_visible": true,
      "authorship_tag": "ABX9TyNkR9pGkjYPcy7PhQ0AOzDr",
      "include_colab_link": true
    },
    "kernelspec": {
      "name": "python3",
      "display_name": "Python 3"
    },
    "language_info": {
      "name": "python"
    }
  },
  "cells": [
    {
      "cell_type": "markdown",
      "metadata": {
        "id": "view-in-github",
        "colab_type": "text"
      },
      "source": [
        "<a href=\"https://colab.research.google.com/github/clouououd/ai/blob/main/colab_gdrive_practice.ipynb\" target=\"_parent\"><img src=\"https://colab.research.google.com/assets/colab-badge.svg\" alt=\"Open In Colab\"/></a>"
      ]
    },
    {
      "cell_type": "code",
      "execution_count": 11,
      "metadata": {
        "id": "MZG1vrg2m3pM"
      },
      "outputs": [],
      "source": [
        "# 코랩에 구글드라이브 연동\n",
        "\n",
        "# from google.colab import drive\n",
        "# drive.mount('/content/gdrive')\n",
        "\n",
        "f = open('G:\\내 드라이브\\practice\\매수종목_1.txt', mode = 'wt', encoding='utf-8')\n",
        "f.write(\"005930\\n\")\n",
        "f.write(\"005380\\n\")\n",
        "f.write(\"035420\")\n",
        "f.close()"
      ]
    },
    {
      "cell_type": "code",
      "source": [
        "f = open('G:\\\\내 드라이브\\\\practice\\\\매수종목_2.txt', mode = 'wt', encoding='utf-8')\n",
        "f.write('005930 삼성전자\\n')\n",
        "f.write('005380 현대차\\n')\n",
        "f.write('035420 NAVER\\n')\n",
        "f.close()"
      ],
      "metadata": {
        "id": "LqPmMmqPqreP"
      },
      "execution_count": 12,
      "outputs": []
    },
    {
      "cell_type": "code",
      "source": [
        "import csv\n",
        "f = open(\"G:\\\\내 드라이브\\\\practice\\\\매수종목.csv\", mode=\"wt\", \n",
        "encoding=\"cp949\", newline='')\n",
        "writer = csv.writer(f)\n",
        "writer.writerow([\"종목명\", \"종목코드\", \"PER\"])\n",
        "writer.writerow([\"삼성전자\", \"005930\", 15.59])\n",
        "writer.writerow([\"NAVER\", \"035420\", 55.82])\n",
        "f.close()"
      ],
      "metadata": {
        "id": "_CqXz7sArsoQ"
      },
      "execution_count": 13,
      "outputs": []
    }
  ]
}