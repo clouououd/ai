{
  "nbformat": 4,
  "nbformat_minor": 0,
  "metadata": {
    "colab": {
      "name": "20220224ai.ipynb",
      "provenance": [],
      "authorship_tag": "ABX9TyNTvwiIXsIuDWCpSZ5TE86g",
      "include_colab_link": true
    },
    "kernelspec": {
      "name": "python3",
      "display_name": "Python 3"
    },
    "language_info": {
      "name": "python"
    }
  },
  "cells": [
    {
      "cell_type": "markdown",
      "metadata": {
        "id": "view-in-github",
        "colab_type": "text"
      },
      "source": [
        "<a href=\"https://colab.research.google.com/github/clouououd/ai/blob/main/20220224ai.ipynb\" target=\"_parent\"><img src=\"https://colab.research.google.com/assets/colab-badge.svg\" alt=\"Open In Colab\"/></a>"
      ]
    },
    {
      "cell_type": "code",
      "execution_count": null,
      "metadata": {
        "id": "ah7mIfhlk-N8"
      },
      "outputs": [],
      "source": [
        "1. 높고 낮은 수를 고르라고 묻기\n",
        "2. 두 값중 랜덤으로 고르기\n",
        "3. 그것을 comp_num 변수에 저장\n",
        "\n",
        "1. 'I am thinking of  a number...' 출력\n",
        "2. 그 수를 추측하게 하기\n",
        "\n",
        "1. 유저의 추측과 comp_num이 같은지 확인\n",
        "2. 같으면 Correct, you win\n",
        "3. 틀리면 반복, 그리고 너무 낮은지 높은지를 알려주기\n",
        "\n",
        "1. 총괄 함수 "
      ]
    },
    {
      "cell_type": "code",
      "source": [
        "import random\n",
        "\n",
        "def sub01() :\n",
        "  num_h = int(input('high num?'))\n",
        "  num_l = int(input('low num?'))\n",
        "\n",
        "  global comp_num\n",
        "  comp_num = random.randint(num_l,num_h)\n",
        "  return comp_num\n",
        "\n",
        "def sub02() :\n",
        "  global guess\n",
        "  guess = int(input('I am thinking a number...'))\n",
        "  return guess\n",
        "\n",
        "def sub03(comp_num, guess) :\n",
        "  while guess != comp_num :\n",
        "    sub02()\n",
        "    if guess > comp_num :\n",
        "      print(\"It's too high.\")\n",
        "    elif guess < comp_num :\n",
        "      print(\"It's too low.\")\n",
        "  print('Good!')\n",
        "\n",
        "def sub04() :\n",
        "  sub01()\n",
        "  sub03()\n",
        "\n",
        "sub04()"
      ],
      "metadata": {
        "colab": {
          "base_uri": "https://localhost:8080/"
        },
        "id": "b-2Ej-5imVkM",
        "outputId": "b187bb27-9eba-4d2e-b2de-a4e25a88831f"
      },
      "execution_count": 15,
      "outputs": [
        {
          "output_type": "stream",
          "name": "stdout",
          "text": [
            "high num?10\n",
            "low num?1\n",
            "Good!\n"
          ]
        }
      ]
    }
  ]
}