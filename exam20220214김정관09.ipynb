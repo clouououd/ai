{
  "nbformat": 4,
  "nbformat_minor": 0,
  "metadata": {
    "colab": {
      "name": "exam20220214김정관09.ipynb",
      "provenance": [],
      "authorship_tag": "ABX9TyPm9fC+PPKBVfDCjmmwTJou",
      "include_colab_link": true
    },
    "kernelspec": {
      "name": "python3",
      "display_name": "Python 3"
    },
    "language_info": {
      "name": "python"
    }
  },
  "cells": [
    {
      "cell_type": "markdown",
      "metadata": {
        "id": "view-in-github",
        "colab_type": "text"
      },
      "source": [
        "<a href=\"https://colab.research.google.com/github/clouououd/ai/blob/main/exam20220214%EA%B9%80%EC%A0%95%EA%B4%8009.ipynb\" target=\"_parent\"><img src=\"https://colab.research.google.com/assets/colab-badge.svg\" alt=\"Open In Colab\"/></a>"
      ]
    },
    {
      "cell_type": "code",
      "execution_count": 30,
      "metadata": {
        "colab": {
          "base_uri": "https://localhost:8080/"
        },
        "id": "aDWbMZtWjj1C",
        "outputId": "363eaa36-70b3-4c0c-a34d-9ce683096fac"
      },
      "outputs": [
        {
          "output_type": "stream",
          "name": "stdout",
          "text": [
            "Enter string:HeLLo\n",
            "The number of lowercase characters is: 2\n",
            "The number of uppercase characters is: 3\n",
            "hEllO\n"
          ]
        }
      ],
      "source": [
        "def count_letters(data) : # count_letters : 영어 대소문자의 개수를 세는 함수, str을 받음\n",
        "  count_lower = 0 # count_lower : 소문자 개수를 저장하는 변수\n",
        "  count_upper = 0 # count_upper : 대문자 개수를 저장하는 변수\n",
        "\n",
        "  for i in data : # 받은 str의 문자하나씩 반복\n",
        "    if i >= 'a' and i <= 'z' : # 영어 소문자라면 아래를 이행\n",
        "      count_lower += 1 # count_lower에 저장된 수가 소문자일 때마다 1씩 늘어남\n",
        "    elif i >= 'A' and i <= 'Z' : # 영어 대문자라면 아래를 이행\n",
        "      count_upper += 1 # count_lower에 저장된 수가 대문자일 때마다 1씩 늘어남\n",
        "    # 숫자나 특수문자의 경우는 버림\n",
        "\n",
        "  print(f'The number of lowercase characters is: {count_lower}') # 소문자의 개수를 출력\n",
        "  print(f'The number of uppercase characters is: {count_upper}') # 대문자의 개수를 출력\n",
        "\n",
        "def swap_case(data) : # swap_case : 소문자를 대문자로 대문자를 소문자로 변경, str을 받음\n",
        "  change = '' # change : 변경된 문자를 저장하는 변수\n",
        "\n",
        "  for i in data : # 받은 str의 문자하나씩 반복\n",
        "    if i >= 'a' and i <= 'z' : # 영어 소문자라면 아래를 이행\n",
        "      change += i.upper() # 문자를 대문자로 변경후 change에 추가로 저장\n",
        "    elif i >= 'A' and i <= 'Z' : # 영어 대문자라면 아래를 이행\n",
        "      change += i.lower() # 문자를 소문자로 변경후 chagne에 추가로 저장 \n",
        "    # 숫자나 특수문자의 경우는 버림\n",
        "\n",
        "  print(change) # change에 저장된 값을 출력\n",
        "\n",
        "\n",
        "data = input('Enter string:') # 함수에 쓰일 str을 받아 data라는 변수에 저장\n",
        "count_letters(data) # count_letters 함수를 호출, data라는 변수에 저장된 값을 입력\n",
        "swap_case(data) # swap_case 함수를 호출, data라는 변수에 저장된 값을 입력"
      ]
    }
  ]
}