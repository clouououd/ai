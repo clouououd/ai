{
  "nbformat": 4,
  "nbformat_minor": 0,
  "metadata": {
    "colab": {
      "name": "14HW20220223김정관09.ipynb",
      "provenance": [],
      "authorship_tag": "ABX9TyM5pKeCZDFm7UNcGmq6YBzE",
      "include_colab_link": true
    },
    "kernelspec": {
      "name": "python3",
      "display_name": "Python 3"
    },
    "language_info": {
      "name": "python"
    }
  },
  "cells": [
    {
      "cell_type": "markdown",
      "metadata": {
        "id": "view-in-github",
        "colab_type": "text"
      },
      "source": [
        "<a href=\"https://colab.research.google.com/github/clouououd/ai/blob/main/14HW20220223%EA%B9%80%EC%A0%95%EA%B4%8009.ipynb\" target=\"_parent\"><img src=\"https://colab.research.google.com/assets/colab-badge.svg\" alt=\"Open In Colab\"/></a>"
      ]
    },
    {
      "cell_type": "code",
      "execution_count": null,
      "metadata": {
        "id": "l1TEKETWDZ2v"
      },
      "outputs": [],
      "source": [
        "03. a\n",
        "04. d\n",
        "05. a\n",
        "06. a\n",
        "07. a\n",
        "08. d\n",
        "09. a\n",
        "10. c\n",
        "11. b\n",
        "12. b"
      ]
    },
    {
      "cell_type": "code",
      "source": [
        "# 13"
      ],
      "metadata": {
        "id": "s5eVE5MpFb0F"
      },
      "execution_count": null,
      "outputs": []
    }
  ]
}