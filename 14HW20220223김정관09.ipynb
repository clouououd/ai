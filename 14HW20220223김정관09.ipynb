{
  "nbformat": 4,
  "nbformat_minor": 0,
  "metadata": {
    "colab": {
      "name": "14HW20220223김정관09.ipynb",
      "provenance": [],
      "authorship_tag": "ABX9TyMWnc83VXnsk8CrC1giZ0jg",
      "include_colab_link": true
    },
    "kernelspec": {
      "name": "python3",
      "display_name": "Python 3"
    },
    "language_info": {
      "name": "python"
    }
  },
  "cells": [
    {
      "cell_type": "markdown",
      "metadata": {
        "id": "view-in-github",
        "colab_type": "text"
      },
      "source": [
        "<a href=\"https://colab.research.google.com/github/clouououd/ai/blob/main/14HW20220223%EA%B9%80%EC%A0%95%EA%B4%8009.ipynb\" target=\"_parent\"><img src=\"https://colab.research.google.com/assets/colab-badge.svg\" alt=\"Open In Colab\"/></a>"
      ]
    },
    {
      "cell_type": "code",
      "execution_count": null,
      "metadata": {
        "id": "l1TEKETWDZ2v"
      },
      "outputs": [],
      "source": [
        "03. a\n",
        "04. d\n",
        "05. a b\n",
        "06. a\n",
        "07. a\n",
        "08. d\n",
        "09. a\n",
        "10. c\n",
        "11. b\n",
        "12. b"
      ]
    },
    {
      "cell_type": "code",
      "source": [
        "# 13\n",
        "\n",
        "def isprime(n) :\n",
        "  if n == 1 :\n",
        "    return 'fasle'\n",
        "  for i in range(2,n) :\n",
        "    if n % i == 0 :\n",
        "      return 'false'\n",
        "  return 'True'\n",
        "\n",
        "n = int(input())\n",
        "\n",
        "isprime(n)"
      ],
      "metadata": {
        "colab": {
          "base_uri": "https://localhost:8080/",
          "height": 54
        },
        "id": "s5eVE5MpFb0F",
        "outputId": "9dca6eb0-330d-48c2-9aa2-be4d03100332"
      },
      "execution_count": null,
      "outputs": [
        {
          "name": "stdout",
          "output_type": "stream",
          "text": [
            "15\n"
          ]
        },
        {
          "output_type": "execute_result",
          "data": {
            "application/vnd.google.colaboratory.intrinsic+json": {
              "type": "string"
            },
            "text/plain": [
              "'false'"
            ]
          },
          "metadata": {},
          "execution_count": 8
        }
      ]
    }
  ]
}