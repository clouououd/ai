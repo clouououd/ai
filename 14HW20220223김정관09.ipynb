{
  "nbformat": 4,
  "nbformat_minor": 0,
  "metadata": {
    "colab": {
      "name": "14HW20220223김정관09.ipynb",
      "provenance": [],
      "authorship_tag": "ABX9TyNtRiAlMBmAeqMIB6hEfFMY",
      "include_colab_link": true
    },
    "kernelspec": {
      "name": "python3",
      "display_name": "Python 3"
    },
    "language_info": {
      "name": "python"
    }
  },
  "cells": [
    {
      "cell_type": "markdown",
      "metadata": {
        "id": "view-in-github",
        "colab_type": "text"
      },
      "source": [
        "<a href=\"https://colab.research.google.com/github/clouououd/ai/blob/main/14HW20220223%EA%B9%80%EC%A0%95%EA%B4%8009.ipynb\" target=\"_parent\"><img src=\"https://colab.research.google.com/assets/colab-badge.svg\" alt=\"Open In Colab\"/></a>"
      ]
    },
    {
      "cell_type": "code",
      "execution_count": null,
      "metadata": {
        "id": "YctWHDOuxoia"
      },
      "outputs": [],
      "source": [
        "03. d\n",
        "04. b\n",
        "05. c\n",
        "06. d\n",
        "07. c\n",
        "08. a\n",
        "09. d\n",
        "10. a\n",
        "11. c\n",
        "12. b"
      ]
    },
    {
      "cell_type": "code",
      "source": [
        "# 13\n",
        "n = int(input('Enter a number : '))\n",
        "\n",
        "if n % 2 != 0 :\n",
        "  print('%d is Odd'%n)\n",
        "else :\n",
        "  print('%d is Even'%n)\n"
      ],
      "metadata": {
        "colab": {
          "base_uri": "https://localhost:8080/"
        },
        "id": "As8WsHjkymT9",
        "outputId": "1510728c-cd53-4b9f-f113-3db4aa284de5"
      },
      "execution_count": 5,
      "outputs": [
        {
          "output_type": "stream",
          "name": "stdout",
          "text": [
            "Enter a number : 18\n",
            "18 is Even\n"
          ]
        }
      ]
    }
  ]
}