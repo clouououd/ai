{
  "nbformat": 4,
  "nbformat_minor": 0,
  "metadata": {
    "colab": {
      "name": "JumpToPython_내장함수.ipynb",
      "provenance": [],
      "authorship_tag": "ABX9TyN7t+O7IIb5bcbdqJSaOa4b",
      "include_colab_link": true
    },
    "kernelspec": {
      "name": "python3",
      "display_name": "Python 3"
    },
    "language_info": {
      "name": "python"
    }
  },
  "cells": [
    {
      "cell_type": "markdown",
      "metadata": {
        "id": "view-in-github",
        "colab_type": "text"
      },
      "source": [
        "<a href=\"https://colab.research.google.com/github/clouououd/ai/blob/main/JumpToPython_%EB%82%B4%EC%9E%A5%ED%95%A8%EC%88%98.ipynb\" target=\"_parent\"><img src=\"https://colab.research.google.com/assets/colab-badge.svg\" alt=\"Open In Colab\"/></a>"
      ]
    },
    {
      "cell_type": "markdown",
      "source": [
        "**filter**\n",
        "\n",
        "filter(함수, 반복가능한자료형)\n",
        "\n",
        "입력한 반복가능한자료형(list, tuple, set)의 요소가 입력한 함수에 입력되었을 때 반환값이 참인것만 묶어서 return한다.\n",
        "\n",
        "return값을 이용하려면 list, tuple, set으로 강제 변형시켜줘야한다."
      ],
      "metadata": {
        "id": "ZVg97RlHmIeM"
      }
    },
    {
      "cell_type": "code",
      "execution_count": 15,
      "metadata": {
        "colab": {
          "base_uri": "https://localhost:8080/"
        },
        "id": "vNoBKxTVl9VE",
        "outputId": "4015a4e6-8e04-4142-b26e-93c53b3f117a"
      },
      "outputs": [
        {
          "output_type": "execute_result",
          "data": {
            "text/plain": [
              "[1, 2, 6]"
            ]
          },
          "metadata": {},
          "execution_count": 15
        }
      ],
      "source": [
        "list(filter(lambda x : x > 0, [1, -3, 2, 0 ,-5, 6]))"
      ]
    },
    {
      "cell_type": "markdown",
      "source": [
        "isinstance\n",
        "\n",
        "isinstance(object, class)\n",
        "\n",
        "입력받은 object가 class의 object이면 True를 그렇지않다면 False를 return해준다."
      ],
      "metadata": {
        "id": "g9he_qfHpE1d"
      }
    },
    {
      "cell_type": "code",
      "source": [
        "class example_class :\n",
        "  pass\n",
        "\n",
        "example_object = example_class()\n",
        "\n",
        "isinstance(example_object, example_class)"
      ],
      "metadata": {
        "colab": {
          "base_uri": "https://localhost:8080/"
        },
        "id": "U4FXeBybpDO_",
        "outputId": "e0458efb-0ca8-4520-fc5c-907268d1098a"
      },
      "execution_count": 16,
      "outputs": [
        {
          "output_type": "execute_result",
          "data": {
            "text/plain": [
              "True"
            ]
          },
          "metadata": {},
          "execution_count": 16
        }
      ]
    }
  ]
}