{
  "nbformat": 4,
  "nbformat_minor": 0,
  "metadata": {
    "colab": {
      "name": "JumpToPython_내장함수.ipynb",
      "provenance": [],
      "authorship_tag": "ABX9TyOLPZ9MROHSgINciispXWt8",
      "include_colab_link": true
    },
    "kernelspec": {
      "name": "python3",
      "display_name": "Python 3"
    },
    "language_info": {
      "name": "python"
    }
  },
  "cells": [
    {
      "cell_type": "markdown",
      "metadata": {
        "id": "view-in-github",
        "colab_type": "text"
      },
      "source": [
        "<a href=\"https://colab.research.google.com/github/clouououd/ai/blob/main/JumpToPython_%EB%82%B4%EC%9E%A5%ED%95%A8%EC%88%98.ipynb\" target=\"_parent\"><img src=\"https://colab.research.google.com/assets/colab-badge.svg\" alt=\"Open In Colab\"/></a>"
      ]
    },
    {
      "cell_type": "markdown",
      "source": [
        "**filter**\n",
        "\n",
        "filter(functino, iterableType)\n",
        "\n",
        "입력한 반복가능한자료형(list, tuple, set)의 요소가 입력한 함수에 입력되었을 때 반환값이 참인것만 묶어서 return한다.\n",
        "\n",
        "return값을 이용하려면 list, tuple, set으로 강제 변형시켜줘야한다."
      ],
      "metadata": {
        "id": "ZVg97RlHmIeM"
      }
    },
    {
      "cell_type": "code",
      "execution_count": null,
      "metadata": {
        "colab": {
          "base_uri": "https://localhost:8080/"
        },
        "id": "vNoBKxTVl9VE",
        "outputId": "4015a4e6-8e04-4142-b26e-93c53b3f117a"
      },
      "outputs": [
        {
          "output_type": "execute_result",
          "data": {
            "text/plain": [
              "[1, 2, 6]"
            ]
          },
          "metadata": {},
          "execution_count": 15
        }
      ],
      "source": [
        "list(filter(lambda x : x > 0, [1, -3, 2, 0 ,-5, 6]))"
      ]
    },
    {
      "cell_type": "markdown",
      "source": [
        "**isinstance**\n",
        "\n",
        "isinstance(object, class)\n",
        "\n",
        "입력받은 object가 class의 object이면 True를 그렇지않다면 False를 return해준다."
      ],
      "metadata": {
        "id": "g9he_qfHpE1d"
      }
    },
    {
      "cell_type": "code",
      "source": [
        "class example_class :\n",
        "  pass\n",
        "\n",
        "example_object = example_class()\n",
        "\n",
        "example_object_x = 'x'\n",
        "\n",
        "# example_object는 example_class의 object이므로 True\n",
        "isinstance(example_object, example_class)\n",
        "\n",
        "# example_object_x는 example_class의 object가 아니므로 False\n",
        "isinstance(example_object_x, example_class)"
      ],
      "metadata": {
        "id": "U4FXeBybpDO_"
      },
      "execution_count": null,
      "outputs": []
    },
    {
      "cell_type": "markdown",
      "source": [
        "**map**\n",
        "\n",
        "map(function, iterableType)\n",
        "\n",
        "입력받은 반복가능한자료형을 function함수에 넣고 그 결과를 묶어서 return한다.\n",
        "\n",
        "return값을 이용하려면 list, tuple, set으로 강제 변형시켜줘야한다."
      ],
      "metadata": {
        "id": "-8ws79SnEZIB"
      }
    },
    {
      "cell_type": "code",
      "source": [
        "def two_times(x) :\n",
        "  return x*2\n",
        "\n",
        "list(map(two_times, [1, 2, 3, 4]))\n",
        "\n",
        "# dict도 사용가능하지만, key값이 입력한 function으로 들어간다.\n",
        "# 또한 return값을 dict로 변환할 수는 없다\n",
        "list(map(two_times, {1:'a' , 2:'b', 3:'c', 4:'d'}))\n",
        "\n",
        "# lambda를 이용\n",
        "list(map(lambda x : x*2, [1, 2, 3, 4]))"
      ],
      "metadata": {
        "colab": {
          "base_uri": "https://localhost:8080/"
        },
        "id": "QcPAsUS9DG7e",
        "outputId": "0025063d-c8a9-4194-c45a-0f216e9e4d06"
      },
      "execution_count": 7,
      "outputs": [
        {
          "output_type": "execute_result",
          "data": {
            "text/plain": [
              "[2, 4, 6, 8]"
            ]
          },
          "metadata": {},
          "execution_count": 7
        }
      ]
    },
    {
      "cell_type": "markdown",
      "source": [
        "**round**\n",
        "\n",
        "round(number, ndigits)\n",
        "\n",
        "숫자(number)를 입력받아 반올림한 값을 return해준다.\n",
        "\n",
        "ndigits는 반올림하고하여 표시하고 싶은 소수점의 자릿수이다.\n",
        "\n",
        "소수점위에서 반올림하는 경우는 음수를 사용한다\n",
        "\n",
        "ndigits는 생략가능하고 생략시에는 소수점아래가 없도록 반올림한다."
      ],
      "metadata": {
        "id": "LJovlUwnISZg"
      }
    },
    {
      "cell_type": "code",
      "source": [
        "round(4.36, 1)\n",
        "# -> 4.4\n",
        "\n",
        "# ndigits를 생략했을 시\n",
        "\n",
        "round(4.36)\n",
        "# -> 4\n",
        "\n",
        "# ndigits가 음수인 경우\n",
        "\n",
        "round(123495738, -3)\n",
        "# -> 123496000"
      ],
      "metadata": {
        "colab": {
          "base_uri": "https://localhost:8080/"
        },
        "id": "NObzIBpNB_OO",
        "outputId": "5e891ce5-ea73-4d0d-998b-991597015372"
      },
      "execution_count": 14,
      "outputs": [
        {
          "output_type": "execute_result",
          "data": {
            "text/plain": [
              "123496000"
            ]
          },
          "metadata": {},
          "execution_count": 14
        }
      ]
    },
    {
      "cell_type": "markdown",
      "source": [
        "**sorted**\n",
        "\n",
        "sorted(iterableType)\n",
        "\n",
        "iterable자료를 정렬후 list로 바꿔 return해준다.\n",
        "\n",
        "list.sort()와의 차이점은 sorted(iterableType)는 결과값을 retrun 해준다는 것에 있다."
      ],
      "metadata": {
        "id": "zQBpZ-GyMXMv"
      }
    },
    {
      "cell_type": "code",
      "source": [
        "sorted([3, 1, 2])\n",
        "\n",
        "sorted(['c', 'b', 'a'])\n",
        "\n",
        "# 매개변수에 tuple을 넣어도 결과값은 list\n",
        "sorted((3, 1, 2))\n",
        "\n",
        "# 매개변수에 set을 넣어도 결과값은 list\n",
        "sorted({3, 2, 1})"
      ],
      "metadata": {
        "colab": {
          "base_uri": "https://localhost:8080/"
        },
        "id": "ATOhLzbOM88Q",
        "outputId": "fb547b8f-2576-4af8-bf2a-50201debb177"
      },
      "execution_count": 18,
      "outputs": [
        {
          "output_type": "execute_result",
          "data": {
            "text/plain": [
              "[1, 2, 3]"
            ]
          },
          "metadata": {},
          "execution_count": 18
        }
      ]
    }
  ]
}