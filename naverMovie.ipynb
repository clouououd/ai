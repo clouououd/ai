{
  "nbformat": 4,
  "nbformat_minor": 0,
  "metadata": {
    "colab": {
      "name": "naverMovie.ipynb",
      "provenance": [],
      "authorship_tag": "ABX9TyPMnpM188MutS6DrXBZe//b",
      "include_colab_link": true
    },
    "kernelspec": {
      "name": "python3",
      "display_name": "Python 3"
    },
    "language_info": {
      "name": "python"
    }
  },
  "cells": [
    {
      "cell_type": "markdown",
      "metadata": {
        "id": "view-in-github",
        "colab_type": "text"
      },
      "source": [
        "<a href=\"https://colab.research.google.com/github/clouououd/ai/blob/main/naverMovie.ipynb\" target=\"_parent\"><img src=\"https://colab.research.google.com/assets/colab-badge.svg\" alt=\"Open In Colab\"/></a>"
      ]
    },
    {
      "cell_type": "code",
      "execution_count": null,
      "metadata": {
        "id": "aUIIsJQtKTkq"
      },
      "outputs": [],
      "source": [
        "# Crawling naver_movie chart\n",
        "import requests\n",
        "\n",
        "from bs4 import BeautifulSoup as bs\n",
        "\n",
        "import pandas as pd\n",
        "\n",
        "html = requests.get('https://movie.naver.com/movie/sdb/rank/rmovie.naver')\n",
        "\n",
        "soup = bs(html.text)\n",
        "soup"
      ]
    },
    {
      "cell_type": "code",
      "source": [
        "movies = soup.select('.tit3 > a')"
      ],
      "metadata": {
        "colab": {
          "base_uri": "https://localhost:8080/",
          "height": 35
        },
        "id": "qAZTbhF_L7Kz",
        "outputId": "81d66d0d-6604-4d78-b12f-f8f3d1995f27"
      },
      "execution_count": 15,
      "outputs": [
        {
          "output_type": "execute_result",
          "data": {
            "application/vnd.google.colaboratory.intrinsic+json": {
              "type": "string"
            },
            "text/plain": [
              "'나일 강의 죽음'"
            ]
          },
          "metadata": {},
          "execution_count": 15
        }
      ]
    },
    {
      "cell_type": "code",
      "source": [
        "movie_data = []\n",
        "rank = 1\n",
        "\n",
        "for i in movies :\n",
        "  movie = i.text\n",
        "  movie_data.append([rank, movie])\n",
        "  rank += 1\n",
        "\n",
        "movie_data"
      ],
      "metadata": {
        "id": "aM8OD0RALuJ1"
      },
      "execution_count": null,
      "outputs": []
    },
    {
      "cell_type": "code",
      "source": [
        "df = pd.DataFrame(movie_data, columns = ['순위', '영화제목'])\n",
        "df.to_excel('naverMovieChart.xlsx', index=False)"
      ],
      "metadata": {
        "id": "GQ8uS1XfNx8b"
      },
      "execution_count": 22,
      "outputs": []
    }
  ]
}