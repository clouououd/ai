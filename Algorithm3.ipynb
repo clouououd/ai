{
  "nbformat": 4,
  "nbformat_minor": 0,
  "metadata": {
    "colab": {
      "name": "Algorithm3.ipynb",
      "provenance": [],
      "authorship_tag": "ABX9TyN8VrYQsKpxBvTxz9O7JQuU",
      "include_colab_link": true
    },
    "kernelspec": {
      "name": "python3",
      "display_name": "Python 3"
    },
    "language_info": {
      "name": "python"
    }
  },
  "cells": [
    {
      "cell_type": "markdown",
      "metadata": {
        "id": "view-in-github",
        "colab_type": "text"
      },
      "source": [
        "<a href=\"https://colab.research.google.com/github/clouououd/ai/blob/main/Algorithm3.ipynb\" target=\"_parent\"><img src=\"https://colab.research.google.com/assets/colab-badge.svg\" alt=\"Open In Colab\"/></a>"
      ]
    },
    {
      "cell_type": "code",
      "execution_count": null,
      "metadata": {
        "id": "33QydKC70qTn"
      },
      "outputs": [],
      "source": [
        "# Hash Search 해시 탐색\n",
        "\n",
        "24인 데이터는 첨자 24에 넣어두고 36데이터는 첨자 36에 넣어두는 것이다.\n",
        "단지 2개의 데이터를 보관하는데 최고한 37의 요소의 배열이 필요하다. 즉 낭비가 심하다.\n",
        "\n",
        "해시 탐색법의 특징은 나중에 데이터를 쉽게 찾도록 보관하는 단계에서 사전 준비를 해두는 것이 특징이다.\n",
        "\n",
        "11 15 23 26\n",
        "\n",
        "가장 알기 쉬운 방법은 데이터를 데이터의 숫자와 같은 방에 넣어두는 것이다.\n",
        "하지만 메모리의 불필요한 누수가 커진다.\n",
        "따라서,\n",
        "\n",
        "먼저 방을 7개 준비한다. index 0 ~ index 6\n",
        "\n",
        "index  0  1  2  3  4  5\n",
        "11 15 23 26\n",
        "\n",
        "11 % 7(index의 수) = 4 # 왜 7개의 방을 준비?\n",
        "15 % 7             = 1 # 나머지가 같은 경우는 어떻게 하지?\n",
        "23 % 7             = 2\n",
        "26 % 7             = 5\n",
        "\n",
        "index  0  1  2  3  4  5\n",
        "data      15 23    11 26\n",
        "\n",
        "제대로 흩어진 상태가 되었다. 각각의 데이터를 나머지 값과 같은 번호의 방에 넣어둔다.\n",
        "\n",
        "데이터를 넣은 방의 번호를 계산한 식은\n",
        "\n",
        "    해시값 -> 방번호 = 데이터 % 7(방의갯수) <- 해시함수\n",
        "\n",
        "# 해시 탐색법으로 데이터를 찾는 방법\n",
        "\n",
        "11이라는 데이터를 찾아보자. 찾을때도 저장할 때 사용한 해시 함수를 다시 사용한다.\n",
        "저장할때의 계산식은 '데이터값 % 7' 이고 해시값은 4이며 인텍스 번호를 나타낸다.\n",
        "\n",
        "따라서 해시 탐색법을 사용하면 단 한번의 계산으로 찾고자 하는 공을 찾을 수 있다.\n",
        "검색 시간을 놀라울 정도로 단축시킬 수 있다는 큰 장점이 있다.\n",
        "\n",
        "# 해시 함수로 데이터를 보관하는 알고리즘\n",
        "- 해시 함수는 데이터의 저장소 첨자를 계산한다.\n",
        "- 저장소의 첨자가 겹치는 것을 '충돌'이라고 한다.\n",
        "- 충돌이 발생하면 옆의 빈 요소에 데이터를 보관한다.\n",
        "\n",
        "1, 배열은 2개 준비한다.\n",
        "\n",
        "- 첫번째 배열은 데이터의 개수만큼 준비한다.(임시배열)... arrayD\n",
        "  0  1  2  3  4  5  6\n",
        "  12 25 36 20 30 8  42\n",
        "\n",
        "- 두번째 배열은 11개를 준비하여 0으로 초기화한다.(실제 저장될 배열)...arrayH\n",
        "  0  1  2  3  4  5  6  7  8  9  10 11\n",
        "  0  0  0  0  0  0  0  0  0  0  0  0\n",
        "\n",
        "- arrayD 첫번째 요소부터 순차적으로 hash값을 계산하여 arrayH로 저장한다.\n",
        "  지금은 요소수가 11개이므로 11로 나눈 나머지를 계산하여 저장한다.\n",
        "\n",
        "  '해시값' = 'arrayD의 data' % 11 ...해시함수\n",
        "\n",
        "- 첫번째 arrayD[0] = 12 를 해시함수에 넣어 계산하면 해시값은 1이 된다.\n",
        "  0  1  2  3  4  5  6  7  8  9  10 11\n",
        "  0  12  0  0  0  0  0  0  0  0  0  0\n",
        "\n",
        "- 이미 다른 데이터가 할당 되어 있는지 확인하여 비어있으면 대입한다.\n",
        "  왜 확인이 필요하느냐는 다음에 자세히 나오지만 요소가 많으면\n",
        "  해시 값이 즉, 나머지 값이 우연히 일치하는 경우가 많아 이미 데이터가 저장되어 있을 가능성이 높다.\n",
        "\n",
        "- 요소가 비어 있는지 확인 하려면 0이 있는지 확인하면 된다."
      ]
    },
    {
      "cell_type": "code",
      "source": [
        ""
      ],
      "metadata": {
        "id": "PMKPPoTn0-nO"
      },
      "execution_count": null,
      "outputs": []
    }
  ]
}