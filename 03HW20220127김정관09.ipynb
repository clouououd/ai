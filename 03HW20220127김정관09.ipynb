{
  "nbformat": 4,
  "nbformat_minor": 0,
  "metadata": {
    "colab": {
      "name": "03HW20220127김정관09.ipynb",
      "provenance": [],
      "authorship_tag": "ABX9TyMeArv3TLeeQPChRg6wPbnL",
      "include_colab_link": true
    },
    "kernelspec": {
      "name": "python3",
      "display_name": "Python 3"
    },
    "language_info": {
      "name": "python"
    }
  },
  "cells": [
    {
      "cell_type": "markdown",
      "metadata": {
        "id": "view-in-github",
        "colab_type": "text"
      },
      "source": [
        "<a href=\"https://colab.research.google.com/github/clouououd/ai/blob/main/03HW20220127%EA%B9%80%EC%A0%95%EA%B4%8009.ipynb\" target=\"_parent\"><img src=\"https://colab.research.google.com/assets/colab-badge.svg\" alt=\"Open In Colab\"/></a>"
      ]
    },
    {
      "cell_type": "code",
      "execution_count": 2,
      "metadata": {
        "colab": {
          "base_uri": "https://localhost:8080/"
        },
        "id": "lgnxwKywWXhF",
        "outputId": "6cee61e3-d91d-45a6-9695-beb7d173e9f9"
      },
      "outputs": [
        {
          "output_type": "stream",
          "name": "stdout",
          "text": [
            "{'메로나': [300, 20], '비비빅': [400, 3], '죠스바': [250, 100]}\n"
          ]
        }
      ],
      "source": [
        "#091\n",
        "inventory={\n",
        "    '메로나':[300,20],\n",
        "    '비비빅':[400,3],\n",
        "    '죠스바':[250,100]\n",
        "}\n",
        "print(inventory)"
      ]
    },
    {
      "cell_type": "code",
      "source": [
        "#092\n",
        "inventory={\n",
        "    '메로나':[300,20],\n",
        "    '비비빅':[400,3],\n",
        "    '죠스바':[250,100]\n",
        "}\n",
        "print(inventory['메로나'][0])"
      ],
      "metadata": {
        "colab": {
          "base_uri": "https://localhost:8080/"
        },
        "id": "_tegDy37W7Vr",
        "outputId": "82b9c537-30fa-4b6f-c91a-37783e079f02"
      },
      "execution_count": 4,
      "outputs": [
        {
          "output_type": "stream",
          "name": "stdout",
          "text": [
            "300\n"
          ]
        }
      ]
    },
    {
      "cell_type": "code",
      "source": [
        "#093\n",
        "inventory={\n",
        "    '메로나':[300,20],\n",
        "    '비비빅':[400,3],\n",
        "    '죠스바':[250,100]\n",
        "}\n",
        "print(inventory['메로나'][1],end='개')"
      ],
      "metadata": {
        "colab": {
          "base_uri": "https://localhost:8080/"
        },
        "id": "6dDZhm-8X2jb",
        "outputId": "88d9815d-d62c-47c7-8e41-03617447ec54"
      },
      "execution_count": 6,
      "outputs": [
        {
          "output_type": "stream",
          "name": "stdout",
          "text": [
            "20개"
          ]
        }
      ]
    },
    {
      "cell_type": "code",
      "source": [
        "#094\n",
        "inventory={\n",
        "    '메로나':[300,20],\n",
        "    '비비빅':[400,3],\n",
        "    '죠스바':[250,100]\n",
        "}\n",
        "inventory['월드콘']=[500,7]\n",
        "print(inventory)"
      ],
      "metadata": {
        "colab": {
          "base_uri": "https://localhost:8080/"
        },
        "id": "BqqTG8UGYFAq",
        "outputId": "0c4736b8-3d84-4e6f-cd76-c042890dee3f"
      },
      "execution_count": 8,
      "outputs": [
        {
          "output_type": "stream",
          "name": "stdout",
          "text": [
            "{'메로나': [300, 20], '비비빅': [400, 3], '죠스바': [250, 100], '월드콘': [500, 7]}\n"
          ]
        }
      ]
    },
    {
      "cell_type": "code",
      "source": [
        "#095\n",
        "icecream = {'탱크보이': 1200, '폴라포': 1200, '빵빠레': 1800, '월드콘': 1500, '메로나': 1000}\n",
        "\n",
        "icecream.keys()"
      ],
      "metadata": {
        "colab": {
          "base_uri": "https://localhost:8080/"
        },
        "id": "N7yt78aAYheF",
        "outputId": "dc5b5b82-f6bd-4c5e-ebdb-3eb67e642ca6"
      },
      "execution_count": 47,
      "outputs": [
        {
          "output_type": "stream",
          "name": "stdout",
          "text": [
            "dict_keys(['탱크보이', '폴라포', '빵빠레', '월드콘', '메로나'])\n"
          ]
        }
      ]
    },
    {
      "cell_type": "code",
      "source": [
        "#096\n",
        "icecream = {'탱크보이': 1200, '폴라포': 1200, '빵빠레': 1800, '월드콘': 1500, '메로나': 1000}\n",
        "\n",
        "icecream.values()"
      ],
      "metadata": {
        "colab": {
          "base_uri": "https://localhost:8080/"
        },
        "id": "_ALY_YGPZYsu",
        "outputId": "f1bb61d9-1ce8-4c91-a6b3-f6e9000ac3cc"
      },
      "execution_count": 48,
      "outputs": [
        {
          "output_type": "execute_result",
          "data": {
            "text/plain": [
              "dict_values([1200, 1200, 1800, 1500, 1000])"
            ]
          },
          "metadata": {},
          "execution_count": 48
        }
      ]
    },
    {
      "cell_type": "code",
      "source": [
        "#097\n",
        "icecream = {'탱크보이': 1200, '폴라포': 1200, '빵빠레': 1800, '월드콘': 1500, '메로나': 1000}\n",
        "\n",
        "print(sum(icecream.values()))"
      ],
      "metadata": {
        "colab": {
          "base_uri": "https://localhost:8080/"
        },
        "id": "TDPsz5xVZpxv",
        "outputId": "e35ec60f-7de5-4d8e-b998-2caa300b2833"
      },
      "execution_count": 50,
      "outputs": [
        {
          "output_type": "stream",
          "name": "stdout",
          "text": [
            "6700\n"
          ]
        }
      ]
    },
    {
      "cell_type": "code",
      "source": [
        "#098\n",
        "icecream = {'탱크보이': 1200, '폴라포': 1200, '빵빠레': 1800, '월드콘': 1500, '메로나': 1000}\n",
        "new_product = {'팥빙수':2700, '아맛나':1000}\n",
        "\n",
        "icecream.update(new_product)\n",
        "print(icecream)"
      ],
      "metadata": {
        "colab": {
          "base_uri": "https://localhost:8080/"
        },
        "id": "zZHAdgRMaV2e",
        "outputId": "74a6b069-7193-4c76-e6ca-f8194f95e2b0"
      },
      "execution_count": 53,
      "outputs": [
        {
          "output_type": "stream",
          "name": "stdout",
          "text": [
            "{'탱크보이': 1200, '폴라포': 1200, '빵빠레': 1800, '월드콘': 1500, '메로나': 1000, '팥빙수': 2700, '아맛나': 1000}\n"
          ]
        }
      ]
    },
    {
      "cell_type": "code",
      "source": [
        "#099\n",
        "keys = (\"apple\", \"pear\", \"peach\")\n",
        "vals = (300, 250, 400)\n",
        "\n",
        "result=dict(zip(keys,vals))\n",
        "print(result)"
      ],
      "metadata": {
        "colab": {
          "base_uri": "https://localhost:8080/"
        },
        "id": "ISyYgta2Z8od",
        "outputId": "36a76c81-d30b-4b70-bc02-36f44c346a3d"
      },
      "execution_count": 56,
      "outputs": [
        {
          "output_type": "stream",
          "name": "stdout",
          "text": [
            "{'apple': 300, 'pear': 250, 'peach': 400}\n"
          ]
        }
      ]
    },
    {
      "cell_type": "code",
      "source": [
        "#100\n",
        "date = ['09/05', '09/06', '09/07', '09/08', '09/09']\n",
        "close_price = [10500, 10300, 10100, 10800, 11000]\n",
        "\n",
        "close_table=dict(zip(date,close_price))\n",
        "print(close_table)"
      ],
      "metadata": {
        "colab": {
          "base_uri": "https://localhost:8080/"
        },
        "id": "l1HQttfuaQzg",
        "outputId": "17c63d48-8578-4632-b77d-2a0e78f2b923"
      },
      "execution_count": 57,
      "outputs": [
        {
          "output_type": "stream",
          "name": "stdout",
          "text": [
            "{'09/05': 10500, '09/06': 10300, '09/07': 10100, '09/08': 10800, '09/09': 11000}\n"
          ]
        }
      ]
    },
    {
      "cell_type": "code",
      "source": [
        "#151\n",
        "list151 = [3, -20, -3, 44]\n",
        "\n",
        "for i in list151 :\n",
        "  if i < 0 :\n",
        "    print(i)\n",
        "  else :\n",
        "    continue\n"
      ],
      "metadata": {
        "colab": {
          "base_uri": "https://localhost:8080/"
        },
        "id": "8bW3eZQibFsp",
        "outputId": "a1da5af6-2fa9-4ff2-aec6-9ac47135f416"
      },
      "execution_count": 17,
      "outputs": [
        {
          "output_type": "stream",
          "name": "stdout",
          "text": [
            "-20\n",
            "-3\n"
          ]
        }
      ]
    },
    {
      "cell_type": "code",
      "source": [
        "#152\n",
        "list152 = [3, 100, 23, 44]\n",
        "\n",
        "for i in list152 :\n",
        "  if i % 3 == 0 :\n",
        "    print(i)\n",
        "  else :\n",
        "    continue"
      ],
      "metadata": {
        "colab": {
          "base_uri": "https://localhost:8080/"
        },
        "id": "4uY2I8_Db1Lc",
        "outputId": "9ae1b5d2-e545-4b06-dbfe-3f22e0ba9bff"
      },
      "execution_count": 18,
      "outputs": [
        {
          "output_type": "stream",
          "name": "stdout",
          "text": [
            "3\n"
          ]
        }
      ]
    },
    {
      "cell_type": "code",
      "source": [
        "#153\n",
        "list153 = [13, 21, 12, 14, 30, 18]\n",
        "\n",
        "for i in list153 :\n",
        "  if i < 20 and i % 3 == 0 :\n",
        "    print(i)\n",
        "  else :\n",
        "    continue"
      ],
      "metadata": {
        "colab": {
          "base_uri": "https://localhost:8080/"
        },
        "id": "BPl0hokKcE2Z",
        "outputId": "dcf98357-58e6-4f33-84e8-e7fe75ec9b3d"
      },
      "execution_count": 19,
      "outputs": [
        {
          "output_type": "stream",
          "name": "stdout",
          "text": [
            "12\n",
            "18\n"
          ]
        }
      ]
    },
    {
      "cell_type": "code",
      "source": [
        "#154\n",
        "list154 = [\"I\", \"study\", \"python\", \"language\", \"!\"]\n",
        "\n",
        "for i in list154 :\n",
        "  if len(i) >= 3 :\n",
        "    print(i)\n",
        "  else :\n",
        "    continue\n"
      ],
      "metadata": {
        "colab": {
          "base_uri": "https://localhost:8080/"
        },
        "id": "NiZzfPBQcYTQ",
        "outputId": "d40b733d-a4c3-4e2f-efa1-8a2241dd74ef"
      },
      "execution_count": 20,
      "outputs": [
        {
          "output_type": "stream",
          "name": "stdout",
          "text": [
            "study\n",
            "python\n",
            "language\n"
          ]
        }
      ]
    },
    {
      "cell_type": "code",
      "source": [
        "#155\n",
        "list155 = [\"A\", \"b\", \"c\", \"D\"]\n",
        "\n",
        "for i in list155 :\n",
        "  if i.isupper() :\n",
        "    print(i)\n",
        "  else :\n",
        "    continue"
      ],
      "metadata": {
        "colab": {
          "base_uri": "https://localhost:8080/"
        },
        "id": "2RQOaXZocq6I",
        "outputId": "29c1e72b-7c2a-4285-f634-8f4958fc4581"
      },
      "execution_count": 31,
      "outputs": [
        {
          "output_type": "stream",
          "name": "stdout",
          "text": [
            "A\n",
            "D\n"
          ]
        }
      ]
    },
    {
      "cell_type": "code",
      "source": [
        "#156\n",
        "list156 = [\"A\", \"b\", \"c\", \"D\"]\n",
        "\n",
        "for i in list156 :\n",
        "  if i.islower() :\n",
        "    print(i)\n",
        "  else :\n",
        "    continue"
      ],
      "metadata": {
        "colab": {
          "base_uri": "https://localhost:8080/"
        },
        "id": "ZA2yepIPeUKd",
        "outputId": "4cc091a8-3fa0-4eb4-b18c-0056cbcc5612"
      },
      "execution_count": 32,
      "outputs": [
        {
          "output_type": "stream",
          "name": "stdout",
          "text": [
            "b\n",
            "c\n"
          ]
        }
      ]
    },
    {
      "cell_type": "code",
      "source": [
        "#157\n",
        "list157 = ['dog', 'cat', 'parrot']\n",
        "\n",
        "for i in list157 :\n",
        "  first = i[0].upper()\n",
        "  print(f'{first}{i[1:]}')"
      ],
      "metadata": {
        "colab": {
          "base_uri": "https://localhost:8080/"
        },
        "id": "QV748snHepxu",
        "outputId": "a38c4e25-fc15-49d7-845e-dcebc1ca082b"
      },
      "execution_count": 34,
      "outputs": [
        {
          "output_type": "stream",
          "name": "stdout",
          "text": [
            "Dog\n",
            "Cat\n",
            "Parrot\n"
          ]
        }
      ]
    },
    {
      "cell_type": "code",
      "source": [
        "#158\n",
        "list158 = ['hello.py', 'ex01.py', 'intro.hwp']\n",
        "\n",
        "for i in list158 :\n",
        "  print(i.split('.')[0])  "
      ],
      "metadata": {
        "colab": {
          "base_uri": "https://localhost:8080/"
        },
        "id": "QUpwo1zcfzkI",
        "outputId": "fae23e24-b9ca-4be9-fd72-6a061a5d1b70"
      },
      "execution_count": 38,
      "outputs": [
        {
          "output_type": "stream",
          "name": "stdout",
          "text": [
            "hello\n",
            "ex01\n",
            "intro\n"
          ]
        }
      ]
    },
    {
      "cell_type": "code",
      "source": [
        "#159\n",
        "list159 = ['intra.h', 'intra.c', 'define.h', 'run.py']\n",
        "\n",
        "for i in list159 :\n",
        "  if i.split('.')[1] == 'h' :\n",
        "    print(i)\n",
        "  else:\n",
        "    continue"
      ],
      "metadata": {
        "colab": {
          "base_uri": "https://localhost:8080/"
        },
        "id": "i8HI0mF2g9g9",
        "outputId": "97c1ced1-057e-4a73-c592-7fee47c956bb"
      },
      "execution_count": 39,
      "outputs": [
        {
          "output_type": "stream",
          "name": "stdout",
          "text": [
            "intra.h\n",
            "define.h\n"
          ]
        }
      ]
    },
    {
      "cell_type": "code",
      "source": [
        "#160(*******)\n",
        "list160 = ['intra.h', 'intra.c', 'define.h', 'run.py']\n",
        "\n",
        "for i in list160 :\n",
        "  if i. split('.')[1] == 'h' or i. split('.')[1] == 'c' :\n",
        "    print(i)\n",
        "  else :\n",
        "    continue"
      ],
      "metadata": {
        "colab": {
          "base_uri": "https://localhost:8080/"
        },
        "id": "VzZPVTSzhu7g",
        "outputId": "e34ef93a-c20d-464f-9de2-d7e64a869e60"
      },
      "execution_count": 43,
      "outputs": [
        {
          "output_type": "stream",
          "name": "stdout",
          "text": [
            "intra.h\n",
            "intra.c\n",
            "define.h\n"
          ]
        }
      ]
    }
  ]
}