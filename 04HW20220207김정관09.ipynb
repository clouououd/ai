{
  "nbformat": 4,
  "nbformat_minor": 0,
  "metadata": {
    "colab": {
      "name": "04HW20220207김정관09.ipynb",
      "provenance": [],
      "authorship_tag": "ABX9TyM8/f8q9tsqChf/MfCgH2rc",
      "include_colab_link": true
    },
    "kernelspec": {
      "name": "python3",
      "display_name": "Python 3"
    },
    "language_info": {
      "name": "python"
    }
  },
  "cells": [
    {
      "cell_type": "markdown",
      "metadata": {
        "id": "view-in-github",
        "colab_type": "text"
      },
      "source": [
        "<a href=\"https://colab.research.google.com/github/clouououd/ai/blob/main/04HW20220207%EA%B9%80%EC%A0%95%EA%B4%8009.ipynb\" target=\"_parent\"><img src=\"https://colab.research.google.com/assets/colab-badge.svg\" alt=\"Open In Colab\"/></a>"
      ]
    },
    {
      "cell_type": "code",
      "execution_count": null,
      "metadata": {
        "id": "EQAHDmOxOH4z"
      },
      "outputs": [],
      "source": [
        "# 211 o\n",
        "안녕\n",
        "Hi"
      ]
    },
    {
      "cell_type": "code",
      "source": [
        "# 212 o\n",
        "7\n",
        "15"
      ],
      "metadata": {
        "id": "86Sz7_olOyaV"
      },
      "execution_count": null,
      "outputs": []
    },
    {
      "cell_type": "code",
      "source": [
        "# 213 o\n",
        "함수라는 함수에 매개변수가 존재하나 함수 사용시에 input값을 넣지 않았기 때문"
      ],
      "metadata": {
        "id": "iiTtRdusO2Hc"
      },
      "execution_count": null,
      "outputs": []
    },
    {
      "cell_type": "code",
      "source": [
        "# 214 o\n",
        "a라는 매개변수에는 str가 b라는 매개변수에는 int가 들어가서\n",
        "함수에서 str + int 가 되었기 때문\n",
        "str과 int는 + 연산을 할 수 없기 때문 "
      ],
      "metadata": {
        "id": "5je1SQH7PYNd"
      },
      "execution_count": null,
      "outputs": []
    },
    {
      "cell_type": "code",
      "source": [
        "# 215 o\n",
        "def print_with_smile(val) :\n",
        "  print(val,':D')"
      ],
      "metadata": {
        "id": "yNdc9wXHP5lt"
      },
      "execution_count": null,
      "outputs": []
    },
    {
      "cell_type": "code",
      "source": [
        "# 216 o\n",
        "def print_with_smile(val) :\n",
        "  print(val,':D')\n",
        "\n",
        "print_with_smile('안녕하세요')"
      ],
      "metadata": {
        "colab": {
          "base_uri": "https://localhost:8080/"
        },
        "id": "wsNLSsiAQUIW",
        "outputId": "4cd4f059-5dab-4c28-d85c-626fbf2a1097"
      },
      "execution_count": null,
      "outputs": [
        {
          "output_type": "stream",
          "name": "stdout",
          "text": [
            "안녕하세요 :D\n"
          ]
        }
      ]
    },
    {
      "cell_type": "code",
      "source": [
        "# 217 x\n",
        "def print_upper_price(val) :\n",
        "  val = val + val * 0.3 # print(val*1.3) 더 간략한 방식\n",
        "  print(val)"
      ],
      "metadata": {
        "id": "XEZprAvPQsug"
      },
      "execution_count": null,
      "outputs": []
    },
    {
      "cell_type": "code",
      "source": [
        "# 218 o\n",
        "def print_sum(a, b) :\n",
        "  print(a + b)"
      ],
      "metadata": {
        "colab": {
          "base_uri": "https://localhost:8080/"
        },
        "id": "hEoaT4U6RX5c",
        "outputId": "c0395089-4dd8-4769-d95b-1e3887570dec"
      },
      "execution_count": null,
      "outputs": [
        {
          "output_type": "stream",
          "name": "stdout",
          "text": [
            "7\n"
          ]
        }
      ]
    },
    {
      "cell_type": "code",
      "source": [
        "# 219 o\n",
        "def print_arithmetic_operation(a, b) :\n",
        "  print(f'{a} + {b} =',a+b)\n",
        "  print(f'{a} - {b} =',a-b)\n",
        "  print(f'{a} * {b} =',a*b)\n",
        "  print(f'{a} / {b} =',a/b)\n",
        "\n",
        "print_arithmetic_operation(3, 4)"
      ],
      "metadata": {
        "id": "O4wtZuqnSF-n"
      },
      "execution_count": null,
      "outputs": []
    },
    {
      "cell_type": "code",
      "source": [
        "# 220 *\n",
        "def print_max(a, b, c) :\n",
        "  if a >= b and a >= c :\n",
        "    print(a)\n",
        "  elif a < b and b >= c :\n",
        "    print(b)\n",
        "  else :\n",
        "    print(c)"
      ],
      "metadata": {
        "id": "CMLZtLHMSxmN"
      },
      "execution_count": null,
      "outputs": []
    },
    {
      "cell_type": "code",
      "source": [
        "# 220 better\n",
        "def print_max(a,b,c) :\n",
        "  max_val = 0\n",
        "  if a > max_val :\n",
        "    max_val = a\n",
        "  if b > max_val :\n",
        "    max_val = b\n",
        "  if c > max_val :\n",
        "    max_val = c\n",
        "  print(max_val)"
      ],
      "metadata": {
        "id": "RHfsgU6kZTZ6"
      },
      "execution_count": null,
      "outputs": []
    },
    {
      "cell_type": "code",
      "source": [
        "# 221 *\n",
        "def print_reverse(val) :\n",
        "  for i in range(1,len(val)+1) :\n",
        "    print(val[-i],end='')\n",
        "\n",
        "print_reverse('python')"
      ],
      "metadata": {
        "id": "_LK9YyXWUKeE"
      },
      "execution_count": null,
      "outputs": []
    },
    {
      "cell_type": "code",
      "source": [
        "# 221 better\n",
        "def print_reverse(string) :\n",
        "  print(string[::-1]) # 리스트를 역순으로 뽑아내는 방법, start와 end를 생략하고 step에 -1이 포인트!!\n",
        "\n",
        "print_reverse('python')"
      ],
      "metadata": {
        "colab": {
          "base_uri": "https://localhost:8080/"
        },
        "id": "3Bf84nXgaaro",
        "outputId": "d77852b7-339d-4f28-c101-9b40eba90cc6"
      },
      "execution_count": 5,
      "outputs": [
        {
          "output_type": "stream",
          "name": "stdout",
          "text": [
            "nohtyp\n"
          ]
        }
      ]
    },
    {
      "cell_type": "code",
      "source": [
        "# 222 o\n",
        "def print_score(val) :\n",
        "  print(sum(val)/len(val))\n",
        "\n",
        "print_score([1,2,3])"
      ],
      "metadata": {
        "colab": {
          "base_uri": "https://localhost:8080/"
        },
        "id": "i7D5T9bCWMG9",
        "outputId": "6abdf87c-30c3-4f5a-e1d6-03037e938a90"
      },
      "execution_count": null,
      "outputs": [
        {
          "output_type": "stream",
          "name": "stdout",
          "text": [
            "2.0\n"
          ]
        }
      ]
    },
    {
      "cell_type": "code",
      "source": [
        "# 223 o\n",
        "def print_even(val) :\n",
        "  for i in val :\n",
        "    if i % 2 == 0 :\n",
        "      print(i)\n",
        "\n",
        "print_even([1,3,2,10,12,11,15])"
      ],
      "metadata": {
        "colab": {
          "base_uri": "https://localhost:8080/"
        },
        "id": "tB3iD9kqW4bV",
        "outputId": "18fcf97f-efcd-4fc3-eae3-b91f9fc8d617"
      },
      "execution_count": null,
      "outputs": [
        {
          "output_type": "stream",
          "name": "stdout",
          "text": [
            "2\n",
            "10\n",
            "12\n"
          ]
        }
      ]
    },
    {
      "cell_type": "code",
      "source": [
        "# 224 o\n",
        "def print_keys(val) :\n",
        "  print(val.keys())\n",
        "\n",
        "print_keys({'이름':'김말똥','나이':30,'성별':0})"
      ],
      "metadata": {
        "colab": {
          "base_uri": "https://localhost:8080/"
        },
        "id": "79fiJWQPXuOA",
        "outputId": "c0741bb9-acd2-451c-e3c7-9762448ea057"
      },
      "execution_count": null,
      "outputs": [
        {
          "output_type": "stream",
          "name": "stdout",
          "text": [
            "dict_keys(['이름', '나이', '성별'])\n"
          ]
        }
      ]
    },
    {
      "cell_type": "code",
      "source": [
        "# 225 o\n",
        "my_dict = {\"10/26\" : [100, 130, 100, 100], \"10/27\" : [10, 12, 10, 11]}\n",
        "\n",
        "def print_value_by_key(ohlc, date) :\n",
        "  print(ohlc[date])\n",
        "\n",
        "print_value_by_key(my_dict, '10/26')"
      ],
      "metadata": {
        "colab": {
          "base_uri": "https://localhost:8080/"
        },
        "id": "yKKl1x2zNcjF",
        "outputId": "827e2c0e-f2ea-4da1-d561-8108b68043d7"
      },
      "execution_count": null,
      "outputs": [
        {
          "output_type": "stream",
          "name": "stdout",
          "text": [
            "[100, 130, 100, 100]\n"
          ]
        }
      ]
    },
    {
      "cell_type": "code",
      "source": [
        "# 226 *\n",
        "def print_5xn(string) :\n",
        "  for i in range(len(string)) :\n",
        "    if (i+1) % 5 == 0 :\n",
        "      print(string[i])\n",
        "    else :\n",
        "      print(string[i],end='')\n",
        "\n",
        "print_5xn('아이엠어보이유알어걸')"
      ],
      "metadata": {
        "id": "1XALsuuVOUz9"
      },
      "execution_count": null,
      "outputs": []
    },
    {
      "cell_type": "code",
      "source": [
        "# 226 better\n",
        "def print_5xn(line):\n",
        " chunk_num = int(len(line) / 5)\n",
        " for x in range(chunk_num + 1) :\n",
        "  print(line[x * 5: x * 5 + 5])\n",
        "\n",
        "print_5xn('아이엠어보이유알어걸')"
      ],
      "metadata": {
        "id": "azEWIWcEcPtN"
      },
      "execution_count": null,
      "outputs": []
    },
    {
      "cell_type": "code",
      "source": [
        "# 227 o\n",
        "def print_mxn(string, n) :\n",
        "  for i in range(len(string)) :\n",
        "    if (i+1) % n == 0 :\n",
        "      print(string[i])\n",
        "    else :\n",
        "      print(string[i],end='')\n",
        "\n",
        "print_mxn('아이엠어보이유알어걸',3)"
      ],
      "metadata": {
        "colab": {
          "base_uri": "https://localhost:8080/"
        },
        "id": "C1cN7IjkQesi",
        "outputId": "1124beb4-0ab4-47e3-ee00-f8d2d8e0a12d"
      },
      "execution_count": null,
      "outputs": [
        {
          "output_type": "stream",
          "name": "stdout",
          "text": [
            "아이엠\n",
            "어보이\n",
            "유알어\n",
            "걸"
          ]
        }
      ]
    },
    {
      "cell_type": "code",
      "source": [
        "# 228 x\n",
        "def calc_monthly_salary(annual_salary) :\n",
        "  print(int(annual_salary//12))\n",
        "\n",
        "calc_monthly_salary(12000000.5)"
      ],
      "metadata": {
        "colab": {
          "base_uri": "https://localhost:8080/"
        },
        "id": "3LR2so7lRAhO",
        "outputId": "c15a5ad5-d032-4c02-ba5f-a4328beea1a1"
      },
      "execution_count": 13,
      "outputs": [
        {
          "output_type": "stream",
          "name": "stdout",
          "text": [
            "1000000\n"
          ]
        }
      ]
    },
    {
      "cell_type": "code",
      "source": [
        "# 229 o\n",
        "왼쪽 : 100\n",
        "오른쪽 : 200"
      ],
      "metadata": {
        "id": "QY7bvpliSF2p"
      },
      "execution_count": null,
      "outputs": []
    },
    {
      "cell_type": "code",
      "source": [
        "# 230 o\n",
        "왼쪽 : 200\n",
        "오른쪽 : 100"
      ],
      "metadata": {
        "colab": {
          "base_uri": "https://localhost:8080/"
        },
        "id": "qr8dMLq2SQT4",
        "outputId": "b784c6da-602c-4806-ca60-a742ac0f2507"
      },
      "execution_count": null,
      "outputs": [
        {
          "output_type": "stream",
          "name": "stdout",
          "text": [
            "왼쪽: 200\n",
            "오른쪽: 100\n"
          ]
        }
      ]
    }
  ]
}