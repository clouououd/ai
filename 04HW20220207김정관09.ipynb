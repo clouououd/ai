{
  "nbformat": 4,
  "nbformat_minor": 0,
  "metadata": {
    "colab": {
      "name": "04HW20220207김정관09.ipynb",
      "provenance": [],
      "authorship_tag": "ABX9TyNQDg8gxwld6KSP+H8dFXs9",
      "include_colab_link": true
    },
    "kernelspec": {
      "name": "python3",
      "display_name": "Python 3"
    },
    "language_info": {
      "name": "python"
    }
  },
  "cells": [
    {
      "cell_type": "markdown",
      "metadata": {
        "id": "view-in-github",
        "colab_type": "text"
      },
      "source": [
        "<a href=\"https://colab.research.google.com/github/clouououd/ai/blob/main/04HW20220207%EA%B9%80%EC%A0%95%EA%B4%8009.ipynb\" target=\"_parent\"><img src=\"https://colab.research.google.com/assets/colab-badge.svg\" alt=\"Open In Colab\"/></a>"
      ]
    },
    {
      "cell_type": "code",
      "execution_count": null,
      "metadata": {
        "id": "EQAHDmOxOH4z"
      },
      "outputs": [],
      "source": [
        "# 211\n",
        "안녕\n",
        "Hi"
      ]
    },
    {
      "cell_type": "code",
      "source": [
        "# 212\n",
        "7\n",
        "15"
      ],
      "metadata": {
        "id": "86Sz7_olOyaV"
      },
      "execution_count": null,
      "outputs": []
    },
    {
      "cell_type": "code",
      "source": [
        "# 213\n",
        "함수라는 함수에 매개변수가 존재하나 함수 사용시에 input값을 넣지 않았기 때문"
      ],
      "metadata": {
        "id": "iiTtRdusO2Hc"
      },
      "execution_count": null,
      "outputs": []
    },
    {
      "cell_type": "code",
      "source": [
        "# 214\n",
        "a라는 매개변수에는 str가 b라는 매개변수에는 int가 들어가서\n",
        "함수에서 str + int 가 되었기 때문\n",
        "str과 int는 + 연산을 할 수 없기 때문 "
      ],
      "metadata": {
        "id": "5je1SQH7PYNd"
      },
      "execution_count": null,
      "outputs": []
    },
    {
      "cell_type": "code",
      "source": [
        "# 215\n",
        "def print_with_smile(val) :\n",
        "  print(val,':D')"
      ],
      "metadata": {
        "id": "yNdc9wXHP5lt"
      },
      "execution_count": null,
      "outputs": []
    },
    {
      "cell_type": "code",
      "source": [
        "# 216\n",
        "def print_with_smile(val) :\n",
        "  print(val,':D')\n",
        "\n",
        "print_with_smile('안녕하세요')"
      ],
      "metadata": {
        "colab": {
          "base_uri": "https://localhost:8080/"
        },
        "id": "wsNLSsiAQUIW",
        "outputId": "4cd4f059-5dab-4c28-d85c-626fbf2a1097"
      },
      "execution_count": 2,
      "outputs": [
        {
          "output_type": "stream",
          "name": "stdout",
          "text": [
            "안녕하세요 :D\n"
          ]
        }
      ]
    },
    {
      "cell_type": "code",
      "source": [
        "# 217\n",
        "def print_upper_price(val) :\n",
        "  val = val + val * 0.3\n",
        "  print(val)"
      ],
      "metadata": {
        "id": "XEZprAvPQsug"
      },
      "execution_count": null,
      "outputs": []
    },
    {
      "cell_type": "code",
      "source": [
        "# 218\n",
        "def print_sum(a, b) :\n",
        "  print(a + b)"
      ],
      "metadata": {
        "colab": {
          "base_uri": "https://localhost:8080/"
        },
        "id": "hEoaT4U6RX5c",
        "outputId": "c0395089-4dd8-4769-d95b-1e3887570dec"
      },
      "execution_count": 7,
      "outputs": [
        {
          "output_type": "stream",
          "name": "stdout",
          "text": [
            "7\n"
          ]
        }
      ]
    },
    {
      "cell_type": "code",
      "source": [
        "# 219\n",
        "def print_arithmetic_operation(a, b) :\n",
        "  print(f'{a} + {b} =',a+b)\n",
        "  print(f'{a} - {b} =',a-b)\n",
        "  print(f'{a} * {b} =',a*b)\n",
        "  print(f'{a} / {b} =',a/b)\n",
        "\n",
        "print_arithmetic_operation(3, 4)"
      ],
      "metadata": {
        "id": "O4wtZuqnSF-n"
      },
      "execution_count": null,
      "outputs": []
    },
    {
      "cell_type": "code",
      "source": [
        "# 220\n",
        "def print_max(a, b, c) :\n",
        "  if a >= b and a >= c :\n",
        "    print(a)\n",
        "  elif a < b and b >= c :\n",
        "    print(b)\n",
        "  else :\n",
        "    print(c)"
      ],
      "metadata": {
        "id": "CMLZtLHMSxmN"
      },
      "execution_count": null,
      "outputs": []
    },
    {
      "cell_type": "code",
      "source": [
        "# 221\n",
        "def print_reverse(val) :\n",
        "  for i in range(1,len(val)+1) :\n",
        "    print(val[-i],end='')\n",
        "\n",
        "print_reverse('python')"
      ],
      "metadata": {
        "colab": {
          "base_uri": "https://localhost:8080/"
        },
        "id": "_LK9YyXWUKeE",
        "outputId": "3558411b-4f7e-4533-a2d2-e2d126a9d61c"
      },
      "execution_count": 23,
      "outputs": [
        {
          "output_type": "stream",
          "name": "stdout",
          "text": [
            "nohtyp"
          ]
        }
      ]
    },
    {
      "cell_type": "code",
      "source": [
        "# 222\n",
        "def print_score(val) :\n",
        "  print(sum(val)/len(val))\n",
        "\n",
        "print_score([1,2,3])"
      ],
      "metadata": {
        "colab": {
          "base_uri": "https://localhost:8080/"
        },
        "id": "i7D5T9bCWMG9",
        "outputId": "6abdf87c-30c3-4f5a-e1d6-03037e938a90"
      },
      "execution_count": 24,
      "outputs": [
        {
          "output_type": "stream",
          "name": "stdout",
          "text": [
            "2.0\n"
          ]
        }
      ]
    },
    {
      "cell_type": "code",
      "source": [
        "# 223\n",
        "def print_even(val) :\n",
        "  for i in val :\n",
        "    if i % 2 == 0 :\n",
        "      print(i)\n",
        "\n",
        "print_even([1,3,2,10,12,11,15])"
      ],
      "metadata": {
        "colab": {
          "base_uri": "https://localhost:8080/"
        },
        "id": "tB3iD9kqW4bV",
        "outputId": "18fcf97f-efcd-4fc3-eae3-b91f9fc8d617"
      },
      "execution_count": 25,
      "outputs": [
        {
          "output_type": "stream",
          "name": "stdout",
          "text": [
            "2\n",
            "10\n",
            "12\n"
          ]
        }
      ]
    },
    {
      "cell_type": "code",
      "source": [
        ""
      ],
      "metadata": {
        "id": "79fiJWQPXuOA"
      },
      "execution_count": null,
      "outputs": []
    }
  ]
}