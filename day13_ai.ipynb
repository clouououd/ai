{
  "nbformat": 4,
  "nbformat_minor": 0,
  "metadata": {
    "colab": {
      "name": "day13_ai.ipynb",
      "provenance": [],
      "authorship_tag": "ABX9TyPkXQRZLmgChGryLV3tpmiX",
      "include_colab_link": true
    },
    "kernelspec": {
      "name": "python3",
      "display_name": "Python 3"
    },
    "language_info": {
      "name": "python"
    }
  },
  "cells": [
    {
      "cell_type": "markdown",
      "metadata": {
        "id": "view-in-github",
        "colab_type": "text"
      },
      "source": [
        "<a href=\"https://colab.research.google.com/github/clouououd/ai/blob/main/day13_ai.ipynb\" target=\"_parent\"><img src=\"https://colab.research.google.com/assets/colab-badge.svg\" alt=\"Open In Colab\"/></a>"
      ]
    },
    {
      "cell_type": "code",
      "execution_count": null,
      "metadata": {
        "colab": {
          "base_uri": "https://localhost:8080/"
        },
        "id": "HLhGFZ3F2agw",
        "outputId": "c539b727-4209-48d7-9f91-22cd7d4795f7"
      },
      "outputs": [
        {
          "output_type": "stream",
          "name": "stdout",
          "text": [
            "number :1\n",
            "number :1\n",
            "number :2\n",
            "number :3\n",
            "number :4\n",
            "number :5\n",
            "The las number you entered was a 5\n"
          ]
        }
      ],
      "source": [
        "# Ask the user to enter a number. Keep asking until they enter a value over 5\n",
        "# and then display the message \"The last number you entered was a [number]\"\n",
        "# and stop the program.\n",
        "no = 0\n",
        "\n",
        "while no < 5 :\n",
        "  no = int(input('number :'))\n",
        "\n",
        "print('The las number you entered was a %d.'%no)"
      ]
    },
    {
      "cell_type": "code",
      "source": [
        "# Ask the user to enter a number and then enter another number.\n",
        "# Add there two numbers together and then ask\n",
        "# if they want to add another number. If they enter 'y', ask them to enter another numbers until\n",
        "# they do not answer 'y'. Once the loop has stopped.\n",
        "# display the total.\n",
        "\n",
        "no1 = int(input('number1 :'))\n",
        "no2 = int(input('number2 :'))\n",
        "\n",
        "sum = no1 + no2\n",
        "\n",
        "while True :\n",
        "  q = input('Do you want to add the other one?(y/n)')\n",
        "  if q == 'n' :\n",
        "    print(sum)\n",
        "    break\n",
        "  no3 = int(input('number2 :'))\n",
        "  sum += no3\n"
      ],
      "metadata": {
        "colab": {
          "base_uri": "https://localhost:8080/"
        },
        "id": "YM_jJ7LH4-1G",
        "outputId": "10c6869d-837b-4b66-82f0-2c00fab18f55"
      },
      "execution_count": null,
      "outputs": [
        {
          "output_type": "stream",
          "name": "stdout",
          "text": [
            "number1 :3\n",
            "number2 :4\n",
            "Do you want to add the other one?(y/n)y\n",
            "number2 :5\n",
            "Do you want to add the other one?(y/n)n\n",
            "12\n"
          ]
        }
      ]
    },
    {
      "cell_type": "code",
      "source": [
        "# Ask for the name of somebody the user wants to invite to a party.\n",
        "# After this. display the message '[name] has now been invited'\n",
        "# and add 1 to the count. Then as if they want to invite somebody else.\n",
        "# Keep repeating this until they no longer want to invite anyone else to the party\n",
        "# and then display how many people they have coming to the party.\n",
        "\n",
        "count = 0\n",
        "q = 'y'\n",
        "\n",
        "while q == 'y' :\n",
        "  name = input('What is his(her) name :')\n",
        "  print('%s has now been invited.'%name)\n",
        "  count += 1\n",
        "  q = input('Do you wnat to invite somebody else?(y/n)')\n",
        "\n",
        "print('%d people were invied.'%count)"
      ],
      "metadata": {
        "colab": {
          "base_uri": "https://localhost:8080/"
        },
        "id": "YQJa-mli8wJi",
        "outputId": "c0c501f1-f7cc-4d51-8998-457f35950ae9"
      },
      "execution_count": null,
      "outputs": [
        {
          "output_type": "stream",
          "name": "stdout",
          "text": [
            "What is his(her) name :jo\n",
            "jo has now been invited.\n",
            "Do you wnat to invite somebody else?(y/n)to\n",
            "1 people were invied.\n"
          ]
        }
      ]
    },
    {
      "cell_type": "code",
      "source": [
        "# Create a variable called compnum and set the value to 50.\n",
        "# Ask the user to enter a number\n",
        "# while their guess is not the same as the campnum value,\n",
        "# tell them if their guess is too low or too high and ask them to have another guess.\n",
        "# If they enter the same value as compnum,\n",
        "# display the message 'Well done. you took [count] apptmpts'.\n",
        "import random\n",
        "\n",
        "campnum = random.randrange(1,100) # 범위 안의 데이터 중 random으로 한가지 데이터를 뽑아낸다\n",
        "num = ''\n",
        "count = 0\n",
        "\n",
        "while campnum != num :\n",
        "  num = int(input(\"Guess the number>> \"))\n",
        "  if num > campnum :\n",
        "    print(\"It's too high.\")\n",
        "  elif num < campnum :\n",
        "    print(\"It's too low.\")\n",
        "  count += 1\n",
        "\n",
        "print(f'Well done. you took {count} apptmpts.')  "
      ],
      "metadata": {
        "id": "s11BASfH_xrc"
      },
      "execution_count": null,
      "outputs": []
    },
    {
      "cell_type": "code",
      "source": [
        "# Using the song '10 green bottles', display the lines\n",
        "\n",
        "# 'There are [num] green bottles hanging on the wall,\n",
        "# [num] green bottles hanging on the wall ,\n",
        "# and if 1 green bottle shold accientally fall\n",
        "\n",
        "# Then ask the question 'How many green bottles will be hanging on the wall?'\n",
        "# If the user answer correltly, display the message\n",
        "# 'There will be [num] green bottles hanging on the wall'\n",
        "# If they answer incorrectily, display the message\n",
        "# 'NO try again' until ghey get if right.\n",
        "# When the number of green bottles gets down to 0.\n",
        "# display the message 'There are no more green bottles hanging on the wall.'\n",
        "\n",
        "num = 10\n",
        "fnum = 0\n",
        "\n",
        "while num != 0 :\n",
        "  print(f'There are {num} bottles on the wall.')\n",
        "  fnum = random.randrange(1,num+1)\n",
        "  num = num - fnum\n",
        "  q = int(input(f'{fnum} bottles were fall.\\nThen, how many green bottles will be hanging on the wall?'))\n",
        "  while q != num :\n",
        "    print('NO try again.')\n",
        "    q = int(input('How many green bottles will be hanging on the wall?'))\n",
        "  print(f'There will be {num} green bottles hanging on the wall')\n",
        "\n",
        "\n",
        "print('There are no more green bottles hanging on the wall.')"
      ],
      "metadata": {
        "id": "akjGQFqxHaFO"
      },
      "execution_count": null,
      "outputs": []
    },
    {
      "cell_type": "code",
      "source": [
        "import random\n",
        "num = random.random()\n",
        "print(num)\n",
        "\n",
        "# random floating number between 0 and 1"
      ],
      "metadata": {
        "colab": {
          "base_uri": "https://localhost:8080/"
        },
        "id": "3xkijUfQS1en",
        "outputId": "c1ba9c20-559e-4ba8-b121-660f02a30b52"
      },
      "execution_count": null,
      "outputs": [
        {
          "output_type": "stream",
          "name": "stdout",
          "text": [
            "0.45587335473022594\n"
          ]
        }
      ]
    },
    {
      "cell_type": "code",
      "source": [
        "num = random.randint(0,9)\n",
        "print(num)\n",
        "\n",
        "# Selects a random whole number between 0 and 9(inclusive)"
      ],
      "metadata": {
        "colab": {
          "base_uri": "https://localhost:8080/"
        },
        "id": "ztXnO5YQTEbX",
        "outputId": "217850bd-24ad-47ac-ac7e-6de3f16b2a91"
      },
      "execution_count": null,
      "outputs": [
        {
          "output_type": "stream",
          "name": "stdout",
          "text": [
            "9\n"
          ]
        }
      ]
    },
    {
      "cell_type": "code",
      "source": [
        "# Picks a random number between the numbers 0 and 100(inclusive) in steps of five\n",
        "# random.randrange(start, end, step)\n",
        "\n",
        "num = random.randrange(0, 100 , 5)\n",
        "print(num)"
      ],
      "metadata": {
        "colab": {
          "base_uri": "https://localhost:8080/"
        },
        "id": "U1PY2iO7TZrT",
        "outputId": "ec8afc56-8f5d-4bdb-d09b-b2c42f236fc4"
      },
      "execution_count": null,
      "outputs": [
        {
          "output_type": "stream",
          "name": "stdout",
          "text": [
            "80\n"
          ]
        }
      ]
    },
    {
      "cell_type": "code",
      "source": [
        "# Picks a random value from the list/tuple\n",
        "# *index로 찾는 방식\n",
        "\n",
        "color = random.choice(['red','black','blue','white'])\n",
        "print(color)"
      ],
      "metadata": {
        "id": "1ARpjt8pULPH"
      },
      "execution_count": null,
      "outputs": []
    },
    {
      "cell_type": "code",
      "source": [
        "# Randomly choose either heads or tails('h'or't')\n",
        "# Ask the user to make their choice.\n",
        "# If the choice is the same as the randomly selecete value,\n",
        "# display the message 'You Win', otherwise display 'Bad Luck'\n",
        "# At the end, tell the user if the computer selected heads or tails\n",
        "\n",
        "rc = random.choice(['h','t'])\n",
        "c = input('Your choice?(h/t)')\n",
        "\n",
        "if rc == c :\n",
        "  print('You Win')\n",
        "else :\n",
        "  print('Bad Luck')"
      ],
      "metadata": {
        "colab": {
          "base_uri": "https://localhost:8080/"
        },
        "id": "1PJTGOQiVMtr",
        "outputId": "c61df7c5-e34d-4a65-a642-e800c5b7aa4e"
      },
      "execution_count": null,
      "outputs": [
        {
          "output_type": "stream",
          "name": "stdout",
          "text": [
            "Your choice?(h/t)h\n",
            "Bad Luck\n"
          ]
        }
      ]
    },
    {
      "cell_type": "code",
      "source": [
        "# Makes a maths quiz that asks five questions\n",
        "# by randomly generating two whole numbers to make the question.\n",
        "# ( [num1 + num2] )\n",
        "# Ask the user to enter the answer.\n",
        "# If they get it right add a point to their score.\n",
        "# At the end of the quiz, tell them how many they got correct out of five.\n",
        "score = 0\n",
        "\n",
        "for i in range(5) :\n",
        "  num1 = random.randrange(100)\n",
        "  num2 = random.randrange(100)\n",
        "  q = int(input(f'{num1} + {num2} = '))\n",
        "  if q == (num1+num2) :\n",
        "    score += 1\n",
        "\n",
        "print('You scored %d out of 5'%score)"
      ],
      "metadata": {
        "colab": {
          "base_uri": "https://localhost:8080/"
        },
        "id": "WHn7xlIBXPYU",
        "outputId": "42c51743-306e-4519-fb6d-3ad7ed7fd12c"
      },
      "execution_count": null,
      "outputs": [
        {
          "output_type": "stream",
          "name": "stdout",
          "text": [
            "86 + 99 = 185\n",
            "29 + 65 = 8\n",
            "38 + 48 = 8\n",
            "81 + 95 = 8\n",
            "45 + 90 = 8\n",
            "You scored 1 out of 5\n"
          ]
        }
      ]
    },
    {
      "cell_type": "code",
      "source": [
        "# Display five colors and ask the user to pick one.\n",
        "# If they pick the same as the program has chose,\n",
        "# say 'Well done', otherwise display a witty answer which invelves\n",
        "# the correct colors.... like....'I bet you are Green with envy.'\n",
        "# or 'You are probably felling BLUE right now'.\n",
        "# Ask them to guess again : if they have still not got it right,\n",
        "# keep giving them the same clue and ask the user to enter a color\n",
        "# until they guess it correctly.\n",
        "import random\n",
        "\n",
        "print('red, orange, yellow, green, blue')\n",
        "pec = input('What\\'s your choice?')\n",
        "\n",
        "prc = random.choice(['red', 'orange', 'yellow', 'green', 'blue'])\n",
        "\n",
        "while pec != prc :\n",
        "  if prc == 'red' :\n",
        "    print('hint red') \n",
        "  elif prc == 'orange' :\n",
        "    print('hint orange') \n",
        "  elif prc == 'yellow' :\n",
        "    print('hint yellow') \n",
        "  elif prc == 'green' :\n",
        "    print('hint green') \n",
        "  else : # prc == blue\n",
        "    print('hint blue') \n",
        "    \n",
        "  print('red, orange, yellow, green, blue')\n",
        "  pec = input(\"Let's try again. What's your choice?\")\n",
        "\n",
        "print('Well done.') \n"
      ],
      "metadata": {
        "colab": {
          "base_uri": "https://localhost:8080/"
        },
        "id": "thJfIYIhbEY8",
        "outputId": "74c65689-a685-4ab9-ab6f-ab12fb5cca38"
      },
      "execution_count": 2,
      "outputs": [
        {
          "output_type": "stream",
          "name": "stdout",
          "text": [
            "red, orange, yellow, green, blue\n",
            "What's your choice?red\n",
            "hint yellow\n",
            "red, orange, yellow, green, blue\n",
            "Let's try again. What's your choice?yellow\n",
            "Well done.\n"
          ]
        }
      ]
    }
  ]
}