@@ -5,7 +5,7 @@
    "colab": {
      "name": "08HW20200214김정관09.ipynb",
      "provenance": [],
      "authorship_tag": "ABX9TyMnVrSI51K6saELNc+ffXAG",
      "authorship_tag": "ABX9TyMbjV2PcQgdjTp9F96Ne8i1",
      "include_colab_link": true
    },
    "kernelspec": {
@@ -35,26 +35,262 @@
      },
      "outputs": [],
      "source": [
        "476 a\n",
        "477 c\n",
        "478 a\n",
        "479 b\n",
        "480 c\n",
        "481 c\n",
        "482 c\n",
        "483 b\n",
        "484 d\n",
        "485 b\n",
        "486 a\n",
        "487 d\n",
        "488 d\n",
        "489 c\n",
        "490 b\n",
        "491 b\n",
        "492 a\n",
        "493 c\n",
        "494 a\n",
        "495 d"
        "476 a b\n",
        "477 c \n",
        "478 a c \n",
        "479 b \n",
        "480 c \n",
        "481 c b\n",
        "482 c d\n",
        "483 b c\n",
        "484 d \n",
        "485 b c\n",
        "486 a \n",
        "487 d \n",
        "488 d \n",
        "489 c \n",
        "490 b \n",
        "491 b a\n",
        "492 a \n",
        "493 c \n",
        "494 a \n",
        "495 d "
      ]
    },
    {
      "cell_type": "code",
      "source": [
        "# 476\n",
        "def xyz() :\n",
        "  x = 40\n",
        "  abc()\n",
        "  print(x)\n",
        "\n",
        "def abc() :\n",
        "  a = 32\n",
        "  x = 10\n",
        "xyz()"
      ],
      "metadata": {
        "colab": {
          "base_uri": "https://localhost:8080/"
        },
        "id": "5qFVqmJ2b72X",
        "outputId": "27b22281-ed5b-4c58-aec2-149ed867c0e6"
      },
      "execution_count": 1,
      "outputs": [
        {
          "output_type": "stream",
          "name": "stdout",
          "text": [
            "40\n"
          ]
        }
      ]
    },
    {
      "cell_type": "code",
      "source": [
        "# 478\n",
        "def abc() :\n",
        "  print(x)\n",
        "\n",
        "x= 10\n",
        "\n",
        "abc()"
      ],
      "metadata": {
        "colab": {
          "base_uri": "https://localhost:8080/"
        },
        "id": "t1uOGroGb6uk",
        "outputId": "8d153d6f-2d1e-4fb6-f404-54459d2fa459"
      },
      "execution_count": 2,
      "outputs": [
        {
          "output_type": "stream",
          "name": "stdout",
          "text": [
            "10\n"
          ]
        }
      ]
    },
    {
      "cell_type": "code",
      "source": [
        "# 481\n",
        "def abc() :\n",
        "  global x\n",
        "  x = 23\n",
        "\n",
        "x = 10\n",
        "\n",
        "abc()\n",
        "print(x)"
      ],
      "metadata": {
        "colab": {
          "base_uri": "https://localhost:8080/"
        },
        "id": "BTGI-7utcAeM",
        "outputId": "0d0c48f7-d38e-4bd4-db1a-6a192307d116"
      },
      "execution_count": 3,
      "outputs": [
        {
          "output_type": "stream",
          "name": "stdout",
          "text": [
            "23\n"
          ]
        }
      ]
    },
    {
      "cell_type": "code",
      "source": [
        "# 482\n",
        "def abc() :\n",
        "  print(x)\n",
        "  x = 10\n",
        "\n",
        "abc()\n",
        "\n",
        "x = 20"
      ],
      "metadata": {
        "colab": {
          "base_uri": "https://localhost:8080/",
          "height": 376
        },
        "id": "D6j2y2fzcD7T",
        "outputId": "5f3f1f9c-49a0-473d-f8a5-1807b82b6d8d"
      },
      "execution_count": 5,
      "outputs": [
        {
          "output_type": "error",
          "ename": "UnboundLocalError",
          "evalue": "ignored",
          "traceback": [
            "\u001b[0;31m---------------------------------------------------------------------------\u001b[0m",
            "\u001b[0;31mUnboundLocalError\u001b[0m                         Traceback (most recent call last)",
            "\u001b[0;32m<ipython-input-5-0c53cc10a68c>\u001b[0m in \u001b[0;36m<module>\u001b[0;34m()\u001b[0m\n\u001b[1;32m      4\u001b[0m   \u001b[0mx\u001b[0m \u001b[0;34m=\u001b[0m \u001b[0;36m10\u001b[0m\u001b[0;34m\u001b[0m\u001b[0;34m\u001b[0m\u001b[0m\n\u001b[1;32m      5\u001b[0m \u001b[0;34m\u001b[0m\u001b[0m\n\u001b[0;32m----> 6\u001b[0;31m \u001b[0mabc\u001b[0m\u001b[0;34m(\u001b[0m\u001b[0;34m)\u001b[0m\u001b[0;34m\u001b[0m\u001b[0;34m\u001b[0m\u001b[0m\n\u001b[0m\u001b[1;32m      7\u001b[0m \u001b[0;34m\u001b[0m\u001b[0m\n\u001b[1;32m      8\u001b[0m \u001b[0mx\u001b[0m \u001b[0;34m=\u001b[0m \u001b[0;36m20\u001b[0m\u001b[0;34m\u001b[0m\u001b[0;34m\u001b[0m\u001b[0m\n",
            "\u001b[0;32m<ipython-input-5-0c53cc10a68c>\u001b[0m in \u001b[0;36mabc\u001b[0;34m()\u001b[0m\n\u001b[1;32m      1\u001b[0m \u001b[0;31m# 482\u001b[0m\u001b[0;34m\u001b[0m\u001b[0;34m\u001b[0m\u001b[0;34m\u001b[0m\u001b[0m\n\u001b[1;32m      2\u001b[0m \u001b[0;32mdef\u001b[0m \u001b[0mabc\u001b[0m\u001b[0;34m(\u001b[0m\u001b[0;34m)\u001b[0m \u001b[0;34m:\u001b[0m\u001b[0;34m\u001b[0m\u001b[0;34m\u001b[0m\u001b[0m\n\u001b[0;32m----> 3\u001b[0;31m   \u001b[0mprint\u001b[0m\u001b[0;34m(\u001b[0m\u001b[0mx\u001b[0m\u001b[0;34m)\u001b[0m\u001b[0;34m\u001b[0m\u001b[0;34m\u001b[0m\u001b[0m\n\u001b[0m\u001b[1;32m      4\u001b[0m   \u001b[0mx\u001b[0m \u001b[0;34m=\u001b[0m \u001b[0;36m10\u001b[0m\u001b[0;34m\u001b[0m\u001b[0;34m\u001b[0m\u001b[0m\n\u001b[1;32m      5\u001b[0m \u001b[0;34m\u001b[0m\u001b[0m\n",
            "\u001b[0;31mUnboundLocalError\u001b[0m: local variable 'x' referenced before assignment"
          ]
        }
      ]
    },
    {
      "cell_type": "code",
      "source": [
        "# 483\n",
        "def abc(x) :\n",
        "  return 20/x\n",
        "\n",
        "print(abc(4))\n",
        "# int / int = float"
      ],
      "metadata": {
        "colab": {
          "base_uri": "https://localhost:8080/"
        },
        "id": "dsuWj_0ecCeD",
        "outputId": "59621b5f-1020-43c5-a774-c8adfe201962"
      },
      "execution_count": 6,
      "outputs": [
        {
          "output_type": "stream",
          "name": "stdout",
          "text": [
            "5.0\n"
          ]
        }
      ]
    },
    {
      "cell_type": "code",
      "source": [
        "# 485\n",
        "def abc(x) :\n",
        "  try :\n",
        "    print(20/x)\n",
        "  except :\n",
        "    print('Not a valid argument', end=' ')\n",
        "\n",
        "print(abc(0))\n",
        "# print(pint()) 다음과 같이 print로 print를 시도하는 경우 안쪽 print의 결과값이 출력되고 None값이 출력된다"
      ],
      "metadata": {
        "colab": {
          "base_uri": "https://localhost:8080/"
        },
        "id": "K5lOnyzLcGXi",
        "outputId": "5cd61521-f48f-487f-b505-70bc13ba2feb"
      },
      "execution_count": 11,
      "outputs": [
        {
          "output_type": "stream",
          "name": "stdout",
          "text": [
            "Not a valid argument None\n"
          ]
        }
      ]
    },
    {
      "cell_type": "code",
      "source": [
        "print(print(123))"
      ],
      "metadata": {
        "colab": {
          "base_uri": "https://localhost:8080/"
        },
        "id": "NoZ6Alzvgbel",
        "outputId": "84aa63da-4497-4d0e-f6de-321218567ba3"
      },
      "execution_count": 14,
      "outputs": [
        {
          "output_type": "stream",
          "name": "stdout",
          "text": [
            "123\n",
            "None\n"
          ]
        }
      ]
    },
    {
      "cell_type": "code",
      "source": [
        "# 491\n",
        "x = ['Today', 'nice', 'day']\n",
        "print(x[0] + ' is a ' + x[1] + x[2])"
      ],
      "metadata": {
        "colab": {
          "base_uri": "https://localhost:8080/"
        },
        "id": "hH35bTW4cHVf",
        "outputId": "89744359-5de1-4a96-ba2a-43ff7aad22d1"
      },
      "execution_count": 16,
      "outputs": [
        {
          "output_type": "stream",
          "name": "stdout",
          "text": [
            "Today is a niceday\n"
          ]
        }
      ]
    },
    {
@@ -111,7 +347,7 @@
        "id": "DOOWR2pmZkQw",
        "outputId": "0e1fd9d8-30b9-406e-e954-8a8ccf6772dc"
      },
      "execution_count": 10,
      "execution_count": null,
      "outputs": [
        {
          "output_type": "stream",
