{
 "cells": [
  {
   "cell_type": "code",
   "execution_count": 4,
   "id": "877d8699",
   "metadata": {},
   "outputs": [],
   "source": [
    "from tkinter import *\n",
    "\n",
    "def Call() :\n",
    "  msg = Label(window, text='You pressed the button') # text=버튼을 눌렀을때 나오는 메세지\n",
    "  msg.place(x=30, y=50)\n",
    "  button['bg']='Green' # 버튼이 눌러졌을 때의 배경색\n",
    "  button['fg']='white'# 버튼이 눌러졌을 때의 글자색\n",
    "\n",
    "window =Tk() \n",
    "window.geometry('400x110') # 창 크기\n",
    "button=Button(text='Press me', command = Call)\n",
    "button.place(x=30, y=20, width=200, height=25) # 버튼 위치\n",
    "window.mainloop()"
   ]
  }
 ],
 "metadata": {
  "kernelspec": {
   "display_name": "Python 3 (ipykernel)",
   "language": "python",
   "name": "python3"
  },
  "language_info": {
   "codemirror_mode": {
    "name": "ipython",
    "version": 3
   },
   "file_extension": ".py",
   "mimetype": "text/x-python",
   "name": "python",
   "nbconvert_exporter": "python",
   "pygments_lexer": "ipython3",
   "version": "3.9.7"
  }
 },
 "nbformat": 4,
 "nbformat_minor": 5
}
