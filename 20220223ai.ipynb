{
  "nbformat": 4,
  "nbformat_minor": 0,
  "metadata": {
    "colab": {
      "name": "20220223ai.ipynb",
      "provenance": [],
      "collapsed_sections": [],
      "authorship_tag": "ABX9TyMKEZlOYkIRG4UAc30V6RIy",
      "include_colab_link": true
    },
    "kernelspec": {
      "name": "python3",
      "display_name": "Python 3"
    },
    "language_info": {
      "name": "python"
    }
  },
  "cells": [
    {
      "cell_type": "markdown",
      "metadata": {
        "id": "view-in-github",
        "colab_type": "text"
      },
      "source": [
        "<a href=\"https://colab.research.google.com/github/clouououd/ai/blob/main/20220223ai.ipynb\" target=\"_parent\"><img src=\"https://colab.research.google.com/assets/colab-badge.svg\" alt=\"Open In Colab\"/></a>"
      ]
    },
    {
      "cell_type": "code",
      "execution_count": 8,
      "metadata": {
        "colab": {
          "base_uri": "https://localhost:8080/"
        },
        "id": "33FycDbiNyAu",
        "outputId": "6d98105c-bd6a-411c-a4d2-4af20564f343"
      },
      "outputs": [
        {
          "output_type": "stream",
          "name": "stdout",
          "text": [
            "[1, 1, 2, 3, 5, 8, 13, 21, 34]\n"
          ]
        }
      ],
      "source": [
        "# Fibonacci\n",
        "\n",
        "# 1\n",
        "\n",
        "def fib(n) : # n번째 피보나치 수열 값을 찾는 함수\n",
        "  a, b = 1, 1\n",
        "  if n== 1 or n== 2 : # 1번째와 2번째의 값은 1\n",
        "    return 1\n",
        "  for i in range(1,n) : # 1번째부터 n번째까지\n",
        "    a, b = b, a+b\n",
        "  return a\n",
        "\n",
        "print([fib(i) for i in range(1,10)])"
      ]
    },
    {
      "cell_type": "code",
      "source": [
        "# 2\n",
        "\n",
        "def fib(n) :\n",
        "  if n == 1 or n == 2 :\n",
        "    return 1\n",
        "  else :\n",
        "    return fib(n-1) + fib(n-2)\n",
        "\n",
        "print([fib(i) for i in range(1,10)])"
      ],
      "metadata": {
        "colab": {
          "base_uri": "https://localhost:8080/"
        },
        "id": "p0ux-QTNQltQ",
        "outputId": "b0bc662f-f606-4810-cbea-4e29360f1075"
      },
      "execution_count": 10,
      "outputs": [
        {
          "output_type": "stream",
          "name": "stdout",
          "text": [
            "[1, 1, 2, 3, 5, 8, 13, 21, 34]\n"
          ]
        }
      ]
    },
    {
      "cell_type": "code",
      "source": [
        "# 3\n",
        "\n",
        "fib = lambda n : 1 if n <= 2 else fib(n-1) + fib(n-2)\n",
        "\n",
        "print([fib(i) for i in range(1,10)])"
      ],
      "metadata": {
        "colab": {
          "base_uri": "https://localhost:8080/"
        },
        "id": "AA49xDjSRsFL",
        "outputId": "948011ef-fadd-44ab-e58d-e672bdf34bb1"
      },
      "execution_count": 11,
      "outputs": [
        {
          "output_type": "stream",
          "name": "stdout",
          "text": [
            "[1, 1, 2, 3, 5, 8, 13, 21, 34]\n"
          ]
        }
      ]
    },
    {
      "cell_type": "code",
      "source": [
        "# 4\n",
        "\n",
        "n = int(input())\n",
        "\n",
        "fib = lambda n : 1 if n <= 2 else fib(n-1) + fib(n-2)\n",
        "\n",
        "print([fib(i) for i in range(1,n+1)])"
      ],
      "metadata": {
        "colab": {
          "base_uri": "https://localhost:8080/"
        },
        "id": "r-3C1u3jTLiA",
        "outputId": "59339119-e329-4133-dc11-e31519b3745c"
      },
      "execution_count": 16,
      "outputs": [
        {
          "output_type": "stream",
          "name": "stdout",
          "text": [
            "10\n",
            "[1, 1, 2, 3, 5, 8, 13, 21, 34, 55]\n"
          ]
        }
      ]
    }
  ]
}