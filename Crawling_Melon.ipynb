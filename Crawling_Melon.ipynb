{
 "cells": [
  {
   "cell_type": "code",
   "execution_count": 2,
   "id": "cb9dc978",
   "metadata": {},
   "outputs": [],
   "source": [
    "# Crawling melon chart\n",
    "\n",
    "from selenium import webdriver\n",
    "\n",
    "from bs4 import BeautifulSoup as bs\n",
    "\n",
    "import pandas as pd"
   ]
  },
  {
   "cell_type": "code",
   "execution_count": 5,
   "id": "3c7ce1ff",
   "metadata": {},
   "outputs": [
    {
     "name": "stderr",
     "output_type": "stream",
     "text": [
      "C:\\Users\\thp02\\AppData\\Local\\Temp/ipykernel_29408/2127667419.py:1: DeprecationWarning: executable_path has been deprecated, please pass in a Service object\n",
      "  driver = webdriver.Chrome('Chromedriver.exe')\n"
     ]
    }
   ],
   "source": [
    "driver = webdriver.Chrome('Chromedriver.exe')\n",
    "driver.get('https://www.melon.com/chart/index.htm')"
   ]
  },
  {
   "cell_type": "code",
   "execution_count": 6,
   "id": "11f78375",
   "metadata": {},
   "outputs": [],
   "source": [
    "html = driver.page_source\n",
    "soup = bs(html)"
   ]
  },
  {
   "cell_type": "code",
   "execution_count": 8,
   "id": "bef3a22a",
   "metadata": {},
   "outputs": [],
   "source": [
    "# song list\n",
    "soup.select('tr.lst50')"
   ]
  },
  {
   "cell_type": "code",
   "execution_count": 11,
   "id": "49ee58d3",
   "metadata": {},
   "outputs": [
    {
     "data": {
      "text/plain": [
       "'사랑은 늘 도망가'"
      ]
     },
     "execution_count": 11,
     "metadata": {},
     "output_type": "execute_result"
    }
   ],
   "source": [
    "# song title\n",
    "title = soup.select('tr.lst50')[0].select('div.rank01 > span > a')[0].text\n",
    "title"
   ]
  },
  {
   "cell_type": "code",
   "execution_count": 18,
   "id": "228bbc7e",
   "metadata": {},
   "outputs": [],
   "source": [
    "song_data = []\n",
    "rank = 0\n",
    "\n",
    "for i in soup.select('tr.lst50') :\n",
    "    rank += 1\n",
    "    title = i.select('div.rank01 > span > a')[0].text\n",
    "    artist = i.select('div.rank02 > span > a')[0].text\n",
    "    song_data.append([rank, title, artist])\n",
    "\n",
    "df = pd.DataFrame(song_data, columns=['순위', '타이틀', '가수'])\n",
    "\n",
    "df.to_excel('Melon.xlsx', index=False)"
   ]
  },
  {
   "cell_type": "code",
   "execution_count": null,
   "id": "9a22e5e6",
   "metadata": {},
   "outputs": [],
   "source": []
  }
 ],
 "metadata": {
  "kernelspec": {
   "display_name": "Python 3 (ipykernel)",
   "language": "python",
   "name": "python3"
  },
  "language_info": {
   "codemirror_mode": {
    "name": "ipython",
    "version": 3
   },
   "file_extension": ".py",
   "mimetype": "text/x-python",
   "name": "python",
   "nbconvert_exporter": "python",
   "pygments_lexer": "ipython3",
   "version": "3.9.7"
  }
 },
 "nbformat": 4,
 "nbformat_minor": 5
}
