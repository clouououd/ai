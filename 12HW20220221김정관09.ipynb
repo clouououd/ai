{
  "nbformat": 4,
  "nbformat_minor": 0,
  "metadata": {
    "colab": {
      "name": "12HW20220221김정관09.ipynb",
      "provenance": [],
      "authorship_tag": "ABX9TyM+NN6sZqv2Cv1JzJg0V3El",
      "include_colab_link": true
    },
    "kernelspec": {
      "name": "python3",
      "display_name": "Python 3"
    },
    "language_info": {
      "name": "python"
    }
  },
  "cells": [
    {
      "cell_type": "markdown",
      "metadata": {
        "id": "view-in-github",
        "colab_type": "text"
      },
      "source": [
        "<a href=\"https://colab.research.google.com/github/clouououd/ai/blob/main/12HW20220221%EA%B9%80%EC%A0%95%EA%B4%8009.ipynb\" target=\"_parent\"><img src=\"https://colab.research.google.com/assets/colab-badge.svg\" alt=\"Open In Colab\"/></a>"
      ]
    },
    {
      "cell_type": "code",
      "execution_count": null,
      "metadata": {
        "id": "jKfIrCJfVy46"
      },
      "outputs": [],
      "source": [
        "# 556 a\n",
        "# 557 a\n",
        "# 558 b\n",
        "# 559 c\n",
        "# 560 d\n",
        "# 561 d\n",
        "# 562 a\n",
        "# 563 c\n",
        "# 564 b\n",
        "# 565 d\n",
        "# 566 c\n",
        "# 567 b\n",
        "# 568 d\n",
        "# 569 a\n",
        "# 570 a\n",
        "# 571 d\n",
        "# 572 c\n",
        "# 573 b\n",
        "# 574 a\n",
        "# 575 d"
      ]
    },
    {
      "cell_type": "code",
      "source": [
        ""
      ],
      "metadata": {
        "id": "HGyJEiXEZKz4"
      },
      "execution_count": null,
      "outputs": []
    }
  ]
}