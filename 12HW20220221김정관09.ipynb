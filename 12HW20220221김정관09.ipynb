{
  "nbformat": 4,
  "nbformat_minor": 0,
  "metadata": {
    "colab": {
      "name": "12HW20220221김정관09.ipynb",
      "provenance": [],
      "authorship_tag": "ABX9TyM855SQ/BPoHOc9YHgQ+/YT",
      "include_colab_link": true
    },
    "kernelspec": {
      "name": "python3",
      "display_name": "Python 3"
    },
    "language_info": {
      "name": "python"
    }
  },
  "cells": [
    {
      "cell_type": "markdown",
      "metadata": {
        "id": "view-in-github",
        "colab_type": "text"
      },
      "source": [
        "<a href=\"https://colab.research.google.com/github/clouououd/ai/blob/main/12HW20220221%EA%B9%80%EC%A0%95%EA%B4%8009.ipynb\" target=\"_parent\"><img src=\"https://colab.research.google.com/assets/colab-badge.svg\" alt=\"Open In Colab\"/></a>"
      ]
    },
    {
      "cell_type": "code",
      "execution_count": null,
      "metadata": {
        "id": "jKfIrCJfVy46"
      },
      "outputs": [],
      "source": [
        "# 556 a\n",
        "# 557 a\n",
        "# 558 b\n",
        "# 559 c\n",
        "# 560 d\n",
        "# 561 d\n",
        "# 562 a\n",
        "# 563 c\n",
        "# 564 b\n",
        "# 565 d\n",
        "# 566 c\n",
        "# 567 b\n",
        "# 568 d\n",
        "# 569 a\n",
        "# 570 a\n",
        "# 571 d\n",
        "# 572 c\n",
        "# 573 b\n",
        "# 574 a\n",
        "# 575 d"
      ]
    },
    {
      "cell_type": "code",
      "source": [
        "Algorithm Homework(#32)\n",
        "\n",
        "1. 이유덕,이재영,권종표,이재영,박민호,강상희,이재영,김지완,최승혁,이성연,박영서,박민호,전경헌,송정환,김재성,이유덕,전경헌\n",
        "2. ,를 기준으로 데이터 나누기\n",
        "3. (1)김으로 시작하는 데이터와 이로시작하는 데이터 개수 세기\n",
        "4. (2)이재영이라는 데이터의 개수 세기\n",
        "5. (3)중복제거\n",
        "6. (4)중복제거후 오름차순으로 정렬하여 출력"
      ],
      "metadata": {
        "id": "HGyJEiXEZKz4"
      },
      "execution_count": null,
      "outputs": []
    },
    {
      "cell_type": "code",
      "source": [
        "names = '이유덕,이재영,권종표,이재영,박민호,강상희,이재영,김지완,최승혁,이성연,박영서,박민호,전경헌,송정환,김재성,이유덕,전경헌'\n",
        "\n",
        "name_li = names.split(',')\n",
        "name_li"
      ],
      "metadata": {
        "colab": {
          "base_uri": "https://localhost:8080/"
        },
        "id": "9KnrbsiLZvWh",
        "outputId": "c9723855-7718-474f-c2cd-34f24701a9f1"
      },
      "execution_count": 4,
      "outputs": [
        {
          "output_type": "execute_result",
          "data": {
            "text/plain": [
              "['이유덕',\n",
              " '이재영',\n",
              " '권종표',\n",
              " '이재영',\n",
              " '박민호',\n",
              " '강상희',\n",
              " '이재영',\n",
              " '김지완',\n",
              " '최승혁',\n",
              " '이성연',\n",
              " '박영서',\n",
              " '박민호',\n",
              " '전경헌',\n",
              " '송정환',\n",
              " '김재성',\n",
              " '이유덕',\n",
              " '전경헌']"
            ]
          },
          "metadata": {},
          "execution_count": 4
        }
      ]
    },
    {
      "cell_type": "code",
      "source": [
        "# 1\n",
        "count_k = 0\n",
        "count_l = 0\n",
        "\n",
        "for i in name_li :\n",
        "  if i[0] == '김' :\n",
        "    count_k += 1\n",
        "  elif i[0] == '이' :\n",
        "    count_l += 1\n",
        "\n",
        "print(f'김씨 : {count_k}명\\n이씨 : {count_l}명')"
      ],
      "metadata": {
        "colab": {
          "base_uri": "https://localhost:8080/"
        },
        "id": "7QRgVhsmaDIL",
        "outputId": "1594b6f0-ebf1-4c47-fdc6-a6538ebd6f39"
      },
      "execution_count": 6,
      "outputs": [
        {
          "output_type": "stream",
          "name": "stdout",
          "text": [
            "김씨 : 2명\n",
            "이씨 : 6명\n"
          ]
        }
      ]
    },
    {
      "cell_type": "code",
      "source": [
        "# 2\n",
        "n = '이재영'\n",
        "\n",
        "count_n = 0\n",
        "\n",
        "for i in name_li :\n",
        "  if i == n :\n",
        "    count_n += 1\n",
        "\n",
        "print(f'{n}이란 이름은 {count_n}번 반복됩니다.')"
      ],
      "metadata": {
        "colab": {
          "base_uri": "https://localhost:8080/"
        },
        "id": "EtXcDhaXa0kC",
        "outputId": "e4c72739-4199-42bc-f8bf-45989aa07d6a"
      },
      "execution_count": 8,
      "outputs": [
        {
          "output_type": "stream",
          "name": "stdout",
          "text": [
            "이재영이란 이름은 3번 반복됩니다.\n"
          ]
        }
      ]
    },
    {
      "cell_type": "code",
      "source": [
        "# 3\n",
        "name_se = set(name_li)\n",
        "name_se"
      ],
      "metadata": {
        "colab": {
          "base_uri": "https://localhost:8080/"
        },
        "id": "5T34dj3Vbfr1",
        "outputId": "b0a012aa-e7c3-45e5-e3b3-825d3cd22dd3"
      },
      "execution_count": 9,
      "outputs": [
        {
          "output_type": "execute_result",
          "data": {
            "text/plain": [
              "{'강상희',\n",
              " '권종표',\n",
              " '김재성',\n",
              " '김지완',\n",
              " '박민호',\n",
              " '박영서',\n",
              " '송정환',\n",
              " '이성연',\n",
              " '이유덕',\n",
              " '이재영',\n",
              " '전경헌',\n",
              " '최승혁'}"
            ]
          },
          "metadata": {},
          "execution_count": 9
        }
      ]
    },
    {
      "cell_type": "code",
      "source": [
        "# 4\n",
        "sorted(name_se)"
      ],
      "metadata": {
        "colab": {
          "base_uri": "https://localhost:8080/"
        },
        "id": "UrN-3UE1byI8",
        "outputId": "d79f399b-ac5a-4f3b-9b59-7f8f24bc3587"
      },
      "execution_count": 12,
      "outputs": [
        {
          "output_type": "execute_result",
          "data": {
            "text/plain": [
              "['강상희',\n",
              " '권종표',\n",
              " '김재성',\n",
              " '김지완',\n",
              " '박민호',\n",
              " '박영서',\n",
              " '송정환',\n",
              " '이성연',\n",
              " '이유덕',\n",
              " '이재영',\n",
              " '전경헌',\n",
              " '최승혁']"
            ]
          },
          "metadata": {},
          "execution_count": 12
        }
      ]
    }
  ]
}