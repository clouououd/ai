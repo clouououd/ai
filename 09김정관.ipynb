{
  "nbformat": 4,
  "nbformat_minor": 0,
  "metadata": {
    "colab": {
      "name": "09김정관.ipynb",
      "provenance": [],
      "authorship_tag": "ABX9TyPqgrTUSioqk4uz6a0rceg7",
      "include_colab_link": true
    },
    "kernelspec": {
      "name": "python3",
      "display_name": "Python 3"
    },
    "language_info": {
      "name": "python"
    }
  },
  "cells": [
    {
      "cell_type": "markdown",
      "metadata": {
        "id": "view-in-github",
        "colab_type": "text"
      },
      "source": [
        "<a href=\"https://colab.research.google.com/github/clouououd/ai/blob/main/09%EA%B9%80%EC%A0%95%EA%B4%80.ipynb\" target=\"_parent\"><img src=\"https://colab.research.google.com/assets/colab-badge.svg\" alt=\"Open In Colab\"/></a>"
      ]
    },
    {
      "cell_type": "code",
      "execution_count": 14,
      "metadata": {
        "colab": {
          "base_uri": "https://localhost:8080/",
          "height": 54
        },
        "id": "wAYYLKBPt5L8",
        "outputId": "ea9596b4-aea2-42a1-d7b0-5ab49f9735e8"
      },
      "outputs": [
        {
          "name": "stdout",
          "output_type": "stream",
          "text": [
            "1\n"
          ]
        },
        {
          "output_type": "execute_result",
          "data": {
            "application/vnd.google.colaboratory.intrinsic+json": {
              "type": "string"
            },
            "text/plain": [
              "'false'"
            ]
          },
          "metadata": {},
          "execution_count": 14
        }
      ],
      "source": [
        "def isprime(n) : # 소수인지 아닌지를 판단하는 isprime생성\n",
        "  if n == 1 :\n",
        "    return 'false'\n",
        "    \n",
        "  for i in range(2, n) : # 2부터 입력받은 수까지를 반복 \n",
        "    if n%i == 0 : # 입력받은 수를 2로 나누어서 나머지가 0인경우 아래를 이행\n",
        "      return 'false' # 나머지가 0인경우 함수의 retrun 값을 다음의 문장으로 한다\n",
        "  return 'true' # 반목문을 모두 돌가 나서도 if문을 만족하지 않는 경우 함수의 return 값을 다음의 문장으로한다\n",
        "\n",
        "n = int(input()) # 입력값을 사용자로부터 받는다.\n",
        "isprime(n) # isprime 함수를 호출"
      ]
    }
  ]
}