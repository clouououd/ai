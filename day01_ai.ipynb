{
  "nbformat": 4,
  "nbformat_minor": 0,
  "metadata": {
    "colab": {
      "name": "Day1.ipynb",
      "provenance": [],
      "authorship_tag": "ABX9TyNOXLDioXEL/CyECzcfnrK/",
      "include_colab_link": true
    },
    "kernelspec": {
      "name": "python3",
      "display_name": "Python 3"
    },
    "language_info": {
      "name": "python"
    }
  },
  "cells": [
    {
      "cell_type": "markdown",
      "metadata": {
        "id": "view-in-github",
        "colab_type": "text"
      },
      "source": [
        "<a href=\"https://colab.research.google.com/github/clouououd/ai/blob/main/day1_ai.ipynb\" target=\"_parent\"><img src=\"https://colab.research.google.com/assets/colab-badge.svg\" alt=\"Open In Colab\"/></a>"
      ]
    },
    {
      "cell_type": "code",
      "execution_count": 5,
      "metadata": {
        "colab": {
          "base_uri": "https://localhost:8080/"
        },
        "id": "RH8Ag4eN6Bb2",
        "outputId": "f9873ad3-752e-46c8-d5d6-1bde9f398699"
      },
      "outputs": [
        {
          "output_type": "stream",
          "name": "stdout",
          "text": [
            "Hello World\n",
            "Hello World\n"
          ]
        }
      ],
      "source": [
        "'''\n",
        "작성자 : 홍길동\n",
        "작성일 : 2022-01-25\n",
        "버전 : 0.1\n",
        "'''\n",
        "\n",
        "\"\"\"\n",
        "작성자 : 홍길동\n",
        "작성일 : 2022-01-25\n",
        "버전 : 0.1\n",
        "Doc string\n",
        "\"\"\"\n",
        "\n",
        "# 보통 삼중 따옴표 주석은\n",
        "# 여러줄을 주석으로\n",
        "# 사용할 때 사용한다.\n",
        "\n",
        "# 주석 붙이는 위치\n",
        "print(\"Hello World\") # 보통 행의 우측 또는 위에 주석을 붙인다.\n",
        "print('Hello World')\n",
        "# print(\"Hello Wordl') -> \" \"와 ' '의 교차 사용은 안된다. 열고 닫을 때가 같아야함."
      ]
    },
    {
      "cell_type": "code",
      "source": [
        "####################\n",
        "# 변수 variable\n",
        "####################\n",
        "score = 200\n",
        "print(score)\n",
        "\n",
        "score = 300\n",
        "print(score)"
      ],
      "metadata": {
        "colab": {
          "base_uri": "https://localhost:8080/"
        },
        "id": "ERbFsB0L_ZIM",
        "outputId": "b79e7883-560e-4900-8426-86111290a475"
      },
      "execution_count": 11,
      "outputs": [
        {
          "output_type": "stream",
          "name": "stdout",
          "text": [
            "200\n",
            "1\n",
            "2\n"
          ]
        }
      ]
    },
    {
      "cell_type": "code",
      "source": [
        "a=1\n",
        "A=2\n",
        "print(a)\n",
        "print(A)"
      ],
      "metadata": {
        "id": "IZcX1OanAr_J"
      },
      "execution_count": null,
      "outputs": []
    },
    {
      "cell_type": "code",
      "source": [
        "1a=5\n",
        "print(1a)"
      ],
      "metadata": {
        "colab": {
          "base_uri": "https://localhost:8080/",
          "height": 137
        },
        "id": "R6lJRCt5BItI",
        "outputId": "3b609e1e-a83a-4976-efb5-0a8682201f6f"
      },
      "execution_count": 12,
      "outputs": [
        {
          "output_type": "error",
          "ename": "SyntaxError",
          "evalue": "ignored",
          "traceback": [
            "\u001b[0;36m  File \u001b[0;32m\"<ipython-input-12-5940d7a8e298>\"\u001b[0;36m, line \u001b[0;32m1\u001b[0m\n\u001b[0;31m    1a=5\u001b[0m\n\u001b[0m     ^\u001b[0m\n\u001b[0;31mSyntaxError\u001b[0m\u001b[0;31m:\u001b[0m invalid syntax\n"
          ]
        }
      ]
    },
    {
      "cell_type": "code",
      "source": [
        "a=20\n",
        "b=1500\n",
        "\n",
        "student_avg = 20\n",
        "math_sum=1500\n",
        "# 위에 것보다는 아래 것을 권장한다."
      ],
      "metadata": {
        "id": "a4dzvYOFBi5s"
      },
      "execution_count": null,
      "outputs": []
    },
    {
      "cell_type": "code",
      "source": [
        "name='Alice'\n",
        "age=25\n",
        "address='''우편번호 12345\n",
        "서울시 영등포구 여의도동\n",
        "서울빌딩 501호'''\n",
        "boyfriend=None\n",
        "height=168.5\n",
        "\n",
        "print(name)\n",
        "print(age)\n",
        "print(address)\n",
        "print(boyfriend)\n",
        "print(height)"
      ],
      "metadata": {
        "colab": {
          "base_uri": "https://localhost:8080/"
        },
        "id": "gB7OAACFCt7S",
        "outputId": "cab15a76-ae31-459c-a471-271101d01302"
      },
      "execution_count": 13,
      "outputs": [
        {
          "output_type": "stream",
          "name": "stdout",
          "text": [
            "Alice\n",
            "25\n",
            "우편번호 12345\n",
            "서울시 영등포구 여의도동\n",
            "서울빌딩 501호\n",
            "None\n",
            "168.5\n"
          ]
        }
      ]
    },
    {
      "cell_type": "code",
      "source": [
        "################\n",
        "# 기본 자료형 type\n",
        "################\n",
        "\n",
        "a=int(1.9)\n",
        "print(a)\n",
        "#  1.9는 실수 이지만 int()로 정수화 하여 변수a에는 1이 담긴다.\n",
        "\n",
        "b=int(True)\n",
        "print(b)\n",
        "b2=int(False)\n",
        "print(b2)\n",
        "# True를 정수화하면 1, False를 정수화하면 0이다.\n",
        "\n",
        "c=100\n",
        "c2='100'\n",
        "print(c)\n",
        "print(type(c))\n",
        "print(c2)\n",
        "print(type(c2))\n",
        "print(c==c2)\n",
        "# 100과 '100'은 다르다. 100은 숫자 100을 '100'은 문자 100을 의미한다.\n",
        "c3=int(c2)\n",
        "print(type(c3))\n",
        "print(c==c3)\n"
      ],
      "metadata": {
        "colab": {
          "base_uri": "https://localhost:8080/"
        },
        "id": "cZaI3sCaETr4",
        "outputId": "a0a95883-a3cb-46e5-f80f-2dc3f4a77ce5"
      },
      "execution_count": 23,
      "outputs": [
        {
          "output_type": "stream",
          "name": "stdout",
          "text": [
            "1\n",
            "1\n",
            "0\n",
            "100\n",
            "<class 'int'>\n",
            "100\n",
            "<class 'str'>\n",
            "False\n",
            "<class 'int'>\n",
            "True\n"
          ]
        }
      ]
    },
    {
      "cell_type": "code",
      "source": [
        "# 실수 float\n",
        "\n",
        "a=float(1)\n",
        "print(a)\n",
        "\n",
        "b=float(True)\n",
        "print(b)\n",
        "\n",
        "c=float('3.14')\n",
        "print(c)\n",
        "\n",
        "d=float('100')\n",
        "print(d)"
      ],
      "metadata": {
        "colab": {
          "base_uri": "https://localhost:8080/"
        },
        "id": "IXKFEPq6GWWo",
        "outputId": "92ea7de2-d4d6-4e57-c984-6fa1dc7f0ce3"
      },
      "execution_count": 27,
      "outputs": [
        {
          "output_type": "stream",
          "name": "stdout",
          "text": [
            "1.0\n",
            "1.0\n",
            "3.14\n",
            "100.0\n"
          ]
        }
      ]
    },
    {
      "cell_type": "code",
      "source": [
        "a=100 # int a = 100; (java에서 입력할 시는 자료형도 정해줘야함)"
      ],
      "metadata": {
        "id": "3QHDoYHlaSsg"
      },
      "execution_count": null,
      "outputs": []
    },
    {
      "cell_type": "code",
      "source": [
        "#  bool 논리 True of False\n",
        "a=bool(0)\n",
        "print(a)\n",
        "\n",
        "b=bool()\n",
        "print(b)\n",
        "\n",
        "c=bool([])\n",
        "print(c) #머라도 존재하면 True"
      ],
      "metadata": {
        "colab": {
          "base_uri": "https://localhost:8080/"
        },
        "id": "TXi80ThJaj3S",
        "outputId": "2c33e7d9-34b2-4243-e5e6-c07f5dd4dcf9"
      },
      "execution_count": 38,
      "outputs": [
        {
          "output_type": "stream",
          "name": "stdout",
          "text": [
            "False\n",
            "False\n",
            "False\n"
          ]
        }
      ]
    },
    {
      "cell_type": "code",
      "source": [
        "################\n",
        "# 문자열 string\n",
        "################\n",
        "\n",
        "a='대한민국'\n",
        "a=\"대한민국\"\n",
        "\n",
        "b=str(100)\n",
        "print(b)\n",
        "print(type(b))\n",
        "\n",
        "c=str(True)\n",
        "print(c)\n",
        "print(type(c))"
      ],
      "metadata": {
        "colab": {
          "base_uri": "https://localhost:8080/"
        },
        "id": "CIdrxUf8bUSI",
        "outputId": "9515cb69-609e-4d00-8816-ccb9bf11491f"
      },
      "execution_count": 41,
      "outputs": [
        {
          "output_type": "stream",
          "name": "stdout",
          "text": [
            "100\n",
            "<class 'str'>\n",
            "True\n",
            "<class 'str'>\n"
          ]
        }
      ]
    },
    {
      "cell_type": "code",
      "source": [
        "# 문자열 인덱싱\n",
        "\n",
        "# 파이썬은 0에서 시작한다.\n",
        "\n",
        "s='Hello'\n",
        "print(s[4])\n",
        "\n",
        "print(s[-1])\n",
        "print(s[-5]==s[0])\n",
        "\n",
        "ss=\"990211-1005432\"\n",
        "print(ss[7])"
      ],
      "metadata": {
        "colab": {
          "base_uri": "https://localhost:8080/"
        },
        "id": "k1HWOPeZb8O0",
        "outputId": "e2b9026f-0831-40ec-cdf0-b35d1d73d8a0"
      },
      "execution_count": 45,
      "outputs": [
        {
          "output_type": "stream",
          "name": "stdout",
          "text": [
            "o\n",
            "o\n",
            "True\n",
            "1\n"
          ]
        }
      ]
    },
    {
      "cell_type": "code",
      "source": [
        "# 슬라이싱\n",
        "ss=\"990211-1005432\"\n",
        "print(ss[0:2]) # 0번째부터 2번째 미만까지...[start:stop:step]\n",
        "# step은 생략가능\n",
        "print(ss[0:10:2])\n",
        "print(ss[0:10] )# step 생략할 경우 step=1"
      ],
      "metadata": {
        "colab": {
          "base_uri": "https://localhost:8080/"
        },
        "id": "YbToQWYne8_Q",
        "outputId": "e32371b8-3d90-417e-ffcc-d9ff5f077bd4"
      },
      "execution_count": 48,
      "outputs": [
        {
          "output_type": "stream",
          "name": "stdout",
          "text": [
            "99\n",
            "901-0\n",
            "990211-100\n"
          ]
        }
      ]
    },
    {
      "cell_type": "code",
      "source": [
        "# print\n",
        "# \" \"와 ' ' 출력\n",
        "print('Hello World')\n",
        "print(\"Hello 'World'\")\n",
        "print('Hello \\'World\\'')\n",
        "print('Hello \\\"World\\\"')"
      ],
      "metadata": {
        "colab": {
          "base_uri": "https://localhost:8080/"
        },
        "id": "XsbbvmOog0tA",
        "outputId": "80ec293d-8976-48a1-fb42-fe494c998a93"
      },
      "execution_count": 52,
      "outputs": [
        {
          "output_type": "stream",
          "name": "stdout",
          "text": [
            "Hello World\n",
            "Hello 'World'\n",
            "Hello \"World\"\n"
          ]
        }
      ]
    },
    {
      "cell_type": "code",
      "source": [
        "# 줄바꿈\n",
        "print('Hello \\n\"World\"')\n",
        "print('이름 \\n전화')\n",
        "#간격 띄우기\n",
        "print('이름\\t연락처')\n",
        "print('홍길동\\t010-2020-2903')\n",
        "\n",
        "# 띄어쓰기\n",
        "print('재미있는','파이썬')\n",
        "\n",
        "# 글 뒤에 올 말을 주거나 줄바꿈을 하고 싶지 않을때\n",
        "print('평점', end=':')\n",
        "print('5점')\n",
        "\n",
        "# sep : 사이사이에 넣고 싶은 문자가 있을 때\n",
        "print('국어', '영어', '수학')\n",
        "print('국어', '영어', '수학', sep='/')\n",
        "print('국어', '영어', '수학', sep=',')\n",
        "print('국어', '영어', '수학', sep='\\n')\n",
        "print('국어\\n영어\\n수학')"
      ],
      "metadata": {
        "colab": {
          "base_uri": "https://localhost:8080/"
        },
        "id": "0irtUZ4GiHmn",
        "outputId": "95d6a5aa-75c5-4882-c7dd-293a138922a6"
      },
      "execution_count": 69,
      "outputs": [
        {
          "output_type": "stream",
          "name": "stdout",
          "text": [
            "Hello \n",
            "\"World\"\n",
            "이름 \n",
            "전화\n",
            "이름\t연락처\n",
            "홍길동\t010-2020-2903\n",
            "재미있는 파이썬\n",
            "평점:5점\n",
            "국어 영어 수학\n",
            "국어/영어/수학\n",
            "국어,영어,수학\n",
            "국어\n",
            "영어\n",
            "수학\n",
            "국어\n",
            "영어\n",
            "수학\n"
          ]
        }
      ]
    },
    {
      "cell_type": "code",
      "source": [
        "# %연산자\n",
        "\n",
        "print(10)\n",
        "print('%d'%10) # %d decimal 정수\n",
        "print('%f'%3.14) # %f float 실수\n",
        "print('%s'%'학생') # %s string 문자열\n",
        "\n",
        "print('%d을 입력하세요'%10) # %d decimal 정수\n",
        "print('%s을 입력하세요'%10) # %d decimal 정수\n",
        "print('원주율은 %f입니다.'%3.14) # %f float 실수\n",
        "print('원주율은 %s입니다.'%3.14) # %f float 실수\n",
        "print('저는 %s입니다'%'학생') # %s string 문자열\n",
        "\n",
        "std=\"대학생\"\n",
        "print('저는 %s입니다.'%std)\n",
        "print('저는',std,'입니다.')\n",
        "\n",
        "print(\"%d\"%1)\n",
        "print(\"%5d\"%1) #자리수를 확보할 수 있다. 자리수는 총 자리수\n",
        "print(\"%-5d\"%1)\n",
        "\n",
        "print('%f'%3.14)\n",
        "print('%5.1f'%3.14) #.뒤에 오는 수만큼 소수점자리를 가진다. 반올림된다.\n",
        "print('%-5.1f'%3.14) # 파이썬은 들여쓰기에 민감하다\n",
        "\n",
        "print(type('%f'%3.14)) # %연산자를 쓰게되면 문자로 바뀐다"
      ],
      "metadata": {
        "colab": {
          "base_uri": "https://localhost:8080/"
        },
        "id": "nnveufpRqtQ1",
        "outputId": "b5237c0b-363a-439e-ad64-c1f0da1af1ed"
      },
      "execution_count": 88,
      "outputs": [
        {
          "output_type": "stream",
          "name": "stdout",
          "text": [
            "10\n",
            "10\n",
            "3.140000\n",
            "학생\n",
            "10을 입력하세요\n",
            "10을 입력하세요\n",
            "원주율은 3.140000입니다.\n",
            "원주율은 3.14입니다.\n",
            "저는 학생입니다\n",
            "저는 대학생입니다.\n",
            "저는 대학생 입니다.\n",
            "1\n",
            "    1\n",
            "1    \n",
            "3.140000\n",
            "  3.1\n",
            "3.1  \n",
            "<class 'str'>\n"
          ]
        }
      ]
    },
    {
      "cell_type": "code",
      "source": [
        "# 예제\n",
        "name='kai'\n",
        "print('내 이름은 %s입니다.'%name) "
      ],
      "metadata": {
        "colab": {
          "base_uri": "https://localhost:8080/"
        },
        "id": "K_WUMb4evqxL",
        "outputId": "7f655ec3-724a-4bcf-99f7-a2c015b21cbd"
      },
      "execution_count": 91,
      "outputs": [
        {
          "output_type": "stream",
          "name": "stdout",
          "text": [
            "내 이름은 kai입니다.\n"
          ]
        }
      ]
    },
    {
      "cell_type": "code",
      "source": [
        "height=185.5\n",
        "print('내 키는 %.1f입니다.'%height)\n",
        "print('내 키는 %.1s입니다.'%height) # 수는 s를 사용할 수 있지만 문자는 f나 d를 사용할 수 없다.\n",
        "print('내 키는 %s이고 이름은 %s입니다.'%(height,name))"
      ],
      "metadata": {
        "colab": {
          "base_uri": "https://localhost:8080/"
        },
        "id": "-T7NSM6HwASI",
        "outputId": "57a91eef-851d-4b84-88fe-130ae3fbbec9"
      },
      "execution_count": 99,
      "outputs": [
        {
          "output_type": "stream",
          "name": "stdout",
          "text": [
            "내 키는 185.5입니다.\n",
            "내 키는 1입니다.\n",
            "내 키는 185.5이고 이름은 kai입니다.\n"
          ]
        }
      ]
    },
    {
      "cell_type": "code",
      "source": [
        "# foramt() 매서드\n",
        "\n",
        "zipcode='06236'\n",
        "print('우편번호 : %s'%zipcode)\n",
        "print('우편번호 : {}'.format(zipcode))\n",
        "print('내 키는 {}이고 이름은 {}입니다.'.format(height,name))"
      ],
      "metadata": {
        "colab": {
          "base_uri": "https://localhost:8080/"
        },
        "id": "hieVCEIrwi8E",
        "outputId": "6349f2ec-3a1f-4230-8b27-17f73fa1d037"
      },
      "execution_count": 100,
      "outputs": [
        {
          "output_type": "stream",
          "name": "stdout",
          "text": [
            "우편번호 : 06236\n",
            "우편번호 : 06236\n",
            "내 키는 185.5이고 이름은kai입니다.\n"
          ]
        }
      ]
    },
    {
      "cell_type": "code",
      "source": [
        "print('My name is {}. I\\'m {} years old.'.format('James', 25))\n",
        "print('My name is {1}. I\\'m {0} years old.'.format(25, 'James'))\n",
        "print('My name is {name}. I\\'m {age} years old.'.format(age=25, name='James'))"
      ],
      "metadata": {
        "colab": {
          "base_uri": "https://localhost:8080/"
        },
        "id": "U-PiYiMq2Gxv",
        "outputId": "6ea7759a-78d5-4d96-9888-092af4fe6cb4"
      },
      "execution_count": 103,
      "outputs": [
        {
          "output_type": "stream",
          "name": "stdout",
          "text": [
            "My name is James. I'm 25 years old.\n",
            "My name is James. I'm 25 years old.\n",
            "My name is James. I'm 25 years old.\n"
          ]
        }
      ]
    },
    {
      "cell_type": "code",
      "source": [
        "# f-strings\n",
        "# 파이썬 3.6 이후 부터 사용 가능\n",
        "\n",
        "# 가독성이 좋다\n",
        "who='you'\n",
        "how='happy'\n",
        "print(f'{who} make me {how}') \n",
        "\n",
        "# 연산이 가능하다\n",
        "age=25\n",
        "print(f'내년에는 {age+1}입니다.')"
      ],
      "metadata": {
        "colab": {
          "base_uri": "https://localhost:8080/"
        },
        "id": "rHVKYNnk22Mw",
        "outputId": "dc130406-fde4-4217-815d-6ba7b01a781b"
      },
      "execution_count": 105,
      "outputs": [
        {
          "output_type": "stream",
          "name": "stdout",
          "text": [
            "you make me happy\n",
            "내년에는 26입니다.\n"
          ]
        }
      ]
    },
    {
      "cell_type": "code",
      "source": [
        "################\n",
        "# 입력 input() \n",
        "################\n",
        "\n",
        "n=input()\n",
        "print(f'당신이 입력한 내용은 {n} 입니다.')\n",
        "print('당신이 입력한 내용은',n,'입니다.')\n",
        "\n",
        "n=input('당신의 나이를 입력하세요')\n",
        "print(f'당신의 나이는 {n}살 입니다.')\n",
        "print('당신의 나이는',n,'살 입니다.')"
      ],
      "metadata": {
        "colab": {
          "base_uri": "https://localhost:8080/"
        },
        "id": "PwOCwmuv4Tqf",
        "outputId": "3a3831a3-db07-44d0-b2b8-a3dd512af77e"
      },
      "execution_count": 113,
      "outputs": [
        {
          "output_type": "stream",
          "name": "stdout",
          "text": [
            "나이\n",
            "당신이 입력한 내용은 나이 입니다.\n",
            "당신이 입력한 내용은 나이 입니다.\n",
            "당신의 나이를 입력하세요20\n",
            "당신의 나이는 20살 입니다.\n",
            "당신의 나이는 20 살 입니다.\n"
          ]
        }
      ]
    },
    {
      "cell_type": "code",
      "source": [
        "# quiz\n",
        "# 사용자로부터 키보드로 이름과 나이를 입력받아서 한 줄로 출력하세요\n",
        "# 이름을 입력하세요?\n",
        "# 나이를 입력하세요?\n",
        "\n",
        "# 당신의 이름은?이고 나이는?입니다.\n",
        "name=input('이름을 입력하세요.')\n",
        "age=input('나이를 입력하세요')\n",
        "\n",
        "print(f'당신의 이름은 {name}이고 나이는 {age}입니다.')\n",
        "print('당신의 이름은 {}이고 나이는 {}입니다.'.format(name,age))\n",
        "print('당신의 이름은',name,'이고 나이는',age,'입니다.')\n",
        "print('당신의 이름은 %s이고 나이는 %s입니다.'%(name,age))\n",
        "\n",
        "# input으로 데이터를 받게되면 데이터가 타입이 str이된다.\n",
        "print(type(age))"
      ],
      "metadata": {
        "colab": {
          "base_uri": "https://localhost:8080/"
        },
        "id": "XM2J_a365imu",
        "outputId": "aeb5d112-4001-4825-f55c-ee9119665633"
      },
      "execution_count": 120,
      "outputs": [
        {
          "output_type": "stream",
          "name": "stdout",
          "text": [
            "이름을 입력하세요.김정관\n",
            "27\n",
            "당신의 이름은 김정관이고 나이는 27입니다.\n",
            "당신의 이름은 김정관이고 나이는 27입니다.\n",
            "당신의 이름은 김정관 이고 나이는 27 입니다.\n",
            "당신의 이름은 김정관이고 나이는 27입니다.\n",
            "<class 'str'>\n"
          ]
        }
      ]
    },
    {
      "cell_type": "code",
      "source": [
        "# 50000원짜리 물건을 할부로 구입하고 매달 내는 금액을 계산하는 프로그램을 작성해보자.\n",
        "# 할부 개월은 입력을 받아서 계산한다.\n",
        "\n",
        "# 할부 개월 입력 : \n",
        "# ? 개월 동안 매달 내는 금액은 ? 입니다.\n",
        "\n",
        "month=int(input('할부 개월 입력 : '))\n",
        "price=round((50000//month),2)\n",
        "\n",
        "print(f'{month}개월 동안 매달 내는 금액은 {price}입니다.')\n",
        "print('{}개월 동안 매달 내는 금액은 {}입니다.'.format(month,price))\n",
        "print(month,'개월 동안 매달 내는 금액은',price,'입니다.')\n",
        "print('%s개월 동안 매달 내는 금액은 %s입니다.'%(month,price))\n"
      ],
      "metadata": {
        "colab": {
          "base_uri": "https://localhost:8080/"
        },
        "id": "eLG5NFsY9z1X",
        "outputId": "29b50ae4-7723-4d47-b888-86ade453b79a"
      },
      "execution_count": 135,
      "outputs": [
        {
          "output_type": "stream",
          "name": "stdout",
          "text": [
            "할부 개월 입력 : 3\n",
            "3개월 동안 매달 내는 금액은 16666입니다.\n",
            "3개월 동안 매달 내는 금액은 16666입니다.\n",
            "3 개월 동안 매달 내는 금액은 16666 입니다.\n",
            "3개월 동안 매달 내는 금액은 16666입니다.\n"
          ]
        }
      ]
    },
    {
      "cell_type": "code",
      "source": [
        "# 사용자로부터 2개의 실수를 입력받아 합계를 구하는 프로그램을 작성하세요\n",
        "\n",
        "float1=float(input('실수 1 : '))\n",
        "float2=float(input('실수 2 : '))\n",
        "sum=float1+float2\n",
        "\n",
        "print(f'{float1}과 {float2}의 합계는 {sum}이다.')\n"
      ],
      "metadata": {
        "colab": {
          "base_uri": "https://localhost:8080/"
        },
        "id": "RTro7HyXFU2c",
        "outputId": "1ff7de70-9394-476c-a422-f1d8dcc6744c"
      },
      "execution_count": 137,
      "outputs": [
        {
          "output_type": "stream",
          "name": "stdout",
          "text": [
            "실수 1 : 3.5\n",
            "실수 2 : 3.7\n",
            "3.5과 3.7의 합계는 7.2이다.\n"
          ]
        }
      ]
    }
  ]
}
