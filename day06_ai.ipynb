{
  "nbformat": 4,
  "nbformat_minor": 0,
  "metadata": {
    "colab": {
      "name": "day06_ai.ipynb",
      "provenance": [],
      "authorship_tag": "ABX9TyNlBSHEA0lGUbPMntYE51OI",
      "include_colab_link": true
    },
    "kernelspec": {
      "name": "python3",
      "display_name": "Python 3"
    },
    "language_info": {
      "name": "python"
    }
  },
  "cells": [
    {
      "cell_type": "markdown",
      "metadata": {
        "id": "view-in-github",
        "colab_type": "text"
      },
      "source": [
        "<a href=\"https://colab.research.google.com/github/clouououd/ai/blob/main/day06_ai.ipynb\" target=\"_parent\"><img src=\"https://colab.research.google.com/assets/colab-badge.svg\" alt=\"Open In Colab\"/></a>"
      ]
    },
    {
      "cell_type": "code",
      "execution_count": null,
      "metadata": {
        "id": "Ga7M-amC9TU_"
      },
      "outputs": [],
      "source": [
        "# 예외처리 ( 에러처리, 오류처리, 버그 처리 등)\n",
        "\n",
        "print(\"예외를 강제로 발생)\n",
        "->  EOL while scanning string literal\n",
        "# EOL(End of LIne) 실행 조차 되지 않는 오류(SyntaxError)"
      ]
    },
    {
      "cell_type": "code",
      "source": [
        "print('프로그램이 시작되었습니다.')\n",
        "list[0]\n",
        "# 실행 중에 오류(runtime error)"
      ],
      "metadata": {
        "id": "_oGkN7_d-q0E"
      },
      "execution_count": null,
      "outputs": []
    },
    {
      "cell_type": "code",
      "source": [
        "num_input = int(input('정수 입력 >'))\n",
        "\n",
        "print('원의 반지름 :', num_input)\n",
        "print('원의 둘레', 2*3.14*num_input)\n",
        "print('원의 넓이', 3.14*num_input**2)\n",
        "# 입력시 문자가 포함되어 에러가 발생"
      ],
      "metadata": {
        "id": "-g0tKR8d_YHR"
      },
      "execution_count": null,
      "outputs": []
    },
    {
      "cell_type": "code",
      "source": [
        "# if로 예외처리\n",
        "num_input = input('정수 입력 >')\n",
        "\n",
        "if num_input.isdigit():\n",
        "  num_a = int(num_input)\n",
        "  print('원의 반지름 :', num_a)\n",
        "  print('원의 둘레', 2*3.14*num_a)\n",
        "  print('원의 넓이', 3.14*num_a**2)\n",
        "else:\n",
        "  print('정수를 입력하세요.')"
      ],
      "metadata": {
        "id": "PYQyYdctAv21"
      },
      "execution_count": null,
      "outputs": []
    },
    {
      "cell_type": "code",
      "source": [
        "# try except 구문\n",
        "try :\n",
        "  num_input = input('정수 입력 >')\n",
        "\n",
        "  num_a = int(num_input)\n",
        "  print('원의 반지름 :', num_a)\n",
        "  print('원의 둘레', 2*3.14*num_a)\n",
        "  print('원의 넓이', 3.14*num_a**2)\n",
        "except :\n",
        "  print('정수를 입력하세요.')"
      ],
      "metadata": {
        "id": "Y5S-cw7PC88W"
      },
      "execution_count": null,
      "outputs": []
    },
    {
      "cell_type": "code",
      "source": [
        "# 숫자만 추출하는 프로그램\n",
        "\n",
        "list_all = ['52','273','32','스파이','103']\n",
        "\n",
        "list_num = []\n",
        "\n",
        "for i in list_all:\n",
        "  try :\n",
        "    float(i)\n",
        "    list_num.append(i)\n",
        "  except :\n",
        "    pass\n",
        "\n",
        "print(list_num)"
      ],
      "metadata": {
        "id": "FZI_zh0uDxFQ"
      },
      "execution_count": null,
      "outputs": []
    },
    {
      "cell_type": "code",
      "source": [
        "list_all = ['52','273','32','스파이','103']\n",
        "try :\n",
        "  print(list[5])\n",
        "except :\n",
        "  print('존재하지 않는 인덱스 번호입니다.')"
      ],
      "metadata": {
        "id": "JbHm3Ek1Ff0I"
      },
      "execution_count": null,
      "outputs": []
    },
    {
      "cell_type": "code",
      "source": [
        "try :\n",
        "# 예외가 발생할 가능성이 있는 코드\n",
        "\n",
        "except :\n",
        "# 예외가 발생했을 때 실행할 코드\n",
        "\n",
        "else :\n",
        "# 예외가 발생하지 않았을 때 실행할 코드\n",
        "\n",
        "finally :\n",
        "# 항상 실행 시킬 코드\n",
        "\n",
        "# 허용되는 구문\n",
        "# try + except\n",
        "# try + except + else\n",
        "# try + except + finally\n",
        "# try + except + else + finally\n",
        "# try + finally"
      ],
      "metadata": {
        "id": "f5aCTzebImBa"
      },
      "execution_count": null,
      "outputs": []
    },
    {
      "cell_type": "code",
      "source": [
        "# else\n",
        "\n",
        "try :\n",
        "  num = int(input('정수를 입력하세요.>'))\n",
        "except :\n",
        "  print('정수를 입력하지 않았습니다.')\n",
        "else :\n",
        "  print('입력한 정수는', num,'입니다.')\n",
        "\n",
        "# else는 다른 대부분의 언어에서는 없다. else 사용을 권장하지는 않는다."
      ],
      "metadata": {
        "id": "9s47WnKGJDW8"
      },
      "execution_count": null,
      "outputs": []
    },
    {
      "cell_type": "code",
      "source": [
        "# finally\n",
        "\n",
        "try :\n",
        "  num = int(input('정수를 입력하세요.>'))\n",
        "except :\n",
        "  print('정수를 입력하지 않았습니다.')\n",
        "else :\n",
        "  print('입력한 정수는', num,'입니다.')\n",
        "finally :\n",
        "  print('프로그램이 완전히 종료되었습니다.')"
      ],
      "metadata": {
        "id": "Z-QOZO65Ke72"
      },
      "execution_count": null,
      "outputs": []
    },
    {
      "cell_type": "code",
      "source": [
        "# 몇 줄이 print 될까요?\n",
        "def test() :\n",
        "  print('test()함수의 첫 줄 입니다.')\n",
        "  try :\n",
        "    print('try 구문이 실행되었습니다.')\n",
        "    return\n",
        "    print('try 구문의 return 아래입니다.')\n",
        "  except :\n",
        "    print('except 구문이 실행되었습니다.')\n",
        "  else :\n",
        "    print('else 구문이 실행되었습니다.')\n",
        "  finally :\n",
        "    print('finally 구문이 실행되었습니다.')\n",
        "  print('test()함수의 마지막 줄이비다.')\n",
        "\n",
        "\n",
        "test()\n",
        "# return < finally"
      ],
      "metadata": {
        "id": "OtLJknWbLcvy"
      },
      "execution_count": null,
      "outputs": []
    },
    {
      "cell_type": "code",
      "source": [
        "# 몇 줄이 print 될까요?\n",
        "print('프로그램 실행')\n",
        "\n",
        "while True :\n",
        "  try :\n",
        "    print('try구문 실행')\n",
        "    break\n",
        "    print('try 구문의 break 아래')\n",
        "  except :\n",
        "    print('except 구문 실행')\n",
        "  finally :\n",
        "    print('finally 구문 실행')\n",
        "  print('while의 마지막 줄')\n",
        "print('프로그램 종료')\n",
        "# break < finally"
      ],
      "metadata": {
        "id": "2ZGbXzr8NibY"
      },
      "execution_count": null,
      "outputs": []
    },
    {
      "cell_type": "code",
      "source": [
        "# 예외 만들기\n",
        "\n",
        "class MyError(Exception): # 상속\n",
        "  pass\n",
        "  \n",
        "def say_nick(nick):\n",
        "  if nick =='바보':\n",
        "    raise MyError()\n",
        "  print(nick)\n",
        "\n",
        "say_nick('바보')"
      ],
      "metadata": {
        "id": "_XA3TxHdP6P6"
      },
      "execution_count": null,
      "outputs": []
    }
  ]
}