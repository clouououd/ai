{
  "nbformat": 4,
  "nbformat_minor": 0,
  "metadata": {
    "colab": {
      "name": "day02_Review_ai.ipynb",
      "provenance": [],
      "authorship_tag": "ABX9TyMk8kwZGuEICkjwKnJkCFGX",
      "include_colab_link": true
    },
    "kernelspec": {
      "name": "python3",
      "display_name": "Python 3"
    },
    "language_info": {
      "name": "python"
    }
  },
  "cells": [
    {
      "cell_type": "markdown",
      "metadata": {
        "id": "view-in-github",
        "colab_type": "text"
      },
      "source": [
        "<a href=\"https://colab.research.google.com/github/clouououd/ai/blob/main/day02_Review_ai.ipynb\" target=\"_parent\"><img src=\"https://colab.research.google.com/assets/colab-badge.svg\" alt=\"Open In Colab\"/></a>"
      ]
    },
    {
      "cell_type": "code",
      "execution_count": null,
      "metadata": {
        "colab": {
          "base_uri": "https://localhost:8080/"
        },
        "id": "FdBPOJS1rwWB",
        "outputId": "85c75ae5-d8b3-4541-b21b-e86916516a2a"
      },
      "outputs": [
        {
          "output_type": "stream",
          "name": "stdout",
          "text": [
            "Hello World\n",
            "100\n",
            "r\n",
            "d\n",
            "2\n",
            "강남구\n",
            "좋은 아침 입니다.\n",
            "좋은 저녁 입니다.\n",
            "좋은 저녁 입니다.\n",
            "좋은 저녁 입니다.\n",
            "좋은 저녁 입니다.\n"
          ]
        }
      ],
      "source": [
        "###################################################\n",
        "# Review\n",
        "###################################################\n",
        "\n",
        "# [comment 주석]\n",
        "# - 코드에 대한 설명, 컴퓨터는 읽지 않고 사람만 읽는 내용. 본인이 기록한 내용을 나중에 확인할 때 또는 다른 팀원이 작성한 내용을 파악하기 용이하게 만든다.\n",
        "# - 일정 코드를 일시적으로 감추고 싶을 때 사용하기도 함. 주로 에러를 확인하기 위해 일시적으로 감춘다.\n",
        "\n",
        "# '#'을 이용하여 주석을 표시(ctrl + /)\n",
        "\n",
        "# doc string(*주석의 용도로도 쓸 수 있다.)\n",
        "'''\n",
        "작성일 : 2022/01/26\n",
        "담당자 : 홍길동\n",
        "비고 : ausiny@gatech.edu\n",
        "'''\n",
        "\n",
        "# 코드의 윗쪽 또는 오른쪽에 주석을 붙인다.\n",
        "print('Hello World') # 코드의 우측 또는 코드의 윗줄에 적는다.\n",
        "\n",
        "\n",
        "# [변수 Variable]\n",
        "# - 어떤 값을 저장하는 저장소(*완벽한 설명은 아님)\n",
        "a = 100\n",
        "print(a)\n",
        "\n",
        "# 변수명 표형 방삭\n",
        "stumath = 350\n",
        "stu_math_sum = 350 # 스네이크 케이스 snake_case\n",
        "StuMathSum = 350 # 캐멀 케이스 CamelCase\n",
        "\n",
        "# 1a = 100 처럼 변수명에 숫자가 문자보다 먼저 올 수는 없다.\n",
        "a1 = 100\n",
        "\n",
        "# @a = 100 처럼 특수문자는 변수명에 올 수 없다.\n",
        "_a = 100 # _(언더바)는 가능\n",
        "\n",
        "# 한글도 변수명으로 사용 가능하지만 사용을 권장하지 않는다.\n",
        "홍길동 = 55\n",
        "\n",
        "\n",
        "# 인덱싱, 슬라이싱\n",
        "s = 'world'\n",
        "print(s[2]) # 파이썬은 인덱스 시작이 0이다(대부분의 프로그래밍언어는 0에서 시작, java SQR은 1에서 시작)\n",
        "print(s[-1]) # -1은 마지막 인덱스를 가리킨다.\n",
        "s[-1] == s[4]\n",
        "\n",
        "ss = '900101-2547389'\n",
        "print(ss[7]) # 하나만 추출 - 인덱싱\n",
        "addr = '서울시 강남구 역삼동 1번지' # 띄어쓰기도 하나의 데이터이다.\n",
        "print(addr[4:7]) # 규칙성이 있는 여러개를 추출 - 슬라이싱\n",
        "\n",
        "\n",
        "# print()\n",
        "print('좋은 아침 입니다.')\n",
        "\n",
        "when = '저녁'\n",
        "print('좋은',when,'입니다.')\n",
        "print('좋은 %s 입니다.'%when)\n",
        "print('좋은 {} 입니다.'.format(when))\n",
        "print(f'좋은 {when} 입니다.') # f-string으로 권장하는 방법\n"
      ]
    }
  ]
}