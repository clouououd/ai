{
  "nbformat": 4,
  "nbformat_minor": 0,
  "metadata": {
    "colab": {
      "name": "day08.ipynb",
      "provenance": [],
      "authorship_tag": "ABX9TyODWPVuNqHcl63yXNHVya/s",
      "include_colab_link": true
    },
    "kernelspec": {
      "name": "python3",
      "display_name": "Python 3"
    },
    "language_info": {
      "name": "python"
    }
  },
  "cells": [
    {
      "cell_type": "markdown",
      "metadata": {
        "id": "view-in-github",
        "colab_type": "text"
      },
      "source": [
        "<a href=\"https://colab.research.google.com/github/clouououd/ai/blob/main/day08.ipynb\" target=\"_parent\"><img src=\"https://colab.research.google.com/assets/colab-badge.svg\" alt=\"Open In Colab\"/></a>"
      ]
    },
    {
      "cell_type": "code",
      "execution_count": null,
      "metadata": {
        "id": "1V5niHTt79QO"
      },
      "outputs": [],
      "source": [
        "# [ 클래스와 객체 ]\n",
        "\n",
        "# c언어를 제외한 대부분의 언어는 객체 지향 프로그래밍 Object Oriented Programming : OOP 언어이다.\n",
        "- 객체 지향 언어는 클래스를 기반을 객체를 만들고\n",
        "  그 객체들을 우선으로 생각해서 프로그래밍 하는 것을 철학으로 한다.\n",
        "\n"
      ]
    },
    {
      "cell_type": "code",
      "source": [
        "# 객체\n",
        "\n",
        "students = [\n",
        "            {'name' : '슈가', 'korean' : 87, 'math' : 98, 'eng':88, 'sci' : 95},\n",
        "            {'name' : '진', 'korean' : 90, 'math' : 99, 'eng':86, 'sci' : 97},\n",
        "            {'name' : '카리', 'korean' : 99, 'math' : 89, 'eng':99, 'sci' : 99}\n",
        "]\n",
        "\n",
        "print('이름','총점','평균',sep='\\t')\n",
        "\n",
        "for student in students :\n",
        "  # 학생들의 점수의 총합과 평균을 구한다.\n",
        "  score_sum = student['korean'] + student['math'] + student['eng'] + student['sci']\n",
        "  score_avg = score_sum / 4\n",
        "\n",
        "  print(student['name'], score_sum, score_avg, sep='\\t')\n",
        "\n",
        "# 딕셔너리로 학생 한명한명을 표현하고 이를 리스트로 묶어서 학생 전체를 표현했다.\n",
        "# 여러가지 속성을 가질 수 있는 대상을 객체(Object)라고 부른다\n",
        "# 그런데 딕셔너리로 객체를 하나하나 만들면 복잡하고 귀찮다\n",
        "# 키를 모르면 사용하기도 어렵다."
      ],
      "metadata": {
        "colab": {
          "base_uri": "https://localhost:8080/"
        },
        "id": "SoY2Bmq4-LMh",
        "outputId": "70ae5738-1911-41f9-9b18-47e297d7c2a0"
      },
      "execution_count": 5,
      "outputs": [
        {
          "output_type": "stream",
          "name": "stdout",
          "text": [
            "이름\t총점\t평균\n",
            "슈가\t368\t92.0\n",
            "진\t372\t93.0\n",
            "카리\t386\t96.5\n"
          ]
        }
      ]
    },
    {
      "cell_type": "code",
      "source": [
        "# 함수 형태로 변형해보자\n",
        "\n",
        "# 딕셔너리로 리턴하는 함수\n",
        "def create_student(name, korean, math, eng, sci) :\n",
        "  return {\n",
        "      'name' : name,\n",
        "      'korean' : korean,\n",
        "      'math' : math,\n",
        "      'eng' : eng,\n",
        "      'sci' : sci\n",
        "  }\n",
        "  #학생들 리스트\n",
        "students = [\n",
        "            create_student('슈가', 87, 98, 88, 95),\n",
        "            create_student('진', 90, 99, 86, 97),\n",
        "            create_student('카리', 99, 89, 99, 99)\n",
        "]\n",
        "\n",
        "# 한명씩 반복\n",
        "print('이름','총점','평균',sep='\\t')\n",
        "\n",
        "for student in students :\n",
        "  # 학생들의 점수의 총합과 평균을 구한다.\n",
        "  score_sum = student['korean'] + student['math'] + student['eng'] + student['sci']\n",
        "  score_avg = score_sum / 4\n",
        "\n",
        "  print(student['name'], score_sum, score_avg, sep='\\t')"
      ],
      "metadata": {
        "colab": {
          "base_uri": "https://localhost:8080/"
        },
        "id": "-v4QMwB9FnNh",
        "outputId": "2b070d68-8b43-43c5-a98d-337c765c3d48"
      },
      "execution_count": 12,
      "outputs": [
        {
          "output_type": "stream",
          "name": "stdout",
          "text": [
            "이름\t총점\t평균\n",
            "슈가\t368\t92.0\n",
            "진\t372\t93.0\n",
            "카리\t386\t96.5\n"
          ]
        }
      ]
    },
    {
      "cell_type": "code",
      "source": [
        "# 실행 결과는 이전과 동일하다. 그럼 조금 더 변행해보자.\n",
        "# 현재 총점과 평균을 구하는 처리는 학생을 대상으로만 이루어진다.\n",
        "# 따라서 학생을 매개변수로 받는 형태의 함수로 만들면 코드가 좀 더 균형잡히게된다.\n",
        "# 학생들의 점수를 처리하는 부분도 함수로 만들자\n",
        "\n",
        "# 딕셔너리로 리턴하는 함수\n",
        "def create_student(name, korean, math, eng, sci) :\n",
        "  return {\n",
        "      'name' : name,\n",
        "      'korean' : korean,\n",
        "      'math' : math,\n",
        "      'eng' : eng,\n",
        "      'sci' : sci\n",
        "  }\n",
        "\n",
        "def student_get_sum(student) :\n",
        "  return student['korean'] + student['math'] + student['eng'] + student['sci']\n",
        "\n",
        "def student_get_avg(student) :\n",
        "  return student_get_sum(student) / 4\n",
        "\n",
        "def student_to_string(student) :\n",
        "  return '{}\\t{}\\t{}'.format(student['name'],student_get_sum(student), student_get_avg(student))\n",
        "\n",
        "# 학생 리스트 선언\n",
        "students = [\n",
        "            create_student('슈가', 87, 98, 88, 95),\n",
        "            create_student('진', 90, 99, 86, 97),\n",
        "            create_student('카리', 99, 89, 99, 99)\n",
        "]\n",
        "\n",
        "print('이름','총점','평균',sep='\\t')\n",
        "for student in students :\n",
        "  print(student_to_string(student))"
      ],
      "metadata": {
        "colab": {
          "base_uri": "https://localhost:8080/"
        },
        "id": "IrcAgu75HPSp",
        "outputId": "bcf15927-14e7-4012-898b-a3262faa460d"
      },
      "execution_count": 4,
      "outputs": [
        {
          "output_type": "stream",
          "name": "stdout",
          "text": [
            "이름\t총점\t평균\n",
            "슈가\t368\t92.0\n",
            "진\t372\t93.0\n",
            "카리\t386\t96.5\n"
          ]
        }
      ]
    },
    {
      "cell_type": "code",
      "source": [
        "# 실행 결과가 이전과 같지만 코드가 분리되고 있다. 학생이라는 객체와  관련된 기능이 위로 올라갔고\n",
        "# 이 객체들을 사용하는 처리들은 아래로 내려갔다.\n",
        "# 이렇게 하면 '학생 객체와 관련된 기능'을 별도의 모듈로 빼서 관리할 수 도 있다.\n",
        "\n",
        "# 객체와 관련된 코드를 분리할 수 있게 하는 것이 객체 지향 프로그래밍의 핵심이다.\n",
        "# 클래스라는 구조를 사용하면 위와 같은 형태의 코드를 좀 더 쉽고 편하게 구현할 수 있다."
      ],
      "metadata": {
        "id": "CZ-97brqJvw8"
      },
      "execution_count": null,
      "outputs": []
    },
    {
      "cell_type": "code",
      "source": [
        "# 클래스 선언\n",
        "class Student :\n",
        "  # 생성자 constructor\n",
        "  def __init__(self, name, korean, math, eng, sci) :\n",
        "    self.name = name\n",
        "    self.korean = korean\n",
        "    self.math = math\n",
        "    self.eng = eng\n",
        "    self.sci = sci\n",
        "\n",
        "# 학생 리스트\n",
        "students = [\n",
        "            Student('슈가', 87, 98, 88, 95),\n",
        "            Student('진', 90, 99, 86, 97),\n",
        "            Student('카리', 99, 89, 99, 99)\n",
        "]\n",
        "\n",
        "students[0].name\n",
        "students[1].name\n",
        "students[2].name"
      ],
      "metadata": {
        "colab": {
          "base_uri": "https://localhost:8080/",
          "height": 35
        },
        "id": "QfjM1tRpKqFN",
        "outputId": "0eee6e4f-3d17-492a-8b4e-d7a6beabd14f"
      },
      "execution_count": 3,
      "outputs": [
        {
          "output_type": "execute_result",
          "data": {
            "application/vnd.google.colaboratory.intrinsic+json": {
              "type": "string"
            },
            "text/plain": [
              "'카리'"
            ]
          },
          "metadata": {},
          "execution_count": 3
        }
      ]
    },
    {
      "cell_type": "code",
      "source": [
        "# method 매서드\n",
        "클래스가 가지고 있는 함수를 매서드라고 부른다.\n",
        "매서드 첫번째 매개변수로 self를 넣어야한다."
      ],
      "metadata": {
        "id": "I-zC8iukOM63"
      },
      "execution_count": null,
      "outputs": []
    },
    {
      "cell_type": "code",
      "source": [
        "class Student :\n",
        "  # 생성자 constructor\n",
        "  def __init__(self, name, korean, math, eng, sci) :\n",
        "    self.name = name\n",
        "    self.korean = korean\n",
        "    self.math = math\n",
        "    self.eng = eng\n",
        "    self.sci = sci\n",
        "\n",
        "  def get_sum(self) :\n",
        "    return self.korean + self.math + self.eng + self.sci\n",
        "\n",
        "  def get_avg(self) :\n",
        "    return self.get_sum() / 4\n",
        "\n",
        "  def to_string(self) :\n",
        "    return '{}\\t{}\\t{}'.format(self.name, self.get_sum(), self.get_avg())\n",
        "\n",
        "# 학생 리스트\n",
        "students = [\n",
        "            Student('슈가', 87, 98, 88, 95),\n",
        "            Student('진', 90, 99, 86, 97),\n",
        "            Student('카리', 99, 89, 99, 99)\n",
        "]\n",
        "\n",
        "print('이름','총점','평균',sep='\\t')\n",
        "for student in students :\n",
        "  print(student.to_string())\n",
        "\n",
        "# 어떤 객체가 가지고 있는 어떤 함수(기능)을 명확하게 이해할 수 있으므로 매우 편리하다"
      ],
      "metadata": {
        "colab": {
          "base_uri": "https://localhost:8080/"
        },
        "id": "Tck4H3u2O0av",
        "outputId": "345811f6-221e-4ff6-b9e6-b2e41114de5d"
      },
      "execution_count": 8,
      "outputs": [
        {
          "output_type": "stream",
          "name": "stdout",
          "text": [
            "이름\t총점\t평균\n",
            "슈가\t368\t92.0\n",
            "진\t372\t93.0\n",
            "카리\t386\t96.5\n"
          ]
        }
      ]
    },
    {
      "cell_type": "code",
      "source": [
        "# 계산기\n",
        "result1 = 0\n",
        "result2 = 0\n",
        "\n",
        "# add함수는 입력받은 값을 이전에 계산한 값에 더한 후 돌려주는 함수\n",
        "def add1(num) :\n",
        "  global result1\n",
        "  result1 += num\n",
        "  return result1\n",
        "\n",
        "def add2(num) :\n",
        "  global result2\n",
        "  result2 += num\n",
        "  return result2\n",
        "\n",
        "print(add1(3))\n",
        "print(add1(4))\n",
        "\n",
        "print(add2(2))\n",
        "print(add2(5))\n",
        "\n",
        "# 객체들끼리는 서로 영향을 끼치지 않는다"
      ],
      "metadata": {
        "colab": {
          "base_uri": "https://localhost:8080/"
        },
        "id": "hDRgsIm2QmoO",
        "outputId": "420eab50-e45e-4e2e-91a0-a03b15806053"
      },
      "execution_count": 10,
      "outputs": [
        {
          "output_type": "stream",
          "name": "stdout",
          "text": [
            "3\n",
            "7\n",
            "2\n",
            "7\n"
          ]
        }
      ]
    },
    {
      "cell_type": "code",
      "source": [
        "class Cal :\n",
        "  # 생성자\n",
        "  def __init__(self) :\n",
        "    self.result = 0\n",
        "\n",
        "  def add(self, num) :\n",
        "    self.result += num\n",
        "    return self.result\n",
        "  \n",
        "  def sub(self, num) :\n",
        "    self.result -= num\n",
        "    return self.result\n",
        "\n",
        "cal1 = Cal() # 객체 만들기\n",
        "cal2 = Cal()\n",
        "\n",
        "print(cal1.add(3))\n",
        "print(cal1.add(4))\n",
        "\n",
        "print(cal2.add(5))\n",
        "print(cal2.add(6))\n",
        "\n",
        "# 객체들끼리는 서로 영향을 끼치지 않는다. 같은 class를 쓰더라도 서로 영향을 끼치지 않는다."
      ],
      "metadata": {
        "colab": {
          "base_uri": "https://localhost:8080/"
        },
        "id": "KE23BAZhUACz",
        "outputId": "1c3566ea-cc8a-4a2e-ef27-48728053d88b"
      },
      "execution_count": 15,
      "outputs": [
        {
          "output_type": "stream",
          "name": "stdout",
          "text": [
            "3\n",
            "7\n",
            "5\n",
            "11\n"
          ]
        }
      ]
    },
    {
      "cell_type": "code",
      "source": [
        "class FourCal :\n",
        "  def setdata(self, first, second) :\n",
        "    self.first = first\n",
        "    self.second = second\n",
        "\n",
        "  def add(self) :\n",
        "    result = self.first + self.second\n",
        "    return result\n",
        "\n",
        "  def sub(self) :\n",
        "    result = self.first - self.second\n",
        "    return result\n",
        "\n",
        "  def div(self) :\n",
        "    result = self.first / self.second\n",
        "    return result\n",
        "\n",
        "  def mul(self) :\n",
        "    result = self.first * self.second\n",
        "    return result\n",
        "\n",
        "a = FourCal()\n",
        "\n",
        "type(a)\n",
        "a.setdata(4, 2)\n",
        "a.first\n",
        "a.second\n",
        "a.add()\n",
        "a.mul()\n",
        "a.div()\n",
        "a.sub()"
      ],
      "metadata": {
        "colab": {
          "base_uri": "https://localhost:8080/"
        },
        "id": "_-Z3MuI_WLze",
        "outputId": "7dde7997-cc46-4802-b28d-4e235a62112a"
      },
      "execution_count": 32,
      "outputs": [
        {
          "output_type": "execute_result",
          "data": {
            "text/plain": [
              "2"
            ]
          },
          "metadata": {},
          "execution_count": 32
        }
      ]
    },
    {
      "cell_type": "code",
      "source": [
        "# 생성자 constructor\n",
        "# 객체가 생성될때 자동으로 호출되는 매서드를 의미한다.\n",
        "\n",
        "class FourCal :\n",
        "  # constructor\n",
        "  def __init__(self, first, second) :\n",
        "    self.first = first\n",
        "    self.second = second\n",
        "  # method\n",
        "  def add(self) :\n",
        "    result = self.first + self.second\n",
        "    return result\n",
        "\n",
        "  def sub(self) :\n",
        "    result = self.first - self.second\n",
        "    return result\n",
        "\n",
        "  def div(self) :\n",
        "    result = self.first / self.second\n",
        "    return result\n",
        "\n",
        "  def mul(self) :\n",
        "    result = self.first * self.second\n",
        "    return result\n",
        "\n",
        "# a.setdata(4, 2)\n",
        "# 　　↓\n",
        "a = FourCal(4,2)\n",
        "a.first\n",
        "a.second\n",
        "\n",
        "# b = FourCal() \n",
        "# TypeError: __init__() missing 2 required positional arguments: 'first' and 'second'\n",
        "# __inti__에서 데이터 두개를 받기로 했으므로 객체를 생성시 데이터 2개가 필요하다"
      ],
      "metadata": {
        "id": "zoZfypgQdBVr"
      },
      "execution_count": null,
      "outputs": []
    },
    {
      "cell_type": "code",
      "source": [
        "# inheritance 상속\n",
        "# 어떤 클래스를 만들때 다른 클래스의 기능을 물러받아 사용한다.\n",
        "\n",
        "class MoreFourCal(FourCal) :\n",
        "  pass\n",
        "\n",
        "a = MoreFourCal(4, 2)\n",
        "a.add()"
      ],
      "metadata": {
        "colab": {
          "base_uri": "https://localhost:8080/"
        },
        "id": "xoBffACie9xt",
        "outputId": "1934a396-1b94-4716-d405-974b0970d2d0"
      },
      "execution_count": 36,
      "outputs": [
        {
          "output_type": "execute_result",
          "data": {
            "text/plain": [
              "6"
            ]
          },
          "metadata": {},
          "execution_count": 36
        }
      ]
    },
    {
      "cell_type": "code",
      "source": [
        "# 상속받아 기능 추가하기\n",
        "class MoreFourCal(FourCal) :\n",
        "  def pow(self) :\n",
        "    result = self.first**self.second\n",
        "    return result\n",
        "\n",
        "a = MoreFourCal(4, 2)\n",
        "a.pow()"
      ],
      "metadata": {
        "colab": {
          "base_uri": "https://localhost:8080/"
        },
        "id": "NGBWittZgLeF",
        "outputId": "06ea7537-a729-4bb8-c8a9-6c5c36bbe05e"
      },
      "execution_count": 37,
      "outputs": [
        {
          "output_type": "execute_result",
          "data": {
            "text/plain": [
              "16"
            ]
          },
          "metadata": {},
          "execution_count": 37
        }
      ]
    },
    {
      "cell_type": "code",
      "source": [
        "# method overriding 매서드 오버라이딩\n",
        "# 상속받아 기존의 기능 수정하기\n",
        "# 상속을 받은 자식 class에서 부모 class와 같은 명의 method를 정의할 경우 자식 class 호출시\n",
        "# 자식 class의 정의를 우선시 한다\n",
        "\n",
        "# a = FourCal(4,0)\n",
        "# a.div()\n",
        "# ZeroDivisionError: division by zero\n",
        "# 값을 0으로 나눌시 에러\n",
        "\n",
        "class SafeFourCal(FourCal) :\n",
        "  def div(self) :\n",
        "    if self.second == 0 :\n",
        "      return 0\n",
        "    else :\n",
        "      return self.first / self.second\n",
        "\n",
        "a = SafeFourCal(4,0)\n",
        "a.div()"
      ],
      "metadata": {
        "colab": {
          "base_uri": "https://localhost:8080/"
        },
        "id": "jNOEHmqcgkRD",
        "outputId": "7aefcaff-9b74-445a-eb35-cd6af5e63eef"
      },
      "execution_count": 40,
      "outputs": [
        {
          "output_type": "execute_result",
          "data": {
            "text/plain": [
              "0"
            ]
          },
          "metadata": {},
          "execution_count": 40
        }
      ]
    },
    {
      "cell_type": "code",
      "source": [
        "# 클래스 변수\n",
        "# 객체 변수는 다른 객체들에 영향받지 않고 독립적으로 그값을 유지한다는 점을 이미 알아보았다\n",
        "# 이번에는 객체변수와는 성격이 다른 클래스 변수에 대해 알아보자\n",
        "\n",
        "class Family :\n",
        "  lastname = '김' # 클래스 변수 선언\n",
        "\n",
        "Family.lastname # 객체를 통하지 않고 class를 통해서 불러올수 있다.\n",
        "\n",
        "a = Family()\n",
        "b = Family()\n",
        "\n",
        "print(a.lastname)\n",
        "print(b.lastname)\n",
        "\n",
        "Family.lastname = '박'\n",
        "# 클래스 변수는 공유되기때문에 바뀌면 객체들도 바뀐다.\n",
        "# 단, 클래스로 접근해야 공유된다.\n",
        "# 객체로 접근(a.lastname = '박')시는 공유되지 않음\n",
        "print(a.lastname)\n",
        "print(b.lastname)\n"
      ],
      "metadata": {
        "id": "BL-xyluaicTi"
      },
      "execution_count": null,
      "outputs": []
    },
    {
      "cell_type": "code",
      "source": [
        "# 연습예제\n",
        "class Calculator :\n",
        "  def __init__(self) :\n",
        "    self.value = 0\n",
        "  \n",
        "  def add(self, val) :\n",
        "    self.value += val\n",
        "\n",
        "class UpgradeCalculator(Calculator) :\n",
        "  def minus(self, val) :\n",
        "    self.value -= val\n",
        "\n",
        "cal = UpgradeCalculator()\n",
        "cal.add(10)\n",
        "cal.minus(7)\n",
        "\n",
        "print(cal.value)"
      ],
      "metadata": {
        "colab": {
          "base_uri": "https://localhost:8080/"
        },
        "id": "SwnyzdshkK83",
        "outputId": "74d0ea57-ff10-45d3-972a-ab852a77d437"
      },
      "execution_count": 47,
      "outputs": [
        {
          "output_type": "stream",
          "name": "stdout",
          "text": [
            "3\n"
          ]
        }
      ]
    }
  ]
}
