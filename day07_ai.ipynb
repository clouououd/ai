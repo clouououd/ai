{
  "nbformat": 4,
  "nbformat_minor": 0,
  "metadata": {
    "colab": {
      "name": "day07_ai.ipynb",
      "provenance": [],
      "authorship_tag": "ABX9TyNV1kpm9iMBxW66gbXUOwPf",
      "include_colab_link": true
    },
    "kernelspec": {
      "name": "python3",
      "display_name": "Python 3"
    },
    "language_info": {
      "name": "python"
    }
  },
  "cells": [
    {
      "cell_type": "markdown",
      "metadata": {
        "id": "view-in-github",
        "colab_type": "text"
      },
      "source": [
        "<a href=\"https://colab.research.google.com/github/clouououd/ai/blob/main/day07_ai.ipynb\" target=\"_parent\"><img src=\"https://colab.research.google.com/assets/colab-badge.svg\" alt=\"Open In Colab\"/></a>"
      ]
    },
    {
      "cell_type": "code",
      "execution_count": null,
      "metadata": {
        "id": "jj1WdeTHxf08"
      },
      "outputs": [],
      "source": [
        "# 예외 처리 고급\n",
        "\n",
        "프로그램을 개발하다 보면 수많은 오류를 만나게 된다. \n",
        "또한 처음 프로그램을 개발했을 때 모든 오류를 예측하고 처리할 수는 없다. \n",
        "개발이 완료된 후에도 예측하지 못한 오류들이 계속 발생되기 때문에 유지 보수가 필요하다\n",
        "\n",
        "try :\n",
        "  예외 발생 가능성 있는 구문\n",
        "except :\n",
        "  예외가 발생했을 때 실행할 구문\n",
        "\n",
        "try :\n",
        "  예외 발생 가능성이 있는 구문\n",
        "except 예외의 종류 as e (예외 객체를 활용할 변수이름) :\n",
        "  예외가 발생했을 때 실행할 구문\n",
        "\n",
        "예외가 발생하면 예외정보가 생기고 예외 정보는 예외 객체에 저장되어 생성된다."
      ]
    },
    {
      "cell_type": "code",
      "source": [
        "# 예외 객체\n",
        "\n",
        "try :\n",
        "  num = int(input('정수를 입력하세요.'))\n",
        "  print('입력한 정수 :',num)\n",
        "except Exception as e :\n",
        "  print('tyape(exception) :',type(e))\n",
        "  print('exception :',e)"
      ],
      "metadata": {
        "colab": {
          "base_uri": "https://localhost:8080/"
        },
        "id": "tx5AwCcVyMvU",
        "outputId": "0b688469-1e80-4019-bf7f-8a0eb17a5fcc"
      },
      "execution_count": 3,
      "outputs": [
        {
          "output_type": "stream",
          "name": "stdout",
          "text": [
            "정수를 입력하세요.d\n",
            "tyape(exception) : <class 'ValueError'>\n",
            "exception : invalid literal for int() with base 10: 'd'\n"
          ]
        }
      ]
    }
  ]
}