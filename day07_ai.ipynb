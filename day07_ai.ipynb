{
  "nbformat": 4,
  "nbformat_minor": 0,
  "metadata": {
    "colab": {
      "name": "day07_ai.ipynb",
      "provenance": [],
      "authorship_tag": "ABX9TyN8sQQjRTWPiA7sRm9rnbVi",
      "include_colab_link": true
    },
    "kernelspec": {
      "name": "python3",
      "display_name": "Python 3"
    },
    "language_info": {
      "name": "python"
    }
  },
  "cells": [
    {
      "cell_type": "markdown",
      "metadata": {
        "id": "view-in-github",
        "colab_type": "text"
      },
      "source": [
        "<a href=\"https://colab.research.google.com/github/clouououd/ai/blob/main/day07_ai.ipynb\" target=\"_parent\"><img src=\"https://colab.research.google.com/assets/colab-badge.svg\" alt=\"Open In Colab\"/></a>"
      ]
    },
    {
      "cell_type": "code",
      "execution_count": null,
      "metadata": {
        "id": "jj1WdeTHxf08"
      },
      "outputs": [],
      "source": [
        "# 예외 처리 고급\n",
        "\n",
        "프로그램을 개발하다 보면 수많은 오류를 만나게 된다. \n",
        "또한 처음 프로그램을 개발했을 때 모든 오류를 예측하고 처리할 수는 없다. \n",
        "개발이 완료된 후에도 예측하지 못한 오류들이 계속 발생되기 때문에 유지 보수가 필요하다\n",
        "\n",
        "try :\n",
        "  예외 발생 가능성 있는 구문\n",
        "except :\n",
        "  예외가 발생했을 때 실행할 구문\n",
        "\n",
        "try :\n",
        "  예외 발생 가능성이 있는 구문\n",
        "except 예외의 종류 as e (예외 객체를 활용할 변수이름) :\n",
        "  예외가 발생했을 때 실행할 구문\n",
        "\n",
        "예외가 발생하면 예외정보가 생기고 예외 정보는 예외 객체에 저장되어 생성된다."
      ]
    },
    {
      "cell_type": "code",
      "source": [
        "# 예외 객체\n",
        "\n",
        "try :\n",
        "  num = int(input('정수를 입력하세요.'))\n",
        "  print('입력한 정수 :',num)\n",
        "except Exception as e :\n",
        "  print('tyape(exception) :',type(e))\n",
        "  print('exception :',e)\n",
        "\n",
        "# 만약 큰 규모의 웹 서비스를 구축하게 된다면 다양한 예외가 분명히 발생한다.\n",
        "# 예외가 발생할 때 그 정보를 수집하면 이후 프로그램을 유지/보수 하는데 큰 도움이 된다."
      ],
      "metadata": {
        "id": "tx5AwCcVyMvU"
      },
      "execution_count": null,
      "outputs": []
    },
    {
      "cell_type": "code",
      "source": [
        "# 예외 구분하기\n",
        "\n",
        "list = [52, 273, 32, 72, 100]\n",
        "\n",
        "try :\n",
        "  num = int(input('정수 입력>>>'))\n",
        "  print(f'{num}번째 요소 : {list[num]}')\n",
        "except Exception as e :\n",
        "  print('tyape(exception) :',type(e))\n",
        "  print('exception :',e)\n",
        "\n",
        "# 코드의 내부에서는 이처럼 여러가지의 예외가 발생할 수 있다.\n",
        "# 파이썬은 예외들을 구분하여 처리할 수 있다."
      ],
      "metadata": {
        "colab": {
          "base_uri": "https://localhost:8080/"
        },
        "id": "3B5WHqaozQj8",
        "outputId": "b301fd49-3be9-4ce1-a7f6-99102e864fb8"
      },
      "execution_count": 8,
      "outputs": [
        {
          "output_type": "stream",
          "name": "stdout",
          "text": [
            "정수 입력>>>s\n",
            "tyape(exception) : <class 'ValueError'>\n",
            "exception : invalid literal for int() with base 10: 's'\n"
          ]
        }
      ]
    },
    {
      "cell_type": "code",
      "source": [
        "# 파이썬은 예외들을 구분하여 처리할 수 있다.\\\n",
        "\n",
        "list = [52, 273, 32, 72, 100]\n",
        "\n",
        "try :\n",
        "  num = int(input('정수 입력>>>'))\n",
        "  print(f'{num}번째 요소 : {list[num]}')\n",
        "# except Exception as e :\n",
        "#   print('tyape(exception) :',type(e))\n",
        "#   print('exception :',e)\n",
        "except ValueError :\n",
        "  print('정수를 입력하셔야만 합니다.')\n",
        "except IndexError :\n",
        "  print('리스트 크기보다 큰 수는 입력하실 수 없습니다.')"
      ],
      "metadata": {
        "colab": {
          "base_uri": "https://localhost:8080/"
        },
        "id": "3Z2MS3rK5e7v",
        "outputId": "bd6ab865-1100-4317-c4a1-5c88b8bc6ba7"
      },
      "execution_count": 10,
      "outputs": [
        {
          "output_type": "stream",
          "name": "stdout",
          "text": [
            "정수 입력>>>ㅇㅁㅇㄹ\n",
            "정수를 입력하셔야만 합니다.\n"
          ]
        }
      ]
    },
    {
      "cell_type": "code",
      "source": [
        "# 파이썬은 예외들을 구분하여 처리할 수 있다. 그 에러내 용을 받을 수도 있다.\n",
        "\n",
        "list = [52, 273, 32, 72, 100]\n",
        "\n",
        "try :\n",
        "  num = int(input('정수 입력>>>'))\n",
        "  print(f'{num}번째 요소 : {list[num]}')\n",
        "# except Exception as e :\n",
        "#   print('tyape(exception) :',type(e))\n",
        "#   print('exception :',e)\n",
        "except ValueError as e:\n",
        "  print('정수를 입력하셔야만 합니다.')\n",
        "  print('exception :',e)\n",
        "except IndexError as e:\n",
        "  print('리스트 크기보다 큰 수는 입력하실 수 없습니다.')\n",
        "  print('exception :',e)"
      ],
      "metadata": {
        "colab": {
          "base_uri": "https://localhost:8080/"
        },
        "id": "LnJ1y5vh6H16",
        "outputId": "5c75523f-7515-4e8e-a24d-4e63667a256a"
      },
      "execution_count": 13,
      "outputs": [
        {
          "output_type": "stream",
          "name": "stdout",
          "text": [
            "정수 입력>>>a\n",
            "정수를 입력하셔야만 합니다.\n",
            "exception : invalid literal for int() with base 10: 'a'\n"
          ]
        }
      ]
    },
    {
      "cell_type": "code",
      "source": [
        "# 파이썬은 예외들을 구분하여 처리할 수 있다. 그 에러내 용을 받을 수도 있다.\n",
        "# 그럼에도 예기치 못한 에러가 발생할 수 있다.\n",
        "\n",
        "list = [52, 273, 32, 72, 100]\n",
        "\n",
        "try :\n",
        "  num = int(input('정수 입력>>>'))\n",
        "  print(f'{num}번째 요소 : {list[num]}')\n",
        "  예외.발생()\n",
        "# except Exception as e :\n",
        "#   print('tyape(exception) :',type(e))\n",
        "#   print('exception :',e)\n",
        "except ValueError as e:\n",
        "  print('정수를 입력하셔야만 합니다.')\n",
        "  print('exception :',e)\n",
        "except IndexError as e:\n",
        "  print('리스트 크기보다 큰 수는 입력하실 수 없습니다.')\n",
        "  print('exception :',e)\n",
        "except Exception as e:\n",
        "  # 나머지 모든 예기치 못한 예외를 여기서 처리하자\n",
        "  print('미리 파악하지 못한 예외 발생')\n",
        "  print(type(e),e)\n",
        "\n",
        "# 너무 치명적인 문제인데도 프로그램이 강제 종료되지 않게 만들면\n",
        "# 그것으로 더욱 큰 문제를 야기할 수도 있으므로 상황에 맞게 대처할 수 있어야 한다.\n",
        "\n",
        "# 큰 규모의 프로그램을 개발할때는 '예외처리로 떡칠한다'로 표현할 정도로 예외 처리를 많이 사용하게 된다.\n",
        "\n",
        "# 예외 처리에서 가장 중요한 것은 '이 코드에서 어떤 예외가 발생할 것인가?'를 미리 예측하는 것 이다."
      ],
      "metadata": {
        "id": "aHJWhNbH6sEY"
      },
      "execution_count": null,
      "outputs": []
    },
    {
      "cell_type": "code",
      "source": [
        "# 예외를 강제로 발생시키기. raise\n",
        "\n",
        "num = int(input('정수입력>>>'))\n",
        "\n",
        "if num > 0 :\n",
        "  raise NotImplementedError # 구현되지 않았을 때 발생하는 오류\n",
        "else :\n",
        "  raise NotImplementedError"
      ],
      "metadata": {
        "id": "OaLHIWJW8Y-u"
      },
      "execution_count": null,
      "outputs": []
    },
    {
      "cell_type": "code",
      "source": [
        "# 모듈\n",
        "# 여러 변수와 함수를 가지고 있는 집합체\n",
        "# 파이썬에 기본적으로 내장되어 있는 모듈을 '표준 모듈'이라고 부르고\n",
        "# 다른 사람이 만들어서 공개한 모듈을 '외부모듈'이라고 부른다."
      ],
      "metadata": {
        "id": "-a_MMn_g9HYf"
      },
      "execution_count": null,
      "outputs": []
    },
    {
      "cell_type": "code",
      "source": [
        "# math 모듈 - 수학과 관련된 기능들을 가진 모듈\n",
        "\n",
        "import math # 모듈 불러오기\n",
        "\n",
        "print(math.sin(1))\n",
        "print(math.cos(1))\n",
        "print(math.tan(1))\n",
        "\n",
        "# ceil() 올림\n",
        "# floor() 내림\n",
        "# round() 반올림"
      ],
      "metadata": {
        "id": "IkXYqBED9mQD"
      },
      "execution_count": null,
      "outputs": []
    },
    {
      "cell_type": "code",
      "source": [
        "# 일일히 모듈명을 적어주지 않아도 된다.\n",
        "# 단, 특정 매서드 들만 가져온다.\n",
        "from math import sin, cos, tan\n",
        "\n",
        "print(sin(1))\n",
        "print(cos(1))\n",
        "print(tan(1))"
      ],
      "metadata": {
        "id": "yK-eZmWG-p5B"
      },
      "execution_count": null,
      "outputs": []
    },
    {
      "cell_type": "code",
      "source": [
        "# 모듈에 있는 모든 기능 불러오기\n",
        "# 단, 무게가 무거워진다\n",
        "from math import *\n",
        "\n",
        "print(sin(1))\n",
        "print(cos(1))\n",
        "print(tan(1))"
      ],
      "metadata": {
        "id": "ch44_xc0_dF-"
      },
      "execution_count": null,
      "outputs": []
    },
    {
      "cell_type": "code",
      "source": [
        "# 내가 정한 명으로 불러오기\n",
        "import math as m\n",
        "\n",
        "print(m.sin(1))\n",
        "print(m.cos(1))\n",
        "print(m.tan(1))"
      ],
      "metadata": {
        "id": "8bBcku2mACar"
      },
      "execution_count": null,
      "outputs": []
    },
    {
      "cell_type": "code",
      "source": [
        "# 외부 모듈 설치 하고 import\n",
        "# pip install 모듈명\n",
        "# 설치 되어 있지 않으면 외부 모듈을 불러올 수 없다\n",
        "# import selenium \n",
        "\n",
        "# colab의 경우 !를 입력해야 한다. vscode에서는 터미널에다 입력한다\n",
        "# !pip install selenium\n",
        "import selenium"
      ],
      "metadata": {
        "id": "EzI-t5EIAfno"
      },
      "execution_count": 27,
      "outputs": []
    },
    {
      "cell_type": "code",
      "source": [
        "# random 모듈 - 랜덤한 숫자를 생성해주는 모듈\n",
        "import random\n",
        "\n",
        "print('# randdom 모듈')\n",
        "# 기본적으로 0.0에서 1.0사이의 float으로 난수를 발생시킨다.\n",
        "\n",
        "print('- random() :',random.random())\n",
        "\n",
        "# umiform(min, max) : 지정한 범위 사이의 float을 발생시킨다.\n",
        "print('- uniform(10,20):',random.uniform(10,20))\n",
        "\n",
        "# randrange() : 지정한 범위의 int를 발생시킨다.\n",
        "print('- randrange(10,20):',random.randrange(10,20))\n",
        "# 시작값은 생략가능하고 생략하면 0부터 시작한다\n",
        "print('- randrange(10) :',random.randrange(10))\n",
        "\n",
        "# choice(list) : 리스트 내부에 있는 요소를 랜덤하게 선택한다.\n",
        "print('- choice([1,2,3,4,5]) :', random.choice([1,2,3,4,5]))\n",
        "\n",
        "# sample(list, k=숫자) : 리스트의 요소 중 k개를 랜덤하게 뽑아준다.\n",
        "print('- sample([1,2,3,4,5],k=2) :', random.sample([1,2,3,4,5],k=2))\n",
        "\n",
        "# shuffle(list) : 리스트의 요소들을 랜덤하게 섞어준다.\n",
        "# shuffle은 파괴적 처리를 하기 때문에 먼저 섞는 작업을 하고 나서 출력해야한다.\n",
        "my_list=[1,2,3,4,5]\n",
        "random.shuffle(my_list)\n",
        "print('- shuffle([1,2,3,4,5]) :', my_list)"
      ],
      "metadata": {
        "colab": {
          "base_uri": "https://localhost:8080/"
        },
        "id": "2MHHvIHqBi98",
        "outputId": "d454881d-8373-4c05-8218-ce6f67ecf73c"
      },
      "execution_count": 47,
      "outputs": [
        {
          "output_type": "stream",
          "name": "stdout",
          "text": [
            "# randdom 모듈\n",
            "- random() : 0.4648299542221549\n",
            "- uniform(10,20): 19.883700331612573\n",
            "- randrange(10,20): 15\n",
            "- randrange(10) : 4\n",
            "- choice([1,2,3,4,5]) : 3\n",
            "- shuffle([1,2,3,4,5]) : [2, 4, 1, 5, 3]\n",
            "- sample([1,2,3,4,5],k=2) : [3, 2]\n"
          ]
        }
      ]
    },
    {
      "cell_type": "code",
      "source": [
        "# 여러분은 로또 당첨 번호 추천 인공지능 시스템 개발하였다.\n",
        "# 매주 5개의 당첨 1등 완전 당첨 추천 번호를 판매를 시작한다.\n",
        "# 실행하면 5개의 로또 번호를 보여주는 프로그램\n",
        "import random\n",
        "\n",
        "li = [0,0,0,0,0,0]\n",
        "for i in range(5) :\n",
        "  for j in range(6) :\n",
        "    li[j] = random.randrange(1,46)\n",
        "  print(li)\n",
        "  li = [0,0,0,0,0,0]\n",
        "# 중첩 문제 있음"
      ],
      "metadata": {
        "id": "7k36VeitI0WY"
      },
      "execution_count": null,
      "outputs": []
    },
    {
      "cell_type": "code",
      "source": [
        "# 내가 한것\n",
        "lotto_num = []\n",
        "for i in range(1,46) :\n",
        "  lotto_num.append(i)\n",
        "\n",
        "for i in range(5) :\n",
        "  print(random.sample(lotto_num, k=6))"
      ],
      "metadata": {
        "id": "Q_jluEN0TAae"
      },
      "execution_count": null,
      "outputs": []
    },
    {
      "cell_type": "code",
      "source": [
        "# os 모듈\n",
        "\n",
        "import os\n",
        "\n",
        "print('현재 운영체제 :', os.name) # colab은 linux??\n",
        "print('현재 작업폴더 :', os.getcwd())\n",
        "print('현재 폴더내부 :', os.listdir())\n",
        "\n",
        "# os.mkdir('hello') # 'hello'라는 폴더 make\n",
        "print('현재 폴더내부 :', os.listdir()) # 확인\n",
        "# os.rmdir('hello') # 'hello'라는 폴더 remove\n",
        "print('현재 폴더내부 :', os.listdir()) # 확인"
      ],
      "metadata": {
        "id": "RyU3xPnhOXs8"
      },
      "execution_count": null,
      "outputs": []
    },
    {
      "cell_type": "code",
      "source": [
        "# urllib 크롤링 등 웹 접근 라이브러리\n",
        "\n",
        "from urllib import request\n",
        "\n",
        "target = request.urlopen('https://music.bugs.co.kr/')\n",
        "output = target.read()\n",
        "\n",
        "print(output)\n",
        "# The security policy of the connection request is blocked 못 긁어오게 블락된 경우도 있다.\n",
        "# HTTPError: HTTP Error 406: Not Acceptable 블락되어 오류가 뜨는 경우"
      ],
      "metadata": {
        "id": "T2vOdTmgUPfx"
      },
      "execution_count": null,
      "outputs": []
    },
    {
      "cell_type": "code",
      "source": [
        "# 외부 모듈\n",
        "# 파이썬이 기본적을 제공해주는 것이 아니라 누군가가 만들어서 배포하는 모듈을 말한다.\n",
        "\n",
        "# !pip install pybithumb 한번 설치하면 다시 설치할 필요는 없다\n",
        "import pybithumb # bithumb에서 제공하는 파이썬 모듈\n",
        "import time\n",
        "\n",
        "while True :\n",
        "  print(pybithumb.get_current_price('BTC')) # 비트코인 현재가격 조회\n",
        "  print(pybithumb.get_current_price('ETH')) # 이더리움 현재가격 조회\n",
        "  time.sleep(1) # 1초 휴식"
      ],
      "metadata": {
        "id": "4u_wYrQRWL_-"
      },
      "execution_count": null,
      "outputs": []
    },
    {
      "cell_type": "code",
      "source": [
        "tickers = pybithumb.get_tickers() # 각 종목의 이름(key)을 불러옴\n",
        "print(tickers)\n",
        "print(len(tickers))\n",
        "\n",
        "for ticker in tickers :\n",
        "  print(ticker,pybithumb.get_current_price(ticker))\n",
        "  time.sleep(1)"
      ],
      "metadata": {
        "id": "88l4QQznZc5b"
      },
      "execution_count": null,
      "outputs": []
    },
    {
      "cell_type": "code",
      "source": [
        "print(pybithumb.get_market_detail('BTC'))\n",
        "# 저가, 고가, 평균, 거래량 등.."
      ],
      "metadata": {
        "id": "5YTLB81cbSQ4"
      },
      "execution_count": null,
      "outputs": []
    },
    {
      "cell_type": "code",
      "source": [
        "# !pip install pykorbit #코빗\n",
        "\n",
        "import pykorbit\n",
        "\n",
        "print(pykorbit.get_current_price('BTC'))\n",
        "print(pybithumb.get_current_price('BTC'))"
      ],
      "metadata": {
        "colab": {
          "base_uri": "https://localhost:8080/"
        },
        "id": "qFql1n8SbtTG",
        "outputId": "9f802824-8eab-4c6c-9f42-9da858ede2d1"
      },
      "execution_count": 88,
      "outputs": [
        {
          "output_type": "stream",
          "name": "stdout",
          "text": [
            "52839000.0\n",
            "52791000.0\n"
          ]
        }
      ]
    }
  ]
}