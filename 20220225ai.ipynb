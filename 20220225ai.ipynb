{
  "nbformat": 4,
  "nbformat_minor": 0,
  "metadata": {
    "colab": {
      "name": "20220225ai.ipynb",
      "provenance": [],
      "authorship_tag": "ABX9TyNh5YPlO/0VY5FTqHCa+C3J",
      "include_colab_link": true
    },
    "kernelspec": {
      "name": "python3",
      "display_name": "Python 3"
    },
    "language_info": {
      "name": "python"
    }
  },
  "cells": [
    {
      "cell_type": "markdown",
      "metadata": {
        "id": "view-in-github",
        "colab_type": "text"
      },
      "source": [
        "<a href=\"https://colab.research.google.com/github/clouououd/ai/blob/main/20220225ai.ipynb\" target=\"_parent\"><img src=\"https://colab.research.google.com/assets/colab-badge.svg\" alt=\"Open In Colab\"/></a>"
      ]
    },
    {
      "cell_type": "code",
      "source": [
        "# 1.이름리스트 관리 프로그램\n",
        "# 2. 리스트에 이름 추가 화면\n",
        "# 3. 리스트에서 이름 바꾸끼\n",
        "# 4. 이름 삭제\n",
        "# 5. 리스트의 모든 이름 보기\n",
        "# 6. 프로그램 끝내기 메뉴\n",
        "# 7. 보기 외에 메뉴 선택시 에러메세지\n",
        "# 8. 다 끝난 후에는 리스트를 볼것\n",
        "\n",
        "def create(li) :\n",
        "  \"\"\"이름 추가\"\"\"\n",
        "  name = input('Please enter a name that you want to append.\\n')\n",
        "  li.append(name)\n",
        "  return li\n",
        "\n",
        "def alter(li) :\n",
        "  \"\"\"이름 수정\"\"\"\n",
        "  index = int(input('What\\'s index of the name you want to change?'))\n",
        "  name = input('Enter the new name.')\n",
        "  li[index] = name      \n",
        "  return li\n",
        "\n",
        "def drop(li) :\n",
        "  \"\"\"이름 삭제\"\"\"\n",
        "  index = int(input('What\\'s index of the name you want to change?'))\n",
        "  del li[index]\n",
        "  return li\n",
        "\n",
        "def view(li) :\n",
        "  \"\"\"리스트 목록 보기\"\"\"\n",
        "  for i, name in enumerate(li) :\n",
        "    print(i, name)\n",
        "\n",
        "def main() :\n",
        "  print('Welcome the list management program for names') # 안내 메세지\n",
        "  # 초기화\n",
        "  li = []\n",
        "  q = 0\n",
        "\n",
        "  while q != 5 :\n",
        "    print('1.append name\\n2.alter name\\n3.drop name\\n4.view list\\n5.quit') # 메뉴 보기\n",
        "    q = input('You can use them.') # 보기 선택\n",
        "    if q == '1' :\n",
        "      create(li)\n",
        "    elif q == '2' :\n",
        "      alter(li)\n",
        "    elif q == '3' :\n",
        "      drop(li)\n",
        "    elif q == '4' :\n",
        "      view(li)\n",
        "    elif q == '5' :\n",
        "      break\n",
        "    else :\n",
        "      print('Please choice it on the menu')\n",
        "  \n",
        "  return li\n",
        "\n",
        "main()"
      ],
      "metadata": {
        "id": "CLeWNRFOUtaj"
      },
      "execution_count": null,
      "outputs": []
    },
    {
      "cell_type": "markdown",
      "source": [
        "**tkinter**\n",
        "\n",
        "GUI(Graphical User Interface) makes the program easier to ues. It allows you, as the programmer, to create screens, text boxes and buttons to help the user navigate through the program in a more user-friendly way Tkinter is a library of features in Python that allows ayou to do this."
      ],
      "metadata": {
        "id": "Va807ffIfMaa"
      }
    },
    {
      "cell_type": "code",
      "source": [
        "from tkinter import *\n",
        "\n",
        "def Call() :\n",
        "  msg = Label(window, text='You pressed the button')\n",
        "  msg.place(x=30, y=50)\n",
        "  button['bg']='blue'\n",
        "  button['fg']='white'\n",
        "\n",
        "window =Tk()\n",
        "window.geometry('200x110')\n",
        "button=Button(text='Press me', command = Call)\n",
        "button.place(x=30, y=20, width=120, height=25)\n",
        "window.mainloop()\n",
        "# -> no display name and no $DISPLAY environment variable\n",
        "# -> local"
      ],
      "metadata": {
        "colab": {
          "base_uri": "https://localhost:8080/",
          "height": 376
        },
        "id": "Gy2lrOsgfDfK",
        "outputId": "7bd86af2-9bff-4089-8a54-42e81c2c95aa"
      },
      "execution_count": null,
      "outputs": [
        {
          "output_type": "error",
          "ename": "TclError",
          "evalue": "ignored",
          "traceback": [
            "\u001b[0;31m---------------------------------------------------------------------------\u001b[0m",
            "\u001b[0;31mTclError\u001b[0m                                  Traceback (most recent call last)",
            "\u001b[0;32m<ipython-input-12-d14e1fee5832>\u001b[0m in \u001b[0;36m<module>\u001b[0;34m()\u001b[0m\n\u001b[1;32m      7\u001b[0m   \u001b[0mbutton\u001b[0m\u001b[0;34m[\u001b[0m\u001b[0;34m'fg'\u001b[0m\u001b[0;34m]\u001b[0m\u001b[0;34m=\u001b[0m\u001b[0;34m'white'\u001b[0m\u001b[0;34m\u001b[0m\u001b[0;34m\u001b[0m\u001b[0m\n\u001b[1;32m      8\u001b[0m \u001b[0;34m\u001b[0m\u001b[0m\n\u001b[0;32m----> 9\u001b[0;31m \u001b[0mwindow\u001b[0m \u001b[0;34m=\u001b[0m\u001b[0mTk\u001b[0m\u001b[0;34m(\u001b[0m\u001b[0;34m)\u001b[0m\u001b[0;34m\u001b[0m\u001b[0;34m\u001b[0m\u001b[0m\n\u001b[0m\u001b[1;32m     10\u001b[0m \u001b[0mwindow\u001b[0m\u001b[0;34m.\u001b[0m\u001b[0mgeometry\u001b[0m\u001b[0;34m(\u001b[0m\u001b[0;34m'200x110'\u001b[0m\u001b[0;34m)\u001b[0m\u001b[0;34m\u001b[0m\u001b[0;34m\u001b[0m\u001b[0m\n\u001b[1;32m     11\u001b[0m \u001b[0mbutton\u001b[0m\u001b[0;34m=\u001b[0m\u001b[0mButton\u001b[0m\u001b[0;34m(\u001b[0m\u001b[0mtext\u001b[0m\u001b[0;34m=\u001b[0m\u001b[0;34m'Press me'\u001b[0m\u001b[0;34m,\u001b[0m \u001b[0mcommand\u001b[0m \u001b[0;34m=\u001b[0m \u001b[0mCall\u001b[0m\u001b[0;34m)\u001b[0m\u001b[0;34m\u001b[0m\u001b[0;34m\u001b[0m\u001b[0m\n",
            "\u001b[0;32m/usr/lib/python3.7/tkinter/__init__.py\u001b[0m in \u001b[0;36m__init__\u001b[0;34m(self, screenName, baseName, className, useTk, sync, use)\u001b[0m\n\u001b[1;32m   2021\u001b[0m                 \u001b[0mbaseName\u001b[0m \u001b[0;34m=\u001b[0m \u001b[0mbaseName\u001b[0m \u001b[0;34m+\u001b[0m \u001b[0mext\u001b[0m\u001b[0;34m\u001b[0m\u001b[0;34m\u001b[0m\u001b[0m\n\u001b[1;32m   2022\u001b[0m         \u001b[0minteractive\u001b[0m \u001b[0;34m=\u001b[0m \u001b[0;36m0\u001b[0m\u001b[0;34m\u001b[0m\u001b[0;34m\u001b[0m\u001b[0m\n\u001b[0;32m-> 2023\u001b[0;31m         \u001b[0mself\u001b[0m\u001b[0;34m.\u001b[0m\u001b[0mtk\u001b[0m \u001b[0;34m=\u001b[0m \u001b[0m_tkinter\u001b[0m\u001b[0;34m.\u001b[0m\u001b[0mcreate\u001b[0m\u001b[0;34m(\u001b[0m\u001b[0mscreenName\u001b[0m\u001b[0;34m,\u001b[0m \u001b[0mbaseName\u001b[0m\u001b[0;34m,\u001b[0m \u001b[0mclassName\u001b[0m\u001b[0;34m,\u001b[0m \u001b[0minteractive\u001b[0m\u001b[0;34m,\u001b[0m \u001b[0mwantobjects\u001b[0m\u001b[0;34m,\u001b[0m \u001b[0museTk\u001b[0m\u001b[0;34m,\u001b[0m \u001b[0msync\u001b[0m\u001b[0;34m,\u001b[0m \u001b[0muse\u001b[0m\u001b[0;34m)\u001b[0m\u001b[0;34m\u001b[0m\u001b[0;34m\u001b[0m\u001b[0m\n\u001b[0m\u001b[1;32m   2024\u001b[0m         \u001b[0;32mif\u001b[0m \u001b[0museTk\u001b[0m\u001b[0;34m:\u001b[0m\u001b[0;34m\u001b[0m\u001b[0;34m\u001b[0m\u001b[0m\n\u001b[1;32m   2025\u001b[0m             \u001b[0mself\u001b[0m\u001b[0;34m.\u001b[0m\u001b[0m_loadtk\u001b[0m\u001b[0;34m(\u001b[0m\u001b[0;34m)\u001b[0m\u001b[0;34m\u001b[0m\u001b[0;34m\u001b[0m\u001b[0m\n",
            "\u001b[0;31mTclError\u001b[0m: no display name and no $DISPLAY environment variable"
          ]
        }
      ]
    },
    {
      "cell_type": "code",
      "source": [
        "# data를 만드는 함수\n",
        "def get_data() :\n",
        "  word = input('Enter your message : ')\n",
        "  word = word.lower()\n",
        "  num = 0\n",
        "  while num > 26 or num == 0 :\n",
        "    num = int(input('Enter a number (1-26) : '))\n",
        "  data = (word, num)\n",
        "  return data\n",
        "\n",
        "# 암호화\n",
        "def make_code(word, num) :\n",
        "  new_word = ''\n",
        "  for x in word :\n",
        "    new_num = ord(x) + num\n",
        "    if new_num > ord('z') :\n",
        "      new_num = new_num - 26\n",
        "    new_word += chr(new_num)\n",
        "  return new_word\n",
        "\n",
        "\n",
        "# 해독\n",
        "def decode(word, key) :\n",
        "  new_word = ''\n",
        "  for x in word :\n",
        "    new_num = ord(x) - key\n",
        "    if new_num < ord('a') :\n",
        "      new_num = new_num + 26\n",
        "    new_word += chr(new_num)\n",
        "  return new_word\n",
        "\n",
        "def main() :\n",
        "  while True :\n",
        "    print('(1) Make a code\\n(2)Decode a message\\n(3)quit ')\n",
        "    selection = int(input('Enter your selsection.'))\n",
        "    if selection == 1 :\n",
        "      word, num = get_data()\n",
        "      print(make_code(word, num))\n",
        "    elif selection == 2 :\n",
        "      message = input('message?')\n",
        "      key = int(input('key?'))\n",
        "      print(decode(message, key))\n",
        "    elif selection == 3 :\n",
        "      return 'Thank you'\n",
        "\n",
        "main()"
      ],
      "metadata": {
        "colab": {
          "base_uri": "https://localhost:8080/",
          "height": 367
        },
        "id": "gssI5snxtg4F",
        "outputId": "ebebb88a-ec27-4b92-a2df-c31099a8fd59"
      },
      "execution_count": 43,
      "outputs": [
        {
          "name": "stdout",
          "output_type": "stream",
          "text": [
            "(1) Make a code\n",
            "(2)Decode a message\n",
            "(3)quit \n",
            "Enter your selsection.1\n",
            "Enter your message : I love you\n",
            "Enter a number (1-26) : 5\n",
            "n%qtaj%dtz\n",
            "(1) Make a code\n",
            "(2)Decode a message\n",
            "(3)quit \n",
            "Enter your selsection.2\n",
            "message?n%qtaj%dtz\n",
            "key?5\n",
            "i:love:you\n",
            "(1) Make a code\n",
            "(2)Decode a message\n",
            "(3)quit \n",
            "Enter your selsection.3\n"
          ]
        },
        {
          "output_type": "execute_result",
          "data": {
            "application/vnd.google.colaboratory.intrinsic+json": {
              "type": "string"
            },
            "text/plain": [
              "'Thank you'"
            ]
          },
          "metadata": {},
          "execution_count": 43
        }
      ]
    }
  ]
}