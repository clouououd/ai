{
  "nbformat": 4,
  "nbformat_minor": 0,
  "metadata": {
    "colab": {
      "name": "exam03.ipynb",
      "provenance": [],
      "collapsed_sections": [],
      "authorship_tag": "ABX9TyPEjw3nCJYVpWrWOoD3hWcr",
      "include_colab_link": true
    },
    "kernelspec": {
      "name": "python3",
      "display_name": "Python 3"
    },
    "language_info": {
      "name": "python"
    }
  },
  "cells": [
    {
      "cell_type": "markdown",
      "metadata": {
        "id": "view-in-github",
        "colab_type": "text"
      },
      "source": [
        "<a href=\"https://colab.research.google.com/github/clouououd/ai/blob/main/exam03.ipynb\" target=\"_parent\"><img src=\"https://colab.research.google.com/assets/colab-badge.svg\" alt=\"Open In Colab\"/></a>"
      ]
    },
    {
      "cell_type": "code",
      "execution_count": 27,
      "metadata": {
        "colab": {
          "base_uri": "https://localhost:8080/"
        },
        "id": "hLUY_-wfFwc8",
        "outputId": "5a001f07-f166-4ab0-af10-857f1442a397"
      },
      "outputs": [
        {
          "output_type": "stream",
          "name": "stdout",
          "text": [
            "n :100\n",
            "[0, 1, 1, 2, 3, 5, 8, 13, 21, 34, 55, 89]\n"
          ]
        }
      ],
      "source": [
        "\n",
        "def fib(n) : # 0,1로 시작하는 피보나치 수열의 n번째 값을 알려주는 함수fib \n",
        "  if n == 1 : # 1번째 값은 아래의 값\n",
        "    return 0 # 첫번째 값은 0\n",
        "  elif n == 2 : # 2번째 값은 아래의 값\n",
        "    return 1 # 2번째 값은 1\n",
        "  else :\n",
        "    return fib(n-1) + fib(n-2) # 재귀를 이용하여 3번째 값부터 나열 n번째 = (n-1)번째 + (n-2)번째\n",
        "\n",
        "def fib_list(n) :# 0,1로 시작하는 피보나치 수열의 n값 미만의 값까지를 리스트로 보여주는 함수 fib_list\n",
        "  fib_li = [] # 리스트를 초기화\n",
        "  for i in range(1,n) : # 원하는 n값까지 반복\n",
        "    fib_li.append(fib(i)) # fib()함수를 호출해서 피보나치 값을 fib_li의 리스트에 추가\n",
        "    if fib(i) >= n : # fib()값이 원하는 n값을 넘거나 같으면 아래를 이행\n",
        "      fib_li.remove(fib(i)) # 마지막에 추가된 값은 n보다 크거나 같으므로 제거\n",
        "      return fib_li # 리스트를 return\n",
        "\n",
        "n = int(input('n :')) # 원하는 n값 받아오기\n",
        "print(fib_list(n)) # 결과값 출력"
      ]
    }
  ]
}