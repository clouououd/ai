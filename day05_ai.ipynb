{
  "nbformat": 4,
  "nbformat_minor": 0,
  "metadata": {
    "colab": {
      "name": "day05_ai.ipynb",
      "provenance": [],
      "authorship_tag": "ABX9TyPNVF431Q+cJBte5PajFJgY",
      "include_colab_link": true
    },
    "kernelspec": {
      "name": "python3",
      "display_name": "Python 3"
    },
    "language_info": {
      "name": "python"
    }
  },
  "cells": [
    {
      "cell_type": "markdown",
      "metadata": {
        "id": "view-in-github",
        "colab_type": "text"
      },
      "source": [
        "<a href=\"https://colab.research.google.com/github/clouououd/ai/blob/main/day05_ai.ipynb\" target=\"_parent\"><img src=\"https://colab.research.google.com/assets/colab-badge.svg\" alt=\"Open In Colab\"/></a>"
      ]
    },
    {
      "cell_type": "code",
      "execution_count": 2,
      "metadata": {
        "colab": {
          "base_uri": "https://localhost:8080/"
        },
        "id": "S4-wjHTfXusF",
        "outputId": "fd0c5de2-cc72-46fc-ef60-dc87dab44355"
      },
      "outputs": [
        {
          "output_type": "stream",
          "name": "stdout",
          "text": [
            "hi\n",
            "hi\n",
            "hi\n"
          ]
        }
      ],
      "source": [
        "########################################\n",
        "# Function\n",
        "########################################\n",
        "\n",
        "# function 만들기\n",
        "\n",
        "# < 3번 print하는 function >\n",
        "def print_3(val) :\n",
        "  print(val)\n",
        "  print(val)\n",
        "  print(val)\n",
        "\n",
        "# 호출\n",
        "print_3('hi')"
      ]
    },
    {
      "cell_type": "code",
      "source": [
        "# < n번 print하는 function >\n",
        "def print_n(val, n) :\n",
        "  for i in range(n) :\n",
        "    print(val)\n",
        "\n",
        "# 호출\n",
        "print_n('hi', 5)"
      ],
      "metadata": {
        "colab": {
          "base_uri": "https://localhost:8080/"
        },
        "id": "kK0_OkaVZ-ye",
        "outputId": "382aed33-54b5-4051-b1ec-d1d153387ebd"
      },
      "execution_count": 4,
      "outputs": [
        {
          "output_type": "stream",
          "name": "stdout",
          "text": [
            "hi\n",
            "hi\n",
            "hi\n",
            "hi\n",
            "hi\n"
          ]
        }
      ]
    },
    {
      "cell_type": "code",
      "source": [
        ""
      ],
      "metadata": {
        "id": "2wCKVf2-a1Qw"
      },
      "execution_count": null,
      "outputs": []
    }
  ]
}