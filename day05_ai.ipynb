{
  "nbformat": 4,
  "nbformat_minor": 0,
  "metadata": {
    "colab": {
      "name": "day05_ai.ipynb",
      "provenance": [],
      "collapsed_sections": [],
      "authorship_tag": "ABX9TyNBJ3V28FK877sM9cT6jOeK",
      "include_colab_link": true
    },
    "kernelspec": {
      "name": "python3",
      "display_name": "Python 3"
    },
    "language_info": {
      "name": "python"
    }
  },
  "cells": [
    {
      "cell_type": "markdown",
      "metadata": {
        "id": "view-in-github",
        "colab_type": "text"
      },
      "source": [
        "<a href=\"https://colab.research.google.com/github/clouououd/ai/blob/main/day05_ai.ipynb\" target=\"_parent\"><img src=\"https://colab.research.google.com/assets/colab-badge.svg\" alt=\"Open In Colab\"/></a>"
      ]
    },
    {
      "cell_type": "code",
      "execution_count": null,
      "metadata": {
        "id": "S4-wjHTfXusF"
      },
      "outputs": [],
      "source": [
        "########################################\n",
        "# Function\n",
        "########################################\n",
        "\n",
        "# function 만들기\n",
        "\n",
        "# < 3번 print하는 function >\n",
        "def print_3(val) :\n",
        "  print(val)\n",
        "  print(val)\n",
        "  print(val)\n",
        "\n",
        "# 호출\n",
        "print_3('hi')"
      ]
    },
    {
      "cell_type": "code",
      "source": [
        "# < n번 print하는 function >\n",
        "def print_n(val, n) :\n",
        "  for i in range(n) :\n",
        "    print(val)\n",
        "\n",
        "# 호출\n",
        "print_n('hi', 5)"
      ],
      "metadata": {
        "id": "kK0_OkaVZ-ye"
      },
      "execution_count": null,
      "outputs": []
    },
    {
      "cell_type": "code",
      "source": [
        "# 매개 변수를 2개 지정했으나 호출할때 1개만 넣으면 에러가 발생한다.\n",
        "\n",
        "# < n번 print하는 function >\n",
        "def print_n(val, n) :\n",
        "  for i in range(n) :\n",
        "    print(val)\n",
        "\n",
        "# 호출\n",
        "print_n('hi')"
      ],
      "metadata": {
        "id": "2wCKVf2-a1Qw"
      },
      "execution_count": null,
      "outputs": []
    },
    {
      "cell_type": "code",
      "source": [
        "# 매개 변수를 2개 지정했으나 호출할때 3개를 넣으면 에러가 발생한다.\n",
        "\n",
        "# < n번 print하는 function >\n",
        "def print_n(val, n) :\n",
        "  for i in range(n) :\n",
        "    print(val)\n",
        "\n",
        "# 호출\n",
        "print_n('hi', 2, 3)"
      ],
      "metadata": {
        "id": "bRWPTK1wbre5"
      },
      "execution_count": null,
      "outputs": []
    },
    {
      "cell_type": "code",
      "source": [
        "# 가변 매개 변수\n",
        "# 함수를 선언할 때 매개변수의 개수와 함수를 호출할 때 매개변수의 개수가 같아야한다.\n",
        "\n",
        "# <>\n",
        "def print_n_times(n, *val) :\n",
        "  for i in range(n) :\n",
        "    for v in val :\n",
        "      print(v)\n",
        "    print()\n",
        "\n",
        "# <호출>\n",
        "print_n_times(3,'hi','hello','good morning')\n",
        "print_n_times(3,'hi','hello')"
      ],
      "metadata": {
        "id": "LXJShy6Jb2vm"
      },
      "execution_count": null,
      "outputs": []
    },
    {
      "cell_type": "code",
      "source": [
        "# 입력 받은 정수들을 모두 더한 합을 반환하는 sum_all function을 작성하세요.\n",
        "\n",
        "# <mine>\n",
        "def sum_all(*i) :\n",
        "  i_s = 0\n",
        "  for j in i : # i = (1,2,3,4,5) # *i는 튜플값으로 입력된다.\n",
        "    i_s += j\n",
        "  print(i_s)\n",
        "\n",
        "sum_all(1,2,3,4,5)\n",
        "sum_all(1,2)"
      ],
      "metadata": {
        "id": "Or1CnEPOdYP7"
      },
      "execution_count": null,
      "outputs": []
    },
    {
      "cell_type": "code",
      "source": [
        "# 정답\n",
        "def sum_all(*val) :\n",
        "  print(sum(val))\n",
        "\n",
        "sum_all(1,2,3,4,5)\n",
        "sum_all(1,2)"
      ],
      "metadata": {
        "id": "P4GAMyzFe-af"
      },
      "execution_count": null,
      "outputs": []
    },
    {
      "cell_type": "code",
      "source": [
        "# < n번 print하는 function >\n",
        "def print_n(val, n=2) : # n이라는 변수에 2라는 값을 넣고 시작\n",
        "  for i in range(n) :\n",
        "    print(val)\n",
        "\n",
        "# 호출\n",
        "print_n('hi', 4) # n값에 4를 넣어서 호출\n",
        "print_n('hi') # n값에 2가 기본값을 들어가 있어서 에러가 나지 않고 hi를 두번 출력한다"
      ],
      "metadata": {
        "id": "gorr227Fft8N"
      },
      "execution_count": null,
      "outputs": []
    },
    {
      "cell_type": "code",
      "source": [
        "# < n번 print하는 function >\n",
        "def print_n(n=2, val) :\n",
        "  for i in range(n) :\n",
        "    print(val)\n",
        "\n",
        "# 호출\n",
        "print_n('hi',4)"
      ],
      "metadata": {
        "id": "5vSC09_hf6B-"
      },
      "execution_count": null,
      "outputs": []
    },
    {
      "cell_type": "code",
      "source": [
        "# < n번 print하는 function >\n",
        "def print_n(n=2, val) :\n",
        "  for i in range(n) :\n",
        "    print(val)\n",
        "\n",
        "# 호출\n",
        "print_n(4, 'hi') # 에러의 이유를 알 수 없음"
      ],
      "metadata": {
        "id": "X83EuLjPgE82"
      },
      "execution_count": null,
      "outputs": []
    },
    {
      "cell_type": "code",
      "source": [
        "# 관용적으로 가변매개변수의 이름은 args를 사용한다\n",
        "\n",
        "def print_n_times(n, *args) :\n",
        "  for i in range(n) :\n",
        "    for v in args :\n",
        "      print(v)\n",
        "    print()\n",
        "\n",
        "# <호출>\n",
        "print_n_times(3,'hi','hello','good morning')\n",
        "print_n_times(3,'hi','hello')"
      ],
      "metadata": {
        "id": "MKVWBKhNgPN6"
      },
      "execution_count": null,
      "outputs": []
    },
    {
      "cell_type": "code",
      "source": [
        "def test(a, b=10, c=100) :\n",
        "  print(a+b+c)\n",
        "\n",
        "# 1 기본형태\n",
        "test(10,20,30)\n",
        "\n",
        "# 2 모든 매개변수 지정\n",
        "test(a=10,b=20,c=30)\n",
        "\n",
        "# 3 순서를 섞어서 지정\n",
        "test(c=30,a=10,b=20)\n",
        "\n",
        "# 4 일부만 지정\n",
        "test(10, c=30)"
      ],
      "metadata": {
        "id": "0Okgn-cxlQev"
      },
      "execution_count": null,
      "outputs": []
    },
    {
      "cell_type": "code",
      "source": [
        "def return_test() :\n",
        "  print('A위치입니다.')\n",
        "  return # return을 만나면 끝이다.\n",
        "  print('B위치입니다.')\n",
        "\n",
        "return_test()"
      ],
      "metadata": {
        "id": "h3UnYjxNlyNv"
      },
      "execution_count": null,
      "outputs": []
    },
    {
      "cell_type": "code",
      "source": [
        "def return_test() :\n",
        "  return 100\n",
        "\n",
        "return_test()"
      ],
      "metadata": {
        "id": "eLMSJMLkmODf"
      },
      "execution_count": null,
      "outputs": []
    },
    {
      "cell_type": "code",
      "source": [
        "def sum_all(start,end) :\n",
        "  output = 0\n",
        "  for i in range(start, end+1) :\n",
        "    output += i\n",
        "  return output\n",
        "print('0에서 100까지의 합', sum_all(0,100))\n",
        "print('0에서 100까지의 합', sum_all(0,1000))\n",
        "print('0에서 100까지의 합', sum_all(50,100))\n",
        "print('0에서 100까지의 합', sum_all(500,1000))"
      ],
      "metadata": {
        "id": "GlK_ezKEmifE"
      },
      "execution_count": null,
      "outputs": []
    },
    {
      "cell_type": "code",
      "source": [
        "# 재귀 함수\n",
        "def hello() :\n",
        "  print('hi')\n",
        "  return hello()\n",
        "\n",
        "hello()"
      ],
      "metadata": {
        "id": "RWJMUi9eoN2c"
      },
      "execution_count": null,
      "outputs": []
    },
    {
      "cell_type": "code",
      "source": [
        "# 반복문으로 팩토리얼 구하기\n",
        "def facto(n) :\n",
        "  result = 1\n",
        "  for i in range(1,n+1) :\n",
        "    result = result * i\n",
        "  return result\n",
        "\n",
        "print('3!', facto(3))\n",
        "print('5!', facto(5))"
      ],
      "metadata": {
        "id": "N8jV3JUFpKX9"
      },
      "execution_count": null,
      "outputs": []
    },
    {
      "cell_type": "code",
      "source": [
        "def facto(n) :\n",
        "  output = 1\n",
        "  for i in range(1, n+1) :\n",
        "    output *= i\n",
        "  return output"
      ],
      "metadata": {
        "id": "euWKfN4Lqc6z"
      },
      "execution_count": null,
      "outputs": []
    },
    {
      "cell_type": "code",
      "source": [
        "# 재귀(recursion)로 팩토리얼 구하기\n",
        "def facto(n) :\n",
        "  if n==0 :\n",
        "    return 1\n",
        "  else :\n",
        "    return n*facto(n-1)\n",
        "\n",
        "print('3!', facto(3))\n",
        "print('5!', facto(5))\n",
        "# 개발자들 사이에서는 재귀함수를 절대 사용하지 말자라는 의견도 있다\n",
        "# 하지만 가독성이 좋고 코드가 간결하고 멋스러워 보이는 장점도 있다."
      ],
      "metadata": {
        "id": "ZHPkloA1qp6D"
      },
      "execution_count": null,
      "outputs": []
    },
    {
      "cell_type": "code",
      "source": [
        "# 피보나치 수열(토끼의 번식 속도, 바이러스 감염 속도 등에 이용)\n",
        "def fibo(n) :\n",
        "  if n==1 or n==2 :\n",
        "    return 1\n",
        "  else :\n",
        "    return fibo(n-2) + fibo(n-1)\n",
        "\n",
        "print('fibonacci(1) :',fibo(1))\n",
        "print('fibonacci(2) :',fibo(2))\n",
        "print('fibonacci(3) :',fibo(3))\n",
        "print('fibonacci(4) :',fibo(4))\n",
        "print('fibonacci(5) :',fibo(5))"
      ],
      "metadata": {
        "id": "y7Ty0B9NsbAQ"
      },
      "execution_count": null,
      "outputs": []
    },
    {
      "cell_type": "code",
      "source": [
        "# 튜플과 함수\n",
        "\n",
        "def test():\n",
        "  return 10,20 # 튜플은 (소)괄호의 생략도 가능하다\n",
        "\n",
        "a,b = test()\n",
        "\n",
        "print(a)\n",
        "print(b)"
      ],
      "metadata": {
        "id": "bexT2EgvzcjB"
      },
      "execution_count": null,
      "outputs": []
    },
    {
      "cell_type": "code",
      "source": [
        "def add(a,b) : # 그 인수를 담아서 함수에서 사용되는 매개변수 parament\n",
        "  return a+b\n",
        "\n",
        "a = 3 # 함수로 들어가는 실제 값을 인수 arguments\n",
        "b = 4\n",
        "\n",
        "c = add(a,b)\n",
        "print(c)\n",
        "\n",
        "# 인수와 매개변수\n",
        "# 함수와 매서드 - 클래스 안에서 선언한 함수를 매서드라고 부른다.\n",
        "# 객체와 인스턴스"
      ],
      "metadata": {
        "colab": {
          "base_uri": "https://localhost:8080/"
        },
        "id": "GIqHWn_M0bky",
        "outputId": "8d74c7b2-f954-490b-ea17-cd52f8dff366"
      },
      "execution_count": 56,
      "outputs": [
        {
          "output_type": "stream",
          "name": "stdout",
          "text": [
            "7\n"
          ]
        }
      ]
    },
    {
      "cell_type": "code",
      "source": [
        "# 함수의 종류 4가지\n",
        "\n",
        "# input도 있고 output도 있는 함수(****)\n",
        "def add(a,b) :\n",
        "  return a+b\n",
        "\n",
        "print(add(1,2))\n",
        "\n",
        "# input은 없고 output은 있는 함수\n",
        "def say() :\n",
        "  return 'hi'\n",
        "\n",
        "print(say())\n",
        "\n",
        "# input은 있고 output은 없는 함수\n",
        "def add(a,b) :\n",
        "  print('%d, %d의 합은 %d입니다.'%(a,b,a+b))\n",
        "\n",
        "add(3,4)\n",
        "\n",
        "# input도 output도 없는 함수\n",
        "def say() :\n",
        "  print('hi')\n",
        "\n",
        "say()"
      ],
      "metadata": {
        "id": "rzzQ8LWq2-sM"
      },
      "execution_count": null,
      "outputs": []
    },
    {
      "cell_type": "code",
      "source": [
        "# 매개변수를 지정하여 호출하기\n",
        "def add(a,b) :\n",
        "  return a+b\n",
        "\n",
        "print(add(a=3,b=7))\n",
        "print(add(b=3,a=7))"
      ],
      "metadata": {
        "colab": {
          "base_uri": "https://localhost:8080/"
        },
        "id": "Ph_stUiB5Y25",
        "outputId": "fe846e3a-289c-4329-ae35-4d9af6943139"
      },
      "execution_count": 60,
      "outputs": [
        {
          "output_type": "stream",
          "name": "stdout",
          "text": [
            "10\n",
            "10\n"
          ]
        }
      ]
    },
    {
      "cell_type": "code",
      "source": [
        "# 가변매개합수\n",
        "def add_many(*args) :\n",
        "  result = 0\n",
        "  for i in args :\n",
        "    result = result + i\n",
        "  return result\n",
        "\n",
        "print(add_many(1,2,3))\n",
        "print(add_many(1,2,3,4,5))"
      ],
      "metadata": {
        "id": "lmqfMwXk5waW"
      },
      "execution_count": null,
      "outputs": []
    },
    {
      "cell_type": "code",
      "source": [
        "def add_mul(choice, *args) :\n",
        "  if choice == 'add' :\n",
        "    result = 0\n",
        "    for i in args :\n",
        "      result += i\n",
        "  elif choice == 'mul' :\n",
        "    result = 1\n",
        "    for i in args :\n",
        "      result *= i\n",
        "    return result\n",
        "\n",
        "print(add_mul('add',1,2,3,4,5)) # 왜 none이 나오지??\n",
        "print(add_mul('mul',1,2,3))"
      ],
      "metadata": {
        "colab": {
          "base_uri": "https://localhost:8080/"
        },
        "id": "jNSktl1w6WE5",
        "outputId": "7a55180e-e010-4e09-b9f0-0c03043da398"
      },
      "execution_count": 7,
      "outputs": [
        {
          "output_type": "stream",
          "name": "stdout",
          "text": [
            "None\n",
            "6\n"
          ]
        }
      ]
    },
    {
      "cell_type": "code",
      "source": [
        "# 함수의 결과는 언제나 하나이다(튜플)\n",
        "\n",
        "def add_and_mul(a,b):\n",
        "  return a+b, a*b\n",
        "\n",
        "result1, result2 = add_and_mul(3,4)\n",
        "print(result1)\n",
        "print(result2)"
      ],
      "metadata": {
        "id": "uYxufukr_n_8"
      },
      "execution_count": null,
      "outputs": []
    },
    {
      "cell_type": "code",
      "source": [
        "# 함수의 결과는 언제나 하나이다(튜플)\n",
        "\n",
        "def add_and_mul(a,b):\n",
        "  return a+b\n",
        "  return a*b  # 첫번째 retrun 실행후 함수 종료\n",
        "\n",
        "result = add_and_mul(3,4)\n",
        "print(result)"
      ],
      "metadata": {
        "colab": {
          "base_uri": "https://localhost:8080/"
        },
        "id": "AyDwwN6h__jm",
        "outputId": "597ae26e-29ae-4f7e-be1c-ce08b1828865"
      },
      "execution_count": 3,
      "outputs": [
        {
          "output_type": "stream",
          "name": "stdout",
          "text": [
            "7\n"
          ]
        }
      ]
    },
    {
      "cell_type": "code",
      "source": [
        "def say_myself(name, old, man = True) :\n",
        "  print('나의 이름은 %s입니다.'%name)\n",
        "  print(f'나의 나이는{old}입니다.')\n",
        "  if man :\n",
        "    print('남자입니다.')\n",
        "  else :\n",
        "    print('여자입니다.')\n",
        "  \n",
        "say_myself('박응용', 27) #생략하면 기본값\n",
        "say_myself('박응용', 27, True)\n",
        "say_myself('박응선', 27, False)"
      ],
      "metadata": {
        "id": "xC38ZVLFARzw"
      },
      "execution_count": null,
      "outputs": []
    },
    {
      "cell_type": "code",
      "source": [
        "# 초기값을 설정해 놓은 매개변수는 항상 끝에 위치해야한다.\n",
        "\n",
        "def say_myself(old, man = True, name) : \n",
        "  print('나의 이름은 %s입니다.'%name)\n",
        "  print(f'나의 나이는{old}입니다.')\n",
        "  if man :\n",
        "    print('남자입니다.')\n",
        "  else :\n",
        "    print('여자입니다.')\n",
        "  \n",
        "say_myself('박응용', 27) #생략하면 기본값\n",
        "say_myself('박응용', 27, True)\n",
        "say_myself('박응선', 27, False)"
      ],
      "metadata": {
        "id": "8WSfwD4zBaBu"
      },
      "execution_count": null,
      "outputs": []
    },
    {
      "cell_type": "code",
      "source": [
        "# 지역 변수(local variable)와 전역변수(global variable)\n",
        "\n",
        "a = 1\n",
        "def vartest(a) :\n",
        "  a = a + 1\n",
        "\n",
        "vartest(a)\n",
        "print(a)"
      ],
      "metadata": {
        "colab": {
          "base_uri": "https://localhost:8080/"
        },
        "id": "se2CB-YWB9O2",
        "outputId": "c9336135-f93e-4a4a-ec7a-353711d2ed6b"
      },
      "execution_count": 11,
      "outputs": [
        {
          "output_type": "stream",
          "name": "stdout",
          "text": [
            "1\n"
          ]
        }
      ]
    },
    {
      "cell_type": "code",
      "source": [
        "a = 1\n",
        "def vartest(a) :\n",
        "  a = a + 1\n",
        "  return a # a라는 변수가 아닌 a에 들어있는 값이 나오는 것이다\n",
        "\n",
        "vartest(a)\n",
        "print(type(vartest(a)))\n",
        "print(a)\n",
        "print(vartest(a))"
      ],
      "metadata": {
        "colab": {
          "base_uri": "https://localhost:8080/"
        },
        "id": "vtHED3MGDJi4",
        "outputId": "77918501-0116-4b96-9d84-ecfd61d5163a"
      },
      "execution_count": 15,
      "outputs": [
        {
          "output_type": "stream",
          "name": "stdout",
          "text": [
            "<class 'int'>\n",
            "1\n",
            "2\n"
          ]
        }
      ]
    },
    {
      "cell_type": "code",
      "source": [
        "a = 1\n",
        "def vartest(a) :\n",
        "  global a # 전역변수 선언 # 프로그램 전체에 영향을 끼치기 때문에 오류가 날 가능성이 높아진다 따라서 되도록 사용하지 않는 것이 좋다.\n",
        "  a = a + 1\n",
        "\n",
        "vartest()\n",
        "print(a)"
      ],
      "metadata": {
        "colab": {
          "base_uri": "https://localhost:8080/",
          "height": 137
        },
        "id": "eQq9egriDy35",
        "outputId": "9c459995-d88e-484c-cd02-0c1bd9867313"
      },
      "execution_count": 18,
      "outputs": [
        {
          "output_type": "error",
          "ename": "SyntaxError",
          "evalue": "ignored",
          "traceback": [
            "\u001b[0;36m  File \u001b[0;32m\"<ipython-input-18-c5d7525370e8>\"\u001b[0;36m, line \u001b[0;32m3\u001b[0m\n\u001b[0;31m    global a # 전역변수 선언\u001b[0m\n\u001b[0m    ^\u001b[0m\n\u001b[0;31mSyntaxError\u001b[0m\u001b[0;31m:\u001b[0m name 'a' is parameter and global\n"
          ]
        }
      ]
    },
    {
      "cell_type": "code",
      "source": [
        "# lambda\n",
        "# lambda를 사용하면 코드를 더 깔끔하게 작성할 수 있고, 코드의 복잡성을 줄여준다\n",
        "# 반면, 재 사용성은 상당히 떨어진다.\n",
        "\n",
        "# def add(a,b) :\n",
        "#   return a+b\n",
        "\n",
        "add = lambda a, b : a + b\n",
        "\n",
        "print(add(3,4))"
      ],
      "metadata": {
        "colab": {
          "base_uri": "https://localhost:8080/"
        },
        "id": "AhnB1vLpEbbU",
        "outputId": "48b67082-c0c9-42c8-e41d-a8872b691afd"
      },
      "execution_count": 19,
      "outputs": [
        {
          "output_type": "stream",
          "name": "stdout",
          "text": [
            "7\n"
          ]
        }
      ]
    }
  ]
}