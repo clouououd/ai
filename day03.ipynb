{
  "nbformat": 4,
  "nbformat_minor": 0,
  "metadata": {
    "colab": {
      "name": "day03.ipynb",
      "provenance": [],
      "authorship_tag": "ABX9TyM0hskK27udAXGgJPNNkRGy",
      "include_colab_link": true
    },
    "kernelspec": {
      "name": "python3",
      "display_name": "Python 3"
    },
    "language_info": {
      "name": "python"
    }
  },
  "cells": [
    {
      "cell_type": "markdown",
      "metadata": {
        "id": "view-in-github",
        "colab_type": "text"
      },
      "source": [
        "<a href=\"https://colab.research.google.com/github/clouououd/ai/blob/main/day03.ipynb\" target=\"_parent\"><img src=\"https://colab.research.google.com/assets/colab-badge.svg\" alt=\"Open In Colab\"/></a>"
      ]
    },
    {
      "cell_type": "code",
      "execution_count": null,
      "metadata": {
        "id": "akPF5fibSICJ"
      },
      "outputs": [],
      "source": [
        "###########################################\n",
        "# whlie\n",
        "###########################################\n",
        "\n",
        "# 반복문은 작업 수행을 한 번이 아니라 계속해서 수행해야 할 때 사용한다.\n",
        "# while 반복 작업을 몇 번 수행할 지 확실하지 않을 때 주로 사용한다.\n",
        "# 운동장을 해가 질 때까지 반복해서 돌자\n",
        "while True:\n",
        "  print('운동장 돌기')"
      ]
    },
    {
      "cell_type": "code",
      "source": [
        "n=1\n",
        "while n <= 10:\n",
        "  print(n)\n",
        "  n = n + 1\n",
        "\n",
        "print('-----------------------------')\n",
        "print(n)"
      ],
      "metadata": {
        "id": "BgW6CMpZTGhK"
      },
      "execution_count": null,
      "outputs": []
    },
    {
      "cell_type": "code",
      "source": [
        "n=1\n",
        "while n<= 10:\n",
        "  print(n)\n",
        "  n+=1 # n= n+1 (자바 C++)\n",
        "print('-----------------------------')\n",
        "print(n)"
      ],
      "metadata": {
        "id": "2qHSe0zyUGFq"
      },
      "execution_count": null,
      "outputs": []
    },
    {
      "cell_type": "code",
      "source": [
        "# Q2. 10부터 1까지 짝수만(거꾸로) 출력\n",
        "n=10\n",
        "while n>=1:\n",
        "  print(n)\n",
        "  n-=2\n",
        "\n",
        "while n>=1:\n",
        "  if n%2==0:\n",
        "    print(n)\n",
        "  n-=1"
      ],
      "metadata": {
        "id": "XPMHUM0EUgW7"
      },
      "execution_count": null,
      "outputs": []
    },
    {
      "cell_type": "code",
      "source": [
        "# 사용자로부터 임의의 정수를 입력받아 모두 리스트에 보관합니다.\n",
        "# 단, 0을 입력하면 프로그램을 종료합니다.'\n",
        "\n",
        "# li=[]\n",
        "\n",
        "# while True:\n",
        "#   n1=int(input('정수를 입력해주세요.>>>'))\n",
        "#   li.append(n1)\n",
        "#   if n1==0:\n",
        "#     break\n",
        "\n",
        "# li.remove(0)\n",
        "# print(li)\n",
        "\n",
        "###############################\n",
        "\n",
        "arr=[]\n",
        "no=1\n",
        "\n",
        "while no!=0:\n",
        "  no=int(input('정수입력>>>'))\n",
        "  if no != 0:\n",
        "    arr.append(no)\n",
        "\n",
        "print(arr)"
      ],
      "metadata": {
        "id": "FnJvwXw1VVnX"
      },
      "execution_count": null,
      "outputs": []
    },
    {
      "cell_type": "code",
      "source": [
        "# while 중첩\n",
        "# while 내부에 또 다른 while을 사용하는 것을 중첩이라고 한다.\n",
        "# for문의 중첩을 더 많이 사용\n",
        "\n",
        "# 예제. 5일 동안 1~3교시 수업을 한다.\n",
        "# 1일차 1교시입니다.\n",
        "# 1일차 2교시 입니다.\n",
        "# 1일차 3교시 입니다.\n",
        "# 2일차 1교시 입니다.\n",
        "# ...\n",
        "day=1\n",
        "time=1\n",
        "\n",
        "while day!=4:\n",
        "  while time!=4:\n",
        "    print(f'{day}일차 {time}교시 입니다.')\n",
        "    time+=1\n",
        "  time=1\n",
        "  day+=1"
      ],
      "metadata": {
        "id": "281MwaXcY0yt"
      },
      "execution_count": null,
      "outputs": []
    },
    {
      "cell_type": "code",
      "source": [
        "# 구구단을 2단부터 9단까지 출력하세요.(while 사용)\n",
        "# 2 X 1 = 2\n",
        "# 2 X @ = 4\n",
        "# ...\n",
        "# 9 X 9 =81\n",
        "n1=2\n",
        "\n",
        "while n1 < 10 :\n",
        "  n2 = 1\n",
        "  while n2 < 10 :\n",
        "    print(f'{n1} X {n2} = {n1*n2}')\n",
        "    n2 += 1\n",
        "  n1 += 1"
      ],
      "metadata": {
        "id": "P6hVP17UuP15"
      },
      "execution_count": null,
      "outputs": []
    },
    {
      "cell_type": "code",
      "source": [
        "# Q. 정수를 입력 받아서 그 횟수 만큼 'Hello'를 출력하는 프로그램을 작성하세요.\n",
        "# 0이하의 값이 입력되면 잘못된 입력입니다. 라고 출력하세요.\n",
        "# 정수를 입력하세요.>>> 3\n",
        "# 1번째 Hello\n",
        "# 2번째 Hello\n",
        "# 3번째 Hello\n",
        "# 정수를 입력하세요.>>> 0\n",
        "# 잘못된 입력입니다.\n",
        "\n",
        "end=int(input('정수를 입력하세요.>>>'))\n",
        "count=0\n",
        "\n",
        "if end <= 0:\n",
        "  print('잘못된 입력입니다.')\n",
        "else:\n",
        "  while count != end:\n",
        "    count += 1\n",
        "    print(f'{count}번째 Hello') "
      ],
      "metadata": {
        "id": "K-wWmCCHwRaF"
      },
      "execution_count": null,
      "outputs": []
    },
    {
      "cell_type": "code",
      "source": [
        "# Q. 1부터 100사이의 모든 정수 중에서 7의 배수만 출력하세요.\n",
        "count=7\n",
        "\n",
        "while count<=100:\n",
        "  print(count)\n",
        "  count += 7"
      ],
      "metadata": {
        "id": "55g-Xbxp01Ss"
      },
      "execution_count": null,
      "outputs": []
    },
    {
      "cell_type": "code",
      "source": [
        "# Q. 커피 1잔을 300원에 판매하는 자판기가 있다.\n",
        "# 자판기에 돈을 넣었을 때 자판기에 뽑을 수 있는 커피가 몇 잔이고\n",
        "# 잔돈이 얼마인지 함께 출력하세요\n",
        "# 입력) 자판기에 얼마를 넣을까요?>>> 1400\n",
        "# 출력) 커피 1잔, 잔돈 1100원\n",
        "#       커피 2잔, 잔돈 800원\n",
        "#       ...\n",
        "#       커피 4잔, 잔돈 200원\n",
        "\n",
        "amount=int(input('자판기에 얼마를 넣을까요? >>>'))\n",
        "count=1\n",
        "\n",
        "while amount>=300: # 커피값 = 300원\n",
        "  amount = amount - 300\n",
        "  print(f'커피 {count}, 잔돈 {amount}원')\n",
        "  count += 1"
      ],
      "metadata": {
        "id": "YobQr0-c2nBy"
      },
      "execution_count": null,
      "outputs": []
    },
    {
      "cell_type": "code",
      "source": [
        "# 사용자로부터 0부터 9까지의 정수를 입력받아 입력된 정수가 5개가 될때 까지 입력받는 프로그램\n",
        "# 중복된 값이 입력되면 해당입력은 무시합니다.\n",
        "# 0~9 사이 정수를 입력하세요. >>>0\n",
        "# 0~9 사이 정수를 입력하세요. >>>0 -> 무시\n",
        "# 0~9 사이 정수를 입력하세요. >>>1\n",
        "# ...\n",
        "#5섯개의 고유한 정수가 모두 입력되었습니다.\n",
        "#입력된 값은 ...... 입니다.\n",
        "i_set=set()\n",
        "\n",
        "while len(i_set)!=5:\n",
        "  element=int(input('0~9사이의 정수를 입력하세요. >>>'))\n",
        "  i_set.add(element)\n",
        "\n",
        "print(f'5개의 고유한 정수가 모두 입력되었습니다. \\n입력된 값은 {i_set}입니다.')"
      ],
      "metadata": {
        "id": "hCVnAFsx87qs"
      },
      "execution_count": null,
      "outputs": []
    },
    {
      "cell_type": "code",
      "source": [
        "# 1부터 100사이의 모든 정수를 한 줄에 10개씩 출력하시오.\n",
        "# num=1\n",
        "\n",
        "# while num<=100:\n",
        "#    if num%10 != 0:\n",
        "#      print(num, end='\\t')\n",
        "#    else:\n",
        "#      print(num)\n",
        "#    num += 1\n",
        "\n",
        "n=1\n",
        "while n<= 100:\n",
        "  t=0\n",
        "  while t < 10:\n",
        "    print(n, end='\\t')\n",
        "    t += 1\n",
        "    n += 1\n",
        "  print('')"
      ],
      "metadata": {
        "id": "Lbxl3XBODAnQ"
      },
      "execution_count": null,
      "outputs": []
    },
    {
      "cell_type": "code",
      "source": [
        "###########################################\n",
        "# for\n",
        "###########################################\n",
        "# 몇 번 반본 시킬지 그 횟수가 명확할 때 주로 사용한다.\n",
        "# for 변수 in 반복시킬 값들:\n",
        "#   반복실행문\n",
        "# 리스트\n",
        "for i in [1,2,3]:\n",
        "  print(i)\n",
        "# 문자열\n",
        "for i in 'hello':\n",
        "  print(i)\n",
        "# 튜플\n",
        "for i in (1,2,3):\n",
        "  print(i)\n",
        "# range()\n",
        "for i in range(3) : #range(시작(생략가능), 끝(미만), 스탭(생략가능)) # 시작을 생략시 0부터 시작\n",
        "  print(i)\n",
        "# set, dict 는 순서와 상관 없이는 사용가능\n"
      ],
      "metadata": {
        "id": "D-ycNzw1Lhg1"
      },
      "execution_count": null,
      "outputs": []
    },
    {
      "cell_type": "code",
      "source": [
        "# 비밀 번호(str)를 입력 받아서 숫자와 문자가 모두 하나이상\n",
        "# 포함된 경우만 '사용 가능한 비번입니다.'\n",
        "#''불가능한 비번입니다.'\n",
        "# ch.isalpha() - 알파벳이면 True\n",
        "# ch.isnumeric() - 숫자면 True\n",
        "\n",
        "pw=input('비밀번호 : ')\n",
        "ch_count=0\n",
        "no_count=0\n",
        "\n",
        "for ch in pw:\n",
        "  if ch.isalpha():\n",
        "    ch_count += 1\n",
        "  elif ch.isnumeric():\n",
        "    no_count += 1\n",
        "\n",
        "if ch_count > 0 and no_count > 0 :\n",
        "  print('사용 가능한 비번입니다.')\n",
        "else :\n",
        "  print('불가능한 비번입니다.')\n",
        "    "
      ],
      "metadata": {
        "id": "jZI21zVzOSUN"
      },
      "execution_count": null,
      "outputs": []
    },
    {
      "cell_type": "code",
      "source": [
        "# range(start, stop, step) # start 생략가능, step 생략가능\n",
        "# 1. 숫자들을 컬렉션으로 만든다.\n",
        "# 2. start를 생략하면 0부터 시작한다.\n",
        "# 3. stop은 생략할 수 없다.\n",
        "# 4. step을 생략하면 1씩 증가한다.\n",
        "\n",
        "range(0, 5)"
      ],
      "metadata": {
        "id": "0c2x_bH9V-DC"
      },
      "execution_count": null,
      "outputs": []
    },
    {
      "cell_type": "code",
      "source": [
        "# Q. range와 for 문을 사용하여 구구단을 출력\n",
        "# (입력) 출력할 구구단을 입력하세요. >>> 5\n",
        "dan=int(input('출력할 구구단을 입력하세요.>>>'))\n",
        "\n",
        "for i in range(1,10):\n",
        "  print(f'{dan} X {i} = {dan*i}')"
      ],
      "metadata": {
        "id": "dfaXdO6fW6f8"
      },
      "execution_count": null,
      "outputs": []
    },
    {
      "cell_type": "code",
      "source": [
        "# set, dict도 for문으로 사용은 가능하나 순서는 보장하지 않는다.\n",
        "for i in {'가위','바위','보'}:\n",
        "  print(i)"
      ],
      "metadata": {
        "id": "3McgTOiqYEmN"
      },
      "execution_count": null,
      "outputs": []
    },
    {
      "cell_type": "code",
      "source": [
        "person = {\n",
        "    'name':'에밀리',\n",
        "    'age':'20'\n",
        "}\n",
        "\n",
        "for i in person:\n",
        "  print(i)"
      ],
      "metadata": {
        "colab": {
          "base_uri": "https://localhost:8080/"
        },
        "id": "kVKijiInYcmp",
        "outputId": "6bb6dc89-a83f-4899-f46b-ded1158da605"
      },
      "execution_count": 4,
      "outputs": [
        {
          "output_type": "stream",
          "name": "stdout",
          "text": [
            "name\n",
            "age\n"
          ]
        }
      ]
    },
    {
      "cell_type": "code",
      "source": [
        "# 사용자로부터 양의 정수를 하나 입력 받아서 1부터 입력 받은 정수까지의 모든 정수의 합계를 구하는 프로그램을 작성하세요.\n",
        "\n",
        "num=int(input('임의의 양수를 입력하세요.>>>'))\n",
        "result=0\n",
        "\n",
        "for i in range(1,num+1) :\n",
        "  result = result + i # result += i\n",
        "\n",
        "print(f'1부터 {num}사이의 모든 정수의 합계는 {result}입니다.')"
      ],
      "metadata": {
        "colab": {
          "base_uri": "https://localhost:8080/"
        },
        "id": "DtcS1BRUZPXy",
        "outputId": "e48bc255-ef39-42de-ad0d-d12f1f1528dc"
      },
      "execution_count": 8,
      "outputs": [
        {
          "output_type": "stream",
          "name": "stdout",
          "text": [
            "임의의 양수를 입력하세요.>>>6\n",
            "1부터 6사이의 모든 정수의 합계는 21입니다.\n"
          ]
        }
      ]
    },
    {
      "cell_type": "code",
      "source": [
        "# 사용자로부터 임의의 정수를 하나 입력 받아서 그 숫자 만큼의 '과일이름'을 입력 받아서 'basket'리스트에 저장하는 프로그램.\n",
        "\n",
        "num=int(input('몇 개의 과일을 보관할까요? >>>'))\n",
        "basket=[]\n",
        "\n",
        "for i in range(1,num+1):\n",
        "  fruit=input(f'{i}번째 과일을 입력하세요.>>>')\n",
        "  basket.append(fruit)\n",
        "\n",
        "print(f'입력 받은 과일들은 {basket}입니다.')"
      ],
      "metadata": {
        "colab": {
          "base_uri": "https://localhost:8080/"
        },
        "id": "5P9HZ5g_aM83",
        "outputId": "999d7413-f573-4738-aba9-949895e5307d"
      },
      "execution_count": 11,
      "outputs": [
        {
          "output_type": "stream",
          "name": "stdout",
          "text": [
            "몇 개의 과일을 보관할까요? >>>5\n",
            "1번째 과일을 입력하세요.>>>사과\n",
            "2번째 과일을 입력하세요.>>>바나나\n",
            "3번째 과일을 입력하세요.>>>수박\n",
            "4번째 과일을 입력하세요.>>>키위\n",
            "5번째 과일을 입력하세요.>>>귤\n",
            "입력 받은 과일들은 ['사과', '바나나', '수박', '키위', '귤']입니다.\n"
          ]
        }
      ]
    },
    {
      "cell_type": "code",
      "source": [
        "# 1부터 99사이의 모든 정수를 대상으로 369게임의 결과를 출력하는 프로그램.\n",
        "# 출력) 1 2 짝 4 5 짝 .. 8 짝 10\n",
        "#       11 12 짝...\n",
        "#       21..\n",
        "#       짝 짝 짝짝 ...\n",
        "count=0\n",
        "\n",
        "for i in range(1,100):\n",
        "  i=str(i)\n",
        "  for j in i:\n",
        "    if '3' in j:\n",
        "      count+=1\n",
        "    elif '6' in j:\n",
        "      count+=1\n",
        "    elif '9' in j:\n",
        "      count+=1\n",
        "    else:\n",
        "      continue\n",
        "  if int(i)%10 != 0 and count == 0:\n",
        "     print(i, end='\\t')\n",
        "  elif int(i)%10 != 0 and count == 1:\n",
        "     print('짝', end='\\t')\n",
        "  elif int(i)%10 != 0 and count == 2:\n",
        "     print('짝짝', end='\\t')\n",
        "  elif int(i)%10 == 0 and count == 1:\n",
        "     print('짝')\n",
        "  else:\n",
        "    print(i)\n",
        "  count=0\n",
        "\n",
        "  \n",
        "\n"
      ],
      "metadata": {
        "colab": {
          "base_uri": "https://localhost:8080/"
        },
        "id": "Gcm_vj4tcyVz",
        "outputId": "60e3acb0-682f-4208-fd2e-0a761bd36774"
      },
      "execution_count": 90,
      "outputs": [
        {
          "output_type": "stream",
          "name": "stdout",
          "text": [
            "1\t2\t짝\t4\t5\t짝\t7\t8\t짝\t10\n",
            "11\t12\t짝\t14\t15\t짝\t17\t18\t짝\t20\n",
            "21\t22\t짝\t24\t25\t짝\t27\t28\t짝\t짝\n",
            "짝\t짝\t짝짝\t짝\t짝\t짝짝\t짝\t짝\t짝짝\t40\n",
            "41\t42\t짝\t44\t45\t짝\t47\t48\t짝\t50\n",
            "51\t52\t짝\t54\t55\t짝\t57\t58\t짝\t짝\n",
            "짝\t짝\t짝짝\t짝\t짝\t짝짝\t짝\t짝\t짝짝\t70\n",
            "71\t72\t짝\t74\t75\t짝\t77\t78\t짝\t80\n",
            "81\t82\t짝\t84\t85\t짝\t87\t88\t짝\t짝\n",
            "짝\t짝\t짝짝\t짝\t짝\t짝짝\t짝\t짝\t짝짝\t"
          ]
        }
      ]
    }
  ]
}