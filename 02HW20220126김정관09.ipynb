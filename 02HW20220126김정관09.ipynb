{
  "nbformat": 4,
  "nbformat_minor": 0,
  "metadata": {
    "colab": {
      "name": "02HW20220126김정관09.ipynb",
      "provenance": [],
      "authorship_tag": "ABX9TyMsBYa+CD1QX5bjV9T3l9xe",
      "include_colab_link": true
    },
    "kernelspec": {
      "name": "python3",
      "display_name": "Python 3"
    },
    "language_info": {
      "name": "python"
    }
  },
  "cells": [
    {
      "cell_type": "markdown",
      "metadata": {
        "id": "view-in-github",
        "colab_type": "text"
      },
      "source": [
        "<a href=\"https://colab.research.google.com/github/clouououd/ai/blob/main/02HW20220126%EA%B9%80%EC%A0%95%EA%B4%8009.ipynb\" target=\"_parent\"><img src=\"https://colab.research.google.com/assets/colab-badge.svg\" alt=\"Open In Colab\"/></a>"
      ]
    },
    {
      "cell_type": "code",
      "execution_count": 1,
      "metadata": {
        "id": "pKA8V_T6af9H"
      },
      "outputs": [],
      "source": [
        "#051\n",
        "movie_rank=['닥터 스트레인지','스플릿','럭키']"
      ]
    },
    {
      "cell_type": "code",
      "source": [
        "#052\n",
        "movie_rank=['닥터 스트레인지','스플릿','럭키']\n",
        "movie_rank.append('배트맨')"
      ],
      "metadata": {
        "id": "ksRZbilMbuds"
      },
      "execution_count": 2,
      "outputs": []
    },
    {
      "cell_type": "code",
      "source": [
        "#053\n",
        "movie_rank=['닥터 스트레인지','스플릿','럭키','배트맨']\n",
        "movie_rank.insert(1,'슈퍼맨')"
      ],
      "metadata": {
        "id": "JaFSCC6McTHy"
      },
      "execution_count": 3,
      "outputs": []
    },
    {
      "cell_type": "code",
      "source": [
        "#054\n",
        "movie_rank=['닥터 스트레인지','슈퍼맨','스플릿','럭키','배트맨']\n",
        "movie_rank.pop(3)"
      ],
      "metadata": {
        "colab": {
          "base_uri": "https://localhost:8080/",
          "height": 35
        },
        "id": "3RBd07xScsM9",
        "outputId": "b4c78766-c2e4-4097-eac8-2abc124e3ee1"
      },
      "execution_count": 4,
      "outputs": [
        {
          "output_type": "execute_result",
          "data": {
            "application/vnd.google.colaboratory.intrinsic+json": {
              "type": "string"
            },
            "text/plain": [
              "'럭키'"
            ]
          },
          "metadata": {},
          "execution_count": 4
        }
      ]
    },
    {
      "cell_type": "code",
      "source": [
        "#055\n",
        "movie_rank=['닥터 스트레인지', '슈퍼맨', '스플릿', '배트맨']\n",
        "del movie_rank[2:]"
      ],
      "metadata": {
        "id": "YIOC2tIBdMKI"
      },
      "execution_count": 5,
      "outputs": []
    },
    {
      "cell_type": "code",
      "source": [
        "#056\n",
        "lang1=['C','C++','JAVA']\n",
        "lang2=['Python','Go','C#']\n",
        "langs=lang1+lang2"
      ],
      "metadata": {
        "id": "dRM-XZDPd70H"
      },
      "execution_count": 6,
      "outputs": []
    },
    {
      "cell_type": "code",
      "source": [
        "#057\n",
        "nums=[1,2,3,4,5,6,7]\n",
        "print(max(nums))\n",
        "print(min(nums))"
      ],
      "metadata": {
        "colab": {
          "base_uri": "https://localhost:8080/"
        },
        "id": "MnMu_uO4eRjx",
        "outputId": "205746a4-1b17-4337-c500-609ca892041c"
      },
      "execution_count": 7,
      "outputs": [
        {
          "output_type": "stream",
          "name": "stdout",
          "text": [
            "7\n",
            "1\n"
          ]
        }
      ]
    },
    {
      "cell_type": "code",
      "source": [
        "#058\n",
        "nums=[1,2,3,4,5]\n",
        "print(sum(nums))"
      ],
      "metadata": {
        "colab": {
          "base_uri": "https://localhost:8080/"
        },
        "id": "urLWQSPTempD",
        "outputId": "36813fed-1bea-44ab-9c9e-63cbaf9704ea"
      },
      "execution_count": 8,
      "outputs": [
        {
          "output_type": "stream",
          "name": "stdout",
          "text": [
            "15\n"
          ]
        }
      ]
    },
    {
      "cell_type": "code",
      "source": [
        "#059\n",
        "cook=['피자','김밥','만두','양념치킨','족발','피자','김치만두','쫄면','쏘세지','라면','팥빙수','김치전']\n",
        "print(len(cook))"
      ],
      "metadata": {
        "colab": {
          "base_uri": "https://localhost:8080/"
        },
        "id": "JJuG1t5Teu0B",
        "outputId": "7442199c-8088-42a0-c29a-51c254854c71"
      },
      "execution_count": 9,
      "outputs": [
        {
          "output_type": "stream",
          "name": "stdout",
          "text": [
            "12\n"
          ]
        }
      ]
    },
    {
      "cell_type": "code",
      "source": [
        "#060\n",
        "nums=[1,2,3,4,5]\n",
        "average=sum(nums)/len(nums)\n",
        "print(average)"
      ],
      "metadata": {
        "colab": {
          "base_uri": "https://localhost:8080/"
        },
        "id": "5va_IudEe_1i",
        "outputId": "aa399895-cd74-4854-80fe-0564defd318f"
      },
      "execution_count": 10,
      "outputs": [
        {
          "output_type": "stream",
          "name": "stdout",
          "text": [
            "3.0\n"
          ]
        }
      ]
    },
    {
      "cell_type": "code",
      "source": [
        "#121\n",
        "word=input('영어알파벳을 입력하세요.>>>')\n",
        "print(word.upper()) if word.islower()==True else print(word.lower())"
      ],
      "metadata": {
        "colab": {
          "base_uri": "https://localhost:8080/"
        },
        "id": "knqBbB9-fXyK",
        "outputId": "59bfcec3-780f-46ee-b0b2-b7f936ee4824"
      },
      "execution_count": 1,
      "outputs": [
        {
          "output_type": "stream",
          "name": "stdout",
          "text": [
            "영어알파벳을 입력하세요.>>>b\n",
            "B\n"
          ]
        }
      ]
    },
    {
      "cell_type": "code",
      "source": [
        "#122\n",
        "score=int(input('학점을 입력하세요.>>>'))\n",
        "grade=''\n",
        "\n",
        "if score>80:\n",
        "  grade='A'\n",
        "elif score>60:\n",
        "  grade='B'\n",
        "elif score>40:\n",
        "  grade='C'\n",
        "elif score>20:\n",
        "  grade='D'\n",
        "else:\n",
        "  grade='F'\n",
        "\n",
        "print(f'grade is {grade}')"
      ],
      "metadata": {
        "colab": {
          "base_uri": "https://localhost:8080/"
        },
        "id": "4uuQHPV_gXLl",
        "outputId": "12fdfaa2-4e02-435f-e083-14cde99812a9"
      },
      "execution_count": 31,
      "outputs": [
        {
          "output_type": "stream",
          "name": "stdout",
          "text": [
            "학점을 입력하세요.>>>83\n",
            "grade is A\n"
          ]
        }
      ]
    },
    {
      "cell_type": "code",
      "source": [
        "#123\n",
        "i_data=list(input('입력 : '))\n",
        "amount=0\n",
        "\n",
        "if '달러' in i_data:\n",
        "  for i in range(len(i_data)-3): \n",
        "    amount+=int(i_data[-(i+4)])*10**i\n",
        "  amount=amount*1167\n",
        "elif '엔' in i_data:\n",
        "  for i in range(len(i_data)-2): \n",
        "    amount+=int(i_data[-(i+3)])*10**i\n",
        "  amount=amount*1.096\n",
        "elif '유로' in i_data:\n",
        "  for i in range(len(i_data)-3):\n",
        "    amount+=int(i_data[-(i+4)])*10**i\n",
        "  amount=amount*1268\n",
        "else: # 위안 171\n",
        "  for i in range(len(i_data)-3): \n",
        "    amount+=int(i_data[-(i+4)])*10**i\n",
        "  amount=amount*171\n",
        "\n",
        "print(amount,end='원')"
      ],
      "metadata": {
        "colab": {
          "base_uri": "https://localhost:8080/"
        },
        "id": "RbkoFTaHhTuY",
        "outputId": "d5519daa-1928-4420-b196-1d456b3c56d4"
      },
      "execution_count": 67,
      "outputs": [
        {
          "output_type": "stream",
          "name": "stdout",
          "text": [
            "입력 : 100 달러\n",
            "17100원"
          ]
        }
      ]
    },
    {
      "cell_type": "code",
      "source": [
        "#124\n",
        "n1=int(input('첫번째 숫자:'))\n",
        "n2=int(input('두번째 숫자:'))\n",
        "n3=int(input('세번째 숫자:'))\n",
        "print(max([n1,n2,n3]))"
      ],
      "metadata": {
        "colab": {
          "base_uri": "https://localhost:8080/"
        },
        "id": "ogNS2Achi8qu",
        "outputId": "b0bd723a-781b-4e3b-c3dd-679cd9c1bb5f"
      },
      "execution_count": 30,
      "outputs": [
        {
          "output_type": "stream",
          "name": "stdout",
          "text": [
            "첫번째 숫자:10\n",
            "두번째 숫자:9\n",
            "세번째 숫자:20\n",
            "20\n"
          ]
        }
      ]
    },
    {
      "cell_type": "code",
      "source": [
        "#125\n",
        "num=input('휴대번호를 입력하세요.>>>')\n",
        "company=\"\"\n",
        "\n",
        "if num[:3]=='011':\n",
        "  company='SKT'\n",
        "elif num[:3]=='016':\n",
        "  company='KT'\n",
        "elif num[:3]=='019':\n",
        "  company='LGU'\n",
        "else:\n",
        "  company='알수없음'\n",
        "\n",
        "print(f'당신은 {company} 사용자입니다.')"
      ],
      "metadata": {
        "colab": {
          "base_uri": "https://localhost:8080/"
        },
        "id": "cgIz0i-Ojg8u",
        "outputId": "c7c9b01d-900d-4a1b-9b9a-7df022b09cab"
      },
      "execution_count": 29,
      "outputs": [
        {
          "output_type": "stream",
          "name": "stdout",
          "text": [
            "휴대번호를 입력하세요.>>>011-345-1922\n",
            "당신은 SKT 사용자입니다.\n"
          ]
        }
      ]
    },
    {
      "cell_type": "code",
      "source": [
        "#126\n",
        "p_num=input('우편번호 : ')\n",
        "gang=[0,1,2] # 강북구\n",
        "do=[3,4,5] # 도봉구\n",
        "no=[6,7,8,9] # 노원구\n",
        "\n",
        "if p_num[2] in gang:\n",
        "  print('강북구')\n",
        "elif p_num[2] in do:\n",
        "  print('도봉구')\n",
        "else:\n",
        "  print('노원구')"
      ],
      "metadata": {
        "colab": {
          "base_uri": "https://localhost:8080/"
        },
        "id": "ImCZu1y-2gzZ",
        "outputId": "ac047969-97ba-46bf-fd1c-f9a6d3a92433"
      },
      "execution_count": 28,
      "outputs": [
        {
          "output_type": "stream",
          "name": "stdout",
          "text": [
            "우편번호 : 01400\n",
            "노원구\n"
          ]
        }
      ]
    },
    {
      "cell_type": "code",
      "source": [
        "#127\n",
        "num=input('주민등록번호 : ')\n",
        "s_code=['00','01','02','03','04','05','06','07','08']\n",
        "\n",
        "if num[-6:-4] in s_code:\n",
        "  print('서울 입니다.')\n",
        "else:\n",
        "  print('서울이 아닙니다.')"
      ],
      "metadata": {
        "colab": {
          "base_uri": "https://localhost:8080/"
        },
        "id": "8fMSRrJb4cLj",
        "outputId": "cf3fd134-2c5d-46c1-d566-fbde2ba22479"
      },
      "execution_count": 4,
      "outputs": [
        {
          "output_type": "stream",
          "name": "stdout",
          "text": [
            "주민등록번호 :  821010-1635210\n",
            "서울이 아닙니다.\n"
          ]
        }
      ]
    },
    {
      "cell_type": "code",
      "source": [
        "#129\n",
        "num=list(input('주민등록번호 : '))\n",
        "code=[2,3,4,5,6,7,0,8,9,2,3,4,5]\n",
        "n=0\n",
        "c=0\n",
        "resultData=[]\n",
        "\n",
        "del num[6]\n",
        "\n",
        "for i in range(len(code)):\n",
        "  n=int(num[i])\n",
        "  c=code[i]\n",
        "  resultData.append(n*c)\n",
        "\n",
        "if 11-sum(resultData)%11 == int(num[12]) :\n",
        "  print('유효한 주민등록번호입니다.')\n",
        "else:\n",
        "  print('유효하지 않은 주민등록번호입니다.')"
      ],
      "metadata": {
        "colab": {
          "base_uri": "https://localhost:8080/"
        },
        "id": "2Lbx7oW66CVD",
        "outputId": "b3f49e0b-7214-406e-8380-d0bbe07997b7"
      },
      "execution_count": 12,
      "outputs": [
        {
          "output_type": "stream",
          "name": "stdout",
          "text": [
            "주민등록번호 : 821010-1635210\n",
            "유효하지 않은 주민등록번호입니다.\n"
          ]
        }
      ]
    },
    {
      "cell_type": "code",
      "source": [
        "#130\n",
        "import requests\n",
        "btc = requests.get(\"https://api.bithumb.com/public/ticker/\").json()['data']\n",
        "\n",
        "f_range=int(btc['max_price'])-int(btc['min_price']) # f_range는 변동폭\n",
        "if int(btc['max_price']) < int(btc['opening_price'])-f_range:\n",
        "  print('상승장')\n",
        "else:\n",
        "  print('하락장')"
      ],
      "metadata": {
        "colab": {
          "base_uri": "https://localhost:8080/"
        },
        "id": "c7q2bib1O7Tm",
        "outputId": "58e529c9-2ce8-4073-8930-a6fae7ba922c"
      },
      "execution_count": 27,
      "outputs": [
        {
          "output_type": "stream",
          "name": "stdout",
          "text": [
            "하락장\n"
          ]
        }
      ]
    }
  ]
}