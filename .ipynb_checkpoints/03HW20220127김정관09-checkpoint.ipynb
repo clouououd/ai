{
 "cells": [
  {
   "cell_type": "markdown",
   "metadata": {
    "colab_type": "text",
    "id": "view-in-github"
   },
   "source": [
    "<a href=\"https://colab.research.google.com/github/clouououd/ai/blob/main/03HW20220127%EA%B9%80%EC%A0%95%EA%B4%8009.ipynb\" target=\"_parent\"><img src=\"https://colab.research.google.com/assets/colab-badge.svg\" alt=\"Open In Colab\"/></a>"
   ]
  },
  {
   "cell_type": "code",
   "execution_count": 2,
   "metadata": {
    "colab": {
     "base_uri": "https://localhost:8080/"
    },
    "id": "lgnxwKywWXhF",
    "outputId": "6cee61e3-d91d-45a6-9695-beb7d173e9f9"
   },
   "outputs": [
    {
     "name": "stdout",
     "output_type": "stream",
     "text": [
      "{'메로나': [300, 20], '비비빅': [400, 3], '죠스바': [250, 100]}\n"
     ]
    }
   ],
   "source": [
    "#091 ㅇ\n",
    "inventory={\n",
    "    '메로나':[300,20],\n",
    "    '비비빅':[400,3],\n",
    "    '죠스바':[250,100]\n",
    "}\n",
    "print(inventory)"
   ]
  },
  {
   "cell_type": "code",
   "execution_count": 4,
   "metadata": {
    "colab": {
     "base_uri": "https://localhost:8080/"
    },
    "id": "_tegDy37W7Vr",
    "outputId": "82b9c537-30fa-4b6f-c91a-37783e079f02"
   },
   "outputs": [
    {
     "name": "stdout",
     "output_type": "stream",
     "text": [
      "300\n"
     ]
    }
   ],
   "source": [
    "#092 ㅇ\n",
    "inventory={\n",
    "    '메로나':[300,20],\n",
    "    '비비빅':[400,3],\n",
    "    '죠스바':[250,100]\n",
    "}\n",
    "print(inventory['메로나'][0])"
   ]
  },
  {
   "cell_type": "code",
   "execution_count": 6,
   "metadata": {
    "colab": {
     "base_uri": "https://localhost:8080/"
    },
    "id": "6dDZhm-8X2jb",
    "outputId": "88d9815d-d62c-47c7-8e41-03617447ec54"
   },
   "outputs": [
    {
     "name": "stdout",
     "output_type": "stream",
     "text": [
      "20개"
     ]
    }
   ],
   "source": [
    "#093 ㅇ\n",
    "inventory={\n",
    "    '메로나':[300,20],\n",
    "    '비비빅':[400,3],\n",
    "    '죠스바':[250,100]\n",
    "}\n",
    "print(inventory['메로나'][1],end='개')"
   ]
  },
  {
   "cell_type": "code",
   "execution_count": 8,
   "metadata": {
    "colab": {
     "base_uri": "https://localhost:8080/"
    },
    "id": "BqqTG8UGYFAq",
    "outputId": "0c4736b8-3d84-4e6f-cd76-c042890dee3f"
   },
   "outputs": [
    {
     "name": "stdout",
     "output_type": "stream",
     "text": [
      "{'메로나': [300, 20], '비비빅': [400, 3], '죠스바': [250, 100], '월드콘': [500, 7]}\n"
     ]
    }
   ],
   "source": [
    "#094 ㅇ\n",
    "inventory={\n",
    "    '메로나':[300,20],\n",
    "    '비비빅':[400,3],\n",
    "    '죠스바':[250,100]\n",
    "}\n",
    "inventory['월드콘']=[500,7]\n",
    "print(inventory)"
   ]
  },
  {
   "cell_type": "code",
   "execution_count": 2,
   "metadata": {
    "colab": {
     "base_uri": "https://localhost:8080/"
    },
    "id": "N7yt78aAYheF",
    "outputId": "dc5b5b82-f6bd-4c5e-ebdb-3eb67e642ca6"
   },
   "outputs": [
    {
     "name": "stdout",
     "output_type": "stream",
     "text": [
      "['탱크보이', '폴라포', '빵빠레', '월드콘', '메로나']\n"
     ]
    }
   ],
   "source": [
    "#095 X\n",
    "icecream = {'탱크보이': 1200, '폴라포': 1200, '빵빠레': 1800, '월드콘': 1500, '메로나': 1000}\n",
    "\n",
    "ice=list(icecream.keys())\n",
    "print(ice)"
   ]
  },
  {
   "cell_type": "code",
   "execution_count": 3,
   "metadata": {
    "colab": {
     "base_uri": "https://localhost:8080/"
    },
    "id": "_ALY_YGPZYsu",
    "outputId": "f1bb61d9-1ce8-4c91-a6b3-f6e9000ac3cc"
   },
   "outputs": [
    {
     "name": "stdout",
     "output_type": "stream",
     "text": [
      "[1200, 1200, 1800, 1500, 1000]\n"
     ]
    }
   ],
   "source": [
    "#096 X\n",
    "icecream = {'탱크보이': 1200, '폴라포': 1200, '빵빠레': 1800, '월드콘': 1500, '메로나': 1000}\n",
    "\n",
    "price = list(icecream.values())\n",
    "print(price)"
   ]
  },
  {
   "cell_type": "code",
   "execution_count": 50,
   "metadata": {
    "colab": {
     "base_uri": "https://localhost:8080/"
    },
    "id": "TDPsz5xVZpxv",
    "outputId": "e35ec60f-7de5-4d8e-b998-2caa300b2833"
   },
   "outputs": [
    {
     "name": "stdout",
     "output_type": "stream",
     "text": [
      "6700\n"
     ]
    }
   ],
   "source": [
    "#097 ㅇ\n",
    "icecream = {'탱크보이': 1200, '폴라포': 1200, '빵빠레': 1800, '월드콘': 1500, '메로나': 1000}\n",
    "\n",
    "print(sum(icecream.values()))"
   ]
  },
  {
   "cell_type": "code",
   "execution_count": 53,
   "metadata": {
    "colab": {
     "base_uri": "https://localhost:8080/"
    },
    "id": "zZHAdgRMaV2e",
    "outputId": "74a6b069-7193-4c76-e6ca-f8194f95e2b0"
   },
   "outputs": [
    {
     "name": "stdout",
     "output_type": "stream",
     "text": [
      "{'탱크보이': 1200, '폴라포': 1200, '빵빠레': 1800, '월드콘': 1500, '메로나': 1000, '팥빙수': 2700, '아맛나': 1000}\n"
     ]
    }
   ],
   "source": [
    "#098 ㅇ\n",
    "icecream = {'탱크보이': 1200, '폴라포': 1200, '빵빠레': 1800, '월드콘': 1500, '메로나': 1000}\n",
    "new_product = {'팥빙수':2700, '아맛나':1000}\n",
    "\n",
    "icecream.update(new_product)\n",
    "print(icecream)"
   ]
  },
  {
   "cell_type": "code",
   "execution_count": 56,
   "metadata": {
    "colab": {
     "base_uri": "https://localhost:8080/"
    },
    "id": "ISyYgta2Z8od",
    "outputId": "36a76c81-d30b-4b70-bc02-36f44c346a3d"
   },
   "outputs": [
    {
     "name": "stdout",
     "output_type": "stream",
     "text": [
      "{'apple': 300, 'pear': 250, 'peach': 400}\n"
     ]
    }
   ],
   "source": [
    "#099 ㅇ\n",
    "keys = (\"apple\", \"pear\", \"peach\")\n",
    "vals = (300, 250, 400)\n",
    "\n",
    "result=dict(zip(keys,vals))\n",
    "print(result)"
   ]
  },
  {
   "cell_type": "code",
   "execution_count": 57,
   "metadata": {
    "colab": {
     "base_uri": "https://localhost:8080/"
    },
    "id": "l1HQttfuaQzg",
    "outputId": "17c63d48-8578-4632-b77d-2a0e78f2b923"
   },
   "outputs": [
    {
     "name": "stdout",
     "output_type": "stream",
     "text": [
      "{'09/05': 10500, '09/06': 10300, '09/07': 10100, '09/08': 10800, '09/09': 11000}\n"
     ]
    }
   ],
   "source": [
    "#100 ㅇ\n",
    "date = ['09/05', '09/06', '09/07', '09/08', '09/09']\n",
    "close_price = [10500, 10300, 10100, 10800, 11000]\n",
    "\n",
    "close_table=dict(zip(date,close_price))\n",
    "print(close_table)"
   ]
  },
  {
   "cell_type": "code",
   "execution_count": 17,
   "metadata": {
    "colab": {
     "base_uri": "https://localhost:8080/"
    },
    "id": "8bW3eZQibFsp",
    "outputId": "a1da5af6-2fa9-4ff2-aec6-9ac47135f416"
   },
   "outputs": [
    {
     "name": "stdout",
     "output_type": "stream",
     "text": [
      "-20\n",
      "-3\n"
     ]
    }
   ],
   "source": [
    "#151 ㅇ\n",
    "list151 = [3, -20, -3, 44]\n",
    "\n",
    "for i in list151 :\n",
    "  if i < 0 :\n",
    "    print(i)\n",
    "  else :\n",
    "    continue\n"
   ]
  },
  {
   "cell_type": "code",
   "execution_count": 18,
   "metadata": {
    "colab": {
     "base_uri": "https://localhost:8080/"
    },
    "id": "4uY2I8_Db1Lc",
    "outputId": "9ae1b5d2-e545-4b06-dbfe-3f22e0ba9bff"
   },
   "outputs": [
    {
     "name": "stdout",
     "output_type": "stream",
     "text": [
      "3\n"
     ]
    }
   ],
   "source": [
    "#152 ㅇ\n",
    "list152 = [3, 100, 23, 44]\n",
    "\n",
    "for i in list152 :\n",
    "  if i % 3 == 0 :\n",
    "    print(i)\n",
    "  else :\n",
    "    continue"
   ]
  },
  {
   "cell_type": "code",
   "execution_count": 19,
   "metadata": {
    "colab": {
     "base_uri": "https://localhost:8080/"
    },
    "id": "BPl0hokKcE2Z",
    "outputId": "dcf98357-58e6-4f33-84e8-e7fe75ec9b3d"
   },
   "outputs": [
    {
     "name": "stdout",
     "output_type": "stream",
     "text": [
      "12\n",
      "18\n"
     ]
    }
   ],
   "source": [
    "#153 ㅇ\n",
    "list153 = [13, 21, 12, 14, 30, 18]\n",
    "\n",
    "for i in list153 :\n",
    "  if i < 20 and i % 3 == 0 :\n",
    "    print(i)\n",
    "  else :\n",
    "    continue"
   ]
  },
  {
   "cell_type": "code",
   "execution_count": 20,
   "metadata": {
    "colab": {
     "base_uri": "https://localhost:8080/"
    },
    "id": "NiZzfPBQcYTQ",
    "outputId": "d40b733d-a4c3-4e2f-efa1-8a2241dd74ef"
   },
   "outputs": [
    {
     "name": "stdout",
     "output_type": "stream",
     "text": [
      "study\n",
      "python\n",
      "language\n"
     ]
    }
   ],
   "source": [
    "#154 ㅇ\n",
    "list154 = [\"I\", \"study\", \"python\", \"language\", \"!\"]\n",
    "\n",
    "for i in list154 :\n",
    "  if len(i) >= 3 :\n",
    "    print(i)\n",
    "  else :\n",
    "    continue\n"
   ]
  },
  {
   "cell_type": "code",
   "execution_count": 31,
   "metadata": {
    "colab": {
     "base_uri": "https://localhost:8080/"
    },
    "id": "2RQOaXZocq6I",
    "outputId": "29c1e72b-7c2a-4285-f634-8f4958fc4581"
   },
   "outputs": [
    {
     "name": "stdout",
     "output_type": "stream",
     "text": [
      "A\n",
      "D\n"
     ]
    }
   ],
   "source": [
    "#155 ㅇ\n",
    "list155 = [\"A\", \"b\", \"c\", \"D\"]\n",
    "\n",
    "for i in list155 :\n",
    "  if i.isupper() :\n",
    "    print(i)\n",
    "  else :\n",
    "    pass\n"
   ]
  },
  {
   "cell_type": "code",
   "execution_count": 32,
   "metadata": {
    "colab": {
     "base_uri": "https://localhost:8080/"
    },
    "id": "ZA2yepIPeUKd",
    "outputId": "4cc091a8-3fa0-4eb4-b18c-0056cbcc5612"
   },
   "outputs": [
    {
     "name": "stdout",
     "output_type": "stream",
     "text": [
      "b\n",
      "c\n"
     ]
    }
   ],
   "source": [
    "#156  ㅇ\n",
    "list156 = [\"A\", \"b\", \"c\", \"D\"]\n",
    "\n",
    "for i in list156 :\n",
    "  if i.islower() :\n",
    "    print(i)\n",
    "  else :\n",
    "    pass"
   ]
  },
  {
   "cell_type": "code",
   "execution_count": 6,
   "metadata": {
    "colab": {
     "base_uri": "https://localhost:8080/"
    },
    "id": "QV748snHepxu",
    "outputId": "a38c4e25-fc15-49d7-845e-dcebc1ca082b"
   },
   "outputs": [
    {
     "name": "stdout",
     "output_type": "stream",
     "text": [
      "Dog\n",
      "Cat\n",
      "Parrot\n"
     ]
    }
   ],
   "source": [
    "#157  ㅅ\n",
    "list157 = ['dog', 'cat', 'parrot']\n",
    "\n",
    "# for i in list157 :\n",
    "#   first = i[0].upper()\n",
    "#   print(f'{first}{i[1:]}')\n",
    "    \n",
    "for i in list157 :\n",
    "    print(i[0].upper() + i[1:])"
   ]
  },
  {
   "cell_type": "code",
   "execution_count": 38,
   "metadata": {
    "colab": {
     "base_uri": "https://localhost:8080/"
    },
    "id": "QUpwo1zcfzkI",
    "outputId": "fae23e24-b9ca-4be9-fd72-6a061a5d1b70"
   },
   "outputs": [
    {
     "name": "stdout",
     "output_type": "stream",
     "text": [
      "hello\n",
      "ex01\n",
      "intro\n"
     ]
    }
   ],
   "source": [
    "#158 ㅇ\n",
    "list158 = ['hello.py', 'ex01.py', 'intro.hwp']\n",
    "\n",
    "for i in list158 :\n",
    "  print(i.split('.')[0])  "
   ]
  },
  {
   "cell_type": "code",
   "execution_count": 4,
   "metadata": {
    "colab": {
     "base_uri": "https://localhost:8080/"
    },
    "id": "i8HI0mF2g9g9",
    "outputId": "97c1ced1-057e-4a73-c592-7fee47c956bb"
   },
   "outputs": [
    {
     "name": "stdout",
     "output_type": "stream",
     "text": [
      "intra.h\n",
      "define.h\n"
     ]
    }
   ],
   "source": [
    "#159 ㅇ\n",
    "list159 = ['intra.h', 'intra.c', 'define.h', 'run.py']\n",
    "\n",
    "for i in list159 :\n",
    "  if i.split('.')[1] == 'h' :\n",
    "    print(i)\n",
    "  else:\n",
    "    pass"
   ]
  },
  {
   "cell_type": "code",
   "execution_count": 5,
   "metadata": {
    "colab": {
     "base_uri": "https://localhost:8080/"
    },
    "id": "VzZPVTSzhu7g",
    "outputId": "e34ef93a-c20d-464f-9de2-d7e64a869e60"
   },
   "outputs": [
    {
     "name": "stdout",
     "output_type": "stream",
     "text": [
      "intra.h\n",
      "intra.c\n",
      "define.h\n"
     ]
    }
   ],
   "source": [
    "#160(*******) ㅇ\n",
    "list160 = ['intra.h', 'intra.c', 'define.h', 'run.py']\n",
    "\n",
    "for i in list160 :\n",
    "  if i. split('.')[1] == 'h' or i. split('.')[1] == 'c' :\n",
    "    print(i)\n",
    "  else :\n",
    "    pass"
   ]
  }
 ],
 "metadata": {
  "colab": {
   "authorship_tag": "ABX9TyMeArv3TLeeQPChRg6wPbnL",
   "include_colab_link": true,
   "name": "03HW20220127김정관09.ipynb",
   "provenance": []
  },
  "kernelspec": {
   "display_name": "Python 3 (ipykernel)",
   "language": "python",
   "name": "python3"
  },
  "language_info": {
   "codemirror_mode": {
    "name": "ipython",
    "version": 3
   },
   "file_extension": ".py",
   "mimetype": "text/x-python",
   "name": "python",
   "nbconvert_exporter": "python",
   "pygments_lexer": "ipython3",
   "version": "3.9.7"
  }
 },
 "nbformat": 4,
 "nbformat_minor": 1
}
