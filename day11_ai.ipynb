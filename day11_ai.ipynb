{
  "nbformat": 4,
  "nbformat_minor": 0,
  "metadata": {
    "colab": {
      "name": "day11_ai.ipynb",
      "provenance": [],
      "authorship_tag": "ABX9TyNCYv4QWcpb1gtMEqfrXZ7l",
      "include_colab_link": true
    },
    "kernelspec": {
      "name": "python3",
      "display_name": "Python 3"
    },
    "language_info": {
      "name": "python"
    }
  },
  "cells": [
    {
      "cell_type": "markdown",
      "metadata": {
        "id": "view-in-github",
        "colab_type": "text"
      },
      "source": [
        "<a href=\"https://colab.research.google.com/github/clouououd/ai/blob/main/day11_ai.ipynb\" target=\"_parent\"><img src=\"https://colab.research.google.com/assets/colab-badge.svg\" alt=\"Open In Colab\"/></a>"
      ]
    },
    {
      "cell_type": "code",
      "execution_count": 1,
      "metadata": {
        "colab": {
          "base_uri": "https://localhost:8080/"
        },
        "id": "8KxEu4YUkCKb",
        "outputId": "0b480454-a7a3-4970-abed-36e27a2677fe"
      },
      "outputs": [
        {
          "output_type": "stream",
          "name": "stdout",
          "text": [
            "First Name : KIm\n",
            "Hello KIm\n"
          ]
        }
      ],
      "source": [
        "# 001 Ask for the user's first name and display the ouput message\n",
        "# (output) Hello [first Name]\n",
        "# (input) First Name :\n",
        "\n",
        "fname = input('First Name : ')\n",
        "print('Hello', fname)"
      ]
    },
    {
      "cell_type": "code",
      "source": [
        "# 002 Ask for the user's first name and than as their surname and display the ouput message\n",
        "# (output) Hello [First Name] [Surname]\n",
        "# (input) 'Please enter your surname :\n",
        "# (input) 'Please enter your firstname :\n",
        "\n",
        "fname = input('First Name : ')\n",
        "sname = input('Sur Name : ')\n",
        "print('Hello', fname, sname)"
      ],
      "metadata": {
        "colab": {
          "base_uri": "https://localhost:8080/"
        },
        "id": "IOE0rQIlkp4q",
        "outputId": "97fa290b-7d8f-4d78-8070-5925c61a965b"
      },
      "execution_count": 3,
      "outputs": [
        {
          "output_type": "stream",
          "name": "stdout",
          "text": [
            "First Name : Kim\n",
            "Sur Name : Junggwan\n",
            "Hello Kim Junggwan\n"
          ]
        }
      ]
    }
  ]
}