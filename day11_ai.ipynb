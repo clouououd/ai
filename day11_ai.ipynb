{
  "nbformat": 4,
  "nbformat_minor": 0,
  "metadata": {
    "colab": {
      "name": "day11_ai.ipynb",
      "provenance": [],
      "authorship_tag": "ABX9TyNZ3mmqCnffTA12HaV8+MEj",
      "include_colab_link": true
    },
    "kernelspec": {
      "name": "python3",
      "display_name": "Python 3"
    },
    "language_info": {
      "name": "python"
    }
  },
  "cells": [
    {
      "cell_type": "markdown",
      "metadata": {
        "id": "view-in-github",
        "colab_type": "text"
      },
      "source": [
        "<a href=\"https://colab.research.google.com/github/clouououd/ai/blob/main/day11_ai.ipynb\" target=\"_parent\"><img src=\"https://colab.research.google.com/assets/colab-badge.svg\" alt=\"Open In Colab\"/></a>"
      ]
    },
    {
      "cell_type": "code",
      "execution_count": null,
      "metadata": {
        "id": "8KxEu4YUkCKb"
      },
      "outputs": [],
      "source": [
        "# 001 Ask for the user's first name and display the ouput message\n",
        "# (output) Hello [first Name]\n",
        "# (input) First Name :\n",
        "\n",
        "fname = input('First Name : ')\n",
        "print('Hello', fname)"
      ]
    },
    {
      "cell_type": "code",
      "source": [
        "# 002 Ask for the user's first name and than as their surname and display the ouput message\n",
        "# (output) Hello [First Name] [Surname]\n",
        "# (input) 'Please enter your surname :\n",
        "# (input) 'Please enter your firstname :\n",
        "\n",
        "fname = input('First Name : ')\n",
        "sname = input('Sur Name : ')\n",
        "print('Hello', fname, sname)"
      ],
      "metadata": {
        "id": "IOE0rQIlkp4q"
      },
      "execution_count": null,
      "outputs": []
    },
    {
      "cell_type": "code",
      "source": [
        "# 003 Ask the user to enter tow numbers. Add them together and display the answer as\n",
        "# (Output) The total is [answer]\n",
        "# (Input) 'Please enter your first number'\n",
        "# (Input) 'Please enter your second nubmer'\n",
        "\n",
        "fnum = int(input('First number : '))\n",
        "snum = int(input('Second nuber : '))\n",
        "print('Total is', fnum+snum)"
      ],
      "metadata": {
        "id": "3tO4ubIOmOFf"
      },
      "execution_count": null,
      "outputs": []
    },
    {
      "cell_type": "code",
      "source": [
        "before = int(input('Enter the number of slices of pizza you started with :'))\n",
        "after = int(input('How many slices have you eaten?'))\n",
        "print('The answer is', before-after)"
      ],
      "metadata": {
        "id": "HLMkjf7Ynplq"
      },
      "execution_count": null,
      "outputs": []
    },
    {
      "cell_type": "code",
      "source": [
        "days = int(input('Enter the number of days : '))\n",
        "print(f'In {days} days, there are...', end='\\n\\t')\n",
        "print(f'{days*12} hours', end='\\n\\t')\n",
        "print(f'{days*12*60} minutes', end='\\n\\t')\n",
        "print(f'{days*12*60*60} seconds')"
      ],
      "metadata": {
        "id": "MHCQ247RpZQh"
      },
      "execution_count": null,
      "outputs": []
    },
    {
      "cell_type": "code",
      "source": [
        "while True :\n",
        "  larger = int(input('Enter the number over 100 :'))\n",
        "  smaller = int(input('Enter the number under 10 :'))\n",
        "\n",
        "  if larger < 100 or smaller > 10 :\n",
        "    print('다시 입력해주세요')\n",
        "  else :\n",
        "    print(f'{smaller} goes into {larger} answer {larger//smaller}')\n",
        "    break"
      ],
      "metadata": {
        "id": "9tm0Q1N9tQJW"
      },
      "execution_count": null,
      "outputs": []
    },
    {
      "cell_type": "code",
      "source": [
        "fnum = int(input('Enter first number :'))\n",
        "snum = int(input('Enter second number :'))\n",
        "\n",
        "if fnum > snum :\n",
        "  print(snum, fnum)\n",
        "else :\n",
        "  print(fnum, snum)"
      ],
      "metadata": {
        "colab": {
          "base_uri": "https://localhost:8080/"
        },
        "id": "HvOIGO-ZxUEj",
        "outputId": "767800b0-019b-4eac-a5f2-e6fdb8e393d0"
      },
      "execution_count": null,
      "outputs": [
        {
          "output_type": "stream",
          "name": "stdout",
          "text": [
            "Enter first number :2\n",
            "Enter second number :3\n",
            "2 3\n"
          ]
        }
      ]
    },
    {
      "cell_type": "code",
      "source": [
        "num = int(input('Enter a value between 10 and 20 :'))\n",
        "\n",
        "if num >= 10 and num <= 20 :\n",
        "  print('Thank you')\n",
        "else :\n",
        "  print('incorrect number')"
      ],
      "metadata": {
        "colab": {
          "base_uri": "https://localhost:8080/"
        },
        "id": "_5oHsPCO2Kmj",
        "outputId": "a4572648-c20c-4dc5-d5fa-6975cf0d71cc"
      },
      "execution_count": null,
      "outputs": [
        {
          "output_type": "stream",
          "name": "stdout",
          "text": [
            "Enter first number :2\n",
            "incorrect number\n"
          ]
        }
      ]
    },
    {
      "cell_type": "code",
      "source": [
        "color = input('Favorit color : ')\n",
        "\n",
        "if color in ['red','RED','Red'] :\n",
        "  print('I like red too')\n",
        "else :\n",
        "  print('I don\\'t like %s, I prefer red.'%color)"
      ],
      "metadata": {
        "colab": {
          "base_uri": "https://localhost:8080/"
        },
        "id": "pMxnf6c_4_vJ",
        "outputId": "0a614366-57ec-4040-c0ba-25e0ea92566f"
      },
      "execution_count": null,
      "outputs": [
        {
          "output_type": "stream",
          "name": "stdout",
          "text": [
            "Favorit color : blue\n",
            "I don't like blue, I prefer red.\n"
          ]
        }
      ]
    },
    {
      "cell_type": "code",
      "source": [
        "a1 = input('Is it raining?').lower()\n",
        "\n",
        "if 'yes' in a1 :\n",
        "  a2 = input('iIs it windy?').lower()\n",
        "  if 'yes' in a2 :\n",
        "    print('It\\'s too windy for an umbrella')\n",
        "  else :\n",
        "    print('Take an umbrella')\n",
        "else :\n",
        "  print('Enjoy your day')"
      ],
      "metadata": {
        "colab": {
          "base_uri": "https://localhost:8080/"
        },
        "id": "Cf9_wXfu5486",
        "outputId": "4c014144-3225-4a92-f91b-dbb18eb53813"
      },
      "execution_count": null,
      "outputs": [
        {
          "output_type": "stream",
          "name": "stdout",
          "text": [
            "Is it raining?No\n",
            "Enjoy your day\n"
          ]
        }
      ]
    },
    {
      "cell_type": "code",
      "source": [
        "age = int(input('What is your age?'))\n",
        "\n",
        "if age >= 18 :\n",
        "  print('You can vote')\n",
        "elif age == 17 :\n",
        "  print('You can learn to drive')\n",
        "elif age == 16 :\n",
        "  print('You can by a lottery ticket')\n",
        "else :\n",
        "  print('You can go Trick or Treating')"
      ],
      "metadata": {
        "colab": {
          "base_uri": "https://localhost:8080/"
        },
        "id": "py_-ESatChWc",
        "outputId": "87b8e6f3-fac8-480c-fdeb-70a4c99af98c"
      },
      "execution_count": 42,
      "outputs": [
        {
          "output_type": "stream",
          "name": "stdout",
          "text": [
            "What is your age?13\n",
            "You can go Trick or Treating\n"
          ]
        }
      ]
    },
    {
      "cell_type": "code",
      "source": [
        "name = input('What\\'s your name?')\n",
        "print(len(name))"
      ],
      "metadata": {
        "colab": {
          "base_uri": "https://localhost:8080/",
          "height": 54
        },
        "id": "Wi1zmC54E5Yk",
        "outputId": "c1d18064-eacd-4fea-9c78-92b0223f509f"
      },
      "execution_count": 46,
      "outputs": [
        {
          "name": "stdout",
          "output_type": "stream",
          "text": [
            "What's your name?k j\n"
          ]
        },
        {
          "output_type": "execute_result",
          "data": {
            "application/vnd.google.colaboratory.intrinsic+json": {
              "type": "string"
            },
            "text/plain": [
              "'k j'"
            ]
          },
          "metadata": {},
          "execution_count": 46
        }
      ]
    },
    {
      "cell_type": "code",
      "source": [
        "fname = input('First name : ')\n",
        "sname = input('Last name : ')\n",
        "\n",
        "name = fname.title() +' '+ sname.title()\n",
        "print(name)"
      ],
      "metadata": {
        "colab": {
          "base_uri": "https://localhost:8080/"
        },
        "id": "9Mp9AksqFzay",
        "outputId": "bebf561b-7edb-4e01-9976-d2b53d9f5aef"
      },
      "execution_count": 53,
      "outputs": [
        {
          "output_type": "stream",
          "name": "stdout",
          "text": [
            "First name : kim\n",
            "Last name : junggwan\n",
            "Kim Junggwan\n"
          ]
        }
      ]
    },
    {
      "cell_type": "code",
      "source": [
        "fname = input('First name?')\n",
        "\n",
        "if len(fname) < 5 :\n",
        "  lname = input()\n",
        "  name = fname + lname\n",
        "  name = name.upper()\n",
        "else :\n",
        "  name = fname.lower()\n",
        "\n",
        "print(name)"
      ],
      "metadata": {
        "id": "tpDF-eoUM9it"
      },
      "execution_count": null,
      "outputs": []
    },
    {
      "cell_type": "code",
      "source": [
        "# Pig Latin\n",
        "\n",
        "word = input().lower()\n",
        "\n",
        "if word[0] in ['a','e','i','o','u'] :\n",
        "  print(word + 'way')\n",
        "else :\n",
        "  print(word[1:len(word)] + word[0] + 'ay') # str의 배열 바꿀때는 분리해서 다시 합치는 편이 낫다\n",
        "                                            # 단, list의 일 때는 효율적이지 않을 수도 있다.\n",
        "  "
      ],
      "metadata": {
        "colab": {
          "base_uri": "https://localhost:8080/"
        },
        "id": "QEuEsPtLOOPG",
        "outputId": "b7d89413-91a1-4c24-b98e-49bb8dac462e"
      },
      "execution_count": 80,
      "outputs": [
        {
          "output_type": "stream",
          "name": "stdout",
          "text": [
            "RABBIT\n",
            "abbitray\n"
          ]
        }
      ]
    }
  ]
}