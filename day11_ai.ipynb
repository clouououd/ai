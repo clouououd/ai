{
  "nbformat": 4,
  "nbformat_minor": 0,
  "metadata": {
    "colab": {
      "name": "day11_ai.ipynb",
      "provenance": [],
      "authorship_tag": "ABX9TyO9lsKSoXR6f6EAnN12dDiR",
      "include_colab_link": true
    },
    "kernelspec": {
      "name": "python3",
      "display_name": "Python 3"
    },
    "language_info": {
      "name": "python"
    }
  },
  "cells": [
    {
      "cell_type": "markdown",
      "metadata": {
        "id": "view-in-github",
        "colab_type": "text"
      },
      "source": [
        "<a href=\"https://colab.research.google.com/github/clouououd/ai/blob/main/day11_ai.ipynb\" target=\"_parent\"><img src=\"https://colab.research.google.com/assets/colab-badge.svg\" alt=\"Open In Colab\"/></a>"
      ]
    },
    {
      "cell_type": "code",
      "execution_count": 1,
      "metadata": {
        "colab": {
          "base_uri": "https://localhost:8080/"
        },
        "id": "8KxEu4YUkCKb",
        "outputId": "0b480454-a7a3-4970-abed-36e27a2677fe"
      },
      "outputs": [
        {
          "output_type": "stream",
          "name": "stdout",
          "text": [
            "First Name : KIm\n",
            "Hello KIm\n"
          ]
        }
      ],
      "source": [
        "# 001 Ask for the user's first name and display the ouput message\n",
        "# (output) Hello [first Name]\n",
        "# (input) First Name :\n",
        "\n",
        "fname = input('First Name : ')\n",
        "print('Hello', fname)"
      ]
    },
    {
      "cell_type": "code",
      "source": [
        "# 002 Ask for the user's first name and than as their surname and display the ouput message\n",
        "# (output) Hello [First Name] [Surname]\n",
        "# (input) 'Please enter your surname :\n",
        "# (input) 'Please enter your firstname :\n",
        "\n",
        "fname = input('First Name : ')\n",
        "sname = input('Sur Name : ')\n",
        "print('Hello', fname, sname)"
      ],
      "metadata": {
        "colab": {
          "base_uri": "https://localhost:8080/"
        },
        "id": "IOE0rQIlkp4q",
        "outputId": "97fa290b-7d8f-4d78-8070-5925c61a965b"
      },
      "execution_count": 3,
      "outputs": [
        {
          "output_type": "stream",
          "name": "stdout",
          "text": [
            "First Name : Kim\n",
            "Sur Name : Junggwan\n",
            "Hello Kim Junggwan\n"
          ]
        }
      ]
    },
    {
      "cell_type": "code",
      "source": [
        "# 003 Ask the user to enter tow numbers. Add them together and display the answer as\n",
        "# (Output) The total is [answer]\n",
        "# (Input) 'Please enter your first number'\n",
        "# (Input) 'Please enter your second nubmer'\n",
        "\n",
        "fnum = int(input('First number : '))\n",
        "snum = int(input('Second nuber : '))\n",
        "print('Total is', fnum+snum)"
      ],
      "metadata": {
        "colab": {
          "base_uri": "https://localhost:8080/"
        },
        "id": "3tO4ubIOmOFf",
        "outputId": "6c942e6f-c627-4bbe-9196-baa6ec9499e5"
      },
      "execution_count": 6,
      "outputs": [
        {
          "output_type": "stream",
          "name": "stdout",
          "text": [
            "First number : 10\n",
            "Second nuber : 20\n",
            "Total is 30\n"
          ]
        }
      ]
    },
    {
      "cell_type": "code",
      "source": [
        "before = int(input('Enter the number of slices of pizza you started with :'))\n",
        "after = int(input('How many slices have you eaten?'))\n",
        "print('The answer is', before-after)"
      ],
      "metadata": {
        "colab": {
          "base_uri": "https://localhost:8080/"
        },
        "id": "HLMkjf7Ynplq",
        "outputId": "a245befb-80e3-4a4a-b54d-3dcb8b5ddf9c"
      },
      "execution_count": 7,
      "outputs": [
        {
          "output_type": "stream",
          "name": "stdout",
          "text": [
            "Enter the number of slices of pizza you started with :6\n",
            "How many slices have you eaten?3\n",
            "The answer is 3\n"
          ]
        }
      ]
    },
    {
      "cell_type": "code",
      "source": [
        "days = int(input('Enter the number of days : '))\n",
        "print(f'In {days} days, there are...', end='\\n\\t')\n",
        "print(f'{days*12} hours', end='\\n\\t')\n",
        "print(f'{days*12*60} minutes', end='\\n\\t')\n",
        "print(f'{days*12*60*60} seconds')"
      ],
      "metadata": {
        "colab": {
          "base_uri": "https://localhost:8080/"
        },
        "id": "MHCQ247RpZQh",
        "outputId": "4eecbf41-b881-478b-8610-32c62d7f01ab"
      },
      "execution_count": 11,
      "outputs": [
        {
          "output_type": "stream",
          "name": "stdout",
          "text": [
            "Enter the number of days : 6\n",
            "In 6 days, there are...\n",
            "\t72 hours\n",
            "\t4320 minutes\n",
            "\t259200 seconds\n"
          ]
        }
      ]
    },
    {
      "cell_type": "code",
      "source": [
        "while True :\n",
        "  larger = int(input('Enter the number over 100 :'))\n",
        "  smaller = int(input('Enter the number under 10 :'))\n",
        "\n",
        "  if larger < 100 or smaller > 10 :\n",
        "    print('다시 입력해주세요')\n",
        "  else :\n",
        "    print(f'{smaller} goes into {larger} answer {larger//smaller}')\n",
        "    break"
      ],
      "metadata": {
        "colab": {
          "base_uri": "https://localhost:8080/"
        },
        "id": "9tm0Q1N9tQJW",
        "outputId": "c925b857-f6ce-4a0d-cf3d-b29a944cd2f7"
      },
      "execution_count": 19,
      "outputs": [
        {
          "output_type": "stream",
          "name": "stdout",
          "text": [
            "Enter the number over 100 :10\n",
            "Enter the number under 10 :10\n",
            "다시 입력해주세요\n",
            "Enter the number over 100 :60\n",
            "Enter the number under 10 :3\n",
            "다시 입력해주세요\n",
            "Enter the number over 100 :150\n",
            "Enter the number under 10 :150\n",
            "다시 입력해주세요\n",
            "Enter the number over 100 :150\n",
            "Enter the number under 10 :4\n",
            "4 goes into 150 answer 37\n"
          ]
        }
      ]
    },
    {
      "cell_type": "code",
      "source": [
        ""
      ],
      "metadata": {
        "id": "HvOIGO-ZxUEj"
      },
      "execution_count": null,
      "outputs": []
    }
  ]
}