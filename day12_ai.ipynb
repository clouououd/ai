{
  "nbformat": 4,
  "nbformat_minor": 0,
  "metadata": {
    "colab": {
      "name": "day12_ai.ipynb",
      "provenance": [],
      "collapsed_sections": [],
      "authorship_tag": "ABX9TyPo7cm0v9fO3t/lNV+Z7u/3",
      "include_colab_link": true
    },
    "kernelspec": {
      "name": "python3",
      "display_name": "Python 3"
    },
    "language_info": {
      "name": "python"
    }
  },
  "cells": [
    {
      "cell_type": "markdown",
      "metadata": {
        "id": "view-in-github",
        "colab_type": "text"
      },
      "source": [
        "<a href=\"https://colab.research.google.com/github/clouououd/ai/blob/main/day12_ai.ipynb\" target=\"_parent\"><img src=\"https://colab.research.google.com/assets/colab-badge.svg\" alt=\"Open In Colab\"/></a>"
      ]
    },
    {
      "cell_type": "code",
      "execution_count": 1,
      "metadata": {
        "colab": {
          "base_uri": "https://localhost:8080/"
        },
        "id": "iNfs1fTv7DUn",
        "outputId": "9b9910e6-4839-410f-d8e1-147b78fa8f98"
      },
      "outputs": [
        {
          "output_type": "stream",
          "name": "stdout",
          "text": [
            "3.14\n"
          ]
        }
      ],
      "source": [
        "# Maths\n",
        "\n",
        "num = 3.141592\n",
        "print(round(num,2)) # Display a number rounded to two decimal places."
      ]
    },
    {
      "cell_type": "code",
      "source": [
        "10**2\n",
        "# To the power of ..."
      ],
      "metadata": {
        "colab": {
          "base_uri": "https://localhost:8080/"
        },
        "id": "yM9hnB1T-aL_",
        "outputId": "47e82e11-c5a4-4752-b99a-f7b79057415e"
      },
      "execution_count": 2,
      "outputs": [
        {
          "output_type": "execute_result",
          "data": {
            "text/plain": [
              "100"
            ]
          },
          "metadata": {},
          "execution_count": 2
        }
      ]
    },
    {
      "cell_type": "code",
      "source": [
        "import math\n",
        "\n",
        "math.sqrt(100)\n",
        "\n",
        "# The square root of a number but you must have the line 'import math' \n",
        "# at the top of your program for this to work. "
      ],
      "metadata": {
        "colab": {
          "base_uri": "https://localhost:8080/"
        },
        "id": "7XJdm50R7av4",
        "outputId": "558a0b94-7294-468b-ed55-41e87cc6d466"
      },
      "execution_count": 3,
      "outputs": [
        {
          "output_type": "execute_result",
          "data": {
            "text/plain": [
              "10.0"
            ]
          },
          "metadata": {},
          "execution_count": 3
        }
      ]
    },
    {
      "cell_type": "code",
      "source": [
        "math.pi\n",
        "\n",
        "# Gives you pi to decimal places, but you must have the line 'import math'\n",
        "# at the top of your program for this to work."
      ],
      "metadata": {
        "colab": {
          "base_uri": "https://localhost:8080/"
        },
        "id": "38IMA50n-e3S",
        "outputId": "236601ae-c00b-4db7-c1c3-ca7612aefc7f"
      },
      "execution_count": 4,
      "outputs": [
        {
          "output_type": "execute_result",
          "data": {
            "text/plain": [
              "3.141592653589793"
            ]
          },
          "metadata": {},
          "execution_count": 4
        }
      ]
    },
    {
      "cell_type": "code",
      "source": [
        "15 // 2\n",
        "# Whole number division. 15//2 gives the answer 7."
      ],
      "metadata": {
        "colab": {
          "base_uri": "https://localhost:8080/"
        },
        "id": "YSe5F7Ri-j96",
        "outputId": "9a7fa4b9-29a2-4cbc-ea0f-3d6daa824f4b"
      },
      "execution_count": 5,
      "outputs": [
        {
          "output_type": "execute_result",
          "data": {
            "text/plain": [
              "7"
            ]
          },
          "metadata": {},
          "execution_count": 5
        }
      ]
    },
    {
      "cell_type": "code",
      "source": [
        "15 % 2\n",
        "# Finds the remainder. 15 % 2 gives the answer 1.\n"
      ],
      "metadata": {
        "id": "ny30wkkX-m-b"
      },
      "execution_count": null,
      "outputs": []
    },
    {
      "cell_type": "code",
      "source": [
        "# Ask the user to enter an integer that is over 500. Work out the \n",
        "# square root of that number and display it to two decimal places.\n",
        "\n",
        "# (input) 'Enter a number over 500:'\n",
        "\n",
        "import math\n",
        "\n",
        "num = int(input('Enter a number over 500 : '))\n",
        "ans = math.sqrt(num)\n",
        "print(round(ans,2))"
      ],
      "metadata": {
        "id": "1kdOC-QZ-pRL"
      },
      "execution_count": null,
      "outputs": []
    },
    {
      "cell_type": "code",
      "source": [
        "# Ask the user to enter the radius of a circle.\n",
        "# Work out the area of the circle.\n",
        "\n",
        "r = int(input('Enter the radius of the circle :'))\n",
        "print(math.pi*r**2)"
      ],
      "metadata": {
        "id": "Fh0_zk9B-yES"
      },
      "execution_count": null,
      "outputs": []
    },
    {
      "cell_type": "code",
      "source": [
        "# Ask the user to enter two numbers. Use whole unmber division to divide the first number by th second and also work out the remainder\n",
        "# and display the answer in a user-friendly way....\n",
        "# if they enter 7 and 2 display 7 divided by 2 is 3 with 1 remaining\n",
        "\n",
        "n1 = int(input('Enter the first number :'))\n",
        "n2 = int(input('Enter the second number :'))\n",
        "\n",
        "print(f'{n1} divided by {n2}is {n1//n2} with {n1%n2} remaining')"
      ],
      "metadata": {
        "id": "R3bSyAIR_I99"
      },
      "execution_count": null,
      "outputs": []
    },
    {
      "cell_type": "code",
      "source": [
        "# Display the following message :\n",
        "#   1) Square\n",
        "#   2) Triangle\n",
        "#   Enter a number :\n",
        "# if the user enters 1, then it should ask them for the length of one of its sides and display the area.\n",
        "# if they select 2, it should ask for the base and height of the triangle and display the area.\n",
        "# if they type in anything else, it should give them a suitable error message.\n",
        "\n",
        "q = int(input('1) Square \\n2) Triangle \\n\\nEnter a number :'))\n",
        "\n",
        "if q == 1 :\n",
        "  q2 = int(input('the length of one of its sides :'))\n",
        "  q3 = int(input('the length of another of its sides :'))\n",
        "  print('The area of your chosen chape is {}'.format(q2*q3))\n",
        "elif q == 2 :\n",
        "  q4 = int(input('the length of the base :'))\n",
        "  q5 = int(input('the length of the height :')  )\n",
        "  print('The area of your chosen chape is {}'.format(q4*q5/2))\n",
        "else :\n",
        "  print('error')"
      ],
      "metadata": {
        "id": "NTPz1J8hANFh"
      },
      "execution_count": null,
      "outputs": []
    },
    {
      "cell_type": "code",
      "source": [
        "# for\n",
        "\n",
        "# The range function is often used in for loops and lists the stating number.\n",
        "# the ending number and can also include the steps\n",
        "\n",
        "# for i in range(start, stop, step)\n",
        "\n",
        "for i in range(1,5,1) :\n",
        "  print(i)"
      ],
      "metadata": {
        "id": "Y1RKX1UtIfad"
      },
      "execution_count": null,
      "outputs": []
    },
    {
      "cell_type": "code",
      "source": [
        "for i in range(10,1,-3) :\n",
        "  print(i)"
      ],
      "metadata": {
        "id": "meHRb2dUJS47"
      },
      "execution_count": null,
      "outputs": []
    },
    {
      "cell_type": "code",
      "source": [
        "no = [0,1,2,3,4]\n",
        "\n",
        "for i in no :\n",
        "  print(i)"
      ],
      "metadata": {
        "id": "HvYHOh-2JmL4"
      },
      "execution_count": null,
      "outputs": []
    },
    {
      "cell_type": "code",
      "source": [
        "# Ask the user to enter their name and then display their name three times.\n",
        "\n",
        "# After program, so that it will ask the user to enter their name and a number\n",
        "# and then display their name that number of time.\n",
        "\n",
        "name = input('What\\'s your name?')\n",
        "times = int(input('How many times?'))\n",
        "\n",
        "for i in range(times) :\n",
        "  print(name)"
      ],
      "metadata": {
        "colab": {
          "base_uri": "https://localhost:8080/"
        },
        "id": "TQr3hlH3J9Lb",
        "outputId": "5227d06f-85bb-4489-c8a8-62460f6a50af"
      },
      "execution_count": 22,
      "outputs": [
        {
          "output_type": "stream",
          "name": "stdout",
          "text": [
            "What's your name?kim\n",
            "How many times?5\n",
            "kim\n",
            "kim\n",
            "kim\n",
            "kim\n",
            "kim\n"
          ]
        }
      ]
    },
    {
      "cell_type": "code",
      "source": [
        "# Ask the user to enter their name and\n",
        "# display each letter in their name on a separate line.\n",
        "\n",
        "name = input('What\\'s your name?')\n",
        "\n",
        "for i in name :\n",
        "  print(i)"
      ],
      "metadata": {
        "colab": {
          "base_uri": "https://localhost:8080/"
        },
        "id": "L2NBs4xTMGao",
        "outputId": "7c86d2cd-6626-4f84-8896-b2411fa7b0fd"
      },
      "execution_count": 23,
      "outputs": [
        {
          "output_type": "stream",
          "name": "stdout",
          "text": [
            "What's your name?kim\n",
            "k\n",
            "i\n",
            "m\n"
          ]
        }
      ]
    },
    {
      "cell_type": "code",
      "source": [
        "# Ask for a number below 50 and then count down from 50 to that number,\n",
        "# making sure you show the number they entered in the ouput.\n",
        "\n",
        "num = int(input('a number below 50:'))\n",
        "\n",
        "for i in range(50, num-1, -1) :\n",
        "  print(i)"
      ],
      "metadata": {
        "id": "T4m7KkW8MeBb"
      },
      "execution_count": null,
      "outputs": []
    },
    {
      "cell_type": "code",
      "source": [
        "# Set a variable called total to 0.\n",
        "# Ask the user to enter five numbers and after each input ask them if they want that number included.\n",
        "# If they do, then add the number to the total.\n",
        "# After they have entered all five number, display the total.\n",
        "\n",
        "total = 0\n",
        "\n",
        "for i in range(5) :\n",
        "  nums = int(input(f'{i+1} of five numbers:')) # input에서도 f스트링이 된다.\n",
        "  q = input('Do you wnat to include to total?(yes or no)').lower()\n",
        "  if q == 'yes' :\n",
        "    total += nums\n",
        "\n",
        "print('total is',total) "
      ],
      "metadata": {
        "id": "WvM_xybvOgpy"
      },
      "execution_count": null,
      "outputs": []
    },
    {
      "cell_type": "code",
      "source": [
        "# Ask which direction the user wants to count (up or down).\n",
        "# if they select up, then ask them for the top number and then count from 1 to that number.\n",
        "# if they select down, ask them to enter a number below 20 and then count down from 20\n",
        "# to that number, If they entered somthing other than up or down,\n",
        "# display the message i dont understand.\n",
        "\n",
        "q = input('Do you want to count up or down?(u/d) :')\n",
        "\n",
        "if q == 'u' :\n",
        "  num = int(input('What is the top number :'))\n",
        "  for i in range(1,num+1) :\n",
        "    print(i)\n",
        "elif q == 'd' :\n",
        "  num = int(input('Enter a number below 20'))\n",
        "  for i in range(20, num-1, -1) :\n",
        "    print(i)\n",
        "else :\n",
        "  print(\"I don't understand.\")"
      ],
      "metadata": {
        "id": "7XRC4-GFVq1p"
      },
      "execution_count": null,
      "outputs": []
    },
    {
      "cell_type": "code",
      "source": [
        "# Ask how many people the user wants to invite to a party.\n",
        "# If they enter a number below 10, ask for the names and after each name display\n",
        "# '[name] has been invited.'\n",
        "# If they enter a number which is 10 or highter, display the message 'Too many people'\n",
        "num = int(input('How many people do you wnat to invite to a party?'))\n",
        "\n",
        "if num < 10 :\n",
        "  for i in range(num) :\n",
        "    name = input('What\\'s a name of one of them?')\n",
        "    print(f'{name} has been invited')\n",
        "else :\n",
        "  print('Too many people')"
      ],
      "metadata": {
        "colab": {
          "base_uri": "https://localhost:8080/"
        },
        "id": "2D9ab90VYz7P",
        "outputId": "88c26e6e-b3ce-47e9-bd34-4e6648e386f4"
      },
      "execution_count": 46,
      "outputs": [
        {
          "output_type": "stream",
          "name": "stdout",
          "text": [
            "How many people do you wnat to invite to a party?12\n",
            "Too many people\n"
          ]
        }
      ]
    },
    {
      "cell_type": "code",
      "source": [
        "# while\n",
        "# while loop allows cod to be repeated an unknown number of times as long as a condition is being met.\n",
        "# This may be 100 time, just the once or even never.\n",
        "# It is important, therefore, to make sure the correct conditions are in place\n",
        "# to run the roop before it starts.\n",
        "\n",
        "total = 0\n",
        "\n",
        "while total < 100 :\n",
        "  num = int(input('Enter a number :'))\n",
        "  total += num\n",
        "\n",
        "print('The total is', total)"
      ],
      "metadata": {
        "colab": {
          "base_uri": "https://localhost:8080/"
        },
        "id": "-Gj38BYJaQ7m",
        "outputId": "06f945c2-420a-4037-ec84-8945796b66a2"
      },
      "execution_count": 47,
      "outputs": [
        {
          "output_type": "stream",
          "name": "stdout",
          "text": [
            "Enter a number :30\n",
            "Enter a number :40\n",
            "Enter a number :50\n",
            "The total is 120\n"
          ]
        }
      ]
    },
    {
      "cell_type": "code",
      "source": [
        "# Set the total to 0 to start with. While the total is 50 or less,\n",
        "# ask the user to input a number. Add that number to the total and\n",
        "# print the message 'The total is.....[total]. Stop the loop  when the total is over 50.\n",
        "\n",
        "total = 0\n",
        "while total <= 50 :\n",
        "  num=int(input('number :'))\n",
        "  total += num\n",
        "\n",
        "print('The total is .....',total-num)"
      ],
      "metadata": {
        "colab": {
          "base_uri": "https://localhost:8080/"
        },
        "id": "mi8WXQOaddJr",
        "outputId": "d9fd37a3-810a-4d19-a09e-77a22c944073"
      },
      "execution_count": 53,
      "outputs": [
        {
          "output_type": "stream",
          "name": "stdout",
          "text": [
            "number :20\n",
            "number :30\n",
            "number :40\n",
            "The total is ..... 50\n"
          ]
        }
      ]
    }
  ]
}