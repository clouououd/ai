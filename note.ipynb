{
  "nbformat": 4,
  "nbformat_minor": 0,
  "metadata": {
    "colab": {
      "name": "note.ipynb",
      "provenance": [],
      "authorship_tag": "ABX9TyMCCuUrRDPUu8z8SZyAm9Yo",
      "include_colab_link": true
    },
    "kernelspec": {
      "name": "python3",
      "display_name": "Python 3"
    },
    "language_info": {
      "name": "python"
    }
  },
  "cells": [
    {
      "cell_type": "markdown",
      "metadata": {
        "id": "view-in-github",
        "colab_type": "text"
      },
      "source": [
        "<a href=\"https://colab.research.google.com/github/clouououd/ai/blob/main/note.ipynb\" target=\"_parent\"><img src=\"https://colab.research.google.com/assets/colab-badge.svg\" alt=\"Open In Colab\"/></a>"
      ]
    },
    {
      "cell_type": "code",
      "execution_count": 28,
      "metadata": {
        "colab": {
          "base_uri": "https://localhost:8080/"
        },
        "id": "c_hEb4ksclJH",
        "outputId": "4ba2defe-9257-40d8-8eeb-08026995e462"
      },
      "outputs": [
        {
          "output_type": "execute_result",
          "data": {
            "text/plain": [
              "[20, 30, 12, 42, 0, 25, 36, 0, 8, 0]"
            ]
          },
          "metadata": {},
          "execution_count": 28
        }
      ],
      "source": [
        "# Hash Search - save\n",
        "\n",
        "def hash_save(arrD) : # arrD는 대상 리스트\n",
        "  # hash 변수\n",
        "  hashNum = int(len(arrD)*1.5) # 1.5배 더 많은 방을 만듦\n",
        "\n",
        "  # 빈 방 만들기\n",
        "  arrH = []\n",
        "  for i in range(hashNum) :\n",
        "    arrH.append(0)\n",
        "\n",
        "  # 빈방에 정렬시켜 넣기 (arrH) <- (arrD)\n",
        "  for i in range(len(arrD)) :\n",
        "    k = arrD[i] % hashNum\n",
        "    while True :\n",
        "      if arrH[k] == 0 :\n",
        "        arrH[k] = arrD[i]\n",
        "        break\n",
        "      else :\n",
        "        k = (k + 1) % hashNum\n",
        "  \n",
        "  return arrH\n",
        "\n",
        "arrD = [12, 25, 36, 20, 30, 8, 42] # 대상 리스트\n",
        "hash_save(arrD)"
      ]
    },
    {
      "cell_type": "code",
      "source": [
        "# Hash Search - search\n",
        "\n",
        "def hash_search(target,arrH) :\n",
        "  # 방 번호\n",
        "  k = target % len(arrH)\n",
        "\n",
        "  # 타겟 찾기\n",
        "  while arrH[k] != 0 :\n",
        "    if arrH[k] == target :\n",
        "      return print(f'저장 위치는 {k}번째 입니다.')\n",
        "    else :\n",
        "      k = (k + 1) % len(arrH)\n",
        "\n",
        "  return print(f'{target}을 찾을 수 없습니다.')\n",
        "\n",
        "arrH = [20, 30, 12, 42, 0, 25, 36, 0, 8, 0] # 위 셀의 결과\n",
        "target = 12 # 찾을 값\n",
        "hash_search(target,arrH)"
      ],
      "metadata": {
        "colab": {
          "base_uri": "https://localhost:8080/"
        },
        "id": "NNjgWGHJiWe6",
        "outputId": "1e8b3939-05da-433d-bbba-bd2871c8d2f2"
      },
      "execution_count": 29,
      "outputs": [
        {
          "output_type": "stream",
          "name": "stdout",
          "text": [
            "저장 위치는 2번째 입니다.\n"
          ]
        }
      ]
    },
    {
      "cell_type": "code",
      "source": [
        "# hash Search - save + search\n",
        "\n",
        "def hash(target, arrD) : # arrD는 대상 리스트\n",
        "  # hash 변수\n",
        "  hashNum = int(len(arrD)*1.5) # 1.5배 더 많은 방을 만듦\n",
        "\n",
        "  # 빈 방 만들기\n",
        "  arrH = []\n",
        "  for i in range(hashNum) :\n",
        "    arrH.append(0)\n",
        "\n",
        "  # 빈방에 정렬시켜 넣기 (arrH) <- (arrD)\n",
        "  for i in range(len(arrD)) :\n",
        "    k = arrD[i] % hashNum\n",
        "    if arrH[k] == 0 :\n",
        "      arrH[k] = arrD[i]\n",
        "    else :\n",
        "      k = (k + 1) % 11\n",
        "\n",
        "  # 방 번호\n",
        "  tNum = target % len(arrH)\n",
        "\n",
        "  # 타겟 찾기\n",
        "  while arrH[tNum] != 0 :\n",
        "    if arrH[tNum] == target :\n",
        "      return print(f'저장 위치는 {tNum}번째 입니다.')\n",
        "    else :\n",
        "      tNum = (tNum + 1) % len(arrH)\n",
        "\n",
        "  return print(f'{target}을 찾을 수 없습니다.')\n",
        "\n",
        "arrD = [12, 25, 36, 20, 30, 8, 42]\n",
        "target = 12\n",
        "hash(target, arrD)"
      ],
      "metadata": {
        "colab": {
          "base_uri": "https://localhost:8080/"
        },
        "id": "EeKdJvZvm1jU",
        "outputId": "63354665-e014-470d-b602-71e286d3c1b3"
      },
      "execution_count": 26,
      "outputs": [
        {
          "output_type": "stream",
          "name": "stdout",
          "text": [
            "저장 위치는 2번째 입니다.\n"
          ]
        }
      ]
    }
  ]
}