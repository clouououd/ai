{
  "nbformat": 4,
  "nbformat_minor": 0,
  "metadata": {
    "colab": {
      "name": "note.ipynb",
      "provenance": [],
      "authorship_tag": "ABX9TyPzX2KCwJfuOMSzeIvOxMjU",
      "include_colab_link": true
    },
    "kernelspec": {
      "name": "python3",
      "display_name": "Python 3"
    },
    "language_info": {
      "name": "python"
    }
  },
  "cells": [
    {
      "cell_type": "markdown",
      "metadata": {
        "id": "view-in-github",
        "colab_type": "text"
      },
      "source": [
        "<a href=\"https://colab.research.google.com/github/clouououd/ai/blob/main/note.ipynb\" target=\"_parent\"><img src=\"https://colab.research.google.com/assets/colab-badge.svg\" alt=\"Open In Colab\"/></a>"
      ]
    },
    {
      "cell_type": "code",
      "execution_count": 13,
      "metadata": {
        "colab": {
          "base_uri": "https://localhost:8080/"
        },
        "id": "c_hEb4ksclJH",
        "outputId": "79074bc3-80b0-471f-b7f3-5a5b667d4097"
      },
      "outputs": [
        {
          "output_type": "execute_result",
          "data": {
            "text/plain": [
              "[0, 1, 2, 3, 4, 5, 0]"
            ]
          },
          "metadata": {},
          "execution_count": 13
        }
      ],
      "source": [
        "# Hash Search - save\n",
        "\n",
        "def hash_save(arrD) : # arrD는 대상 리스트\n",
        "  # hash 변수\n",
        "  hashNum = int(len(arrD)*1.5) # 1.5배 더 많은 방을 만듦\n",
        "\n",
        "  # 빈 방 만들기\n",
        "  arrH = []\n",
        "  for i in range(hashNum) :\n",
        "    arrH.append(0)\n",
        "\n",
        "  # 빈방에 정렬시켜 넣기 (arrH) <- (arrD)\n",
        "  for i in range(len(arrD)) :\n",
        "    k = arrD[i] % hashNum\n",
        "    if arrH[k] == 0 :\n",
        "      arrH[k] = arrD[i]\n",
        "    else :\n",
        "      k = (k + 1) % 11\n",
        "  \n",
        "  return arrH\n",
        "\n",
        "arrD = [1,2,3,4,5] # 대상 리스트\n",
        "hash_save(arrD)"
      ]
    },
    {
      "cell_type": "code",
      "source": [
        ""
      ],
      "metadata": {
        "id": "NNjgWGHJiWe6"
      },
      "execution_count": null,
      "outputs": []
    }
  ]
}