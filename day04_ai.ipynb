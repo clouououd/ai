{
 "cells": [
  {
   "cell_type": "code",
   "execution_count": 2,
   "id": "24ca19bb",
   "metadata": {
    "collapsed": true
   },
   "outputs": [
    {
     "name": "stdout",
     "output_type": "stream",
     "text": [
      "True\n"
     ]
    }
   ],
   "source": [
    "##################################\n",
    "# Review\n",
    "##################################\n",
    "# 조건문\n",
    "# bool & if\n",
    "\n",
    "print(True)"
   ]
  },
  {
   "cell_type": "code",
   "execution_count": 5,
   "id": "bd8c749a",
   "metadata": {
    "collapsed": true
   },
   "outputs": [
    {
     "name": "stdout",
     "output_type": "stream",
     "text": [
      "False\n",
      "True\n",
      "True\n",
      "False\n",
      "False\n"
     ]
    }
   ],
   "source": [
    "# bool\n",
    "print(10==100)\n",
    "print(10!=100)\n",
    "print(10 < 100)\n",
    "print(10 > 100)\n",
    "print(10 >= 100)"
   ]
  },
  {
   "cell_type": "code",
   "execution_count": 9,
   "id": "3c4ab921",
   "metadata": {
    "collapsed": true
   },
   "outputs": [
    {
     "name": "stdout",
     "output_type": "stream",
     "text": [
      "True\n",
      "False\n",
      "True\n",
      "True\n",
      "False\n"
     ]
    }
   ],
   "source": [
    "print('가방' == '가방')\n",
    "print('가방' == '백')\n",
    "print('가방' != '백')\n",
    "print('가방' < '백') # 한글은 사전 순서(가나다순)\n",
    "print('가방' > '백')"
   ]
  },
  {
   "cell_type": "code",
   "execution_count": 13,
   "id": "f1e64a1e",
   "metadata": {},
   "outputs": [
    {
     "name": "stdout",
     "output_type": "stream",
     "text": [
      "정수를 입력하세요.>>>3\n",
      "양수 입니다.\n"
     ]
    }
   ],
   "source": [
    "# if 조건문\n",
    "# 조건에 따라 특정 코드를 실행하거나 특정 코드를 시행하지 않게 만들고 싶을 때 사용\n",
    "# 코드의 실행 흐름을 변경시키는 것을 조건 분기라고 부른다.\n",
    "\n",
    "num = int(input('정수를 입력하세요.>>>'))\n",
    "\n",
    "if num > 0 :\n",
    "    print('양수 입니다.')\n",
    "if num < 0 :\n",
    "    print('음수 입니다.')\n",
    "if num == 0 :\n",
    "    print('0 입니다.')"
   ]
  },
  {
   "cell_type": "code",
   "execution_count": 19,
   "id": "459407b6",
   "metadata": {},
   "outputs": [
    {
     "name": "stdout",
     "output_type": "stream",
     "text": [
      "2022-01-28 14:33:13.156453\n",
      "2022 년\n",
      "1 월\n",
      "28\n",
      "14\n",
      "33\n",
      "13\n"
     ]
    }
   ],
   "source": [
    "# import 만들어진 과정을 불러옴\n",
    "# 날짜/시간과 관련된 기능을 가져온다.\n",
    "import datetime\n",
    "\n",
    "# 현재의 날씨와 시간을 구하는 함수\n",
    "now = datetime.datetime.now()\n",
    "\n",
    "print(now)\n",
    "print(now.year,'년')\n",
    "print(now.month,'월')\n",
    "print(now.day)\n",
    "print(now.hour)\n",
    "print(now.minute)\n",
    "print(now.second)"
   ]
  },
  {
   "cell_type": "code",
   "execution_count": 24,
   "id": "d39e6fba",
   "metadata": {},
   "outputs": [
    {
     "name": "stdout",
     "output_type": "stream",
     "text": [
      "현재 시각은 14시40 오후입니다.\n"
     ]
    }
   ],
   "source": [
    "# Q. 출력)현재 시각은 14시33분 오후입니다.\n",
    "#         현재 시각은 08시 01분 오전 입니다.\n",
    "import datetime\n",
    "\n",
    "time = datetime.datetime.now()\n",
    "\n",
    "if time.hour < 12 :\n",
    "    a = '오전'\n",
    "else :\n",
    "    a = '오후'\n",
    "\n",
    "print(f'현재 시각은 {time.hour}시{time.minute} {a}입니다.')"
   ]
  },
  {
   "cell_type": "code",
   "execution_count": 31,
   "id": "574c34cf",
   "metadata": {},
   "outputs": [
    {
     "name": "stdout",
     "output_type": "stream",
     "text": [
      "이번 달은 1월로 겨울입니다.\n"
     ]
    }
   ],
   "source": [
    "# Q. 12,1,2 겨운 3,4,5 봄 6,7,8 여름 9,10,11 가을\n",
    "#    출력)이번 달은 1월로 겨울입니다.\n",
    "#     if만 사용\n",
    "\n",
    "import datetime\n",
    "\n",
    "time = datetime.datetime.now()\n",
    "\n",
    "if time.month in [1,2,12] :\n",
    "    season = '겨울'\n",
    "elif time.month in [3,4,5] :\n",
    "    season = '봄'\n",
    "elif time.month in [6,7,8] :\n",
    "    season = '여름'\n",
    "else :\n",
    "    season = '가을'\n",
    "    \n",
    "print(f'이번 달은 {time.month}월로 {season}입니다.')"
   ]
  },
  {
   "cell_type": "code",
   "execution_count": 36,
   "id": "53606225",
   "metadata": {},
   "outputs": [
    {
     "name": "stdout",
     "output_type": "stream",
     "text": [
      "정수를 입력하세요.>>>5\n",
      "홀수입니다.\n"
     ]
    }
   ],
   "source": [
    "# Q. 나머지 연산자를 사용하지 않고 정수를 입력받아 그 수가 짝수인지 홀수 인지를 알려주는 프로그램\n",
    "num=int(input('정수를 입력하세요.>>>'))\n",
    "\n",
    "if bin(num)[-1] == 0:\n",
    "    print(\"짝수입니다.\")\n",
    "else :\n",
    "    print(\"홀수입니다.\")"
   ]
  },
  {
   "cell_type": "code",
   "execution_count": 38,
   "id": "4012f4d5",
   "metadata": {},
   "outputs": [
    {
     "name": "stdout",
     "output_type": "stream",
     "text": [
      "정수 입력3\n"
     ]
    }
   ],
   "source": [
    "# pass\n",
    "# 넘어가기\n",
    "\n",
    "number = int(input('정수 입력'))\n",
    "\n",
    "if number > 0 :\n",
    "    pass\n",
    "else:\n",
    "    pass"
   ]
  },
  {
   "cell_type": "code",
   "execution_count": 42,
   "id": "33020364",
   "metadata": {},
   "outputs": [
    {
     "name": "stdout",
     "output_type": "stream",
     "text": [
      "3\n",
      "4\n",
      "5\n"
     ]
    }
   ],
   "source": [
    "# 리스트와 반복문\n",
    "\n",
    "li = [1,2,3,4,5] # collection, mutable, ordered\n",
    "\n",
    "for i in li:\n",
    "    if i >= 3 :\n",
    "        print(i)"
   ]
  },
  {
   "cell_type": "code",
   "execution_count": 47,
   "id": "104d12d5",
   "metadata": {},
   "outputs": [
    {
     "name": "stdout",
     "output_type": "stream",
     "text": [
      "1 홍길동\n",
      "2 이몽룡\n"
     ]
    }
   ],
   "source": [
    "# 딕셔너리와 반복문\n",
    "\n",
    "dict = {\n",
    "    1 : '홍길동',\n",
    "    2 : '이몽룡',\n",
    "}\n",
    "\n",
    "for i in dict:\n",
    "    print(i, dict[i])"
   ]
  },
  {
   "cell_type": "code",
   "execution_count": 50,
   "id": "088bd05b",
   "metadata": {},
   "outputs": [
    {
     "data": {
      "text/plain": [
       "[0, 2, 4]"
      ]
     },
     "execution_count": 50,
     "metadata": {},
     "output_type": "execute_result"
    }
   ],
   "source": [
    "list(range(0,5,2)) # 시작을 생략하면 0 부터 5미만 까지, 증감값을 생략하면 1씩 증가"
   ]
  },
  {
   "cell_type": "code",
   "execution_count": 52,
   "id": "0d0da7a3",
   "metadata": {},
   "outputs": [
    {
     "name": "stdout",
     "output_type": "stream",
     "text": [
      "0번째 반복\n",
      "1번째 반복\n",
      "2번째 반복\n",
      "0번째 반복\n",
      "1번째 반복\n",
      "2번째 반복\n"
     ]
    }
   ],
   "source": [
    "# for : 반복횟수를 정확히 알고 있을 때 주로 사용.\n",
    "# while : 반복횟수를 정확히 알 수 없을 때 주로 사용.\n",
    "\n",
    "# while 1, for 1\n",
    "\n",
    "# 0번째 반복\n",
    "# 1번째 반복\n",
    "# 2번째 반복\n",
    "\n",
    "num=0\n",
    "while num<3:\n",
    "    print(f'{num}번째 반복')\n",
    "    num += 1\n",
    "\n",
    "for i in range(3):\n",
    "    print(f'{i}번째 반복')"
   ]
  },
  {
   "cell_type": "code",
   "execution_count": 54,
   "id": "23e5c862",
   "metadata": {},
   "outputs": [
    {
     "name": "stdout",
     "output_type": "stream",
     "text": [
      "0번째 반복입니다.\n",
      "종료할까요(y)?>>y\n",
      "반복을 종료합니다.\n"
     ]
    }
   ],
   "source": [
    "# break / continue\n",
    "\n",
    "# break 반복문 종료\n",
    "i = 0\n",
    "\n",
    "while True:\n",
    "    print(f'{i}번째 반복입니다.')\n",
    "    i += 1\n",
    "    \n",
    "    inp = input('종료할까요(y)?>>')\n",
    "    if inp in ['y','Y']:\n",
    "        print('반복을 종료합니다.')\n",
    "        break"
   ]
  },
  {
   "cell_type": "code",
   "execution_count": 56,
   "id": "8a991ccb",
   "metadata": {},
   "outputs": [
    {
     "name": "stdout",
     "output_type": "stream",
     "text": [
      "1\n",
      "3\n",
      "5\n",
      "7\n",
      "9\n"
     ]
    }
   ],
   "source": [
    "# continue 현재 반복을 중지하고 다시 반복으로 넘어 갈때 사용\n",
    "\n",
    "for num in range(1,11):\n",
    "    if num % 2 == 0:\n",
    "        continue\n",
    "    print(num)"
   ]
  },
  {
   "cell_type": "code",
   "execution_count": 67,
   "id": "9f37ef8d",
   "metadata": {},
   "outputs": [
    {
     "name": "stdout",
     "output_type": "stream",
     "text": [
      "1번 진구\n",
      "2번 철수\n",
      "3번 미애\n",
      "4번 형구\n",
      "5번 진수\n"
     ]
    }
   ],
   "source": [
    "# enumerate() 리스트의 요소를 반복할 때 현재 인덱스가 몇 번째 인지 확인\n",
    "\n",
    "# student = ['진구','철수','미애','형구','진수']\n",
    "# 0번 진구\n",
    "# 1번 철수\n",
    "# 2번 미애\n",
    "# 3번 형구\n",
    "# 4번 진수\n",
    "\n",
    "student = ('진구','철수','미애','형구','진수')\n",
    "\n",
    "# for i in range(5):\n",
    "#     print(f'{i}번 {student[i]}')\n",
    "\n",
    "for no, name in enumerate(student):\n",
    "    print(f'{no+1}번 {name}')"
   ]
  },
  {
   "cell_type": "code",
   "execution_count": 71,
   "id": "ac632004",
   "metadata": {},
   "outputs": [
    {
     "name": "stdout",
     "output_type": "stream",
     "text": [
      "홍길동의 키는 185입니다.\n",
      "이몽룡의 키는 189입니다.\n",
      "성춘향의 키는 168입니다.\n"
     ]
    }
   ],
   "source": [
    "# items() 딕셔너리는 items() 함수를 사용하여 key와 value값을 한번에 추출할 수 있다.\n",
    "dict = {\n",
    "    '홍길동':185,\n",
    "    '이몽룡':189,\n",
    "    '성춘향':168\n",
    "}\n",
    "# 홍길동의 키는 185입니다.\n",
    "#...\n",
    "\n",
    "# for i in dict:\n",
    "#     print(f'{i}의 키는 {dict[i]}입니다.')\n",
    "\n",
    "# for name, height in enumerate(dict):\n",
    "#     print(f'{name}의 키는 {height}입니다.')\n",
    "\n",
    "for name, height in dict.items():\n",
    "    print(f'{name}의 키는 {height}입니다.')"
   ]
  },
  {
   "cell_type": "code",
   "execution_count": 74,
   "id": "7d72bd0d",
   "metadata": {},
   "outputs": [
    {
     "name": "stdout",
     "output_type": "stream",
     "text": [
      "[0, 2, 4, 6, 8, 10, 12, 14, 16, 18]\n"
     ]
    }
   ],
   "source": [
    "# 리스트 내포 list comprehensions # 파이썬의 독특한 특성\n",
    "\n",
    "# array = []\n",
    "\n",
    "# for i in range(0,20,2):\n",
    "#     array.append(i)\n",
    "    \n",
    "# array\n",
    "\n",
    "array = [i for i in range(0,20,2)]\n",
    "print(array)"
   ]
  },
  {
   "cell_type": "code",
   "execution_count": 77,
   "id": "7f796535",
   "metadata": {},
   "outputs": [
    {
     "name": "stdout",
     "output_type": "stream",
     "text": [
      "['사과', '체리', '바나나']\n"
     ]
    }
   ],
   "source": [
    "array = ['사과','체리','바나나','과자']\n",
    "\n",
    "output = [i for i in array if i !='과자']\n",
    "\n",
    "print(output)"
   ]
  }
 ],
 "metadata": {
  "kernelspec": {
   "display_name": "Python 3 (ipykernel)",
   "language": "python",
   "name": "python3"
  },
  "language_info": {
   "codemirror_mode": {
    "name": "ipython",
    "version": 3
   },
   "file_extension": ".py",
   "mimetype": "text/x-python",
   "name": "python",
   "nbconvert_exporter": "python",
   "pygments_lexer": "ipython3",
   "version": "3.9.7"
  }
 },
 "nbformat": 4,
 "nbformat_minor": 5
}
