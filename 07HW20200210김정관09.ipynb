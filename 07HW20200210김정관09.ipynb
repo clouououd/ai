{
  "nbformat": 4,
  "nbformat_minor": 0,
  "metadata": {
    "colab": {
      "name": "07HW20200210김정관09.ipynb",
      "provenance": [],
      "authorship_tag": "ABX9TyNxCCnAzItAN8YP7YsEXsow",
      "include_colab_link": true
    },
    "kernelspec": {
      "name": "python3",
      "display_name": "Python 3"
    },
    "language_info": {
      "name": "python"
    }
  },
  "cells": [
    {
      "cell_type": "markdown",
      "metadata": {
        "id": "view-in-github",
        "colab_type": "text"
      },
      "source": [
        "<a href=\"https://colab.research.google.com/github/clouououd/ai/blob/main/07HW20200210%EA%B9%80%EC%A0%95%EA%B4%8009.ipynb\" target=\"_parent\"><img src=\"https://colab.research.google.com/assets/colab-badge.svg\" alt=\"Open In Colab\"/></a>"
      ]
    },
    {
      "cell_type": "code",
      "execution_count": null,
      "metadata": {
        "id": "bn3GKJ3ztwAx"
      },
      "outputs": [],
      "source": [
        "456. d\n",
        "457. a\n",
        "458. a\n",
        "459. b\n",
        "460. b(?)\n",
        "461. a\n",
        "462. a\n",
        "463. a(?)\n",
        "464. b(?)\n",
        "465. d(?)\n",
        "466. a(?)\n",
        "467. b\n",
        "468. d\n",
        "469. d\n",
        "470. d\n",
        "471. d\n",
        "472. a\n",
        "473. d\n",
        "474. d\n",
        "475. a"
      ]
    }
  ]
}