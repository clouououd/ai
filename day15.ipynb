{
  "nbformat": 4,
  "nbformat_minor": 0,
  "metadata": {
    "colab": {
      "name": "day15.ipynb",
      "provenance": [],
      "authorship_tag": "ABX9TyMVWDsshKakZu0fZ2xTT7oc",
      "include_colab_link": true
    },
    "kernelspec": {
      "name": "python3",
      "display_name": "Python 3"
    },
    "language_info": {
      "name": "python"
    }
  },
  "cells": [
    {
      "cell_type": "markdown",
      "metadata": {
        "id": "view-in-github",
        "colab_type": "text"
      },
      "source": [
        "<a href=\"https://colab.research.google.com/github/clouououd/ai/blob/main/day15.ipynb\" target=\"_parent\"><img src=\"https://colab.research.google.com/assets/colab-badge.svg\" alt=\"Open In Colab\"/></a>"
      ]
    },
    {
      "cell_type": "code",
      "execution_count": 7,
      "metadata": {
        "colab": {
          "base_uri": "https://localhost:8080/"
        },
        "id": "oe2tEhtAK6WL",
        "outputId": "819bcec3-a464-4214-aa82-ee3b5d7b56ce"
      },
      "outputs": [
        {
          "name": "stdout",
          "output_type": "stream",
          "text": [
            "Please enter a word in upper case.hello\n",
            "Try again\n",
            "Please enter a word in upper case.Hello\n",
            "Try again\n",
            "Please enter a word in upper case.HELLO\n"
          ]
        }
      ],
      "source": [
        "# Ask the user to type in a word in upper case. If they type in it lower case, ask them to try again.\n",
        "# Keep repeating this until they in a message all in uppercase.\n",
        "\n",
        "id = input('Please enter a word in upper case.')\n",
        "\n",
        "while id.isupper() == False :\n",
        "  print('Try again')\n",
        "  id = input('Please enter a word in upper case.')"
      ]
    },
    {
      "cell_type": "code",
      "source": [
        "# Ask the user to enter a new password.\n",
        "# Ask them to enter it agin. If the two passwords match,\n",
        "# display 'thank you.' If the letters are correct but in the wrong case,\n",
        "# display the message 'They must be in the same case',\n",
        "# otherwise display the message 'incorrect'.\n",
        "\n",
        "pw=''\n",
        "pw_c=''\n",
        "\n",
        "while True :\n",
        "  while True :\n",
        "    pw = input('Please enter a new password.')\n",
        "    if len(pw) < 4 or len(pw) > 8 :\n",
        "        print('The password must be 4 to 8 characters long.')\n",
        "    else :\n",
        "      break\n",
        "  pw_c = input('Please enter the password again for check.')\n",
        "\n",
        "  if pw != pw_c :\n",
        "    print('They must be in the same case.')\n",
        "  else:\n",
        "    print('Thank you.')\n",
        "    break"
      ],
      "metadata": {
        "id": "NOf5OjzjVNdq"
      },
      "execution_count": null,
      "outputs": []
    }
  ]
}