{
  "nbformat": 4,
  "nbformat_minor": 0,
  "metadata": {
    "colab": {
      "name": "13HW20220222김정관09.ipynb",
      "provenance": [],
      "authorship_tag": "ABX9TyN07fn4T4J9UO9ORIogoaUN",
      "include_colab_link": true
    },
    "kernelspec": {
      "name": "python3",
      "display_name": "Python 3"
    },
    "language_info": {
      "name": "python"
    }
  },
  "cells": [
    {
      "cell_type": "markdown",
      "metadata": {
        "id": "view-in-github",
        "colab_type": "text"
      },
      "source": [
        "<a href=\"https://colab.research.google.com/github/clouououd/ai/blob/main/13HW20220222%EA%B9%80%EC%A0%95%EA%B4%8009.ipynb\" target=\"_parent\"><img src=\"https://colab.research.google.com/assets/colab-badge.svg\" alt=\"Open In Colab\"/></a>"
      ]
    },
    {
      "cell_type": "code",
      "execution_count": null,
      "metadata": {
        "id": "89ySSFyIlqnH"
      },
      "outputs": [],
      "source": [
        "2. d \n",
        "3. a d\n",
        "4. b \n",
        "5. b \n",
        "6. a \n",
        "7. c \n",
        "8. d \n",
        "9. a \n",
        "10. d \n",
        "11. b "
      ]
    },
    {
      "cell_type": "code",
      "source": [
        "# 3\n",
        "print('구별1','구별2', '구별3', sep='!')"
      ],
      "metadata": {
        "colab": {
          "base_uri": "https://localhost:8080/"
        },
        "id": "Cmo4DYaVvOc8",
        "outputId": "61dee0ee-5bf0-4f85-94df-0a8df3fe601a"
      },
      "execution_count": 13,
      "outputs": [
        {
          "output_type": "stream",
          "name": "stdout",
          "text": [
            "구별1!구별2!구별3\n"
          ]
        }
      ]
    },
    {
      "cell_type": "code",
      "source": [
        "# 1000이하\n",
        "# 3의배수\n",
        "# 5의배수\n",
        "# 3과 5의 배수\n",
        "\n",
        "sum({i for i in range(3,1000,3)}|{i for i in range(5,1000,5)})"
      ],
      "metadata": {
        "colab": {
          "base_uri": "https://localhost:8080/"
        },
        "id": "F9Rk5w-OnKR_",
        "outputId": "ecbd6eae-1b88-4c64-c0a7-4fa0cccacd14"
      },
      "execution_count": null,
      "outputs": [
        {
          "output_type": "execute_result",
          "data": {
            "text/plain": [
              "233168"
            ]
          },
          "metadata": {},
          "execution_count": 4
        }
      ]
    }
  ]
}