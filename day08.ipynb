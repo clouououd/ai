{
  "nbformat": 4,
  "nbformat_minor": 0,
  "metadata": {
    "colab": {
      "name": "day08.ipynb",
      "provenance": [],
      "authorship_tag": "ABX9TyNGG8qv3WTfppgMXp8e0UTg",
      "include_colab_link": true
    },
    "kernelspec": {
      "name": "python3",
      "display_name": "Python 3"
    },
    "language_info": {
      "name": "python"
    }
  },
  "cells": [
    {
      "cell_type": "markdown",
      "metadata": {
        "id": "view-in-github",
        "colab_type": "text"
      },
      "source": [
        "<a href=\"https://colab.research.google.com/github/clouououd/ai/blob/main/day08.ipynb\" target=\"_parent\"><img src=\"https://colab.research.google.com/assets/colab-badge.svg\" alt=\"Open In Colab\"/></a>"
      ]
    },
    {
      "cell_type": "code",
      "execution_count": null,
      "metadata": {
        "id": "1V5niHTt79QO"
      },
      "outputs": [],
      "source": [
        "# [ 클래스와 객체 ]\n",
        "\n",
        "# c언어를 제외한 대부분의 언어는 객체 지향 프로그래밍 Object Oriented Programming : OOP 언어이다.\n",
        "- 객체 지향 언어는 클래스를 기반을 객체를 만들고\n",
        "  그 객체들을 우선으로 생각해서 프로그래밍 하는 것을 철학으로 한다.\n",
        "\n"
      ]
    },
    {
      "cell_type": "code",
      "source": [
        "# 객체\n",
        "\n",
        "students = [\n",
        "            {'name' : '슈가', 'korean' : 87, 'math' : 98, 'eng':88, 'sci' : 95},\n",
        "            {'name' : '진', 'korean' : 90, 'math' : 99, 'eng':86, 'sci' : 97},\n",
        "            {'name' : '카리', 'korean' : 99, 'math' : 89, 'eng':99, 'sci' : 99}\n",
        "]\n",
        "\n",
        "for student in students :\n",
        "  # 학생들의 점수의 총합과 평균을 구한다.\n",
        "  score_sum = student['korean'] + student['math'] + student['eng'] + student['sci']\n",
        "  score_avg = score_sum / 4\n",
        "\n",
        "  print(student['name'], score_sum, score_avg, sep='\\t')"
      ],
      "metadata": {
        "colab": {
          "base_uri": "https://localhost:8080/"
        },
        "id": "SoY2Bmq4-LMh",
        "outputId": "26ce0dcf-b0c9-4c38-ce31-c52ec4e72e94"
      },
      "execution_count": 4,
      "outputs": [
        {
          "output_type": "stream",
          "name": "stdout",
          "text": [
            "슈가\t368\t92.0\n",
            "진\t372\t93.0\n",
            "카리\t386\t96.5\n"
          ]
        }
      ]
    }
  ]
}