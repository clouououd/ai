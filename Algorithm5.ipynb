{
  "nbformat": 4,
  "nbformat_minor": 0,
  "metadata": {
    "colab": {
      "name": "Algorithm5.ipynb",
      "provenance": [],
      "authorship_tag": "ABX9TyOsLec80PlZbKm+ksRvl046",
      "include_colab_link": true
    },
    "kernelspec": {
      "name": "python3",
      "display_name": "Python 3"
    },
    "language_info": {
      "name": "python"
    }
  },
  "cells": [
    {
      "cell_type": "markdown",
      "metadata": {
        "id": "view-in-github",
        "colab_type": "text"
      },
      "source": [
        "<a href=\"https://colab.research.google.com/github/clouououd/ai/blob/main/Algorithm5.ipynb\" target=\"_parent\"><img src=\"https://colab.research.google.com/assets/colab-badge.svg\" alt=\"Open In Colab\"/></a>"
      ]
    },
    {
      "cell_type": "code",
      "execution_count": null,
      "metadata": {
        "id": "g_YMJDXgCcxv"
      },
      "outputs": [],
      "source": [
        "단순 삽입법\n",
        "\n",
        "삽입하려는 데이터를 변수를 따로 하나 준비하여 대입한다.\n",
        "변수의 데이터를 이미 정렬된 데이터와 순서대로 비교한다.\n",
        "변수의 데이터보다 작은 데이터가 발견되면 그 뒤의 요소에 변수의 ㅣ데이터를 삽입한다.\n",
        "\n",
        "올바른 순서가 되도록 하나씩 데이터를 삽입한다.\n",
        "단순 삽입업ㅂ은 삽입 정렬, 기본 삽입법, 삽입법이라고 한다.\n",
        "\n",
        "0  1  2  3  4\n",
        "5  3  4  1  2\n",
        "\n",
        "일단 index 0을 정렬된 공이라고 가정한다.\n",
        "\n",
        "5 / 3  4  1  2\n",
        "--\n",
        "정렬된 공으로 가정\n",
        "\n",
        "정렬이 안된 공들 중 첫번째 즉 3을 정렬된 공들 중 올바른 순서가 되도록 삽입한다.\n",
        "\n",
        "3  5  /  4  1  2\n",
        "0번째 칸의 앞에는 없기 때문에 5를 하나뒤로 이동하고 3인공을 0번째 칸에 넣는다.\n",
        "이제 3과 5는 정렬된 상태가 되었다.\n",
        "\n",
        "다시 정렬이 안된 공들 중 첫번째 즉 4를 정렬된 공들 중 올바른 순서가 되도록 삽입한다.\n",
        "\n",
        "이 시점에서 '정렬된 공'은 0번칸과 3과 1번칸의 5사이가 되므로 3의 뒤, 5의 앞이다.\n",
        "4를 5앞에 삽입한다.\n",
        "\n",
        "3  4  5  /  1  2\n",
        "\n",
        "다시 정렬이 안된 공들 중 첫번째 1을 정렬된 공들 중 올바른 순서가 되도록 삽입한다.\n",
        "\n",
        "정렬된 공은 0번 칸의 3 1번칸의 4 2 번칸의 5이다. 여기서 올바른 위티는 3의 앞이므로 1을 3의 앞에 삽입한다.\n",
        "\n",
        "1  3  4  5  /  2\n",
        "-----------\n",
        "마지막으로 2를 정렬된 공들 중 올바른 순서가 되도록 삽입한다.\n",
        "\n",
        "1  2  3  4  5"
      ]
    },
    {
      "cell_type": "code",
      "source": [
        "퀵 정렬 quick sort"
      ],
      "metadata": {
        "id": "odhpvMJEETDh"
      },
      "execution_count": null,
      "outputs": []
    }
  ]
}