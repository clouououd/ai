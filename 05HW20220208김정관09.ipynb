{
  "nbformat": 4,
  "nbformat_minor": 0,
  "metadata": {
    "colab": {
      "name": "05HW20220208김정관09.ipynb",
      "provenance": [],
      "authorship_tag": "ABX9TyPsfrWFCjpsi6NAxsMTWTlQ",
      "include_colab_link": true
    },
    "kernelspec": {
      "name": "python3",
      "display_name": "Python 3"
    },
    "language_info": {
      "name": "python"
    }
  },
  "cells": [
    {
      "cell_type": "markdown",
      "metadata": {
        "id": "view-in-github",
        "colab_type": "text"
      },
      "source": [
        "<a href=\"https://colab.research.google.com/github/clouououd/ai/blob/main/05HW20220208%EA%B9%80%EC%A0%95%EA%B4%8009.ipynb\" target=\"_parent\"><img src=\"https://colab.research.google.com/assets/colab-badge.svg\" alt=\"Open In Colab\"/></a>"
      ]
    },
    {
      "cell_type": "code",
      "execution_count": null,
      "metadata": {
        "id": "krbqx2Vxd_6d"
      },
      "outputs": [],
      "source": [
        "# 231\n",
        "4"
      ]
    },
    {
      "cell_type": "code",
      "source": [
        "#232\n",
        "???"
      ],
      "metadata": {
        "id": "EDtRtfEkeKTf"
      },
      "execution_count": null,
      "outputs": []
    },
    {
      "cell_type": "code",
      "source": [
        "# 233\n",
        "def make_list(string) :\n",
        "  return list(string)\n",
        "  \n",
        "make_list('abcd')"
      ],
      "metadata": {
        "colab": {
          "base_uri": "https://localhost:8080/"
        },
        "id": "kQ4JBcnoeLqZ",
        "outputId": "c5307d82-d170-405b-c75a-e06d7f149214"
      },
      "execution_count": 8,
      "outputs": [
        {
          "output_type": "execute_result",
          "data": {
            "text/plain": [
              "['a', 'b', 'c', 'd']"
            ]
          },
          "metadata": {},
          "execution_count": 8
        }
      ]
    },
    {
      "cell_type": "code",
      "source": [
        "# 234\n",
        "def pickup_even(myList) :\n",
        "  result = []\n",
        "  for i in myList :\n",
        "    if i % 2 ==0 :\n",
        "      result.append(i)\n",
        "  return result\n",
        "\n",
        "pickup_even([3,4,5,6,7,8])"
      ],
      "metadata": {
        "id": "vHL9uHUmeM6x"
      },
      "execution_count": null,
      "outputs": []
    },
    {
      "cell_type": "code",
      "source": [
        "# 235\n",
        "def convert_int(stringNum):\n",
        "  return int(stringNum)\n",
        "\n",
        "conver_int(\"1,234,567\")"
      ],
      "metadata": {
        "id": "RqIRB5dPePM7"
      },
      "execution_count": null,
      "outputs": []
    },
    {
      "cell_type": "code",
      "source": [
        "# 236\n",
        "22"
      ],
      "metadata": {
        "id": "O6AK27hceQa2"
      },
      "execution_count": null,
      "outputs": []
    },
    {
      "cell_type": "code",
      "source": [
        "# 237\n",
        "22"
      ],
      "metadata": {
        "id": "2_q5yB3AeSPz"
      },
      "execution_count": null,
      "outputs": []
    },
    {
      "cell_type": "code",
      "source": [
        "# 238\n",
        "140"
      ],
      "metadata": {
        "id": "ktdoBFbGeUgg"
      },
      "execution_count": null,
      "outputs": []
    },
    {
      "cell_type": "code",
      "source": [
        "# 239\n",
        "16"
      ],
      "metadata": {
        "id": "rD8hBzhheVkY"
      },
      "execution_count": 1,
      "outputs": []
    },
    {
      "cell_type": "code",
      "source": [
        "# 240\n",
        "28"
      ],
      "metadata": {
        "id": "xy1E0vnPeZM_"
      },
      "execution_count": null,
      "outputs": []
    },
    {
      "cell_type": "code",
      "source": [
        "# 291"
      ],
      "metadata": {
        "id": "O6jn-vAkhg5B"
      },
      "execution_count": null,
      "outputs": []
    },
    {
      "cell_type": "code",
      "source": [
        "# 292"
      ],
      "metadata": {
        "id": "qUyya-yehkgg"
      },
      "execution_count": null,
      "outputs": []
    },
    {
      "cell_type": "code",
      "source": [
        "# 293"
      ],
      "metadata": {
        "id": "Mibhw5mThlwM"
      },
      "execution_count": null,
      "outputs": []
    },
    {
      "cell_type": "code",
      "source": [
        "# 294"
      ],
      "metadata": {
        "id": "Pl4942ylhn_I"
      },
      "execution_count": null,
      "outputs": []
    },
    {
      "cell_type": "code",
      "source": [
        "# 295"
      ],
      "metadata": {
        "id": "QXeZrMnrhn0h"
      },
      "execution_count": null,
      "outputs": []
    },
    {
      "cell_type": "code",
      "source": [
        "# 296\n",
        "per = [\"10.31\", \"\", \"8.00\"]\n",
        "\n",
        "for i in per:\n",
        "  try :\n",
        "    print(float(i))\n",
        "  except :\n",
        "    print(0)"
      ],
      "metadata": {
        "colab": {
          "base_uri": "https://localhost:8080/"
        },
        "id": "Av6aeTfjhnsc",
        "outputId": "fd6d23f0-b1dd-4a4d-a56b-be0a7c46334b"
      },
      "execution_count": 11,
      "outputs": [
        {
          "output_type": "stream",
          "name": "stdout",
          "text": [
            "10.31\n",
            "0\n",
            "8.0\n"
          ]
        }
      ]
    },
    {
      "cell_type": "code",
      "source": [
        "# 297\n",
        "per = [\"10.31\", \"\", \"8.00\"]\n",
        "after_per = []\n",
        "\n",
        "for i in per:\n",
        "  try :\n",
        "    after_per.append(float(i))\n",
        "  except :\n",
        "    print(0)\n",
        "\n",
        "print(after_per)"
      ],
      "metadata": {
        "colab": {
          "base_uri": "https://localhost:8080/"
        },
        "id": "etr2SvwghnjE",
        "outputId": "1b6104bc-062c-4ec0-cdd0-8757c40b3c8d"
      },
      "execution_count": 12,
      "outputs": [
        {
          "output_type": "stream",
          "name": "stdout",
          "text": [
            "0\n",
            "[10.31, 8.0]\n"
          ]
        }
      ]
    },
    {
      "cell_type": "code",
      "source": [
        "# 298\n"
      ],
      "metadata": {
        "id": "IZjuN6VnhnXs"
      },
      "execution_count": null,
      "outputs": []
    },
    {
      "cell_type": "code",
      "source": [
        "# 299\n"
      ],
      "metadata": {
        "id": "aI3444euhmri"
      },
      "execution_count": null,
      "outputs": []
    },
    {
      "cell_type": "code",
      "source": [
        "# 300\n",
        "per = [\"10.31\", \"\", \"8.00\"]\n",
        "\n",
        "for i in per:\n",
        "  try :\n",
        "    print(float(i))\n",
        "  except :\n",
        "    print(0)\n",
        "  else :\n",
        "    print('Good')\n",
        "  finally :\n",
        "    print('Done')"
      ],
      "metadata": {
        "colab": {
          "base_uri": "https://localhost:8080/"
        },
        "id": "nXa57dvJhmeO",
        "outputId": "68f77301-27fe-46cd-9903-e9cfbc0af6ac"
      },
      "execution_count": 23,
      "outputs": [
        {
          "output_type": "stream",
          "name": "stdout",
          "text": [
            "10.31\n",
            "Good\n",
            "Done\n",
            "0\n",
            "Done\n",
            "8.0\n",
            "Good\n",
            "Done\n"
          ]
        }
      ]
    }
  ]
}