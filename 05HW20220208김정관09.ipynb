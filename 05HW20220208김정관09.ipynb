{
  "nbformat": 4,
  "nbformat_minor": 0,
  "metadata": {
    "colab": {
      "name": "05HW20220208김정관09.ipynb",
      "provenance": [],
      "authorship_tag": "ABX9TyNDbQvJ7G3ckgbggTzKv4AK",
      "include_colab_link": true
    },
    "kernelspec": {
      "name": "python3",
      "display_name": "Python 3"
    },
    "language_info": {
      "name": "python"
    }
  },
  "cells": [
    {
      "cell_type": "markdown",
      "metadata": {
        "id": "view-in-github",
        "colab_type": "text"
      },
      "source": [
        "<a href=\"https://colab.research.google.com/github/clouououd/ai/blob/main/05HW20220208%EA%B9%80%EC%A0%95%EA%B4%8009.ipynb\" target=\"_parent\"><img src=\"https://colab.research.google.com/assets/colab-badge.svg\" alt=\"Open In Colab\"/></a>"
      ]
    },
    {
      "cell_type": "code",
      "execution_count": null,
      "metadata": {
        "id": "krbqx2Vxd_6d"
      },
      "outputs": [],
      "source": [
        "# 231\n",
        "4"
      ]
    },
    {
      "cell_type": "code",
      "source": [
        "#232\n",
        "???"
      ],
      "metadata": {
        "id": "EDtRtfEkeKTf"
      },
      "execution_count": null,
      "outputs": []
    },
    {
      "cell_type": "code",
      "source": [
        "# 233\n"
      ],
      "metadata": {
        "id": "kQ4JBcnoeLqZ"
      },
      "execution_count": null,
      "outputs": []
    },
    {
      "cell_type": "code",
      "source": [
        "# 234"
      ],
      "metadata": {
        "id": "vHL9uHUmeM6x"
      },
      "execution_count": null,
      "outputs": []
    },
    {
      "cell_type": "code",
      "source": [
        "# 235"
      ],
      "metadata": {
        "id": "RqIRB5dPePM7"
      },
      "execution_count": null,
      "outputs": []
    },
    {
      "cell_type": "code",
      "source": [
        "# 236"
      ],
      "metadata": {
        "id": "O6AK27hceQa2"
      },
      "execution_count": null,
      "outputs": []
    },
    {
      "cell_type": "code",
      "source": [
        "# 237"
      ],
      "metadata": {
        "id": "2_q5yB3AeSPz"
      },
      "execution_count": null,
      "outputs": []
    },
    {
      "cell_type": "code",
      "source": [
        "# 238"
      ],
      "metadata": {
        "id": "ktdoBFbGeUgg"
      },
      "execution_count": null,
      "outputs": []
    },
    {
      "cell_type": "code",
      "source": [
        "# 239"
      ],
      "metadata": {
        "id": "rD8hBzhheVkY"
      },
      "execution_count": 1,
      "outputs": []
    },
    {
      "cell_type": "code",
      "source": [
        "# 240"
      ],
      "metadata": {
        "id": "xy1E0vnPeZM_"
      },
      "execution_count": null,
      "outputs": []
    }
  ]
}