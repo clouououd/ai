{
  "nbformat": 4,
  "nbformat_minor": 0,
  "metadata": {
    "colab": {
      "name": "05HW20220208김정관09.ipynb",
      "provenance": [],
      "authorship_tag": "ABX9TyMV9nS0CDD4LYywTYL7vQ5i",
      "include_colab_link": true
    },
    "kernelspec": {
      "name": "python3",
      "display_name": "Python 3"
    },
    "language_info": {
      "name": "python"
    }
  },
  "cells": [
    {
      "cell_type": "markdown",
      "metadata": {
        "id": "view-in-github",
        "colab_type": "text"
      },
      "source": [
        "<a href=\"https://colab.research.google.com/github/clouououd/ai/blob/main/05HW20220208%EA%B9%80%EC%A0%95%EA%B4%8009.ipynb\" target=\"_parent\"><img src=\"https://colab.research.google.com/assets/colab-badge.svg\" alt=\"Open In Colab\"/></a>"
      ]
    },
    {
      "cell_type": "code",
      "execution_count": null,
      "metadata": {
        "id": "krbqx2Vxd_6d"
      },
      "outputs": [],
      "source": [
        "# 231 x\n",
        "4"
      ]
    },
    {
      "cell_type": "code",
      "source": [
        "오류가 뜬다\n",
        "함수 내부에서 사용한 변수를 밖에서 사용할 수 없다."
      ],
      "metadata": {
        "id": "EKyZJQMahsUw"
      },
      "execution_count": null,
      "outputs": []
    },
    {
      "cell_type": "code",
      "source": [
        "#232 o\n",
        "def make_url(string) :\n",
        "  print(f'www.{string}.com')\n",
        "\n",
        "make_url('naver')"
      ],
      "metadata": {
        "colab": {
          "base_uri": "https://localhost:8080/"
        },
        "id": "EDtRtfEkeKTf",
        "outputId": "cdc58b62-fffe-4a05-f40b-5cc8909be33e"
      },
      "execution_count": null,
      "outputs": [
        {
          "output_type": "stream",
          "name": "stdout",
          "text": [
            "www.naver.com\n"
          ]
        }
      ]
    },
    {
      "cell_type": "code",
      "source": [
        "# 233 o\n",
        "def make_list(string) :\n",
        "  return list(string)\n",
        "  \n",
        "make_list('abcd')"
      ],
      "metadata": {
        "colab": {
          "base_uri": "https://localhost:8080/"
        },
        "id": "kQ4JBcnoeLqZ",
        "outputId": "c5307d82-d170-405b-c75a-e06d7f149214"
      },
      "execution_count": null,
      "outputs": [
        {
          "output_type": "execute_result",
          "data": {
            "text/plain": [
              "['a', 'b', 'c', 'd']"
            ]
          },
          "metadata": {},
          "execution_count": 8
        }
      ]
    },
    {
      "cell_type": "code",
      "source": [
        "# 234 o\n",
        "def pickup_even(myList) :\n",
        "  result = []\n",
        "  for i in myList :\n",
        "    if i % 2 ==0 :\n",
        "      result.append(i)\n",
        "  return result\n",
        "\n",
        "pickup_even([3,4,5,6,7,8])"
      ],
      "metadata": {
        "id": "vHL9uHUmeM6x"
      },
      "execution_count": null,
      "outputs": []
    },
    {
      "cell_type": "code",
      "source": [
        "# 235 better\n",
        "def convert_int(stringNum):\n",
        "  result = ''\n",
        "  for i in stringNum.split(',') :\n",
        "    result += i \n",
        "  return int(result)\n",
        "\n",
        "convert_int(\"1,234,567\")"
      ],
      "metadata": {
        "id": "RqIRB5dPePM7"
      },
      "execution_count": null,
      "outputs": []
    },
    {
      "cell_type": "code",
      "source": [
        "def convert_int(string) :\n",
        "  return int(string.replace(',', ''))\n",
        "\n",
        "convert_int(\"1,234,567\")"
      ],
      "metadata": {
        "colab": {
          "base_uri": "https://localhost:8080/"
        },
        "id": "BZ6yG3gThS9h",
        "outputId": "0c6a75c9-5d1d-4bf1-b506-f8179cb73f87"
      },
      "execution_count": 4,
      "outputs": [
        {
          "output_type": "execute_result",
          "data": {
            "text/plain": [
              "1234567"
            ]
          },
          "metadata": {},
          "execution_count": 4
        }
      ]
    },
    {
      "cell_type": "code",
      "source": [
        "# 236 o\n",
        "22"
      ],
      "metadata": {
        "id": "O6AK27hceQa2"
      },
      "execution_count": null,
      "outputs": []
    },
    {
      "cell_type": "code",
      "source": [
        "# 237 o\n",
        "22"
      ],
      "metadata": {
        "id": "2_q5yB3AeSPz"
      },
      "execution_count": null,
      "outputs": []
    },
    {
      "cell_type": "code",
      "source": [
        "# 238 o\n",
        "140"
      ],
      "metadata": {
        "id": "ktdoBFbGeUgg"
      },
      "execution_count": null,
      "outputs": []
    },
    {
      "cell_type": "code",
      "source": [
        "# 239 o\n",
        "16"
      ],
      "metadata": {
        "id": "rD8hBzhheVkY"
      },
      "execution_count": null,
      "outputs": []
    },
    {
      "cell_type": "code",
      "source": [
        "# 240 o\n",
        "28"
      ],
      "metadata": {
        "id": "xy1E0vnPeZM_"
      },
      "execution_count": null,
      "outputs": []
    },
    {
      "cell_type": "code",
      "source": [
        "# 291 x\n",
        "f = open(\"C:/Users/thp02/Desktop/매수종목_1.txt\", 'wt', encoding=\"utf-8\")\n",
        "f.write('005930\\n')\n",
        "f.write('005380\\n')\n",
        "f.write('035420')\n",
        "f.close()"
      ],
      "metadata": {
        "id": "O6jn-vAkhg5B"
      },
      "execution_count": null,
      "outputs": []
    },
    {
      "cell_type": "code",
      "source": [
        "# 292 x\n",
        "f = open(\"C:/Users/thp02/Desktop/매수종목_2.txt\", mode=\"wt\", encoding=\"utf-8\")\n",
        "f.write(\"005930 삼성전자\\n\")\n",
        "f.write(\"005380 현대차\\n\")\n",
        "f.write(\"035420 NAVER\\n\")\n",
        "f.close()"
      ],
      "metadata": {
        "id": "qUyya-yehkgg"
      },
      "execution_count": null,
      "outputs": []
    },
    {
      "cell_type": "code",
      "source": [
        "# 293 x\n",
        "import csv\n",
        "f = open(\"C:/Users/thp02/Desktop/매수종목.csv\", mode=\"wt\", encoding=\"cp949\", newline='')\n",
        "writer = csv.writer(f)\n",
        "writer.writerow([\"종목명\", \"종목코드\", \"PER\"])\n",
        "writer.writerow([\"삼성전자\", \"005930\", 15.59])\n",
        "writer.writerow([\"NAVER\", \"035420\", 55.82])\n",
        "f.close()"
      ],
      "metadata": {
        "id": "Mibhw5mThlwM"
      },
      "execution_count": null,
      "outputs": []
    },
    {
      "cell_type": "code",
      "source": [
        "# 294 x\n",
        "f = open(\"C:/Users/thp02/Desktop/매수종목_1.txt\", encoding=\"utf-8\")\n",
        "lines = f.readlines() # python list\n",
        "codes = []\n",
        "for line in lines:\n",
        " code = line.strip() #'\\n'\n",
        " codes.append(code)\n",
        "print(codes)\n",
        "f.close()"
      ],
      "metadata": {
        "id": "Pl4942ylhn_I"
      },
      "execution_count": null,
      "outputs": []
    },
    {
      "cell_type": "code",
      "source": [
        "# 295 x\n",
        "f = open(\"C:/Users/thp02/Desktop/매수종목 2.txt\", encoding=\"utf-8\")\n",
        "lines = f.readlines()\n",
        "data = {}\n",
        "for line in lines:\n",
        " line = line.strip() # '\\n' 제거\n",
        " k, v = line.split()\n",
        " #print(k, v)\n",
        " data[k] = v\n",
        "print(data)\n",
        "f.close()"
      ],
      "metadata": {
        "id": "QXeZrMnrhn0h"
      },
      "execution_count": null,
      "outputs": []
    },
    {
      "cell_type": "code",
      "source": [
        "# 296 o\n",
        "per = [\"10.31\", \"\", \"8.00\"]\n",
        "\n",
        "for i in per:\n",
        "  try :\n",
        "    print(float(i))\n",
        "  except :\n",
        "    print(0)"
      ],
      "metadata": {
        "id": "Av6aeTfjhnsc"
      },
      "execution_count": null,
      "outputs": []
    },
    {
      "cell_type": "code",
      "source": [
        "# 297 o\n",
        "per = [\"10.31\", \"\", \"8.00\"]\n",
        "after_per = []\n",
        "\n",
        "for i in per:\n",
        "  try :\n",
        "    after_per.append(float(i))\n",
        "  except :\n",
        "    print(0)\n",
        "\n",
        "print(after_per)"
      ],
      "metadata": {
        "colab": {
          "base_uri": "https://localhost:8080/"
        },
        "id": "etr2SvwghnjE",
        "outputId": "1b6104bc-062c-4ec0-cdd0-8757c40b3c8d"
      },
      "execution_count": null,
      "outputs": [
        {
          "output_type": "stream",
          "name": "stdout",
          "text": [
            "0\n",
            "[10.31, 8.0]\n"
          ]
        }
      ]
    },
    {
      "cell_type": "code",
      "source": [
        "# 298 o\n",
        "try :\n",
        "  5/0\n",
        "except ZeroDivisionError :\n",
        "  print('0으로 나눌수 없습니다')"
      ],
      "metadata": {
        "colab": {
          "base_uri": "https://localhost:8080/"
        },
        "id": "IZjuN6VnhnXs",
        "outputId": "d2f3ebe6-b0e5-4186-c611-6297b3f3aab7"
      },
      "execution_count": null,
      "outputs": [
        {
          "output_type": "stream",
          "name": "stdout",
          "text": [
            "0으로 나눌수 없습니다\n"
          ]
        }
      ]
    },
    {
      "cell_type": "code",
      "source": [
        "# 299 o\n",
        "data = [1, 2, 3]\n",
        "\n",
        "try :\n",
        "  for i in range(5) :\n",
        "    print(data[i])\n",
        "except IndexError as e :\n",
        "  print(e)"
      ],
      "metadata": {
        "colab": {
          "base_uri": "https://localhost:8080/"
        },
        "id": "aI3444euhmri",
        "outputId": "b9bed8b8-b534-402c-d25d-df2b119e603a"
      },
      "execution_count": null,
      "outputs": [
        {
          "output_type": "stream",
          "name": "stdout",
          "text": [
            "1\n",
            "2\n",
            "3\n",
            "list index out of range\n"
          ]
        }
      ]
    },
    {
      "cell_type": "code",
      "source": [
        "# 300 o\n",
        "per = [\"10.31\", \"\", \"8.00\"]\n",
        "\n",
        "for i in per:\n",
        "  try :\n",
        "    print(float(i))\n",
        "  except :\n",
        "    print(0)\n",
        "  else :\n",
        "    print('Good')\n",
        "  finally :\n",
        "    print('Done')"
      ],
      "metadata": {
        "colab": {
          "base_uri": "https://localhost:8080/"
        },
        "id": "nXa57dvJhmeO",
        "outputId": "68f77301-27fe-46cd-9903-e9cfbc0af6ac"
      },
      "execution_count": null,
      "outputs": [
        {
          "output_type": "stream",
          "name": "stdout",
          "text": [
            "10.31\n",
            "Good\n",
            "Done\n",
            "0\n",
            "Done\n",
            "8.0\n",
            "Good\n",
            "Done\n"
          ]
        }
      ]
    }
  ]
}