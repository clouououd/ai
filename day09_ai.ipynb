{
  "nbformat": 4,
  "nbformat_minor": 0,
  "metadata": {
    "colab": {
      "name": "day09_ai.ipynb",
      "provenance": [],
      "authorship_tag": "ABX9TyNhb32P1uCIZhByUQUj7z1A",
      "include_colab_link": true
    },
    "kernelspec": {
      "name": "python3",
      "display_name": "Python 3"
    },
    "language_info": {
      "name": "python"
    }
  },
  "cells": [
    {
      "cell_type": "markdown",
      "metadata": {
        "id": "view-in-github",
        "colab_type": "text"
      },
      "source": [
        "<a href=\"https://colab.research.google.com/github/clouououd/ai/blob/main/day09_ai.ipynb\" target=\"_parent\"><img src=\"https://colab.research.google.com/assets/colab-badge.svg\" alt=\"Open In Colab\"/></a>"
      ]
    },
    {
      "cell_type": "code",
      "execution_count": null,
      "metadata": {
        "id": "_tfOxzGhFpUK"
      },
      "outputs": [],
      "source": [
        "# (영어)알파벳과 숫자를 섞어서 입력을 받아서 숫자와 문자를 분리하여 출력하는 프로그램\n",
        "# 'a9b8d' -> e : abd\n",
        "        # -> n : 98\n",
        "\n",
        "# 영어인지 숫자인지 확인\n",
        "\n",
        "a = input(\"숫자를 포함한 문자열을 입력하세요.>>>\")\n",
        "n = ''\n",
        "e = ''\n",
        "\n",
        "for i in a :\n",
        "  if i.isalpha() : # str.isalpha()\n",
        "    e = e + i\n",
        "  elif i.isdigit() : # str.isdigit() 문자형태의 수\n",
        "    n = n + i\n",
        "\n",
        "print(f'문자 : {e}')\n",
        "print(f'숫자 : {n}')"
      ]
    },
    {
      "cell_type": "code",
      "source": [
        "# 문자와 숫자의 개수를 포함하여 출력하세요\n",
        "\n",
        "a = input(\"숫자를 포함한 문자열을 입력하세요.>>>\")\n",
        "n = ''\n",
        "e = ''\n",
        "\n",
        "for i in a :\n",
        "  if i.isalpha() : # str.isalpha()\n",
        "    e = e + i\n",
        "  elif i.isdigit() :\n",
        "    n = n + i\n",
        "\n",
        "print(f'문자({len(e)}) : {e}')\n",
        "print(f'숫자({len(n)}) : {n}')"
      ],
      "metadata": {
        "id": "n03L5nLXJKfQ"
      },
      "execution_count": null,
      "outputs": []
    },
    {
      "cell_type": "code",
      "source": [
        "# 단, isalpha() isdigit() 등 is~~()으로 시작하는 함수를 사용하지 않고 작성하시오.\n",
        "\n",
        "a = input(\"숫자를 포함한 문자열을 입력하세요.>>>\")\n",
        "n = ''\n",
        "al = ''\n",
        "al_list = []\n",
        "n_list = []\n",
        "\n",
        "# 알파벳 리스트\n",
        "for i in range(97,123) :\n",
        "  al_list.append(chr(i))\n",
        "\n",
        "for i in range(65,91) :\n",
        "  al_list.append(chr(i))\n",
        "\n",
        "# 숫자 리스트\n",
        "for i in range(10) :\n",
        "  n_list.append(str(i))\n",
        "\n",
        "for i in a :\n",
        "  if i in al_list :\n",
        "    al = al + i\n",
        "  elif i in n_list :\n",
        "    n = n + i\n",
        "\n",
        "print(f'문자({len(al)}) : {al}')\n",
        "print(f'숫자({len(n)}) : {n}')"
      ],
      "metadata": {
        "id": "zWusNfk9KWGT"
      },
      "execution_count": null,
      "outputs": []
    },
    {
      "cell_type": "code",
      "source": [
        "a = input(\"숫자를 포함한 문자열을 입력하세요.>>>\")\n",
        "n = ''\n",
        "al = ''\n",
        "\n",
        "for i in a :\n",
        "  if 97 <= ord(i) <123 or 65 <= ord(i) <91 :\n",
        "    al = al + i\n",
        "  elif 48 <= ord(i) < 58 :\n",
        "    n = n + i\n",
        "\n",
        "print(f'문자({len(al)}) : {al}')\n",
        "print(f'숫자({len(n)}) : {n}')"
      ],
      "metadata": {
        "id": "jE0Tu1-BP0MP"
      },
      "execution_count": null,
      "outputs": []
    },
    {
      "cell_type": "code",
      "source": [
        "알고리즘\n",
        "알고리즘은 문제나 과제를 해결하기 위한 처리 절차를 구체적인 순서로 표현한\n",
        "아이디어나 생각\n",
        "알고리즘의 표현방법은 수도코드(pseudo code), 순서도(flow chart)가 있다.\n",
        "\n",
        "프로그램 작성 순서\n",
        "기획 - 설계(알고리즘) - 프로그래밍 - 디버그 - 문서작성\n",
        "\n",
        "좋은 알고리즘\n",
        "알기 쉽고, 속도기 빠르고 효율적이고(메모리를 적게 사용) 재이용이 쉽다.\n",
        "\n",
        "왜 알고리즘?\n",
        "좋은 프로그램을 만들 수 있고, 좋은 프로그램인지 판단할 수 있고\n",
        "프로그램 작성을 효율적으로 할 수 있고 프로그래밍 기술을 향상시키는데 큰 도움이 된다.\n",
        "\n",
        "결과를 얻을 수 있어야하고 반드시 종료되어야 한다.\n",
        "\n",
        "알고리즘 세가지 기본형\n",
        "순차구조 처음부터 순서대로 처리\n",
        "선택구조 조건식 if\n",
        "반복구조 반복문 for while\n",
        "\n",
        "순서도 flow 차트 흐름도\n",
        "프로그래밍 언어를 사용하지 않고 알고리즘을 기술하는 방법\n",
        "처리와 절차를 시각적으로 표현한다.\n",
        "자신이 생각하고 있는 알고리즘이 올바른지, 처리와 절차에 문제가 없는지를 \n",
        "눈으로 확인할 수 있고 다른사람에게도 쉽게 전달할 수 있는 특징이 있다.\n",
        "\n",
        "주의사항\n",
        "  처리 기호나 판단 기호가 많아지면 흐름이 복잡하게 꼬인다\n",
        "  입력은 반드시 위에서 들어가도록 만든다\n",
        "  판단기호로부터 나오는 흐름선에는 yes, no를 확실하게 기입한다.\n",
        "  입력선이나 출력선이 없는 처리 기호는 만들지 않는다.\n",
        "\n",
        "유명한 알고리즘\n",
        "유명한 알고리즘을 배우는 것은 프로그래밍 기술향상에 커다란 도움이 된다.\n",
        "탐색 : Linear Search, Binary Search, Hash Search\n",
        "정렬 : Selection Sor, Bubble Sort, Insertion Sort, Quick Sort\n",
        "Sieve of Eratosthenes, Euclid Algorithm\n",
        "\n",
        "가우스 소거법, 사다리꼴 법칙, 디익스트라 알고리즘, 이분법, 뉴턴법\n",
        "KDM 알고리즘, BM알고리즘 등"
      ],
      "metadata": {
        "id": "_sOAk2SjW6WY"
      },
      "execution_count": null,
      "outputs": []
    },
    {
      "cell_type": "code",
      "source": [
        ""
      ],
      "metadata": {
        "id": "maq-WR7RiOKk"
      },
      "execution_count": null,
      "outputs": []
    }
  ]
}