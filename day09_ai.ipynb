{
  "nbformat": 4,
  "nbformat_minor": 0,
  "metadata": {
    "colab": {
      "name": "day09_ai.ipynb",
      "provenance": [],
      "authorship_tag": "ABX9TyNb/OO0pwbi9nkOe4DbmQCI",
      "include_colab_link": true
    },
    "kernelspec": {
      "name": "python3",
      "display_name": "Python 3"
    },
    "language_info": {
      "name": "python"
    }
  },
  "cells": [
    {
      "cell_type": "markdown",
      "metadata": {
        "id": "view-in-github",
        "colab_type": "text"
      },
      "source": [
        "<a href=\"https://colab.research.google.com/github/clouououd/ai/blob/main/day09_ai.ipynb\" target=\"_parent\"><img src=\"https://colab.research.google.com/assets/colab-badge.svg\" alt=\"Open In Colab\"/></a>"
      ]
    },
    {
      "cell_type": "code",
      "execution_count": null,
      "metadata": {
        "id": "_tfOxzGhFpUK"
      },
      "outputs": [],
      "source": [
        "# (영어)알파벳과 숫자를 섞어서 입력을 받아서 숫자와 문자를 분리하여 출력하는 프로그램\n",
        "# 'a9b8d' -> e : abd\n",
        "        # -> n : 98\n",
        "\n",
        "# 영어인지 숫자인지 확인\n",
        "\n",
        "a = input(\"숫자를 포함한 문자열을 입력하세요.>>>\")\n",
        "n = ''\n",
        "e = ''\n",
        "\n",
        "for i in a :\n",
        "  if i.isalpha() : # str.isalpha()\n",
        "    e = e + i\n",
        "  elif i.isdigit() :\n",
        "    n = n + i\n",
        "\n",
        "print(f'문자 : {e}')\n",
        "print(f'숫자 : {n}')"
      ]
    },
    {
      "cell_type": "code",
      "source": [
        "# 문자와 숫자의 개수를 포함하여 출력하세요\n",
        "\n",
        "a = input(\"숫자를 포함한 문자열을 입력하세요.>>>\")\n",
        "n = ''\n",
        "e = ''\n",
        "\n",
        "for i in a :\n",
        "  if i.isalpha() : # str.isalpha()\n",
        "    e = e + i\n",
        "  elif i.isdigit() :\n",
        "    n = n + i\n",
        "\n",
        "print(f'문자({len(e)}) : {e}')\n",
        "print(f'숫자({len(n)}) : {n}')"
      ],
      "metadata": {
        "id": "n03L5nLXJKfQ"
      },
      "execution_count": null,
      "outputs": []
    },
    {
      "cell_type": "code",
      "source": [
        "# 단, isalpha() isdigit() 등 is~~()으로 시작하는 함수를 사용하지 않고 작성하시오.\n",
        "\n",
        "a = input(\"숫자를 포함한 문자열을 입력하세요.>>>\")\n",
        "n = ''\n",
        "al = ''\n",
        "al_list = []\n",
        "n_list = []\n",
        "\n",
        "# 알파벳 리스트\n",
        "for i in range(97,123) :\n",
        "  al_list.append(chr(i))\n",
        "\n",
        "for i in range(65,91) :\n",
        "  al_list.append(chr(i))\n",
        "\n",
        "# 숫자 리스트\n",
        "for i in range(10) :\n",
        "  n_list.append(str(i))\n",
        "\n",
        "for i in a :\n",
        "  if i in al_list :\n",
        "    al = al + i\n",
        "  elif i in n_list :\n",
        "    n = n + i\n",
        "\n",
        "print(f'문자({len(al)}) : {al}')\n",
        "print(f'숫자({len(n)}) : {n}')"
      ],
      "metadata": {
        "id": "zWusNfk9KWGT"
      },
      "execution_count": null,
      "outputs": []
    },
    {
      "cell_type": "code",
      "source": [
        "a = input(\"숫자를 포함한 문자열을 입력하세요.>>>\")\n",
        "n = ''\n",
        "al = ''\n",
        "\n",
        "for i in a :\n",
        "  if 97 <= ord(i) <123 or 65 <= ord(i) <91 :\n",
        "    al = al + i\n",
        "  elif 48 <= ord(i) < 58 :\n",
        "    n = n + i\n",
        "\n",
        "print(f'문자({len(al)}) : {al}')\n",
        "print(f'숫자({len(n)}) : {n}')"
      ],
      "metadata": {
        "id": "jE0Tu1-BP0MP"
      },
      "execution_count": null,
      "outputs": []
    }
  ]
}